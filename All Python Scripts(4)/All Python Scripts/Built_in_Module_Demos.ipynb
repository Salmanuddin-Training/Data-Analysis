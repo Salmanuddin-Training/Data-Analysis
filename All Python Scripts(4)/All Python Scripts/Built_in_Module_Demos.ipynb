{
 "cells": [
  {
   "cell_type": "code",
   "execution_count": 2,
   "metadata": {},
   "outputs": [
    {
     "name": "stdout",
     "output_type": "stream",
     "text": [
      "Dirtectory createrd successfully..!\n"
     ]
    }
   ],
   "source": [
    "#Python- OS module\n",
    "# mkdir() - used to create a directory\n",
    "import os\n",
    "\n",
    "os.mkdir(\"e:\\\\python_example\")\n",
    "print('Dirtectory createrd successfully..!')"
   ]
  },
  {
   "cell_type": "code",
   "execution_count": 3,
   "metadata": {},
   "outputs": [
    {
     "data": {
      "text/plain": [
       "'C:\\\\Users\\\\Rajesh'"
      ]
     },
     "execution_count": 3,
     "metadata": {},
     "output_type": "execute_result"
    }
   ],
   "source": [
    "#Python- OS module\n",
    "# getcwd() - used to get current working directory\n",
    "\n",
    "import os\n",
    "\n",
    "os.getcwd()"
   ]
  },
  {
   "cell_type": "code",
   "execution_count": 7,
   "metadata": {},
   "outputs": [
    {
     "name": "stdout",
     "output_type": "stream",
     "text": [
      "e:\\python_example\n",
      "e:\\python_example\n"
     ]
    }
   ],
   "source": [
    "#Python- OS module\n",
    "# chdir() - used to change current working directory\n",
    "\n",
    "import os\n",
    "\n",
    "os.chdir(\"e:\\\\python_example\")\n",
    "print(os.getcwd())"
   ]
  },
  {
   "cell_type": "code",
   "execution_count": null,
   "metadata": {},
   "outputs": [],
   "source": []
  }
 ],
 "metadata": {
  "kernelspec": {
   "display_name": "Python 3",
   "language": "python",
   "name": "python3"
  },
  "language_info": {
   "codemirror_mode": {
    "name": "ipython",
    "version": 3
   },
   "file_extension": ".py",
   "mimetype": "text/x-python",
   "name": "python",
   "nbconvert_exporter": "python",
   "pygments_lexer": "ipython3",
   "version": "3.7.4"
  }
 },
 "nbformat": 4,
 "nbformat_minor": 2
}
