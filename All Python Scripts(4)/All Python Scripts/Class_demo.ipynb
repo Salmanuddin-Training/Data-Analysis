{
 "cells": [
  {
   "cell_type": "code",
   "execution_count": 3,
   "metadata": {},
   "outputs": [
    {
     "name": "stdout",
     "output_type": "stream",
     "text": [
      "Const. runs....!\n",
      "This is my user-defined function in class\n"
     ]
    }
   ],
   "source": [
    "#OOPS- Class & contr.\n",
    "\n",
    "class MyClass:\n",
    "    def __init__(self):\n",
    "        print(\"Const. runs....!\")\n",
    "        \n",
    "    def sayHello(self):\n",
    "        print(\"This is my user-defined function in class\")\n",
    "\n",
    "obj = MyClass()\n",
    "obj.sayHello()  #calling/invoking/executing user defined function\n",
    "\n"
   ]
  },
  {
   "cell_type": "code",
   "execution_count": 7,
   "metadata": {},
   "outputs": [
    {
     "name": "stdout",
     "output_type": "stream",
     "text": [
      "Sum :  5\n"
     ]
    }
   ],
   "source": [
    "class Calculator:\n",
    "    def myfun(self):\n",
    "        self.n1=2\n",
    "        self.n2=3\n",
    "        \n",
    "    def add(self):\n",
    "        self.n3 = self.n1+self.n2\n",
    "        print(\"Sum : \",self.n3)\n",
    "        \n",
    "cal = Calculator()\n",
    "cal.myfun()\n",
    "cal.add()"
   ]
  },
  {
   "cell_type": "code",
   "execution_count": 10,
   "metadata": {},
   "outputs": [
    {
     "name": "stdout",
     "output_type": "stream",
     "text": [
      "101\n",
      "Williams\n",
      "102\n",
      "Allen\n"
     ]
    }
   ],
   "source": [
    "class Employee:\n",
    "    def __init__(self):\n",
    "        self.empid=0    #instance attributes/var\n",
    "        self.name=''  #instan. attr.\n",
    "        \n",
    "emp1=Employee()\n",
    "emp1.empid=101\n",
    "emp1.name='Williams'\n",
    "\n",
    "print(emp1.empid)\n",
    "print(emp1.name)\n",
    "\n",
    "emp2=Employee()\n",
    "emp2.empid=102\n",
    "emp2.name='Allen'\n",
    "\n",
    "print(emp2.empid)\n",
    "print(emp2.name)\n",
    "        "
   ]
  },
  {
   "cell_type": "code",
   "execution_count": 21,
   "metadata": {},
   "outputs": [
    {
     "name": "stdout",
     "output_type": "stream",
     "text": [
      "===== ABC pvt. ltd.Employee details:-=====\n",
      "101 Patrick Marketing\n",
      "102 Williams Marketing\n",
      "Total employees are :  2\n"
     ]
    }
   ],
   "source": [
    "#Python OOPS- Class-Constructor,Intance Attributes,Class Attributes...,.\n",
    "class Employee:\n",
    "    company='ABC pvt. ltd.'\n",
    "    totalemp=0\n",
    "    \n",
    "    def __init__(self,eid,name,dept='Marketing'):\n",
    "        self.empid=eid    #instance attributes/var\n",
    "        self.name=name  #instan. attr.\n",
    "        self.dept=dept\n",
    "        Employee.totalemp+=1   #n=n+1    or n+=1\n",
    "\n",
    "print(\"===== \"+Employee.company+\"Employee details:-=====\")\n",
    "\n",
    "emp1 = Employee(101,'Patrick')\n",
    "print(emp1.empid,emp1.name,emp1.dept,sep=' ')\n",
    "\n",
    "emp2 = Employee(102,'Williams')\n",
    "print(emp2.empid,emp2.name,emp2.dept,sep=' ')\n",
    "\n",
    "print(\"Total employees are : \",Employee.totalemp)\n"
   ]
  },
  {
   "cell_type": "code",
   "execution_count": 23,
   "metadata": {},
   "outputs": [
    {
     "name": "stdout",
     "output_type": "stream",
     "text": [
      "Employee id   :  101\n",
      "Employee Name :  Patrick\n",
      "Employee dept :  Marketing\n",
      "-----------------------------\n",
      "Employee id   :  102\n",
      "Employee Name :  Williams\n",
      "Employee dept :  Marketing\n",
      "====================\n",
      "Total employees are :  2\n"
     ]
    }
   ],
   "source": [
    "class Employee:\n",
    "    company='ABC pvt. ltd.'\n",
    "    totalemp=0\n",
    "    \n",
    "    def __init__(self,eid,name,dept='Marketing'):\n",
    "        self.empid=eid    #instance attributes/var\n",
    "        self.name=name  #instan. attr.\n",
    "        self.dept=dept\n",
    "        Employee.totalemp+=1\n",
    "        \n",
    "    def displayInfo(self):\n",
    "        print(\"Employee id   : \",self.empid)\n",
    "        print(\"Employee Name : \",self.name)\n",
    "        print(\"Employee dept : \",self.dept)\n",
    "        \n",
    "emp1 = Employee(101,'Patrick')\n",
    "emp1.displayInfo()\n",
    "\n",
    "print('-----------------------------')\n",
    "\n",
    "emp2 = Employee(102,'Williams')\n",
    "emp2.displayInfo()\n",
    "\n",
    "print(\"====================\")\n",
    "print(\"Total employees are : \",Employee.totalemp)"
   ]
  },
  {
   "cell_type": "code",
   "execution_count": null,
   "metadata": {},
   "outputs": [],
   "source": []
  }
 ],
 "metadata": {
  "kernelspec": {
   "display_name": "Python 3",
   "language": "python",
   "name": "python3"
  },
  "language_info": {
   "codemirror_mode": {
    "name": "ipython",
    "version": 3
   },
   "file_extension": ".py",
   "mimetype": "text/x-python",
   "name": "python",
   "nbconvert_exporter": "python",
   "pygments_lexer": "ipython3",
   "version": "3.7.4"
  }
 },
 "nbformat": 4,
 "nbformat_minor": 2
}
