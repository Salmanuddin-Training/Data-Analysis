{
 "cells": [
  {
   "cell_type": "code",
   "execution_count": null,
   "metadata": {},
   "outputs": [],
   "source": [
    "#Python Conditional Constructs\n",
    "#if\n",
    "\n",
    "age =int(input('Enter your age :'))\n",
    "if age>= 18:\n",
    "    print('You are elligble for voting')\n",
    "else:\n",
    "    print('Yor r not elligible to vote')"
   ]
  },
  {
   "cell_type": "code",
   "execution_count": null,
   "metadata": {},
   "outputs": [],
   "source": [
    "#multiple conditions\n",
    "#elif\n",
    "\n",
    "grade=''\n",
    "marks=int(input('Enter your marks'))\n",
    "if marks>=50 and marks<60:\n",
    "    grade='Passed'\n",
    "elif marks>=60 and marks<70:\n",
    "    grade='Good'\n",
    "elif marks>=70 and marks<80:\n",
    "    grade='Very Good'\n",
    "elif marks>=80 and marks<=100:\n",
    "    grade='Excellent'\n",
    "elif marks <0 or marks>100:\n",
    "    grade='Invalid marks'\n",
    "else:\n",
    "    grade='Failed'\n",
    "print(\"Result : \",grade)"
   ]
  },
  {
   "cell_type": "code",
   "execution_count": null,
   "metadata": {},
   "outputs": [],
   "source": [
    "bill=0\n",
    "n=int(input(\"Enter no. of calls\"))\n",
    "if(n<=100):\n",
    "   bill=200\n",
    "elif(n>100 and n<=150):\n",
    "   bill=200+ (0.60 *(n-100))\n",
    "elif(n>150 and n<=200):\n",
    "   bill= 200 + (0.60*50) +(0.50*(n-150))\n",
    "else:\n",
    "   bill=200 + (0.60*50) +(0.50*50)+ (0.40*(n-200))\n",
    "\n",
    "print(bill)\n",
    "    "
   ]
  },
  {
   "cell_type": "code",
   "execution_count": null,
   "metadata": {},
   "outputs": [],
   "source": [
    "#nested-if\n",
    "age = int(input('Enter your age:'))\n",
    "if age>=18:\n",
    "    qual=input('Enter your qual-10/12/graduate:')\n",
    "    if qual=='graduate':\n",
    "        print('Yes ur elligible for employability')\n",
    "    else:\n",
    "        print('You r under graduate')\n",
    "else:\n",
    "    print('You are still minor')\n",
    "\n",
    "        "
   ]
  },
  {
   "cell_type": "code",
   "execution_count": null,
   "metadata": {},
   "outputs": [],
   "source": [
    "#Python- For loop\n",
    "sum=0\n",
    "marks=[45,78,89,90,50]\n",
    "for n1 in marks:\n",
    "    print(n1,end=',')\n",
    "    sum=sum+n1 #sum+=n1\n",
    "\n",
    "avg=sum/len(marks)\n",
    "print(\"Average :\",avg)\n",
    "    "
   ]
  },
  {
   "cell_type": "code",
   "execution_count": null,
   "metadata": {},
   "outputs": [],
   "source": [
    "roll=101\n",
    "name='John'\n",
    "course='Python'\n",
    "marks=78.5\n",
    "\n",
    "print(\"Roll : {0}, Name : {1} Course : {2}, Marks : {3}\".format(roll,name,course,marks))"
   ]
  },
  {
   "cell_type": "code",
   "execution_count": null,
   "metadata": {},
   "outputs": [],
   "source": [
    "print('I love {1} and {0}'.format('Bread','Butter'))"
   ]
  },
  {
   "cell_type": "code",
   "execution_count": null,
   "metadata": {},
   "outputs": [],
   "source": [
    "name=\"John\"\n",
    "marks=78.5\n",
    "print(\"%s scored %d marks.\"%(name,marks))\n"
   ]
  },
  {
   "cell_type": "code",
   "execution_count": null,
   "metadata": {},
   "outputs": [],
   "source": [
    "#list iteration - For loop\n",
    "color=['red','green','yellow']\n",
    "for i in color:\n",
    "    print(i)"
   ]
  },
  {
   "cell_type": "code",
   "execution_count": null,
   "metadata": {},
   "outputs": [],
   "source": [
    "#tuple iteration - For loop\n",
    "color=('red','green','yellow')\n",
    "for i in color:\n",
    "    print(i)"
   ]
  },
  {
   "cell_type": "code",
   "execution_count": null,
   "metadata": {},
   "outputs": [],
   "source": [
    "# for loop - over dictionary\n",
    "countryDict = {'IND':'India','CHN':'China','AUS':'Australia'}\n",
    "for pair in countryDict.items():\n",
    "    print(pair)"
   ]
  },
  {
   "cell_type": "code",
   "execution_count": null,
   "metadata": {},
   "outputs": [],
   "source": [
    "# for loop - over dictionary\n",
    "countryDict = {1:89,2:90,3:78}\n",
    "for pair in countryDict.items():\n",
    "    print(pair)"
   ]
  },
  {
   "cell_type": "code",
   "execution_count": null,
   "metadata": {},
   "outputs": [],
   "source": [
    "# for loop - over dictionary\n",
    "countryDict = {'IND':'India','CHN':'China','AUS':'Australia'}\n",
    "for k,v in countryDict.items():\n",
    "    print(\"key= \"+k+\", value=\"+v)"
   ]
  },
  {
   "cell_type": "code",
   "execution_count": null,
   "metadata": {},
   "outputs": [],
   "source": [
    "# for loop - over dictionary\n",
    "studDict = {1:89,2:90,3:78}\n",
    "for k in studDict.keys():\n",
    "    print(k, studDict.get(k))"
   ]
  },
  {
   "cell_type": "code",
   "execution_count": null,
   "metadata": {},
   "outputs": [],
   "source": [
    "#for over string\n",
    "str=\"Hello Python\"\n",
    "for char in str:\n",
    "    print(char)"
   ]
  },
  {
   "cell_type": "code",
   "execution_count": null,
   "metadata": {},
   "outputs": [],
   "source": [
    "#nested for loop\n",
    "for x in range(1,6):\n",
    "    for y in range(1,x+1):\n",
    "        print(\"*\",end=' ')\n",
    "    print(\"\\n\")    "
   ]
  },
  {
   "cell_type": "code",
   "execution_count": null,
   "metadata": {},
   "outputs": [],
   "source": [
    "lst=[]\n",
    "for i in range(1,6):\n",
    "    lst.append(\"*\"*i)\n",
    "print(\"\\n\".join(lst))\n"
   ]
  },
  {
   "cell_type": "code",
   "execution_count": null,
   "metadata": {},
   "outputs": [],
   "source": [
    "for I in range (1,6):\n",
    "     print ('*'*I)"
   ]
  },
  {
   "cell_type": "code",
   "execution_count": null,
   "metadata": {},
   "outputs": [],
   "source": [
    "#Python- else in loop\n",
    "for x in range(5):\n",
    "    print(x+1,sep='   ')\n",
    "    \n",
    "else:\n",
    "    print(\"else block in loop\")\n",
    "print(\"Out of loop\")"
   ]
  },
  {
   "cell_type": "code",
   "execution_count": null,
   "metadata": {},
   "outputs": [],
   "source": [
    "x=0\n",
    "while x>5:\n",
    "    x+=1\n",
    "    print(\"hello\")\n",
    "else:\n",
    "    print(\"hello\")\n",
    "    \n",
    "print(\"Out of loop\")"
   ]
  },
  {
   "cell_type": "code",
   "execution_count": 1,
   "metadata": {},
   "outputs": [
    {
     "name": "stdout",
     "output_type": "stream",
     "text": [
      "Enter any no. -1 to exit\n",
      "10\n",
      "Enter any no. -1 to exit\n",
      "20\n",
      "Enter any no. -1 to exit\n",
      "30\n",
      "Enter any no. -1 to exit\n",
      "40\n",
      "Enter any no. -1 to exit\n",
      "50\n",
      "Enter any no. -1 to exit\n",
      "-1\n",
      "Total no :  5 sum :  150 average : 30.0\n"
     ]
    }
   ],
   "source": [
    "#python - While loop\n",
    "num =0\n",
    "count=0\n",
    "total=0\n",
    "\n",
    "while num>=0:\n",
    "    num=int(input('Enter any no. -1 to exit\\n'))\n",
    "    if num>=0:\n",
    "        count=count+1 #counts the no. of inputs\n",
    "        total+=num\n",
    "avg = total/count\n",
    "print(\"Total no : \",count,\"sum : \",total,\"average :\",avg)"
   ]
  },
  {
   "cell_type": "code",
   "execution_count": 2,
   "metadata": {},
   "outputs": [
    {
     "name": "stdout",
     "output_type": "stream",
     "text": [
      "1\n",
      "2\n",
      "3\n",
      "Out of loop\n"
     ]
    }
   ],
   "source": [
    "#Python - break with while\n",
    "n1= 0\n",
    "while n1<5:\n",
    "    n1+=1\n",
    "    print(n1)\n",
    "    if n1 == 3:\n",
    "        break\n",
    "print(\"Out of loop\")"
   ]
  },
  {
   "cell_type": "code",
   "execution_count": 3,
   "metadata": {},
   "outputs": [
    {
     "name": "stdout",
     "output_type": "stream",
     "text": [
      "1\n",
      "2\n",
      "3\n",
      "out of loop\n"
     ]
    }
   ],
   "source": [
    "#Python - break with for\n",
    "for n in range(1,6):\n",
    "    print(n)\n",
    "    if n==3:\n",
    "        break\n",
    "print(\"out of loop\")"
   ]
  },
  {
   "cell_type": "code",
   "execution_count": 4,
   "metadata": {},
   "outputs": [
    {
     "name": "stdout",
     "output_type": "stream",
     "text": [
      "1\n",
      "2\n",
      "4\n",
      "5\n",
      "Out of loop\n"
     ]
    }
   ],
   "source": [
    "#Python- continue statement\n",
    "n1= 0\n",
    "while n1<5:\n",
    "    n1+=1\n",
    "    if n1 == 3:\n",
    "        continue\n",
    "    print(n1)\n",
    "print(\"Out of loop\")"
   ]
  },
  {
   "cell_type": "code",
   "execution_count": 5,
   "metadata": {},
   "outputs": [
    {
     "name": "stdout",
     "output_type": "stream",
     "text": [
      "1\n",
      "2\n",
      "4\n",
      "5\n",
      "out of loop\n"
     ]
    }
   ],
   "source": [
    "for n in range(1,6):\n",
    "    if n==3:\n",
    "        continue\n",
    "    print(n)\n",
    "print(\"out of loop\")"
   ]
  },
  {
   "cell_type": "code",
   "execution_count": 7,
   "metadata": {},
   "outputs": [
    {
     "name": "stdout",
     "output_type": "stream",
     "text": [
      "Enter a number:18\n",
      "2\n",
      "3\n",
      "3\n"
     ]
    }
   ],
   "source": [
    "num = int(input(\"Enter a number:\"))\n",
    "d=2\n",
    "while num >1:\n",
    "    if num%d==0:\n",
    "        print(d)\n",
    "        num = num/d\n",
    "        continue\n",
    "    d+=1\n"
   ]
  },
  {
   "cell_type": "code",
   "execution_count": 6,
   "metadata": {},
   "outputs": [
    {
     "name": "stdout",
     "output_type": "stream",
     "text": [
      "guess a n0. between 1 & 20\n",
      "1\n",
      "Your guessed no . is correct\n"
     ]
    }
   ],
   "source": [
    "import random\n",
    "\n",
    "num =random.randint(1,5)\n",
    "attempts =0\n",
    "flag=False\n",
    "\n",
    "while attempts <3:\n",
    "    print(\"guess a n0. between 1 & 20\")\n",
    "    guessno=int(input())\n",
    "    attempts+=1\n",
    "    \n",
    "    if guessno==num:\n",
    "        flag=True\n",
    "        break\n",
    "if flag:\n",
    "     print(\"Your guessed no . is correct\")\n",
    "else:\n",
    "    print(\"Sorry....Better luck next time\")"
   ]
  },
  {
   "cell_type": "code",
   "execution_count": null,
   "metadata": {},
   "outputs": [],
   "source": []
  },
  {
   "cell_type": "code",
   "execution_count": null,
   "metadata": {},
   "outputs": [],
   "source": []
  }
 ],
 "metadata": {
  "kernelspec": {
   "display_name": "Python 3",
   "language": "python",
   "name": "python3"
  },
  "language_info": {
   "codemirror_mode": {
    "name": "ipython",
    "version": 3
   },
   "file_extension": ".py",
   "mimetype": "text/x-python",
   "name": "python",
   "nbconvert_exporter": "python",
   "pygments_lexer": "ipython3",
   "version": "3.7.4"
  }
 },
 "nbformat": 4,
 "nbformat_minor": 2
}
