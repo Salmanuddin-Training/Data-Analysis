{
 "cells": [
  {
   "cell_type": "code",
   "execution_count": 4,
   "metadata": {},
   "outputs": [
    {
     "name": "stdout",
     "output_type": "stream",
     "text": [
      "Hindi\n"
     ]
    }
   ],
   "source": [
    "languages={\"ENG\":\"English\",\"FR\":\"French\",\"Gr\":\"German\",\"CHN\":\"Chinese\",\"HIN\":\"Hindi\"}\n",
    "#print(languages)\n",
    "print(languages.get(\"HIN\"))"
   ]
  },
  {
   "cell_type": "code",
   "execution_count": 3,
   "metadata": {},
   "outputs": [
    {
     "name": "stdout",
     "output_type": "stream",
     "text": [
      "{1: 'Monday', 2: 'Wednesday'}\n"
     ]
    }
   ],
   "source": [
    "days={1:\"Monday\",2:\"Tuesday\",2:\"Wednesday\"}\n",
    "print(days)"
   ]
  },
  {
   "cell_type": "code",
   "execution_count": 42,
   "metadata": {},
   "outputs": [
    {
     "name": "stdout",
     "output_type": "stream",
     "text": [
      "ENG   English\n",
      "FR   French\n",
      "Gr   German\n",
      "CHN   Chinese\n",
      "HIN   Hindi\n",
      "{'ENG': 'English', 'FR': 'French', 'Gr': 'German', 'CHN': 'Mandarin', 'HIN': 'Hindi'}\n",
      "{'ENG': 'English', 'FR': 'French', 'Gr': 'German', 'CHN': 'Mandarin', 'HIN': 'Hindi', 'KR': 'Korean'}\n"
     ]
    }
   ],
   "source": [
    "languages={\"ENG\":\"English\",\"FR\":\"French\",\"Gr\":\"German\",\"CHN\":\"Chinese\",\"HIN\":\"Hindi\"}\n",
    "for key in languages:\n",
    "    print(key,\" \",languages[key])\n",
    "\n",
    "languages[\"CHN\"]=\"Mandarin\"\n",
    "\n",
    "print(languages)\n",
    "languages[\"KR\"]=\"Korean\"\n",
    "print(languages)"
   ]
  },
  {
   "cell_type": "code",
   "execution_count": 7,
   "metadata": {},
   "outputs": [
    {
     "name": "stdout",
     "output_type": "stream",
     "text": [
      "{'ENG': 'English', 'FR': 'French', 'Gr': 'German', 'HIN': 'Hindi'}\n"
     ]
    }
   ],
   "source": [
    "languages={\"ENG\":\"English\",\"FR\":\"French\",\"Gr\":\"German\",\"CHN\":\"Chinese\",\"HIN\":\"Hindi\"}\n",
    "del languages[\"CHN\"]\n",
    "print(languages)"
   ]
  },
  {
   "cell_type": "code",
   "execution_count": 9,
   "metadata": {},
   "outputs": [
    {
     "name": "stdout",
     "output_type": "stream",
     "text": [
      "Displaying keys   :  dict_keys(['ENG', 'FR', 'Gr', 'CHN', 'HIN'])\n",
      "Displaying values :  dict_values(['English', 'French', 'German', 'Chinese', 'Hindi'])\n"
     ]
    }
   ],
   "source": [
    "languages={\"ENG\":\"English\",\"FR\":\"French\",\"Gr\":\"German\",\"CHN\":\"Chinese\",\"HIN\":\"Hindi\"}\n",
    "print(\"Displaying keys   : \",languages.keys())\n",
    "print(\"Displaying values : \",languages.values())"
   ]
  },
  {
   "cell_type": "code",
   "execution_count": 38,
   "metadata": {},
   "outputs": [
    {
     "name": "stdout",
     "output_type": "stream",
     "text": [
      "{'name': 'JOHN', 'marks': 89}\n",
      "89\n"
     ]
    }
   ],
   "source": [
    "#multi-dim array\n",
    "s1={\"name\":\"JOHN\",\"marks\":89}\n",
    "s2={\"name\":\"Allen\",\"marks\":59}\n",
    "s3={\"name\":\"Donald\",\"marks\":79}\n",
    "\n",
    "students = {101:s1,102:s2,103:s3}\n",
    "\n",
    "#print(students[101])\n",
    "#print(\"Total Students : \",len(students))\n",
    "#print(max(students))\n",
    "\n",
    "marklist=[]\n",
    "mydict={}\n",
    "\n",
    "for key, value in students.items():\n",
    "  # print(value)s1-89,s2-78,s3-56\n",
    "  # print(key)101,102\n",
    "    \n",
    "  # print(value['marks'])\n",
    "  #marklist.append(value['marks'])\n",
    "    \n",
    "  mydict[value['marks']]=key\n",
    "\n",
    "print(students[mydict[max(mydict)]])\n",
    "\n",
    "print(max(marklist))\n",
    "    "
   ]
  },
  {
   "cell_type": "code",
   "execution_count": 40,
   "metadata": {},
   "outputs": [
    {
     "name": "stdout",
     "output_type": "stream",
     "text": [
      "MAXIMUM MARKS 89\n",
      "ROLL NO. OF STUDENT WHO OBTAINED MAXIMUM MARKS 101\n",
      "{'name': 'JOHN', 'marks': 89}\n"
     ]
    }
   ],
   "source": [
    "#multi-dim array\n",
    "s1={\"name\":\"JOHN\",\"marks\":89}\n",
    "s2={\"name\":\"Allen\",\"marks\":59}\n",
    "s3={\"name\":\"Donald\",\"marks\":79}\n",
    "\n",
    "students = {101:s1,102:s2,103:s3}\n",
    "marks_list=[]\n",
    "max_marks=0\n",
    "for k,v in students.items():\n",
    "    marks_list.append(v['marks'])\n",
    "    max_marks=max(marks_list)\n",
    "print(\"MAXIMUM MARKS\",max_marks) \n",
    "max_=max_marks\n",
    "for k,v in students.items():\n",
    "    if v['marks']==max_:\n",
    "        print(\"ROLL NO. OF STUDENT WHO OBTAINED MAXIMUM MARKS\",k)\n",
    "        print(students[k])"
   ]
  },
  {
   "cell_type": "code",
   "execution_count": null,
   "metadata": {},
   "outputs": [],
   "source": []
  }
 ],
 "metadata": {
  "kernelspec": {
   "display_name": "Python 3",
   "language": "python",
   "name": "python3"
  },
  "language_info": {
   "codemirror_mode": {
    "name": "ipython",
    "version": 3
   },
   "file_extension": ".py",
   "mimetype": "text/x-python",
   "name": "python",
   "nbconvert_exporter": "python",
   "pygments_lexer": "ipython3",
   "version": "3.7.4"
  }
 },
 "nbformat": 4,
 "nbformat_minor": 2
}
