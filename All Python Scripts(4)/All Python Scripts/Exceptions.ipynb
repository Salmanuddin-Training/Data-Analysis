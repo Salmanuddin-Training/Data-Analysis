{
 "cells": [
  {
   "cell_type": "code",
   "execution_count": 17,
   "metadata": {},
   "outputs": [
    {
     "name": "stdout",
     "output_type": "stream",
     "text": [
      "Enter 1st no :8\n",
      "Enter 2d no :0\n",
      "wrong no. entered by you....!Please try agin...!\n",
      "We are learning Exception handling in Python\n"
     ]
    }
   ],
   "source": [
    "try:\n",
    "    a = int(input('Enter 1st no :'))\n",
    "    b = int(input('Enter 2d no :'))\n",
    "    print(a/b)\n",
    "    print(\"We are learning Exception handling in Python\")\n",
    "except:\n",
    "     print(\"wrong no. entered by you....!Please try agin...!\")\n",
    "finally:\n",
    "    print(\"We are learning Exception handling in Python\")\n",
    "        "
   ]
  },
  {
   "cell_type": "code",
   "execution_count": 13,
   "metadata": {},
   "outputs": [
    {
     "name": "stdout",
     "output_type": "stream",
     "text": [
      "Unsupported operationn...!\n",
      "Out of try  except blocks\n"
     ]
    }
   ],
   "source": [
    "try:\n",
    "    a = 5\n",
    "    b = 0\n",
    "    print(a+b)\n",
    "    c = a/b\n",
    "    \n",
    "except (TypeError,FileNotFound):   \n",
    "     print(\"Unsupported operation...!\")\n",
    "except:\n",
    "      print(\"Error\")\n",
    "print(\"Out of try  except blocks\")"
   ]
  },
  {
   "cell_type": "code",
   "execution_count": 15,
   "metadata": {},
   "outputs": [
    {
     "name": "stdout",
     "output_type": "stream",
     "text": [
      "Oops !!! <class 'TypeError'>  occured\n"
     ]
    }
   ],
   "source": [
    "import sys\n",
    "\n",
    "try:\n",
    "    int(1/'a')\n",
    "except:\n",
    "    print(\"Oops !!!\",sys.exc_info()[0],\" occured\")\n",
    "    "
   ]
  },
  {
   "cell_type": "code",
   "execution_count": 21,
   "metadata": {},
   "outputs": [
    {
     "name": "stdout",
     "output_type": "stream",
     "text": [
      "We are in try block\n",
      "Enter 1st  no. 4\n",
      "Enter 2nd no. 2\n",
      "we are in else block\n",
      "Division =  2.0\n",
      "We are in finally block\n",
      "We are out of try, except, else and finally blocks.\n"
     ]
    }
   ],
   "source": [
    "#else & finally\n",
    "try:\n",
    "    print(\"We are in try block\")\n",
    "    x = int(input(\"Enter 1st  no. \"))\n",
    "    y = int(input(\"Enter 2nd no. \"))\n",
    "    z = x/y\n",
    "except ZeroDivisionError:\n",
    "    print(\"except ZerodivisionError block\")\n",
    "    print(\"Division by 0 is not supported\")\n",
    "else:\n",
    "    print(\"we are in else block\")\n",
    "    print(\"Division = \",z)\n",
    "finally:\n",
    "    print(\"We are in finally block\")\n",
    "    x=0\n",
    "    y=0\n",
    "print(\"We are out of try, except, else and finally blocks.\")\n"
   ]
  },
  {
   "cell_type": "code",
   "execution_count": 22,
   "metadata": {},
   "outputs": [
    {
     "name": "stdout",
     "output_type": "stream",
     "text": [
      "We are in try block\n",
      "Enter 1st  no. 8\n",
      "Enter 2nd no. 0\n",
      "0  Should not be used for division\n"
     ]
    }
   ],
   "source": [
    "try:\n",
    "    print(\"We are in try block\")\n",
    "    x = int(input(\"Enter 1st  no. \"))\n",
    "    y = int(input(\"Enter 2nd no. \"))\n",
    "    if y == 0:\n",
    "        raise ZeroDivisionError(y)\n",
    "    z = x/y \n",
    "except ZeroDivisionError:\n",
    "    print(y,\" Should not be used for division\")\n",
    "else:\n",
    "     print(\"Result : \",z)"
   ]
  },
  {
   "cell_type": "code",
   "execution_count": 2,
   "metadata": {},
   "outputs": [
    {
     "name": "stdout",
     "output_type": "stream",
     "text": [
      "Enter the amount which u want to withdraw:- 20000\n",
      "Insufficient funds in your account...!!!\n",
      "Transaction for  20000  has been failed...! Try again...!\n"
     ]
    }
   ],
   "source": [
    "#class BankingException is derived from super class Exception\n",
    "class BankingException(Exception):\n",
    "    \n",
    "    #Constructor or initializer\n",
    "    def __init__(self,value):\n",
    "        self.value = value\n",
    "        \n",
    "    #__str__ is used to print() the value\n",
    "    def __str__(self):\n",
    "        return (repr(self.value))\n",
    "try:\n",
    "    amount = 15000\n",
    "    withdraw = int(input(\"Enter the amount which u want to withdraw:- \")) # 20000\n",
    "    if withdraw > amount:\n",
    "        raise BankingException(withdraw)\n",
    "    amount = amount-withdraw\n",
    "    print(\"Amount withdrawl successfully...!\")\n",
    "    print(\"Total Balance amount : \",amount) #-5000\n",
    "except BankingException:\n",
    "        print(\"Insufficient funds in your account...!!!\")\n",
    "        print(\"Transaction for \",withdraw,\" has been failed...! Try again...!\")\n"
   ]
  },
  {
   "cell_type": "code",
   "execution_count": 5,
   "metadata": {},
   "outputs": [
    {
     "name": "stdout",
     "output_type": "stream",
     "text": [
      "Enter a number :-7\n"
     ]
    },
    {
     "ename": "AssertionError",
     "evalue": "Only positive numbers allowed",
     "output_type": "error",
     "traceback": [
      "\u001b[1;31m---------------------------------------------------------------------------\u001b[0m",
      "\u001b[1;31mAssertionError\u001b[0m                            Traceback (most recent call last)",
      "\u001b[1;32m<ipython-input-5-b2fb7850b442>\u001b[0m in \u001b[0;36m<module>\u001b[1;34m\u001b[0m\n\u001b[0;32m      2\u001b[0m \u001b[1;33m\u001b[0m\u001b[0m\n\u001b[0;32m      3\u001b[0m \u001b[0mx\u001b[0m \u001b[1;33m=\u001b[0m \u001b[0mint\u001b[0m\u001b[1;33m(\u001b[0m\u001b[0minput\u001b[0m\u001b[1;33m(\u001b[0m\u001b[1;34m'Enter a number :'\u001b[0m\u001b[1;33m)\u001b[0m\u001b[1;33m)\u001b[0m\u001b[1;33m\u001b[0m\u001b[1;33m\u001b[0m\u001b[0m\n\u001b[1;32m----> 4\u001b[1;33m \u001b[1;32massert\u001b[0m \u001b[0mx\u001b[0m\u001b[1;33m>=\u001b[0m \u001b[1;36m0\u001b[0m\u001b[1;33m,\u001b[0m \u001b[1;34m\"Only positive numbers allowed\"\u001b[0m\u001b[1;33m\u001b[0m\u001b[1;33m\u001b[0m\u001b[0m\n\u001b[0m\u001b[0;32m      5\u001b[0m \u001b[0mprint\u001b[0m\u001b[1;33m(\u001b[0m\u001b[1;34m\"No. entered by the user : \"\u001b[0m\u001b[1;33m,\u001b[0m \u001b[0mx\u001b[0m\u001b[1;33m)\u001b[0m\u001b[1;33m\u001b[0m\u001b[1;33m\u001b[0m\u001b[0m\n",
      "\u001b[1;31mAssertionError\u001b[0m: Only positive numbers allowed"
     ]
    }
   ],
   "source": [
    "#Example: assert\n",
    "\n",
    "x = int(input('Enter a number :'))\n",
    "assert x>= 0, \"Only positive numbers allowed\"\n",
    "print(\"No. entered by the user : \", x)"
   ]
  },
  {
   "cell_type": "code",
   "execution_count": 6,
   "metadata": {},
   "outputs": [
    {
     "name": "stdout",
     "output_type": "stream",
     "text": [
      "Enter a number :-54\n",
      "Only positive numbers allowed\n"
     ]
    }
   ],
   "source": [
    "try:\n",
    "    x = int(input('Enter a number :'))\n",
    "    assert x>= 0, \"Only positive numbers allowed\"\n",
    "    print(\"No. entered by the user : \", x)\n",
    "except AssertionError as msg:\n",
    "    print(msg)"
   ]
  },
  {
   "cell_type": "code",
   "execution_count": null,
   "metadata": {},
   "outputs": [],
   "source": []
  }
 ],
 "metadata": {
  "kernelspec": {
   "display_name": "Python 3",
   "language": "python",
   "name": "python3"
  },
  "language_info": {
   "codemirror_mode": {
    "name": "ipython",
    "version": 3
   },
   "file_extension": ".py",
   "mimetype": "text/x-python",
   "name": "python",
   "nbconvert_exporter": "python",
   "pygments_lexer": "ipython3",
   "version": "3.7.4"
  }
 },
 "nbformat": 4,
 "nbformat_minor": 2
}
