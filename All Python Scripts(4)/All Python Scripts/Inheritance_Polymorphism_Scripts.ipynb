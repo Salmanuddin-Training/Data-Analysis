{
 "cells": [
  {
   "cell_type": "code",
   "execution_count": 3,
   "metadata": {},
   "outputs": [
    {
     "name": "stdout",
     "output_type": "stream",
     "text": [
      "=====Displaying Employee details:-=====\n",
      "Company name : HCL\n",
      "1001   John   USA   Part Time Employee   1000\n"
     ]
    }
   ],
   "source": [
    "#Python - Single - Inheritance\n",
    "\n",
    "class Emp:\n",
    "    comp_name='HCL'\n",
    "    def __init__(self):\n",
    "        self.empid=''\n",
    "        self.name=''\n",
    "        self.add=''       \n",
    "class PartTime_Emp(Emp):\n",
    "    def __init__(self):\n",
    "        self.desig=''\n",
    "        self.pay_hours=''\n",
    "        \n",
    "    def displayDet(self):\n",
    "        self.empid=1001\n",
    "        self.name='John'\n",
    "        self.add='USA'\n",
    "        self.desig='Part Time Employee'\n",
    "        self.pay_hours=1000\n",
    "        \n",
    "        print(\"=====Displaying Employee details:-=====\")\n",
    "        print(\"Company name :\",Emp.comp_name)\n",
    "        print(self.empid,\" \",self.name,\" \",self.add,\" \",self.desig,\" \",self.pay_hours)\n",
    "             \n",
    "p1 = PartTime_Emp()\n",
    "p1.displayDet()"
   ]
  },
  {
   "cell_type": "code",
   "execution_count": 5,
   "metadata": {},
   "outputs": [
    {
     "name": "stdout",
     "output_type": "stream",
     "text": [
      "Method of AA class\n",
      "Method of BB class\n",
      "Method of CC class\n"
     ]
    }
   ],
   "source": [
    "#Python - Multiple - Inheritance\n",
    "\n",
    "class AA:\n",
    "    def fun1(self):\n",
    "        print('Method of AA class')\n",
    "        \n",
    "class BB:\n",
    "    def fun2(self):\n",
    "        print('Method of BB class') \n",
    "        \n",
    "class CC(AA,BB):\n",
    "    def fun3(self):\n",
    "        print('Method of CC class') \n",
    "        \n",
    "c1 = CC()\n",
    "c1.fun1()\n",
    "c1.fun2()\n",
    "c1.fun3()"
   ]
  },
  {
   "cell_type": "code",
   "execution_count": 1,
   "metadata": {},
   "outputs": [
    {
     "name": "stdout",
     "output_type": "stream",
     "text": [
      "Method of CC class\n",
      "Method of BB class\n",
      "Method of AA class\n"
     ]
    }
   ],
   "source": [
    "#Python - Multilevel Inheritance\n",
    "class AA:\n",
    "    def fun1(self):\n",
    "        print(\"Method of AA class\")\n",
    "        \n",
    "        \n",
    "class BB(AA):\n",
    "    def fun2(self):\n",
    "        print(\"Method of BB class\")\n",
    "        \n",
    "class CC(BB):\n",
    "     def fun3(self):\n",
    "        print(\"Method of CC class\")\n",
    "        \n",
    "c1 = CC()\n",
    "c1.fun3()\n",
    "c1.fun2()\n",
    "c1.fun1()"
   ]
  },
  {
   "cell_type": "code",
   "execution_count": 12,
   "metadata": {},
   "outputs": [
    {
     "name": "stdout",
     "output_type": "stream",
     "text": [
      "Enter Account no. :1001\n",
      "Enter account holder name :Donald\n",
      "Enter opening balance :5000\n",
      "Enter account type-(Saving/Current/Salaried) :Saving'\n",
      "Invalid account type !!! Enter again......\n",
      "Enter account type-(Saving/Current/Salaried) :Saving\n",
      "Account no.         : 1001\n",
      "Account Holder name : Donald\n",
      "Balance             : 5000\n",
      "Interest gained :  2100.0\n"
     ]
    }
   ],
   "source": [
    "class Account:\n",
    "    bankid=\"B001\"\n",
    "    def __init__(self,id,nm,bal):\n",
    "        self.accid=id\n",
    "        self.name=nm\n",
    "        self.balance=bal\n",
    "    def displayDet(self):\n",
    "        print(\"Account no.         :\",self.accid)\n",
    "        print(\"Account Holder name :\",self.name)\n",
    "        print(\"Balance             :\",self.balance)\n",
    "        \n",
    "class Saving(Account):\n",
    "    def __init__(self,id,nm,bal,type):\n",
    "        super().__init__(id,nm,bal)\n",
    "        self.acctype=type\n",
    "        \n",
    "    def raiseInterest(self,time):\n",
    "        return ((self.balance*3.5*time)/100)\n",
    "\n",
    "accno=int(input(\"Enter Account no. :\"))\n",
    "name=input('Enter account holder name :')\n",
    "balance=int(input('Enter opening balance :'))\n",
    "\n",
    "acctypelist=['Saving','Current','Salaried']\n",
    "\n",
    "while True:\n",
    "    acctype=input('Enter account type-(Saving/Current/Salaried) :')\n",
    "    if acctype not in acctypelist:\n",
    "        print('Invalid account type !!! Enter again......')\n",
    "    else:\n",
    "        break\n",
    "        \n",
    "s1 = Saving(accno,name,balance,acctype) \n",
    "s1.displayDet()\n",
    "print(\"Interest gained : \",s1.raiseInterest(12))\n"
   ]
  },
  {
   "cell_type": "code",
   "execution_count": 6,
   "metadata": {},
   "outputs": [
    {
     "name": "stdout",
     "output_type": "stream",
     "text": [
      "Const. of AA class\n",
      "Const. of BB class\n"
     ]
    }
   ],
   "source": [
    "class AA:\n",
    "    def __init__(self):\n",
    "        print(\"Const. of AA class\")\n",
    "        \n",
    "class BB(AA):\n",
    "    def __init__(self):\n",
    "        super().__init__()\n",
    "        print(\"Const. of BB class\")\n",
    "        \n",
    "b1 = BB()\n"
   ]
  },
  {
   "cell_type": "code",
   "execution_count": 9,
   "metadata": {},
   "outputs": [
    {
     "name": "stdout",
     "output_type": "stream",
     "text": [
      "Const. of AA class\n",
      "Const. of BB class\n",
      "Const. of CC class\n"
     ]
    }
   ],
   "source": [
    "class AA:\n",
    "    def __init__(self):\n",
    "        print(\"Const. of AA class\")\n",
    "        \n",
    "class BB(AA):\n",
    "    def __init__(self):\n",
    "        super().__init__()\n",
    "        print(\"Const. of BB class\")\n",
    "        \n",
    "class CC(BB,AA):\n",
    "    def __init__(self):\n",
    "        super().__init__()\n",
    "        print(\"Const. of CC class\")\n",
    "        \n",
    "c1 = CC()"
   ]
  },
  {
   "cell_type": "code",
   "execution_count": 13,
   "metadata": {},
   "outputs": [
    {
     "name": "stdout",
     "output_type": "stream",
     "text": [
      "<class 'int'>\n"
     ]
    }
   ],
   "source": [
    "var1 =12\n",
    "print(type(var1))"
   ]
  },
  {
   "cell_type": "code",
   "execution_count": 14,
   "metadata": {},
   "outputs": [
    {
     "name": "stdout",
     "output_type": "stream",
     "text": [
      "<class 'str'>\n"
     ]
    }
   ],
   "source": [
    "var1 ='John'\n",
    "print(type(var1))"
   ]
  },
  {
   "cell_type": "code",
   "execution_count": 15,
   "metadata": {},
   "outputs": [
    {
     "name": "stdout",
     "output_type": "stream",
     "text": [
      "<class 'float'>\n"
     ]
    }
   ],
   "source": [
    "var1 =56.4\n",
    "print(type(var1))"
   ]
  },
  {
   "cell_type": "code",
   "execution_count": 23,
   "metadata": {},
   "outputs": [
    {
     "name": "stdout",
     "output_type": "stream",
     "text": [
      "Function second : John\n"
     ]
    },
    {
     "ename": "TypeError",
     "evalue": "fun1() missing 1 required positional argument: 'name'",
     "output_type": "error",
     "traceback": [
      "\u001b[1;31m---------------------------------------------------------------------------\u001b[0m",
      "\u001b[1;31mTypeError\u001b[0m                                 Traceback (most recent call last)",
      "\u001b[1;32m<ipython-input-23-59bbe2e960da>\u001b[0m in \u001b[0;36m<module>\u001b[1;34m\u001b[0m\n\u001b[0;32m      8\u001b[0m \u001b[0mt1\u001b[0m\u001b[1;33m=\u001b[0m \u001b[0mTestPoly\u001b[0m\u001b[1;33m(\u001b[0m\u001b[1;33m)\u001b[0m\u001b[1;33m\u001b[0m\u001b[1;33m\u001b[0m\u001b[0m\n\u001b[0;32m      9\u001b[0m \u001b[0mt1\u001b[0m\u001b[1;33m.\u001b[0m\u001b[0mfun1\u001b[0m\u001b[1;33m(\u001b[0m\u001b[1;34m'John'\u001b[0m\u001b[1;33m)\u001b[0m\u001b[1;33m\u001b[0m\u001b[1;33m\u001b[0m\u001b[0m\n\u001b[1;32m---> 10\u001b[1;33m \u001b[0mt1\u001b[0m\u001b[1;33m.\u001b[0m\u001b[0mfun1\u001b[0m\u001b[1;33m(\u001b[0m\u001b[1;33m)\u001b[0m\u001b[1;33m\u001b[0m\u001b[1;33m\u001b[0m\u001b[0m\n\u001b[0m\u001b[0;32m     11\u001b[0m \u001b[1;33m\u001b[0m\u001b[0m\n",
      "\u001b[1;31mTypeError\u001b[0m: fun1() missing 1 required positional argument: 'name'"
     ]
    }
   ],
   "source": [
    "#Python - Polymorphism\n",
    "class TestPoly:\n",
    "    def fun1(self):\n",
    "        print('Function first')\n",
    "        \n",
    "    def fun1(self,name):\n",
    "        print('Function second :',name) \n",
    "t1= TestPoly()\n",
    "t1.fun1('John')\n",
    "        "
   ]
  },
  {
   "cell_type": "code",
   "execution_count": 18,
   "metadata": {},
   "outputs": [
    {
     "name": "stdout",
     "output_type": "stream",
     "text": [
      "ID a : 140710311731632\n",
      "ID b : 140710311731664\n",
      "ID a : 140710311731664\n"
     ]
    }
   ],
   "source": [
    "a=2\n",
    "b=3\n",
    "print(\"ID a :\",id(a))\n",
    "print(\"ID b :\",id(b))\n",
    "a=3\n",
    "print(\"ID a :\",id(a))"
   ]
  },
  {
   "cell_type": "code",
   "execution_count": 29,
   "metadata": {},
   "outputs": [
    {
     "name": "stdout",
     "output_type": "stream",
     "text": [
      "Welcome\n"
     ]
    }
   ],
   "source": [
    "#Python- method overriding\n",
    "class Base:\n",
    "    def __init__(self):\n",
    "        self.x=\"Hello\"\n",
    "        \n",
    "    def display(self):\n",
    "        print(self.x)\n",
    "        \n",
    "class Child(Base):\n",
    "    def __init__(self):\n",
    "        self.x=\"Welcome\"\n",
    "        \n",
    "        \n",
    "c1 = Child()\n",
    "c1.display()"
   ]
  },
  {
   "cell_type": "code",
   "execution_count": 31,
   "metadata": {},
   "outputs": [
    {
     "name": "stdout",
     "output_type": "stream",
     "text": [
      "Hello\n",
      "Welcome\n"
     ]
    }
   ],
   "source": [
    "#Python- method overriding\n",
    "class Base:\n",
    "    def display(self):\n",
    "        print('Hello')\n",
    "        \n",
    "class Child(Base):\n",
    "    def display(self):\n",
    "        super().display()\n",
    "        print('Welcome')\n",
    "\n",
    "c1 = Child()\n",
    "c1.display()"
   ]
  },
  {
   "cell_type": "code",
   "execution_count": 35,
   "metadata": {},
   "outputs": [
    {
     "name": "stdout",
     "output_type": "stream",
     "text": [
      "Product : 6\n",
      "Sum :  5\n"
     ]
    }
   ],
   "source": [
    "class Parent:\n",
    "    def fun1(self,n1,n2):\n",
    "        print(\"Sum : \",n1+n2)\n",
    "        \n",
    "class Child(Parent):\n",
    "    def fun1(self,n1,n2):\n",
    "        print(\"Product :\",n1*n2)\n",
    "        \n",
    "c1 =Child()\n",
    "c1.fun1(2,3)\n",
    "\n",
    "p1= Parent()\n",
    "p1.fun1(2,3)"
   ]
  },
  {
   "cell_type": "code",
   "execution_count": 37,
   "metadata": {},
   "outputs": [
    {
     "name": "stdout",
     "output_type": "stream",
     "text": [
      "hi\n"
     ]
    }
   ],
   "source": [
    "def myfun():\n",
    "    "
   ]
  },
  {
   "cell_type": "code",
   "execution_count": 38,
   "metadata": {},
   "outputs": [
    {
     "ename": "TypeError",
     "evalue": "Can't instantiate abstract class Animal with abstract methods myfun",
     "output_type": "error",
     "traceback": [
      "\u001b[1;31m---------------------------------------------------------------------------\u001b[0m",
      "\u001b[1;31mTypeError\u001b[0m                                 Traceback (most recent call last)",
      "\u001b[1;32m<ipython-input-38-d0059b51e83c>\u001b[0m in \u001b[0;36m<module>\u001b[1;34m\u001b[0m\n\u001b[0;32m      5\u001b[0m     \u001b[1;32mdef\u001b[0m \u001b[0mmyfun\u001b[0m\u001b[1;33m(\u001b[0m\u001b[0mself\u001b[0m\u001b[1;33m)\u001b[0m\u001b[1;33m:\u001b[0m\u001b[1;33m\u001b[0m\u001b[1;33m\u001b[0m\u001b[0m\n\u001b[0;32m      6\u001b[0m         \u001b[1;32mpass\u001b[0m\u001b[1;33m\u001b[0m\u001b[1;33m\u001b[0m\u001b[0m\n\u001b[1;32m----> 7\u001b[1;33m \u001b[0ma1\u001b[0m  \u001b[1;33m=\u001b[0m \u001b[0mAnimal\u001b[0m\u001b[1;33m(\u001b[0m\u001b[1;33m)\u001b[0m\u001b[1;33m\u001b[0m\u001b[1;33m\u001b[0m\u001b[0m\n\u001b[0m",
      "\u001b[1;31mTypeError\u001b[0m: Can't instantiate abstract class Animal with abstract methods myfun"
     ]
    }
   ],
   "source": [
    "from abc import ABC, abstractmethod\n",
    "\n",
    "class Animal(ABC):\n",
    "    @abstractmethod\n",
    "    def myfun(self):\n",
    "        pass\n",
    "a1  = Animal() "
   ]
  },
  {
   "cell_type": "code",
   "execution_count": 42,
   "metadata": {
    "scrolled": true
   },
   "outputs": [
    {
     "name": "stdout",
     "output_type": "stream",
     "text": [
      "Method showing Food habit behaviour of diff. animals....!\n",
      "Depends upon plants.\n"
     ]
    }
   ],
   "source": [
    "#Python - Abstraction usiong abstract class concept\n",
    "# abc is inbuilt module to create abstract class\n",
    "from abc import ABC, abstractmethod\n",
    "\n",
    "class Animal(ABC):\n",
    "    @abstractmethod\n",
    "    def foodhabit(self):\n",
    "        pass\n",
    "    \n",
    "class Herbi(Animal):\n",
    "    def foodhabit(self):\n",
    "        super().foodhabit()\n",
    "        print(\"Depends upon plants.\")\n",
    "        \n",
    "hobj = Herbi()\n",
    "hobj.foodhabit()"
   ]
  },
  {
   "cell_type": "code",
   "execution_count": null,
   "metadata": {},
   "outputs": [],
   "source": []
  }
 ],
 "metadata": {
  "kernelspec": {
   "display_name": "Python 3",
   "language": "python",
   "name": "python3"
  },
  "language_info": {
   "codemirror_mode": {
    "name": "ipython",
    "version": 3
   },
   "file_extension": ".py",
   "mimetype": "text/x-python",
   "name": "python",
   "nbconvert_exporter": "python",
   "pygments_lexer": "ipython3",
   "version": "3.7.4"
  }
 },
 "nbformat": 4,
 "nbformat_minor": 2
}
