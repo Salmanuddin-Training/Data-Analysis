{
 "cells": [
  {
   "cell_type": "code",
   "execution_count": 1,
   "metadata": {},
   "outputs": [
    {
     "name": "stdout",
     "output_type": "stream",
     "text": [
      "Python\n"
     ]
    }
   ],
   "source": [
    "course=[\"C\",\"C++\",\"JAVA\",\"Python\",\"Django\"]\n",
    "print(course[3])"
   ]
  },
  {
   "cell_type": "code",
   "execution_count": 3,
   "metadata": {},
   "outputs": [
    {
     "name": "stdout",
     "output_type": "stream",
     "text": [
      "Length of my list :  4\n"
     ]
    }
   ],
   "source": [
    "student=[101,\"Kelly\",\"Python\",78.5]\n",
    "#lenth of a list\n",
    "print(\"Length of my list : \",len(student))"
   ]
  },
  {
   "cell_type": "raw",
   "metadata": {},
   "source": []
  },
  {
   "cell_type": "markdown",
   "metadata": {},
   "source": [
    "marks=[56,78,80,90,50]\n",
    "print(\"max marks :\",max(marks))\n"
   ]
  },
  {
   "cell_type": "code",
   "execution_count": 4,
   "metadata": {},
   "outputs": [
    {
     "name": "stdout",
     "output_type": "stream",
     "text": [
      "Highest marks :  90\n"
     ]
    }
   ],
   "source": [
    "marks=[56,70,80,67,90]\n",
    "print(\"Highest marks : \",max(marks))"
   ]
  },
  {
   "cell_type": "code",
   "execution_count": 5,
   "metadata": {},
   "outputs": [
    {
     "name": "stdout",
     "output_type": "stream",
     "text": [
      "Lowest marks :  56\n"
     ]
    }
   ],
   "source": [
    "marks=[56,70,80,67,90]\n",
    "print(\"Lowest marks : \",min(marks))"
   ]
  },
  {
   "cell_type": "code",
   "execution_count": 7,
   "metadata": {},
   "outputs": [
    {
     "name": "stdout",
     "output_type": "stream",
     "text": [
      "['JAVA', 'PHP', 'HTML5', 'Python']\n",
      "updated course list :\n",
      "\n",
      "['JAVA', 'PHP', 'HTML5', 'Python', 'Django']\n"
     ]
    }
   ],
   "source": [
    "course=[\"JAVA\",\"PHP\",\"HTML5\",\"Python\"]\n",
    "print(course)\n",
    "course.append(\"Django\")\n",
    "print(\"updated course list :\\n\")\n",
    "print(course)"
   ]
  },
  {
   "cell_type": "code",
   "execution_count": 8,
   "metadata": {},
   "outputs": [
    {
     "name": "stdout",
     "output_type": "stream",
     "text": [
      "['JAVA', 'PHP', 'HTML5', 'Python']\n",
      "['JAVA', 'C Programming', 'PHP', 'HTML5', 'Python']\n"
     ]
    }
   ],
   "source": [
    "course=[\"JAVA\",\"PHP\",\"HTML5\",\"Python\"]\n",
    "print(course)\n",
    "course.insert(1,\"C Programming\")\n",
    "print(course)"
   ]
  },
  {
   "cell_type": "code",
   "execution_count": 9,
   "metadata": {},
   "outputs": [
    {
     "name": "stdout",
     "output_type": "stream",
     "text": [
      "['JAVA', 'PHP', 'HTML5', 'Python']\n",
      "['JAVA', 'PHP', 'Python']\n"
     ]
    }
   ],
   "source": [
    "course=[\"JAVA\",\"PHP\",\"HTML5\",\"Python\"]\n",
    "print(course)\n",
    "course.remove(\"HTML5\")\n",
    "print(course)"
   ]
  },
  {
   "cell_type": "code",
   "execution_count": 11,
   "metadata": {},
   "outputs": [
    {
     "name": "stdout",
     "output_type": "stream",
     "text": [
      "['JAVA', 'PHP', 'HTML5', 'Python']\n",
      "Python\n",
      "['JAVA', 'PHP', 'HTML5']\n"
     ]
    }
   ],
   "source": [
    "course=[\"JAVA\",\"PHP\",\"HTML5\",\"Python\"]\n",
    "print(course)\n",
    "print(course.pop())\n",
    "print(course)"
   ]
  },
  {
   "cell_type": "code",
   "execution_count": 12,
   "metadata": {},
   "outputs": [
    {
     "name": "stdout",
     "output_type": "stream",
     "text": [
      "['JAVA', 'PHP', 'HTML5', 'Python']\n",
      "['Python', 'HTML5', 'PHP', 'JAVA']\n"
     ]
    }
   ],
   "source": [
    "course=[\"JAVA\",\"PHP\",\"HTML5\",\"Python\"]\n",
    "print(course)\n",
    "course.reverse()\n",
    "print(course)"
   ]
  },
  {
   "cell_type": "code",
   "execution_count": 16,
   "metadata": {},
   "outputs": [
    {
     "name": "stdout",
     "output_type": "stream",
     "text": [
      "['Sonu', 'Monika', 'Shubham', 'Anjali']\n",
      "['Anjali', 'Monika', 'Shubham', 'Sonu']\n"
     ]
    }
   ],
   "source": [
    "student=[\"Sonu\",\"Monika\",\"Shubham\",\"Anjali\"]\n",
    "print(student)\n",
    "student.sort()\n",
    "print(student)\n"
   ]
  },
  {
   "cell_type": "code",
   "execution_count": 19,
   "metadata": {},
   "outputs": [
    {
     "name": "stdout",
     "output_type": "stream",
     "text": [
      "Hello\n",
      "e\n",
      "30\n"
     ]
    }
   ],
   "source": [
    "#Nested list in python\n",
    "list1=[\"Hello\",[0,20,30,40]]\n",
    "print(list1[0])\n",
    "print(list1[0][1])\n",
    "print(list1[1][2])"
   ]
  },
  {
   "cell_type": "code",
   "execution_count": 20,
   "metadata": {},
   "outputs": [
    {
     "name": "stdout",
     "output_type": "stream",
     "text": [
      "e\n",
      "p\n"
     ]
    }
   ],
   "source": [
    "#negative indexing\n",
    "my_list = ['p','r','o','b','e']\n",
    "\n",
    "print(my_list[-1])\n",
    "\n",
    "\n",
    "print(my_list[-5])"
   ]
  },
  {
   "cell_type": "code",
   "execution_count": 30,
   "metadata": {},
   "outputs": [
    {
     "name": "stdout",
     "output_type": "stream",
     "text": [
      "['P', 'y']\n",
      "['H', 'e', 'l', 'l', 'o']\n"
     ]
    }
   ],
   "source": [
    "list2=['H','e','l','l','o',' ','P','y','t','h','o','n']\n",
    "print(list2[6:8])\n",
    "print(list2[:-7])"
   ]
  },
  {
   "cell_type": "code",
   "execution_count": 31,
   "metadata": {},
   "outputs": [
    {
     "name": "stdout",
     "output_type": "stream",
     "text": [
      "['p', 'r', 'b', 'l', 'e', 'm']\n",
      "['p', 'm']\n"
     ]
    },
    {
     "ename": "NameError",
     "evalue": "name 'my_list' is not defined",
     "output_type": "error",
     "traceback": [
      "\u001b[1;31m---------------------------------------------------------------------------\u001b[0m",
      "\u001b[1;31mNameError\u001b[0m                                 Traceback (most recent call last)",
      "\u001b[1;32m<ipython-input-31-d7e789652eeb>\u001b[0m in \u001b[0;36m<module>\u001b[1;34m\u001b[0m\n\u001b[0;32m     18\u001b[0m \u001b[1;33m\u001b[0m\u001b[0m\n\u001b[0;32m     19\u001b[0m \u001b[1;31m# Error: List not defined\u001b[0m\u001b[1;33m\u001b[0m\u001b[1;33m\u001b[0m\u001b[1;33m\u001b[0m\u001b[0m\n\u001b[1;32m---> 20\u001b[1;33m \u001b[0mprint\u001b[0m\u001b[1;33m(\u001b[0m\u001b[0mmy_list\u001b[0m\u001b[1;33m)\u001b[0m\u001b[1;33m\u001b[0m\u001b[1;33m\u001b[0m\u001b[0m\n\u001b[0m",
      "\u001b[1;31mNameError\u001b[0m: name 'my_list' is not defined"
     ]
    }
   ],
   "source": [
    "#Deleting items from the list\n",
    "my_list = ['p','r','o','b','l','e','m']\n",
    "\n",
    "# delete one item\n",
    "del my_list[2]\n",
    "\n",
    "# Output: ['p', 'r', 'b', 'l', 'e', 'm']     \n",
    "print(my_list)\n",
    "\n",
    "# delete multiple items\n",
    "del my_list[1:5]  \n",
    "\n",
    "# Output: ['p', 'm']\n",
    "print(my_list)\n",
    "\n",
    "# delete entire list\n",
    "del my_list       \n",
    "\n",
    "# Error: List not defined\n",
    "print(my_list)\n"
   ]
  },
  {
   "cell_type": "code",
   "execution_count": 32,
   "metadata": {},
   "outputs": [
    {
     "name": "stdout",
     "output_type": "stream",
     "text": [
      "['C', 'C++', 'Python']\n",
      "[]\n"
     ]
    }
   ],
   "source": [
    "course=[\"C\",\"C++\",\"Python\"]\n",
    "print(course)\n",
    "course.clear()\n",
    "print(course)"
   ]
  },
  {
   "cell_type": "code",
   "execution_count": 36,
   "metadata": {},
   "outputs": [
    {
     "name": "stdout",
     "output_type": "stream",
     "text": [
      "['C', 'C++', 'Python']\n",
      "Enter the item u want to search :JAVA\n",
      "Item not present\n"
     ]
    }
   ],
   "source": [
    "course=[\"C\",\"C++\",\"Python\"]\n",
    "\n",
    "print(course)\n",
    "\n",
    "searchVal = input(\"Enter the item u want to search :\")\n",
    "\n",
    "if searchVal in course:\n",
    "    print(\"Item present in the list\")\n",
    "else:\n",
    "    print(\"Item not present\")"
   ]
  },
  {
   "cell_type": "code",
   "execution_count": 7,
   "metadata": {},
   "outputs": [
    {
     "name": "stdout",
     "output_type": "stream",
     "text": [
      "Contents of list 1 :  [1, 3, 5]\n",
      "Contents of list 2 :  [7, 9, 11]\n",
      "[1, 3, 5, 7, 9, 11]\n",
      "[1, 3, 5]\n"
     ]
    }
   ],
   "source": [
    "my_list1=[1,3,5]\n",
    "my_list2=[7,9,11]\n",
    "print(\"Contents of list 1 : \",my_list)\n",
    "print(\"Contents of list 2 : \",my_list2)\n",
    "\n",
    "#my_list1.extend(my_list2)\n",
    "#print(\"Updated contents of list1 : \",my_list1)\n",
    "print(my_list1+my_list2)\n",
    "print(my_list1)\n"
   ]
  },
  {
   "cell_type": "code",
   "execution_count": 10,
   "metadata": {},
   "outputs": [
    {
     "name": "stdout",
     "output_type": "stream",
     "text": [
      "9\n"
     ]
    }
   ],
   "source": [
    "#list3 = [\"Python\"]\n",
    "list3 = [3]\n",
    "print(list3[0] * 3)"
   ]
  },
  {
   "cell_type": "code",
   "execution_count": 11,
   "metadata": {},
   "outputs": [
    {
     "name": "stdout",
     "output_type": "stream",
     "text": [
      "8\n"
     ]
    }
   ],
   "source": [
    "print(2**3)"
   ]
  },
  {
   "cell_type": "code",
   "execution_count": 15,
   "metadata": {},
   "outputs": [
    {
     "name": "stdout",
     "output_type": "stream",
     "text": [
      "[64, 128, 256, 512, 1024]\n"
     ]
    }
   ],
   "source": [
    "pow2 = [2 ** x for x in range(11) if x > 5]\n",
    "print(pow2)"
   ]
  },
  {
   "cell_type": "code",
   "execution_count": null,
   "metadata": {},
   "outputs": [],
   "source": []
  }
 ],
 "metadata": {
  "kernelspec": {
   "display_name": "Python 3",
   "language": "python",
   "name": "python3"
  },
  "language_info": {
   "codemirror_mode": {
    "name": "ipython",
    "version": 3
   },
   "file_extension": ".py",
   "mimetype": "text/x-python",
   "name": "python",
   "nbconvert_exporter": "python",
   "pygments_lexer": "ipython3",
   "version": "3.7.4"
  }
 },
 "nbformat": 4,
 "nbformat_minor": 2
}
