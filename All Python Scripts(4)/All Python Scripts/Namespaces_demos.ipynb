{
 "cells": [
  {
   "cell_type": "code",
   "execution_count": 1,
   "metadata": {},
   "outputs": [
    {
     "name": "stdout",
     "output_type": "stream",
     "text": [
      "140706531680688\n",
      "140706531680688\n"
     ]
    }
   ],
   "source": [
    "a = 2\n",
    "print(id(a))\n",
    "print(id(2))"
   ]
  },
  {
   "cell_type": "code",
   "execution_count": 5,
   "metadata": {},
   "outputs": [
    {
     "name": "stdout",
     "output_type": "stream",
     "text": [
      "id(a) 140706531680688\n",
      "id(a) 140706531680720\n",
      "id(a) 140706531680720\n",
      "id(b) 140706531680688\n",
      "id(b) 140706531680688\n"
     ]
    }
   ],
   "source": [
    "a=2\n",
    "print('id(a)',id(a))\n",
    "\n",
    "a=a+1\n",
    "print('id(a)',id(a))\n",
    "\n",
    "print('id(a)',id(3))\n",
    "\n",
    "b=2\n",
    "print('id(b)',id(b))\n",
    "print('id(b)',id(2))"
   ]
  },
  {
   "cell_type": "code",
   "execution_count": 6,
   "metadata": {},
   "outputs": [
    {
     "name": "stdout",
     "output_type": "stream",
     "text": [
      "[2, 4, 6]\n"
     ]
    }
   ],
   "source": [
    "a=5\n",
    "a='Python'\n",
    "a=[2,4,6]\n",
    "\n",
    "print(a)"
   ]
  },
  {
   "cell_type": "code",
   "execution_count": 13,
   "metadata": {},
   "outputs": [
    {
     "name": "stdout",
     "output_type": "stream",
     "text": [
      "Hello\n",
      "None\n",
      "140706531204320\n",
      "Hello\n",
      "140706531204320\n"
     ]
    }
   ],
   "source": [
    "def printHello():\n",
    "    print(\"Hello\")  \n",
    "\n",
    "#printHello()\n",
    "a = printHello()\n",
    "print(a)\n",
    "print(id(a))\n",
    "print(id(printHello()))"
   ]
  },
  {
   "cell_type": "code",
   "execution_count": 21,
   "metadata": {},
   "outputs": [
    {
     "name": "stdout",
     "output_type": "stream",
     "text": [
      "45\n",
      "45\n"
     ]
    }
   ],
   "source": [
    "a1=45\n",
    "\n",
    "def outer_function():\n",
    "    b1 = 20\n",
    "    print(a1)\n",
    "    def inner_func():\n",
    "        c1 = 30\n",
    "        print(b1)\n",
    "\n",
    "print(a1)\n",
    "outer_function()\n"
   ]
  },
  {
   "cell_type": "code",
   "execution_count": 22,
   "metadata": {},
   "outputs": [
    {
     "name": "stdout",
     "output_type": "stream",
     "text": [
      "a = 30\n",
      "a = 30\n",
      "a = 30\n"
     ]
    }
   ],
   "source": [
    "def outer_function():\n",
    "    global a\n",
    "    a = 20\n",
    "    def inner_function():\n",
    "        global a\n",
    "        a = 30\n",
    "        print('a =',a)\n",
    "\n",
    "    inner_function()\n",
    "    print('a =',a)\n",
    "     \n",
    "a = 10\n",
    "outer_function()\n",
    "print('a =',a)"
   ]
  },
  {
   "cell_type": "code",
   "execution_count": null,
   "metadata": {},
   "outputs": [],
   "source": [
    "def scope_test():\n",
    "    def do_local():\n",
    "        spam = \"local spam\"\n",
    "\n",
    "    def do_nonlocal():\n",
    "        nonlocal spam\n",
    "        spam = \"nonlocal spam\"\n",
    "\n",
    "    def do_global():\n",
    "        global spam\n",
    "        spam = \"global spam\"\n",
    "\n",
    "    spam = \"test spam\"\n",
    "    do_local()\n",
    "    print(\"After local assignment:\", spam)\n",
    "    do_nonlocal()\n",
    "    print(\"After nonlocal assignment:\", spam)\n",
    "    do_global()\n",
    "    print(\"After global assignment:\", spam)\n",
    "\n",
    "scope_test()\n",
    "print(\"In global scope:\", spam)"
   ]
  },
  {
   "cell_type": "code",
   "execution_count": null,
   "metadata": {},
   "outputs": [],
   "source": []
  }
 ],
 "metadata": {
  "kernelspec": {
   "display_name": "Python 3",
   "language": "python",
   "name": "python3"
  },
  "language_info": {
   "codemirror_mode": {
    "name": "ipython",
    "version": 3
   },
   "file_extension": ".py",
   "mimetype": "text/x-python",
   "name": "python",
   "nbconvert_exporter": "python",
   "pygments_lexer": "ipython3",
   "version": "3.7.4"
  }
 },
 "nbformat": 4,
 "nbformat_minor": 2
}
