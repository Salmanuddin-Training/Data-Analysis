{
 "cells": [
  {
   "cell_type": "code",
   "execution_count": 1,
   "metadata": {},
   "outputs": [
    {
     "name": "stdout",
     "output_type": "stream",
     "text": [
      "MySQLdb API imported successfully...!\n"
     ]
    }
   ],
   "source": [
    "#Python MySQL - Database connectivity.......!\n",
    "\n",
    "import MySQLdb\n",
    "\n",
    "print(\"MySQLdb API imported successfully...!\")"
   ]
  },
  {
   "cell_type": "code",
   "execution_count": 2,
   "metadata": {},
   "outputs": [
    {
     "name": "stdout",
     "output_type": "stream",
     "text": [
      "(1, 'Surabhi', 'Python', 80.0)\n"
     ]
    }
   ],
   "source": [
    "#importing MySQL API\n",
    "import MySQLdb\n",
    "\n",
    "#establishing database connection\n",
    "dbcon = MySQLdb.connect('localhost','root','root','python2_db')\n",
    "\n",
    "#cursor object creation\n",
    "cursorobj = dbcon.cursor()\n",
    "\n",
    "#executing SQL Queries using execute().....\n",
    "cursorobj.execute(\"select * from student\")\n",
    "\n",
    "#fetching a single row using fetchone().....\n",
    "data = cursorobj.fetchone()\n",
    "\n",
    "print(data)\n",
    "\n",
    "#closing the connection\n",
    "dbcon.close()\n"
   ]
  },
  {
   "cell_type": "code",
   "execution_count": 4,
   "metadata": {},
   "outputs": [
    {
     "name": "stdout",
     "output_type": "stream",
     "text": [
      "1   Surabhi   Python   80.0\n",
      "2   Sadhna   Data Science   90.0\n",
      "3   Firdaus   Python Full Stack Developer   90.0\n"
     ]
    }
   ],
   "source": [
    "#importing MySQL API\n",
    "import MySQLdb\n",
    "\n",
    "#establishing database connection\n",
    "dbcon = MySQLdb.connect('localhost','root','root','python2_db')\n",
    "\n",
    "#cursor object creation\n",
    "cursorobj = dbcon.cursor()\n",
    "\n",
    "#executing SQL Queries using execute().....\n",
    "cursorobj.execute(\"select * from student\")\n",
    "\n",
    "#fetching all rows using fetchall().....\n",
    "data = cursorobj.fetchall()\n",
    "\n",
    "for var in data:\n",
    "    print(var[0],\" \",var[1],\" \",var[2],\" \",var[3])\n",
    "\n",
    "#closing the connection\n",
    "dbcon.close()\n"
   ]
  },
  {
   "cell_type": "code",
   "execution_count": 11,
   "metadata": {},
   "outputs": [
    {
     "name": "stdout",
     "output_type": "stream",
     "text": [
      "SID : 1  Name : Surabhi  Course : Python  Marks : 80.0\n",
      "SID : 2  Name : Sadhna  Course : Data Science  Marks : 90.0\n"
     ]
    }
   ],
   "source": [
    "#importing MySQL API\n",
    "import MySQLdb\n",
    "\n",
    "#establishing database connection\n",
    "dbcon = MySQLdb.connect('localhost','root','root','python2_db')\n",
    "\n",
    "#cursor object creation\n",
    "cursorobj = dbcon.cursor()\n",
    "\n",
    "#executing SQL Queries using execute().....\n",
    "cursorobj.execute(\"select * from student\")\n",
    "\n",
    "#fetching exact no of rows using fetchmany().....\n",
    "data= cursorobj.fetchmany(2)\n",
    "\n",
    "for var in data:\n",
    "    print(\"SID :\",var[0],\" Name :\",var[1],\" Course :\",var[2],\" Marks :\",var[3])\n",
    "\n",
    "#closing the connection\n",
    "dbcon.close()"
   ]
  },
  {
   "cell_type": "code",
   "execution_count": 14,
   "metadata": {},
   "outputs": [
    {
     "name": "stderr",
     "output_type": "stream",
     "text": [
      "C:\\Users\\Rajesh\\Anaconda3\\lib\\site-packages\\ipykernel_launcher.py:9: Warning: (1051, \"Unknown table 'python2_db.customer'\")\n",
      "  if __name__ == '__main__':\n"
     ]
    },
    {
     "name": "stdout",
     "output_type": "stream",
     "text": [
      "Table created successfully....!\n"
     ]
    }
   ],
   "source": [
    "#Python - MySQL = Dynamically table creation......\n",
    "\n",
    "import MySQLdb\n",
    "\n",
    "dbcon = MySQLdb.connect('localhost','root','root','python2_db')\n",
    "\n",
    "cursor = dbcon.cursor()\n",
    "\n",
    "cursor.execute(\"drop table if exists customer\")\n",
    "\n",
    "sqlquery = \"create table customer(cid int primary key,name varchar(45), email varchar(80))\"\n",
    "\n",
    "cursor.execute(sqlquery)\n",
    "\n",
    "print(\"Table created successfully....!\")\n",
    "\n",
    "dbcon.close()"
   ]
  },
  {
   "cell_type": "code",
   "execution_count": 15,
   "metadata": {},
   "outputs": [
    {
     "name": "stdout",
     "output_type": "stream",
     "text": [
      "Record inserted succesfully....!\n"
     ]
    }
   ],
   "source": [
    "#Python - MySQL - Insertion\n",
    "\n",
    "import MySQLdb\n",
    "\n",
    "dbcon = MySQLdb.connect('localhost','root','root','python2_db')\n",
    "\n",
    "cursor = dbcon.cursor()\n",
    "\n",
    "sqlquery = \"insert into customer(cid,name,email) values(101,'John','john@gmail.com')\"\n",
    "\n",
    "try:\n",
    "    #executing the query\n",
    "    cursor.execute(sqlquery)\n",
    "    \n",
    "    #commit the changes\n",
    "    dbcon.commit()\n",
    "    print(\"Record inserted succesfully....!\")\n",
    "    \n",
    "except:\n",
    "    #Rollback the changes\n",
    "    dbcon.rollback()\n",
    "    \n",
    "dbcon.close()\n"
   ]
  },
  {
   "cell_type": "code",
   "execution_count": 23,
   "metadata": {},
   "outputs": [
    {
     "name": "stdout",
     "output_type": "stream",
     "text": [
      "Enter customer ID :103\n",
      "Enter customer NAME :aa\n",
      "Enter customer EMAIL :aa\n",
      "Record inserted succesfully....!\n"
     ]
    }
   ],
   "source": [
    "#Python - MySQL - Insertion Dynamically\n",
    "\n",
    "import MySQLdb\n",
    "\n",
    "'''\n",
    "custRecord=[]\n",
    "custRecord.append(int(input('Enter customer ID :')))\n",
    "custRecord.append(input('Enter customer NAME :'))\n",
    "custRecord.append(input('Enter customer EMAIL :'))\n",
    "'''\n",
    "cid=int(input('Enter customer ID :'))\n",
    "nm = input('Enter customer NAME :')\n",
    "em = input('Enter customer EMAIL :')\n",
    "\n",
    "dbcon = MySQLdb.connect('localhost','root','root','python2_db')\n",
    "\n",
    "cursor = dbcon.cursor()\n",
    "\n",
    "sqlquery = \"insert into customer(cid,name,email) values(\"+str(cid)+\",\"+nm+\",\"+em+\")\"\n",
    "\n",
    "try:\n",
    "    #executing the query\n",
    "    cursor.execute(sqlquery)\n",
    "    \n",
    "    #commit the changes\n",
    "    dbcon.commit()\n",
    "    print(\"Record inserted succesfully....!\")\n",
    "    \n",
    "except Exception as e:\n",
    "    print(e)\n",
    "    #Rollback the changes\n",
    "    dbcon.rollback()\n",
    "    \n",
    "dbcon.close()\n",
    "\n"
   ]
  },
  {
   "cell_type": "code",
   "execution_count": 24,
   "metadata": {},
   "outputs": [
    {
     "name": "stdout",
     "output_type": "stream",
     "text": [
      "===== Accepting  customer Details =====\n",
      "Enter CID whose record u want to update :103\n",
      "Enter update NAME :Allen\n",
      "Enter updated EMAIL :allen@gmail.com\n",
      "Record updated succesfully....!\n"
     ]
    }
   ],
   "source": [
    "#Python - update operation\n",
    "\n",
    "import MySQLdb\n",
    "\n",
    "print(\"===== Accepting  customer Details =====\")\n",
    "cid=int(input('Enter CID whose record u want to update :'))\n",
    "name = input('Enter update NAME :')\n",
    "email = input('Enter updated EMAIL :')\n",
    "\n",
    "dbcon = MySQLdb.connect('localhost','root','root','python2_db')\n",
    "\n",
    "cursor = dbcon.cursor()\n",
    "\n",
    "sqlquery = \"update customer set name=%s, email=%s where cid = %s\"\n",
    "\n",
    "try:\n",
    "    #executing the query\n",
    "    cursor.execute(sqlquery,(name,email,cid))\n",
    "    \n",
    "    #commit the changes\n",
    "    dbcon.commit()\n",
    "    print(\"Record updated succesfully....!\")\n",
    "    \n",
    "except Exception as e:\n",
    "    print(e)\n",
    "    #Rollback the changes\n",
    "    dbcon.rollback()\n",
    "    \n",
    "dbcon.close()\n"
   ]
  },
  {
   "cell_type": "code",
   "execution_count": 25,
   "metadata": {},
   "outputs": [
    {
     "name": "stdout",
     "output_type": "stream",
     "text": [
      "===== Accepting  customer Details =====\n",
      "Enter CID whose record u want to delete :102\n",
      "Record deleted succesfully....!\n"
     ]
    }
   ],
   "source": [
    "#Python - delete operation\n",
    "\n",
    "import MySQLdb\n",
    "\n",
    "print(\"===== Accepting  customer Details =====\")\n",
    "cid=int(input('Enter CID whose record u want to delete :'))\n",
    "\n",
    "dbcon = MySQLdb.connect('localhost','root','root','python2_db')\n",
    "\n",
    "cursor = dbcon.cursor()\n",
    "\n",
    "sqlquery = \"delete from customer where cid = %s\"\n",
    "\n",
    "try:\n",
    "    #executing the query\n",
    "    cursor.execute(sqlquery,(cid,))\n",
    "    \n",
    "    #commit the changes\n",
    "    dbcon.commit()\n",
    "    print(\"Record deleted succesfully....!\")\n",
    "    \n",
    "except Exception as e:\n",
    "    print(e)\n",
    "    #Rollback the changes\n",
    "    dbcon.rollback()\n",
    "    \n",
    "dbcon.close()"
   ]
  },
  {
   "cell_type": "code",
   "execution_count": 27,
   "metadata": {},
   "outputs": [
    {
     "name": "stdout",
     "output_type": "stream",
     "text": [
      "Total no. of records : 2\n"
     ]
    }
   ],
   "source": [
    "#Python - delete operation\n",
    "\n",
    "import MySQLdb\n",
    "\n",
    "dbcon = MySQLdb.connect('localhost','root','root','python2_db')\n",
    "\n",
    "cursor = dbcon.cursor()\n",
    "\n",
    "sqlquery = \"select * from customer\"\n",
    "\n",
    "try:\n",
    "    #executing the query\n",
    "    cursor.execute(sqlquery)\n",
    "    \n",
    "    data = cursor.fetchall()\n",
    "    \n",
    "    print(\"Total no. of records :\",len(data))\n",
    "   \n",
    "except Exception as e:\n",
    "    print(e)\n",
    "    #Rollback the changes\n",
    "    dbcon.rollback()\n",
    "    \n",
    "dbcon.close()"
   ]
  },
  {
   "cell_type": "code",
   "execution_count": null,
   "metadata": {},
   "outputs": [],
   "source": []
  }
 ],
 "metadata": {
  "kernelspec": {
   "display_name": "Python 3",
   "language": "python",
   "name": "python3"
  },
  "language_info": {
   "codemirror_mode": {
    "name": "ipython",
    "version": 3
   },
   "file_extension": ".py",
   "mimetype": "text/x-python",
   "name": "python",
   "nbconvert_exporter": "python",
   "pygments_lexer": "ipython3",
   "version": "3.7.4"
  }
 },
 "nbformat": 4,
 "nbformat_minor": 2
}
