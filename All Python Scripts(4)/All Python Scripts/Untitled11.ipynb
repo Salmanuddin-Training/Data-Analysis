{
 "cells": [
  {
   "cell_type": "code",
   "execution_count": 22,
   "metadata": {},
   "outputs": [
    {
     "name": "stdout",
     "output_type": "stream",
     "text": [
      "Hello, Enginners...!\n",
      "Hello, Enginners...!\n"
     ]
    }
   ],
   "source": [
    "#function defining...\n",
    "def greet():\n",
    "    \"\"\"This function is used to greet the user...!\"\"\"\n",
    "    print(\"Hello, Enginners...!\")\n",
    "\n",
    "\n",
    "#calling/executing a function.....\n",
    "greet()\n",
    "greet()\n",
    "#print(greet.__doc__)"
   ]
  },
  {
   "cell_type": "code",
   "execution_count": 8,
   "metadata": {},
   "outputs": [
    {
     "name": "stdout",
     "output_type": "stream",
     "text": [
      "***** Welcome to ALPHA Testing System ******\n",
      "\n",
      "Enter username ...admin\n",
      "Enter password ...pass123\n",
      "Successfully logined..!\n"
     ]
    }
   ],
   "source": [
    "#Example of function with arguments:-\n",
    "def validate(unm,pwd):\n",
    "    if unm == 'admin' and pwd == 'pass123':\n",
    "        print('Successfully logined..!')\n",
    "    else:\n",
    "        print('Login failed')\n",
    "        \n",
    "print('***** Welcome to ALPHA Testing System ******\\n')\n",
    "username = input('Enter username ...')\n",
    "password = input('Enter password ...')\n",
    "\n",
    "\n",
    "#calling parameterized function-\n",
    "validate(username,password)\n",
    "\n",
    "\n"
   ]
  },
  {
   "cell_type": "code",
   "execution_count": 9,
   "metadata": {},
   "outputs": [
    {
     "name": "stdout",
     "output_type": "stream",
     "text": [
      "Hello, Paul. Good morning!\n"
     ]
    }
   ],
   "source": [
    "def greet(name):\n",
    "\t\"\"\"This function greets to\n",
    "\tthe person passed in as\n",
    "\tparameter\"\"\"\n",
    "\tprint(\"Hello, \" + name + \". Good morning!\")\n",
    "\n",
    "greet('Paul')"
   ]
  },
  {
   "cell_type": "code",
   "execution_count": 11,
   "metadata": {},
   "outputs": [
    {
     "name": "stdout",
     "output_type": "stream",
     "text": [
      "***** Welcome to ALPHA Testing System ******\n",
      "\n",
      "Enter username ...admin\n",
      "Enter password ...pass123\n"
     ]
    },
    {
     "ename": "NameError",
     "evalue": "name 'msg' is not defined",
     "output_type": "error",
     "traceback": [
      "\u001b[1;31m---------------------------------------------------------------------------\u001b[0m",
      "\u001b[1;31mNameError\u001b[0m                                 Traceback (most recent call last)",
      "\u001b[1;32m<ipython-input-11-66c9b32cbd0a>\u001b[0m in \u001b[0;36m<module>\u001b[1;34m\u001b[0m\n\u001b[0;32m     16\u001b[0m \u001b[1;31m#calling parameterized function-\u001b[0m\u001b[1;33m\u001b[0m\u001b[1;33m\u001b[0m\u001b[1;33m\u001b[0m\u001b[0m\n\u001b[0;32m     17\u001b[0m \u001b[0mresult\u001b[0m  \u001b[1;33m=\u001b[0m \u001b[0mvalidate\u001b[0m\u001b[1;33m(\u001b[0m\u001b[0musername\u001b[0m\u001b[1;33m,\u001b[0m\u001b[0mpassword\u001b[0m\u001b[1;33m)\u001b[0m\u001b[1;33m\u001b[0m\u001b[1;33m\u001b[0m\u001b[0m\n\u001b[1;32m---> 18\u001b[1;33m \u001b[0mprint\u001b[0m\u001b[1;33m(\u001b[0m\u001b[0mmsg\u001b[0m\u001b[1;33m)\u001b[0m\u001b[1;33m\u001b[0m\u001b[1;33m\u001b[0m\u001b[0m\n\u001b[0m\u001b[0;32m     19\u001b[0m \u001b[1;32mif\u001b[0m \u001b[0mresult\u001b[0m \u001b[1;33m==\u001b[0m \u001b[1;34m'SUCCESS'\u001b[0m\u001b[1;33m:\u001b[0m\u001b[1;33m\u001b[0m\u001b[1;33m\u001b[0m\u001b[0m\n\u001b[0;32m     20\u001b[0m     \u001b[0mprint\u001b[0m\u001b[1;33m(\u001b[0m\u001b[1;34m'Login Successfully'\u001b[0m\u001b[1;33m)\u001b[0m\u001b[1;33m\u001b[0m\u001b[1;33m\u001b[0m\u001b[0m\n",
      "\u001b[1;31mNameError\u001b[0m: name 'msg' is not defined"
     ]
    }
   ],
   "source": [
    "#Example of function with arguments having return value:-\n",
    "def validate(unm,pwd):\n",
    "    msg = ''\n",
    "    if unm == 'admin' and pwd == 'pass123':\n",
    "        msg = 'SUCCESS'\n",
    "    else:\n",
    "        msg = 'Failed'\n",
    "        \n",
    "    return msg \n",
    "        \n",
    "print('***** Welcome to ALPHA Testing System ******\\n')\n",
    "username = input('Enter username ...')\n",
    "password = input('Enter password ...')\n",
    "\n",
    "\n",
    "#calling parameterized function-\n",
    "result  = validate(username,password)\n",
    "print(msg)\n",
    "if result == 'SUCCESS':\n",
    "    print('Login Successfully')\n",
    "else:\n",
    "    print(\"Invalid login details...!\")"
   ]
  },
  {
   "cell_type": "code",
   "execution_count": 13,
   "metadata": {},
   "outputs": [
    {
     "name": "stdout",
     "output_type": "stream",
     "text": [
      "Value outside function: 20\n"
     ]
    }
   ],
   "source": [
    "def my_func():\n",
    "\tx = 10\n",
    "\tprint(\"Value inside function:\",x)\n",
    "\n",
    "x = 20\n",
    "#my_func()\n",
    "print(\"Value outside function:\",x)\n"
   ]
  },
  {
   "cell_type": "code",
   "execution_count": 14,
   "metadata": {},
   "outputs": [
    {
     "name": "stdout",
     "output_type": "stream",
     "text": [
      "Hello Kate, Good morning!\n",
      "Hello Bruce, How do you do?\n"
     ]
    }
   ],
   "source": [
    "def greet(name, msg = \"Good morning!\"):\n",
    "   \"\"\"\n",
    "   This function greets to\n",
    "   the person with the\n",
    "   provided message.\n",
    "\n",
    "   If message is not provided,\n",
    "   it defaults to \"Good\n",
    "   morning!\"\n",
    "   \"\"\"\n",
    "\n",
    "   print(\"Hello\",name + ', ' + msg)\n",
    "\n",
    "greet(\"Kate\")\n",
    "\n",
    "greet(\"Bruce\",\"How do you do?\")"
   ]
  },
  {
   "cell_type": "code",
   "execution_count": 15,
   "metadata": {},
   "outputs": [
    {
     "name": "stdout",
     "output_type": "stream",
     "text": [
      "John\n",
      "Williams\n",
      "Allen\n",
      "Kelly\n"
     ]
    }
   ],
   "source": [
    "#arbitrary arguments\n",
    "def greet(*name):\n",
    "    for nm in name:\n",
    "        print(nm)\n",
    "    \n",
    "greet(\"John\",\"Williams\",\"Allen\",\"Kelly\")    "
   ]
  },
  {
   "cell_type": "code",
   "execution_count": 20,
   "metadata": {},
   "outputs": [
    {
     "name": "stdout",
     "output_type": "stream",
     "text": [
      "Enter a no. 0\n",
      "Factorial of  0  is  1\n"
     ]
    }
   ],
   "source": [
    "def cal_factorial(num):\n",
    "    \"\"\"This function is used to calculate the factorial of a given no.\"\"\"\n",
    "    if num == 1 or num == 0:\n",
    "        return 1\n",
    "    else:\n",
    "        return (num * cal_factorial(num-1))\n",
    "    \n",
    "n=int(input('Enter a no. '))    \n",
    "res = cal_factorial(n)\n",
    "print('Factorial of ',n,\" is \",res)"
   ]
  },
  {
   "cell_type": "code",
   "execution_count": 21,
   "metadata": {},
   "outputs": [
    {
     "name": "stdout",
     "output_type": "stream",
     "text": [
      "25\n"
     ]
    }
   ],
   "source": [
    "#Annonymous function or Lambda functions\n",
    "double  = lambda num : num*5\n",
    "\n",
    "print(double(5))"
   ]
  },
  {
   "cell_type": "code",
   "execution_count": null,
   "metadata": {},
   "outputs": [],
   "source": []
  }
 ],
 "metadata": {
  "kernelspec": {
   "display_name": "Python 3",
   "language": "python",
   "name": "python3"
  },
  "language_info": {
   "codemirror_mode": {
    "name": "ipython",
    "version": 3
   },
   "file_extension": ".py",
   "mimetype": "text/x-python",
   "name": "python",
   "nbconvert_exporter": "python",
   "pygments_lexer": "ipython3",
   "version": "3.7.4"
  }
 },
 "nbformat": 4,
 "nbformat_minor": 2
}
