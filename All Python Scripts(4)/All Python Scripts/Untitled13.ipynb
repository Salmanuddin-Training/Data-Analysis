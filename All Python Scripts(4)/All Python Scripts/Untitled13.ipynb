{
 "cells": [
  {
   "cell_type": "code",
   "execution_count": 2,
   "metadata": {},
   "outputs": [
    {
     "name": "stdout",
     "output_type": "stream",
     "text": [
      "File name is :  myfile.txt\n",
      "File mode    :  wb\n"
     ]
    }
   ],
   "source": [
    "#open a file\n",
    "\n",
    "fo = open(\"myfile.txt\",\"wb\")\n",
    "\n",
    "print(\"File name is : \",fo.name)\n",
    "print(\"File mode    : \",fo.mode)\n",
    "\n",
    "fo.close()"
   ]
  },
  {
   "cell_type": "code",
   "execution_count": 9,
   "metadata": {},
   "outputs": [
    {
     "name": "stdout",
     "output_type": "stream",
     "text": [
      "Data written successfully...!\n"
     ]
    }
   ],
   "source": [
    "#Writing data into a file-\n",
    "\n",
    "fwrite = open(\"testfile.txt\",\"w\")\n",
    "\n",
    "fwrite.write(\"We are performing File IO operstions in Python.\\n\")\n",
    "fwrite.write(\"Python is syntax less prog. language\")\n",
    "\n",
    "fwrite.close()\n",
    "print('Data written successfully...!')"
   ]
  },
  {
   "cell_type": "code",
   "execution_count": 5,
   "metadata": {},
   "outputs": [
    {
     "name": "stdout",
     "output_type": "stream",
     "text": [
      "We are performing File IO operstions in PythonPython is syntax less prog. language\n"
     ]
    }
   ],
   "source": [
    "# Reading data from a file\n",
    "\n",
    "fread = open(\"testfile.txt\",\"r\")\n",
    "\n",
    "print(fread.read())"
   ]
  },
  {
   "cell_type": "code",
   "execution_count": 6,
   "metadata": {},
   "outputs": [
    {
     "name": "stdout",
     "output_type": "stream",
     "text": [
      "We\n"
     ]
    }
   ],
   "source": [
    "# Reading data from a file upto specified characters\n",
    "\n",
    "fread = open(\"testfile.txt\",\"r\")\n",
    "\n",
    "print(fread.read(2))"
   ]
  },
  {
   "cell_type": "code",
   "execution_count": null,
   "metadata": {},
   "outputs": [],
   "source": [
    "# Reading data from a file\n",
    "\n",
    "fread = open(\"testfile.txt\",\"r\")\n",
    "\n",
    "print(fread.readline())\n",
    "print(fread.readline())"
   ]
  },
  {
   "cell_type": "code",
   "execution_count": 16,
   "metadata": {},
   "outputs": [
    {
     "name": "stdout",
     "output_type": "stream",
     "text": [
      "Enter student name:John\n",
      "Enter student course:Python\n",
      "Enter student marks:89\n",
      "Data written successfully...!\n"
     ]
    }
   ],
   "source": [
    "#Writing data into a file-\n",
    "\n",
    "fwrite = open(\"C:\\\\Users\\\\Rajesh\\\\Desktop\\\\python_demos\\student.txt\",\"x\")\n",
    "\n",
    "name = input('Enter student name:') \n",
    "course = input('Enter student course:')\n",
    "marks =int(input('Enter student marks:'))\n",
    "\n",
    "fwrite.write(name+\"\\n\")\n",
    "fwrite.write(course+\"\\n\")\n",
    "fwrite.write(str(marks))\n",
    "\n",
    "fwrite.close()\n",
    "print('Data written successfully...!')"
   ]
  },
  {
   "cell_type": "code",
   "execution_count": 4,
   "metadata": {},
   "outputs": [
    {
     "name": "stdout",
     "output_type": "stream",
     "text": [
      "John\n",
      "\n",
      "Python\n",
      "\n",
      "89\n"
     ]
    }
   ],
   "source": [
    "#Reading student details from a file\n",
    "\n",
    "fread = open(\"C:\\\\Users\\\\Rajesh\\\\Desktop\\\\python_demos\\student.txt\",\"r\")\n",
    "\n",
    "for line in fread.readlines():\n",
    "    print(line)\n",
    "\n",
    "\"\"\"line = fread.readline()\n",
    "while line :\n",
    "    print(line)\n",
    "    line = fread.readline()\n",
    "\n",
    "while 1:\n",
    "    x = fread.readline()\n",
    "    print(x)\n",
    "   \"\"\" \n",
    "fread.close()"
   ]
  },
  {
   "cell_type": "code",
   "execution_count": 7,
   "metadata": {},
   "outputs": [],
   "source": [
    "fwrite = open(\"C:\\\\Users\\\\Rajesh\\\\Desktop\\\\python_demos\\student.txt\",\"a\")\n",
    "\n",
    "fwrite.write(\"\\nPython\")\n",
    "\n",
    "fwrite.close()"
   ]
  },
  {
   "cell_type": "code",
   "execution_count": 8,
   "metadata": {},
   "outputs": [
    {
     "ename": "FileExistsError",
     "evalue": "[Errno 17] File exists: 'C:\\\\Users\\\\Rajesh\\\\Desktop\\\\python_demos\\\\student.txt'",
     "output_type": "error",
     "traceback": [
      "\u001b[1;31m---------------------------------------------------------------------------\u001b[0m",
      "\u001b[1;31mFileExistsError\u001b[0m                           Traceback (most recent call last)",
      "\u001b[1;32m<ipython-input-8-c09cad86ee13>\u001b[0m in \u001b[0;36m<module>\u001b[1;34m\u001b[0m\n\u001b[1;32m----> 1\u001b[1;33m \u001b[0mfwrite\u001b[0m \u001b[1;33m=\u001b[0m \u001b[0mopen\u001b[0m\u001b[1;33m(\u001b[0m\u001b[1;34m\"C:\\\\Users\\\\Rajesh\\\\Desktop\\\\python_demos\\student.txt\"\u001b[0m\u001b[1;33m,\u001b[0m\u001b[1;34m\"x\"\u001b[0m\u001b[1;33m)\u001b[0m\u001b[1;33m\u001b[0m\u001b[1;33m\u001b[0m\u001b[0m\n\u001b[0m",
      "\u001b[1;31mFileExistsError\u001b[0m: [Errno 17] File exists: 'C:\\\\Users\\\\Rajesh\\\\Desktop\\\\python_demos\\\\student.txt'"
     ]
    }
   ],
   "source": [
    "fwrite = open(\"C:\\\\Users\\\\Rajesh\\\\Desktop\\\\python_demos\\student.txt\",\"a+\")\n"
   ]
  },
  {
   "cell_type": "code",
   "execution_count": 33,
   "metadata": {},
   "outputs": [
    {
     "name": "stdout",
     "output_type": "stream",
     "text": [
      "Hello Python....!John\n",
      "\n",
      "Python\n"
     ]
    }
   ],
   "source": [
    "#using seek function:-\n",
    "\n",
    "fread = open(\"C:\\\\Users\\\\Rajesh\\\\Desktop\\\\python_demos\\student.txt\",\"r\")\n",
    "fread.seek(0)\n",
    "lines = fread.readlines()\n",
    "\n",
    "for line in lines:\n",
    "    print(line)\n",
    "\n",
    "#print(fread.tell())\n",
    "fread.close()\n"
   ]
  },
  {
   "cell_type": "code",
   "execution_count": 20,
   "metadata": {},
   "outputs": [
    {
     "name": "stdout",
     "output_type": "stream",
     "text": [
      "C:\\Users\\Rajesh\n"
     ]
    }
   ],
   "source": [
    "#Directory- in Python\n",
    "import os\n",
    "\n",
    "cwd  = os.getcwd()\n",
    "print(cwd)\n"
   ]
  },
  {
   "cell_type": "code",
   "execution_count": 23,
   "metadata": {},
   "outputs": [
    {
     "name": "stdout",
     "output_type": "stream",
     "text": [
      "c:\\temp_python\n"
     ]
    }
   ],
   "source": [
    "import os\n",
    "\n",
    "os.chdir('c:\\\\temp_python')\n",
    "cwd = os.getcwd()\n",
    "print(cwd)\n"
   ]
  },
  {
   "cell_type": "code",
   "execution_count": 3,
   "metadata": {
    "scrolled": true
   },
   "outputs": [
    {
     "name": "stdout",
     "output_type": "stream",
     "text": [
      "for Windows specify drive letter :d\n",
      "d:\\temp\\python\n",
      "('d:\\\\temp', 'python')\n",
      "('temp', 'python')\n"
     ]
    }
   ],
   "source": [
    "import os\n",
    "\n",
    "drive_letter = input('for Windows specify drive letter :')\n",
    "drive_path = drive_letter+\":\\\\\"\n",
    "\n",
    "fp = os.path.join('temp','python')\n",
    "full_path  = os.path.join(drive_path,fp)\n",
    "print(full_path) #temp\\python-in windows\n",
    "\n",
    "print(os.path.split(full_path))\n",
    "\n",
    "pc = os.path.split(fp)\n",
    "print(pc) # ('temp','python')"
   ]
  },
  {
   "cell_type": "code",
   "execution_count": 34,
   "metadata": {},
   "outputs": [],
   "source": [
    "fw = open(\"C:\\\\Users\\\\Rajesh\\\\Desktop\\\\python_demos\\student.txt\",\"w\")\n",
    "fw.write(\"Hello\")\n",
    "fw.close()"
   ]
  },
  {
   "cell_type": "code",
   "execution_count": 35,
   "metadata": {},
   "outputs": [],
   "source": [
    "fw = open(\"C:\\\\Users\\\\Rajesh\\\\Desktop\\\\python_demos\\student.txt\",\"a\")\n",
    "fw.write(\"Welcome\")\n",
    "fw.close()"
   ]
  },
  {
   "cell_type": "code",
   "execution_count": 48,
   "metadata": {},
   "outputs": [
    {
     "ename": "ValueError",
     "evalue": "must have exactly one of create/read/write/append mode",
     "output_type": "error",
     "traceback": [
      "\u001b[1;31m---------------------------------------------------------------------------\u001b[0m",
      "\u001b[1;31mValueError\u001b[0m                                Traceback (most recent call last)",
      "\u001b[1;32m<ipython-input-48-a654a35272a9>\u001b[0m in \u001b[0;36m<module>\u001b[1;34m\u001b[0m\n\u001b[1;32m----> 1\u001b[1;33m \u001b[0mfw\u001b[0m \u001b[1;33m=\u001b[0m \u001b[0mopen\u001b[0m\u001b[1;33m(\u001b[0m\u001b[1;34m\"C:\\\\Users\\\\Rajesh\\\\Desktop\\\\python_demos\\student.txt\"\u001b[0m\u001b[1;33m,\u001b[0m\u001b[1;34m\"rw\"\u001b[0m\u001b[1;33m)\u001b[0m\u001b[1;33m\u001b[0m\u001b[1;33m\u001b[0m\u001b[0m\n\u001b[0m\u001b[0;32m      2\u001b[0m \u001b[0mfw\u001b[0m\u001b[1;33m.\u001b[0m\u001b[0mseek\u001b[0m\u001b[1;33m(\u001b[0m\u001b[1;36m6\u001b[0m\u001b[1;33m,\u001b[0m\u001b[1;36m0\u001b[0m\u001b[1;33m)\u001b[0m\u001b[1;33m\u001b[0m\u001b[1;33m\u001b[0m\u001b[0m\n\u001b[0;32m      3\u001b[0m \u001b[0mfw\u001b[0m\u001b[1;33m.\u001b[0m\u001b[0mwrite\u001b[0m\u001b[1;33m(\u001b[0m\u001b[1;34m'Python'\u001b[0m\u001b[1;33m)\u001b[0m\u001b[1;33m\u001b[0m\u001b[1;33m\u001b[0m\u001b[0m\n\u001b[0;32m      4\u001b[0m \u001b[0mfw\u001b[0m\u001b[1;33m.\u001b[0m\u001b[0mclose\u001b[0m\u001b[1;33m(\u001b[0m\u001b[1;33m)\u001b[0m\u001b[1;33m\u001b[0m\u001b[1;33m\u001b[0m\u001b[0m\n",
      "\u001b[1;31mValueError\u001b[0m: must have exactly one of create/read/write/append mode"
     ]
    }
   ],
   "source": [
    "fw = open(\"C:\\\\Users\\\\Rajesh\\\\Desktop\\\\python_demos\\student.txt\",\"rw\")\n",
    "fw.seek(6,0)\n",
    "fw.write('Python')\n",
    "fw.close()"
   ]
  },
  {
   "cell_type": "code",
   "execution_count": 77,
   "metadata": {},
   "outputs": [],
   "source": [
    "# where X - is the position\n",
    "x = 5\n",
    "fr = open(\"C:\\\\Users\\\\Rajesh\\\\Desktop\\\\python_demos\\student.txt\",\"r\")\n",
    "contents = fr.readlines() #data inside contents in list\n",
    "fr.close()\n",
    "contents = \"\".join(contents)\n",
    "contents = contents[ : x] + text + contents[x : ] \n",
    "                  \n",
    "fw = open(\"C:\\\\Users\\\\Rajesh\\\\Desktop\\\\python_demos\\student.txt\",\"w\")\n",
    "fw.seek(0)\n",
    "fw.write(contents)\n",
    "fw.close()"
   ]
  },
  {
   "cell_type": "code",
   "execution_count": 69,
   "metadata": {},
   "outputs": [
    {
     "name": "stdout",
     "output_type": "stream",
     "text": [
      "The original string : geeksgeeks\n",
      "The add string : for\n",
      "The string after performing addition : geeksforgeeks\n"
     ]
    }
   ],
   "source": [
    "\n",
    "# Python3 code to demonstrate \n",
    "# Add substring at specific index \n",
    "# using list slicing \n",
    "  \n",
    "# initializing string \n",
    "test_string = 'geeksgeeks'\n",
    "  \n",
    "# initializing add_string \n",
    "add_string = \"for\"\n",
    "  \n",
    "# printing original string   \n",
    "print(\"The original string : \" + test_string) \n",
    "  \n",
    "# printing add string   \n",
    "print(\"The add string : \" + add_string) \n",
    "  \n",
    "# initializing N  \n",
    "N = 5\n",
    "  \n",
    "# using list slicing \n",
    "# Add substring at specific index  \n",
    "res = test_string[ : N] + add_string + test_string[N : ] \n",
    "      \n",
    "# print result \n",
    "print(\"The string after performing addition : \" + str(res)) \n"
   ]
  },
  {
   "cell_type": "code",
   "execution_count": 34,
   "metadata": {},
   "outputs": [
    {
     "name": "stdout",
     "output_type": "stream",
     "text": [
      "Enter path :c:\\temp_python\n",
      "c:\\temp_python\n",
      "1. Notepad\n",
      "2.Excel\n",
      "3.Images3\n",
      "77mbps.png\n"
     ]
    }
   ],
   "source": [
    "import os\n",
    "\n",
    "path = input('Enter path :')\n",
    "os.chdir(path)\n",
    "cwd  = os.getcwd()\n",
    "print(cwd)\n",
    "\n",
    "choice =int(input('1. Notepad\\n2.Excel\\n3.Images'))\n",
    "\n",
    "list_dir = os.listdir(cwd)\n",
    "\n",
    "for i in range(len(list_dir)):\n",
    "    x = list_dir[i].split(\".\")\n",
    "    if len(x) == 1:\n",
    "        continue\n",
    "    if x[1] == 'txt' and choice == 1:\n",
    "        print(list_dir[i])\n",
    "    elif (x[1] =='png' or x[i] == 'jpeg') and choice == 3:   \n",
    "        print(list_dir[i])\n",
    "    elif x[1] == 'xlsx' and choice ==2:\n",
    "        print(list_dir[i])\n",
    "\n",
    "    \n",
    "        \n",
    "  \n",
    "   \n",
    "\n",
    "\n"
   ]
  },
  {
   "cell_type": "code",
   "execution_count": 36,
   "metadata": {},
   "outputs": [
    {
     "name": "stdout",
     "output_type": "stream",
     "text": [
      "Enter the folder name you want to create :django\n",
      "success\n"
     ]
    }
   ],
   "source": [
    "import os\n",
    "\n",
    "fpath = \"c:\\\\temp_python\"\n",
    "dir_name = input('Enter the folder name you want to create :')\n",
    "fpath = os.path.join(fpath,dir_name)\n",
    "os.mkdir(fpath)\n",
    "print(\"success\")\n"
   ]
  },
  {
   "cell_type": "code",
   "execution_count": 41,
   "metadata": {},
   "outputs": [
    {
     "name": "stdout",
     "output_type": "stream",
     "text": [
      "File does niot exists...!!!\n"
     ]
    }
   ],
   "source": [
    "# removing a file:-\n",
    "import os\n",
    "os.chdir(\"c:\\\\temp_python\")\n",
    "if os.path.exists(\"bb.txt\"):\n",
    "    os.remove(\"bb.txt\")\n",
    "    print(\"file deleted successfully...!\")\n",
    "else:\n",
    "    print('File does not exists...!!!')  \n",
    "    \n"
   ]
  },
  {
   "cell_type": "code",
   "execution_count": 47,
   "metadata": {},
   "outputs": [
    {
     "name": "stdout",
     "output_type": "stream",
     "text": [
      "Folder deleted successfully...!\n"
     ]
    }
   ],
   "source": [
    "#remove a directory:-\n",
    "import os\n",
    "import shutil\n",
    "os.chdir(\"c:\\\\temp_python\")\n",
    "#os.rmdir(\"myfolder\")\n",
    "shutil.rmtree(\"myfolder\")\n",
    "print(\"Folder deleted successfully...!\")"
   ]
  },
  {
   "cell_type": "code",
   "execution_count": null,
   "metadata": {},
   "outputs": [],
   "source": []
  }
 ],
 "metadata": {
  "kernelspec": {
   "display_name": "Python 3",
   "language": "python",
   "name": "python3"
  },
  "language_info": {
   "codemirror_mode": {
    "name": "ipython",
    "version": 3
   },
   "file_extension": ".py",
   "mimetype": "text/x-python",
   "name": "python",
   "nbconvert_exporter": "python",
   "pygments_lexer": "ipython3",
   "version": "3.7.4"
  }
 },
 "nbformat": 4,
 "nbformat_minor": 2
}
