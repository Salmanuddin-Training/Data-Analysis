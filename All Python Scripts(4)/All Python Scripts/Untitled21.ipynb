{
 "cells": [
  {
   "cell_type": "code",
   "execution_count": 3,
   "metadata": {},
   "outputs": [
    {
     "name": "stdout",
     "output_type": "stream",
     "text": [
      "2025247932488\n"
     ]
    }
   ],
   "source": [
    "My_tuple =()\n",
    "print(id(my_tuple))"
   ]
  },
  {
   "cell_type": "code",
   "execution_count": 4,
   "metadata": {},
   "outputs": [
    {
     "name": "stdout",
     "output_type": "stream",
     "text": [
      "2025247932488\n"
     ]
    }
   ],
   "source": [
    "My_tuple=()\n",
    "print(id(my_tuple))"
   ]
  },
  {
   "cell_type": "code",
   "execution_count": 8,
   "metadata": {},
   "outputs": [
    {
     "name": "stdout",
     "output_type": "stream",
     "text": [
      "2025247932488\n",
      "140709405696400\n",
      "140709405696432\n",
      "140709405696464\n"
     ]
    }
   ],
   "source": [
    "My_tuple = (1,2,3)\n",
    "print(id (my_tuple))\n",
    "print (id(1))\n",
    "print(id(2))\n",
    "print (id(3))\n"
   ]
  },
  {
   "cell_type": "code",
   "execution_count": 9,
   "metadata": {},
   "outputs": [
    {
     "name": "stdout",
     "output_type": "stream",
     "text": [
      "2025247932488\n"
     ]
    }
   ],
   "source": [
    "my_tuple = ()\n",
    "print(id(my_tuple))"
   ]
  },
  {
   "cell_type": "code",
   "execution_count": 13,
   "metadata": {},
   "outputs": [
    {
     "name": "stdout",
     "output_type": "stream",
     "text": [
      "1\n"
     ]
    }
   ],
   "source": [
    "my_list = ['A', 8, 'c', 'b']\n",
    "\n",
    "# Output: 1\n",
    "print(my_list.index(8))"
   ]
  },
  {
   "cell_type": "code",
   "execution_count": null,
   "metadata": {},
   "outputs": [],
   "source": []
  }
 ],
 "metadata": {
  "kernelspec": {
   "display_name": "Python 3",
   "language": "python",
   "name": "python3"
  }
 },
 "nbformat": 4,
 "nbformat_minor": 2
}
