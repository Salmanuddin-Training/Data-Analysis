{
 "cells": [
  {
   "cell_type": "code",
   "execution_count": null,
   "metadata": {},
   "outputs": [],
   "source": [
    "# class creation:-\n",
    "class myclass:\n",
    "    '''doc string : this is empty class(myclass) in Python'''\n",
    "    pass\n"
   ]
  },
  {
   "cell_type": "code",
   "execution_count": null,
   "metadata": {},
   "outputs": [],
   "source": [
    "#class Employee\n",
    "class Employee:\n",
    "    '''doc string: This class deals with the employee details.'''\n",
    "    pass\n",
    "#e1 = Employee()\n",
    "#e2 = Employee()"
   ]
  },
  {
   "cell_type": "code",
   "execution_count": null,
   "metadata": {},
   "outputs": [],
   "source": [
    "# self is used to refer the instance of a class\n",
    "class Employee:\n",
    "    count=0 \n",
    "    name='Williams'\n",
    "    \n",
    "    def __init__(self): \n",
    "        print('Contructor runs......')\n",
    "        self.name='John' \n",
    "        self.salary=45000 \n",
    "        \n",
    "    def displayDet(self):\n",
    "        print('user-defined method runs...')\n",
    "        print(self.name, self.salary)\n",
    "        \n",
    "e1 = Employee() \n",
    "e1.displayDet() \n",
    "print(\"Class attribute :\",Employee.name) \n",
    "print(\"Instance atribute : \", e1.name)\n"
   ]
  },
  {
   "cell_type": "code",
   "execution_count": null,
   "metadata": {},
   "outputs": [],
   "source": [
    "# self is used to refer the instance of a class\n",
    "class Employee:\n",
    "    count=0 #class attribute\n",
    "    \n",
    "    def __init__(self): #constructor\n",
    "        print('Contructor runs......')\n",
    "        Employee.count = Employee.count+1\n",
    "        \n",
    "        \n",
    "e1 = Employee() #object/instance creation...\n",
    "e2 = Employee()\n",
    "\n",
    "\n",
    "print(\"total Employee :\",Employee.count)"
   ]
  },
  {
   "cell_type": "code",
   "execution_count": null,
   "metadata": {},
   "outputs": [],
   "source": [
    "class Student:\n",
    "    def __init__(self,name,course):\n",
    "        self.name = name\n",
    "        self.course=course\n",
    "        \n",
    "s1 = Student(\"Smith\",\"Python\")\n",
    "\n",
    "print(s1.name,s1.course)"
   ]
  },
  {
   "cell_type": "code",
   "execution_count": null,
   "metadata": {},
   "outputs": [],
   "source": [
    "class Student:\n",
    "    def __init__(self,name,course=\"C++\"):\n",
    "        self.name = name\n",
    "        self.course=course\n",
    "        \n",
    "s1 = Student(\"Smith\")\n",
    "\n",
    "print(s1.name,s1.course)"
   ]
  },
  {
   "cell_type": "code",
   "execution_count": null,
   "metadata": {},
   "outputs": [],
   "source": [
    "# public attributes\n",
    "class Student:\n",
    "    def __init__(self,name,marks):\n",
    "        self.name=name\n",
    "        self.marks=marks\n",
    "        \n",
    "s1 = Student(\"Williams\",89)\n",
    "s1.marks\n",
    "s1.marks = 70\n",
    "s1.marks"
   ]
  },
  {
   "cell_type": "code",
   "execution_count": null,
   "metadata": {},
   "outputs": [],
   "source": [
    "# protected attributes\n",
    "class Student:\n",
    "    def __init__(self,name,marks):\n",
    "        self._name=name #protected attribute\n",
    "        self._marks=marks #protected attribute\n",
    "        \n",
    "s1 = Student(\"Williams\",89)\n",
    "s1._marks\n",
    "s1._marks = 70\n",
    "s1._marks"
   ]
  },
  {
   "cell_type": "code",
   "execution_count": null,
   "metadata": {},
   "outputs": [],
   "source": [
    "# private attributes\n",
    "class Student:\n",
    "    def __init__(self,name,marks):\n",
    "        self.__name=name #private attribute\n",
    "        self.__marks=marks #private attribute\n",
    "        \n",
    "s1 = Student(\"Williams\",89)\n",
    "\n",
    "#object._class__variable\n",
    "s1._Student__marks\n"
   ]
  },
  {
   "cell_type": "code",
   "execution_count": null,
   "metadata": {},
   "outputs": [],
   "source": [
    "#property() function\n",
    "class Student:\n",
    "    def __init__(self,course=\"Python\"):\n",
    "        self.__course=course\n",
    "    \n",
    "    //setter\n",
    "    def setCourse(self,course):\n",
    "        self.__course=course\n",
    "    \n",
    "    //getter\n",
    "    def getCourse(self):\n",
    "        return self.__course\n",
    "  \n",
    "s1 = Student()\n",
    "s1.getCourse() \n",
    "\n",
    "s1.setCourse(\"C++\")\n",
    "s1.getCourse()"
   ]
  },
  {
   "cell_type": "code",
   "execution_count": null,
   "metadata": {},
   "outputs": [],
   "source": [
    "#property() function\n",
    "class Student:\n",
    "    def __init__(self):\n",
    "        self.__name=''\n",
    "        \n",
    "    def setname(self,name):\n",
    "        print('setname() runs.....')\n",
    "        self.__name=name\n",
    "    \n",
    "    def getname(self):\n",
    "        print('getname() runs.....')\n",
    "        return self.__name\n",
    "    \n",
    "    def delname(self):\n",
    "        print('delname() runs.....')\n",
    "        del self.__name\n",
    "    \n",
    "    name=property(getname, setname)"
   ]
  },
  {
   "cell_type": "code",
   "execution_count": null,
   "metadata": {},
   "outputs": [],
   "source": [
    "from student import Student\n",
    "s1 = Student()\n",
    "s1.name = \"Allen\""
   ]
  },
  {
   "cell_type": "code",
   "execution_count": null,
   "metadata": {},
   "outputs": [],
   "source": [
    "help(\"modules\")"
   ]
  },
  {
   "cell_type": "code",
   "execution_count": 1,
   "metadata": {},
   "outputs": [
    {
     "ename": "SyntaxError",
     "evalue": "invalid syntax (<ipython-input-1-a9c6e6244917>, line 2)",
     "output_type": "error",
     "traceback": [
      "\u001b[1;36m  File \u001b[1;32m\"<ipython-input-1-a9c6e6244917>\"\u001b[1;36m, line \u001b[1;32m2\u001b[0m\n\u001b[1;33m    def mydecoratorfun(fun1)\u001b[0m\n\u001b[1;37m                            ^\u001b[0m\n\u001b[1;31mSyntaxError\u001b[0m\u001b[1;31m:\u001b[0m invalid syntax\n"
     ]
    }
   ],
   "source": [
    "#Decorator function\n",
    "def mydecoratorfun(fun1)\n",
    "    def inner_fun():\n",
    "        fun1()\n",
    "        return inner_fun"
   ]
  },
  {
   "cell_type": "code",
   "execution_count": 4,
   "metadata": {},
   "outputs": [
    {
     "name": "stdout",
     "output_type": "stream",
     "text": [
      "Hi :  Hello Python\n",
      "welcome\n"
     ]
    }
   ],
   "source": [
    "def display(str):\n",
    "    print(str)\n",
    "    \n",
    "def displaydecorator(fn):\n",
    "    def display_inner(str):\n",
    "        print('Hi : ', end=\" \")\n",
    "        fn(str)\n",
    "    return display_inner\n",
    "\n",
    "out = displaydecorator(display)\n",
    "out('Hello Python')\n",
    "\n",
    "display('welcome')"
   ]
  },
  {
   "cell_type": "code",
   "execution_count": 5,
   "metadata": {},
   "outputs": [
    {
     "name": "stdout",
     "output_type": "stream",
     "text": [
      "Hi :  Hello Python\n"
     ]
    }
   ],
   "source": [
    "@displaydecorator\n",
    "def display(str):\n",
    "    print(str)\n",
    "    \n",
    "def displaydecorator(fn):\n",
    "    def display_inner(str):\n",
    "        print('Hi : ', end=\" \")\n",
    "        fn(str)\n",
    "    return display_inner\n",
    "\n",
    "display('Hello Python')"
   ]
  },
  {
   "cell_type": "code",
   "execution_count": 9,
   "metadata": {},
   "outputs": [
    {
     "name": "stdout",
     "output_type": "stream",
     "text": [
      "deleting.....\n"
     ]
    },
    {
     "ename": "AttributeError",
     "evalue": "'Student' object has no attribute '_Student__name'",
     "output_type": "error",
     "traceback": [
      "\u001b[1;31m---------------------------------------------------------------------------\u001b[0m",
      "\u001b[1;31mAttributeError\u001b[0m                            Traceback (most recent call last)",
      "\u001b[1;32m<ipython-input-9-2da290cafd4f>\u001b[0m in \u001b[0;36m<module>\u001b[1;34m\u001b[0m\n\u001b[0;32m     20\u001b[0m \u001b[0ms\u001b[0m\u001b[1;33m.\u001b[0m\u001b[0mname\u001b[0m\u001b[1;33m\u001b[0m\u001b[1;33m\u001b[0m\u001b[0m\n\u001b[0;32m     21\u001b[0m \u001b[1;32mdel\u001b[0m \u001b[0ms\u001b[0m\u001b[1;33m.\u001b[0m\u001b[0mname\u001b[0m\u001b[1;33m\u001b[0m\u001b[1;33m\u001b[0m\u001b[0m\n\u001b[1;32m---> 22\u001b[1;33m \u001b[0ms\u001b[0m\u001b[1;33m.\u001b[0m\u001b[0mname\u001b[0m\u001b[1;33m\u001b[0m\u001b[1;33m\u001b[0m\u001b[0m\n\u001b[0m",
      "\u001b[1;32m<ipython-input-9-2da290cafd4f>\u001b[0m in \u001b[0;36mname\u001b[1;34m(self)\u001b[0m\n\u001b[0;32m      5\u001b[0m     \u001b[1;33m@\u001b[0m\u001b[0mproperty\u001b[0m\u001b[1;33m\u001b[0m\u001b[1;33m\u001b[0m\u001b[0m\n\u001b[0;32m      6\u001b[0m     \u001b[1;32mdef\u001b[0m \u001b[0mname\u001b[0m\u001b[1;33m(\u001b[0m\u001b[0mself\u001b[0m\u001b[1;33m)\u001b[0m\u001b[1;33m:\u001b[0m\u001b[1;33m\u001b[0m\u001b[1;33m\u001b[0m\u001b[0m\n\u001b[1;32m----> 7\u001b[1;33m         \u001b[1;32mreturn\u001b[0m \u001b[0mself\u001b[0m\u001b[1;33m.\u001b[0m\u001b[0m__name\u001b[0m\u001b[1;33m\u001b[0m\u001b[1;33m\u001b[0m\u001b[0m\n\u001b[0m\u001b[0;32m      8\u001b[0m \u001b[1;33m\u001b[0m\u001b[0m\n\u001b[0;32m      9\u001b[0m     \u001b[1;33m@\u001b[0m\u001b[0mname\u001b[0m\u001b[1;33m.\u001b[0m\u001b[0msetter\u001b[0m\u001b[1;33m\u001b[0m\u001b[1;33m\u001b[0m\u001b[0m\n",
      "\u001b[1;31mAttributeError\u001b[0m: 'Student' object has no attribute '_Student__name'"
     ]
    }
   ],
   "source": [
    "class Student:\n",
    "    def __init__(self):\n",
    "        self.__name=''\n",
    "        \n",
    "    @property \n",
    "    def name(self):\n",
    "        return self.__name\n",
    "    \n",
    "    @name.setter\n",
    "    def name(self,value):\n",
    "        self.__name=value\n",
    "        \n",
    "    @name.deleter\n",
    "    def name(self):\n",
    "        print('deleting.....')\n",
    "        del self.__name\n",
    "\n",
    "s = Student()\n",
    "s.name='Allen'\n",
    "s.name\n",
    "del s.name\n",
    "s.name"
   ]
  },
  {
   "cell_type": "code",
   "execution_count": null,
   "metadata": {},
   "outputs": [],
   "source": []
  }
 ],
 "metadata": {
  "kernelspec": {
   "display_name": "Python 3",
   "language": "python",
   "name": "python3"
  },
  "language_info": {
   "codemirror_mode": {
    "name": "ipython",
    "version": 3
   },
   "file_extension": ".py",
   "mimetype": "text/x-python",
   "name": "python",
   "nbconvert_exporter": "python",
   "pygments_lexer": "ipython3",
   "version": "3.7.4"
  }
 },
 "nbformat": 4,
 "nbformat_minor": 2
}
