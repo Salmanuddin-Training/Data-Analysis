{
 "cells": [
  {
   "cell_type": "code",
   "execution_count": 1,
   "metadata": {},
   "outputs": [],
   "source": [
    "#Storing a data to an excel file using python\n",
    "import xlwt\n",
    "from xlwt import Workbook\n",
    "\n",
    "#Workbook creation\n",
    "wb = Workbook()\n",
    "\n",
    "# adding sheet into workbook\n",
    "sheet1 = wb.add_sheet('Course Details')\n",
    "\n",
    "#apply style\n",
    "style = xlwt.easyxf('font: bold 1,color red;')\n",
    "style1 = xlwt.easyxf('font: color blue;')\n",
    "\n",
    "\n",
    "\n",
    "\n",
    "#writing data into sheet1\n",
    "\n",
    "sheet1.write(0,0,'Course Name',style)\n",
    "sheet1.write(1,0,'C Programming',style1)\n",
    "sheet1.write(2,0,'C++',style1)\n",
    "sheet1.write(3,0,'JAVA',style1)\n",
    "sheet1.write(4,0,'PYTHON',style1)\n",
    "\n",
    "sheet1.write(0,1,'Course Duration',style)\n",
    "sheet1.write(1,1,'20 hrs',style1)\n",
    "sheet1.write(2,1,'20 hrs',style1)\n",
    "sheet1.write(3,1,'40 hrs',style1)\n",
    "sheet1.write(4,1,'40 hrs',style1)\n",
    "\n",
    "wb.save('C:/Users/Rajesh/Desktop/python_demos/coursedet.xls')\n"
   ]
  },
  {
   "cell_type": "code",
   "execution_count": null,
   "metadata": {},
   "outputs": [],
   "source": [
    "#Storing a data to an excel file using python\n",
    "import xlsxwriter\n",
    "\n",
    "#Workbook creation\n",
    "wb = xlsxwriter.Workbook('C:/Users/Rajesh/Desktop/python_demos/course.xls')\n",
    "\n",
    "# adding sheet into workbook\n",
    "sheet1 = wb.add_worksheet('course')\n",
    "\n",
    "#writing data into sheet1\n",
    "\n",
    "sheet1.write('A1','SID')\n",
    "sheet1.write('B1','Name')\n",
    "sheet1.write('C1','Course')\n",
    "sheet1.write('D1','Duration')\n",
    "\n",
    "wb.close()"
   ]
  },
  {
   "cell_type": "code",
   "execution_count": 5,
   "metadata": {},
   "outputs": [],
   "source": [
    "#Storing a data to an excel file using python\n",
    "import xlwt\n",
    "from xlwt import Workbook\n",
    "\n",
    "#Workbook creation\n",
    "wb = Workbook()\n",
    "\n",
    "# adding sheet into workbook\n",
    "sheet1 = wb.add_sheet('Course Details')\n",
    "\n",
    "#apply style\n",
    "style = xlwt.easyxf('font: bold 1,color green;')\n",
    "\n",
    "\n",
    "row = 0\n",
    "column = 0\n",
    "content = [\"C\",\"C++\",\"JAVA\",\"Python\"]\n",
    "\n",
    "#writing data into sheet1 by using loop\n",
    "\n",
    "for item in content:\n",
    "    #write operation\n",
    "    sheet1.write(row,column,item,style)\n",
    "    row += 1\n",
    "\n",
    "wb.save('C:/Users/Rajesh/Desktop/python_demos/course2.xls')"
   ]
  },
  {
   "cell_type": "code",
   "execution_count": 17,
   "metadata": {},
   "outputs": [],
   "source": [
    "#import all classes fromopenpyxl\n",
    "from openpyxl import *\n",
    "\n",
    "#loading existing excel into a Workbook object\n",
    "wb = load_workbook(\"C:/Users/Rajesh/Desktop/python_demos/course2.xlsx\")\n",
    "\n",
    "#create a Worksheet variable 'ws' containimg the worksheet with name 'Course Details'\n",
    "ws = wb[\"Course Details\"]\n",
    "\n",
    "#Write data into excel cell\n",
    "wcell1 = ws.cell(4,1)\n",
    "wcell1.value=\"Django\"\n",
    "\n",
    "wcell2 = ws.cell(5,1)\n",
    "wcell2.value=\"Pyramid\"\n",
    "\n",
    "wb.save('C:/Users/Rajesh/Desktop/python_demos/course4.xls')"
   ]
  },
  {
   "cell_type": "code",
   "execution_count": null,
   "metadata": {},
   "outputs": [],
   "source": []
  }
 ],
 "metadata": {
  "kernelspec": {
   "display_name": "Python 3",
   "language": "python",
   "name": "python3"
  },
  "language_info": {
   "codemirror_mode": {
    "name": "ipython",
    "version": 3
   },
   "file_extension": ".py",
   "mimetype": "text/x-python",
   "name": "python",
   "nbconvert_exporter": "python",
   "pygments_lexer": "ipython3",
   "version": "3.7.4"
  }
 },
 "nbformat": 4,
 "nbformat_minor": 2
}
