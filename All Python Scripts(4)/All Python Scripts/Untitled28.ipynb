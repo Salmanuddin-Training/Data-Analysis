{
 "cells": [
  {
   "cell_type": "code",
   "execution_count": 1,
   "metadata": {},
   "outputs": [],
   "source": [
    "#property() function\n",
    "class Student:\n",
    "    def __init__(self):\n",
    "        self.__name=''\n",
    "        \n",
    "    def setname(self,name):\n",
    "        print('setname() runs.....')\n",
    "        self.__name=name\n",
    "    \n",
    "    def getname(self):\n",
    "        print('getname() runs.....')\n",
    "        return self.__name\n",
    "    \n",
    "    def delname(self):\n",
    "        print('delname() runs.....')\n",
    "        del self.__name\n",
    "    \n",
    "    name=property(getname, setname)"
   ]
  },
  {
   "cell_type": "code",
   "execution_count": 2,
   "metadata": {},
   "outputs": [
    {
     "name": "stdout",
     "output_type": "stream",
     "text": [
      "setter\n",
      "delName() func is called.\n"
     ]
    }
   ],
   "source": [
    "class Student:\n",
    "    def __init__(self):\n",
    "        self.__name = \"\"\n",
    "    @property\n",
    "    def name(self):\n",
    "        (\"getter\")\n",
    "        return self.__name\n",
    "    @name.setter\n",
    "    def name(self,value):\n",
    "        print(\"setter\")\n",
    "        self.__name=value\n",
    "    @name.deleter\n",
    "    def name(self):\n",
    "        print(\"delName() func is called.\")\n",
    "        del self.__name\n",
    "s1 = Student()\n",
    "s1.name = \"ankit\"\n",
    "s1.name\n",
    "del s1.name"
   ]
  },
  {
   "cell_type": "code",
   "execution_count": 6,
   "metadata": {},
   "outputs": [
    {
     "name": "stdout",
     "output_type": "stream",
     "text": [
      "2\n",
      "Total employees are :  2\n"
     ]
    }
   ],
   "source": [
    "class Employee:\n",
    "    totalemp=0\n",
    "    def __init__(self):\n",
    "        Employee.totalemp += 1\n",
    "        \n",
    "    @classmethod\n",
    "    def showempcount(cls):\n",
    "        print(\"Total employees are : \",cls.totalemp)\n",
    "\n",
    "e1 = Employee()\n",
    "e2 = Employee()\n",
    "\n",
    "Employee.showempcount()\n"
   ]
  },
  {
   "cell_type": "code",
   "execution_count": 9,
   "metadata": {},
   "outputs": [
    {
     "name": "stdout",
     "output_type": "stream",
     "text": [
      "Python in Syntax less prog. language.\n"
     ]
    }
   ],
   "source": [
    "class Employee:\n",
    "    #@staticmethod\n",
    "    def hello():\n",
    "        print(\"Python in Syntax less prog. language.\")\n",
    "        \n",
    "Employee.hello()\n"
   ]
  },
  {
   "cell_type": "code",
   "execution_count": 4,
   "metadata": {},
   "outputs": [
    {
     "name": "stdout",
     "output_type": "stream",
     "text": [
      "Hello\n"
     ]
    }
   ],
   "source": [
    "class AA:\n",
    " def hello():\n",
    "        print(\"Hello\")\n",
    "\n",
    "AA.hello()"
   ]
  },
  {
   "cell_type": "code",
   "execution_count": 5,
   "metadata": {},
   "outputs": [
    {
     "name": "stdout",
     "output_type": "stream",
     "text": [
      "output: output: hello\n"
     ]
    }
   ],
   "source": [
    "def displaydecorator(fn):\n",
    "    def display_inner(str):\n",
    "        print(\"output: \",end='')\n",
    "        fn(str)\n",
    "    return display_inner\n",
    "\n",
    "@displaydecorator\n",
    "def display(str):\n",
    "    print(str)\n",
    "    \n",
    "aa = displaydecorator(display)\n",
    "aa('hello')"
   ]
  },
  {
   "cell_type": "code",
   "execution_count": 4,
   "metadata": {},
   "outputs": [
    {
     "name": "stdout",
     "output_type": "stream",
     "text": [
      "output: hello python\n"
     ]
    }
   ],
   "source": [
    "def display(str):\n",
    "    print(str)\n",
    "def display_dec(fn):\n",
    "    def display_inner(str):\n",
    "        print(\"output: \",end='')\n",
    "        fn(str)\n",
    "    return display_inner\n",
    "\n",
    "out = display_dec(display)\n",
    "out('hello python')"
   ]
  },
  {
   "cell_type": "code",
   "execution_count": null,
   "metadata": {},
   "outputs": [],
   "source": []
  }
 ],
 "metadata": {
  "kernelspec": {
   "display_name": "Python 3",
   "language": "python",
   "name": "python3"
  },
  "language_info": {
   "codemirror_mode": {
    "name": "ipython",
    "version": 3
   },
   "file_extension": ".py",
   "mimetype": "text/x-python",
   "name": "python",
   "nbconvert_exporter": "python",
   "pygments_lexer": "ipython3",
   "version": "3.7.4"
  }
 },
 "nbformat": 4,
 "nbformat_minor": 2
}
