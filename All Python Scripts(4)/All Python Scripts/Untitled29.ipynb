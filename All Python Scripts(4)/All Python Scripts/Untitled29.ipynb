{
 "cells": [
  {
   "cell_type": "code",
   "execution_count": 16,
   "metadata": {},
   "outputs": [
    {
     "name": "stdout",
     "output_type": "stream",
     "text": [
      "Employee  :  John   Hamilton USA\n",
      "Student  :  Sandeep   Faridabad\n"
     ]
    }
   ],
   "source": [
    "#Inheritance\n",
    "class Person:\n",
    "    def __init__(self,name,address):\n",
    "        self.name=name\n",
    "        self.address= address\n",
    "        self.persontype=\"None\"\n",
    "        \n",
    "    def displaydet(self):\n",
    "        print(self.persontype,\" : \",self.name,\" \",self.address)\n",
    "\n",
    "class Employee(Person):\n",
    "    def __init__(self,name,address,ptype):\n",
    "        super().__init__(name,address)\n",
    "        self.persontype = ptype\n",
    "        \n",
    "class Student(Person):\n",
    "    def __init__(self,name,address,ptype):\n",
    "        super().__init__(name,address)\n",
    "        self.persontype = ptype\n",
    "        \n",
    "e1 = Employee(\"John\",\"Hamilton USA\",\"Employee\")\n",
    "e1.displaydet()\n",
    "\n",
    "s1 = Student(\"Sandeep\",\"Faridabad\",\"Student\")\n",
    "s1.displaydet()\n"
   ]
  },
  {
   "cell_type": "code",
   "execution_count": 10,
   "metadata": {},
   "outputs": [
    {
     "name": "stdout",
     "output_type": "stream",
     "text": [
      "Alice : sound...!\n",
      "Tiger : sound...!\n"
     ]
    }
   ],
   "source": [
    "class Animal:\n",
    "    def __init__(self,name):\n",
    "        self.name=name\n",
    "        \n",
    "    def honk(self):\n",
    "        print(self.name,\": sound...!\")\n",
    "\n",
    "class Cat(Animal):\n",
    "    def __init__(self,name):\n",
    "        Animal.__init__(self,name)\n",
    "        \n",
    "class Dog(Animal):\n",
    "    def __init__(self,name):\n",
    "        Animal.__init__(self,name)\n",
    "        \n",
    "c1 = Cat(\"Alice\")\n",
    "c1.honk()\n",
    "d1=Dog(\"Tiger\")\n",
    "d1.honk()"
   ]
  },
  {
   "cell_type": "code",
   "execution_count": 22,
   "metadata": {},
   "outputs": [
    {
     "name": "stdout",
     "output_type": "stream",
     "text": [
      "Enter side 1 : 2\n",
      "Enter side 2 : 3\n",
      "Enter side 3 : 4\n",
      "Side 1 is 2.0\n",
      "Side 2 is 3.0\n",
      "Side 3 is 4.0\n",
      "The area of the triangle is 2.90\n"
     ]
    },
    {
     "data": {
      "text/plain": [
       "False"
      ]
     },
     "execution_count": 22,
     "metadata": {},
     "output_type": "execute_result"
    }
   ],
   "source": [
    "class Square:\n",
    "    pass\n",
    "class Polygon:\n",
    "    def __init__(self, no_of_sides):\n",
    "        self.n = no_of_sides\n",
    "        self.sides = [0 for i in range(no_of_sides)]\n",
    "\n",
    "    def inputSides(self):\n",
    "        self.sides = [float(input(\"Enter side \"+str(i+1)+\" : \")) for i in range(self.n)]\n",
    "\n",
    "    def dispSides(self):\n",
    "        for i in range(self.n):\n",
    "            print(\"Side\",i+1,\"is\",self.sides[i])\n",
    "\n",
    "class Triangle(Polygon):\n",
    "    def __init__(self):\n",
    "        Polygon.__init__(self,3)\n",
    "\n",
    "    def findArea(self):\n",
    "        a, b, c = self.sides\n",
    "        # calculate the semi-perimeter\n",
    "        s = (a + b + c) / 2\n",
    "        area = (s*(s-a)*(s-b)*(s-c)) ** 0.5\n",
    "        print('The area of the triangle is %0.2f' %area)\n",
    "\n",
    "t = Triangle()\n",
    "t.inputSides()\n",
    "t.dispSides()\n",
    "t.findArea()\n",
    "isinstance(t,Square)\n",
    "issubclass(Polygon,Triangle)"
   ]
  },
  {
   "cell_type": "code",
   "execution_count": 23,
   "metadata": {},
   "outputs": [
    {
     "name": "stdout",
     "output_type": "stream",
     "text": [
      "[<class '__main__.M'>, <class '__main__.B'>, <class '__main__.A'>, <class '__main__.X'>, <class '__main__.Y'>, <class '__main__.Z'>, <class 'object'>]\n"
     ]
    }
   ],
   "source": [
    "class X: pass\n",
    "class Y: pass\n",
    "class Z: pass\n",
    "\n",
    "class A(X,Y): pass\n",
    "class B(Y,Z): pass\n",
    "\n",
    "class M(B,A,Z): pass\n",
    "\n",
    "# Output:\n",
    "# [<class '__main__.M'>, <class '__main__.B'>,\n",
    "# <class '__main__.A'>, <class '__main__.X'>,\n",
    "# <class '__main__.Y'>, <class '__main__.Z'>,\n",
    "# <class 'object'>]\n",
    "\n",
    "print(M.mro())"
   ]
  },
  {
   "cell_type": "code",
   "execution_count": 6,
   "metadata": {},
   "outputs": [
    {
     "name": "stdout",
     "output_type": "stream",
     "text": [
      "Enter employee ID :1001\n",
      "Enter employee name :John\n",
      "Enter employee salary :45000\n"
     ]
    },
    {
     "ename": "AttributeError",
     "evalue": "'Employee' object has no attribute 'eid'",
     "output_type": "error",
     "traceback": [
      "\u001b[1;31m---------------------------------------------------------------------------\u001b[0m",
      "\u001b[1;31mAttributeError\u001b[0m                            Traceback (most recent call last)",
      "\u001b[1;32m<ipython-input-6-72b9d126fab1>\u001b[0m in \u001b[0;36m<module>\u001b[1;34m\u001b[0m\n\u001b[0;32m     18\u001b[0m \u001b[0memp\u001b[0m \u001b[1;33m=\u001b[0m \u001b[0mEmployee\u001b[0m\u001b[1;33m(\u001b[0m\u001b[0meid\u001b[0m\u001b[1;33m,\u001b[0m\u001b[0mname\u001b[0m\u001b[1;33m,\u001b[0m\u001b[0msalary\u001b[0m\u001b[1;33m)\u001b[0m\u001b[1;33m\u001b[0m\u001b[1;33m\u001b[0m\u001b[0m\n\u001b[0;32m     19\u001b[0m \u001b[1;31m#emp.displayDetails()\u001b[0m\u001b[1;33m\u001b[0m\u001b[1;33m\u001b[0m\u001b[1;33m\u001b[0m\u001b[0m\n\u001b[1;32m---> 20\u001b[1;33m \u001b[0mprint\u001b[0m\u001b[1;33m(\u001b[0m\u001b[1;34m\"Employee ID \"\u001b[0m\u001b[1;33m,\u001b[0m\u001b[0memp\u001b[0m\u001b[1;33m.\u001b[0m\u001b[0meid\u001b[0m\u001b[1;33m)\u001b[0m\u001b[1;33m\u001b[0m\u001b[1;33m\u001b[0m\u001b[0m\n\u001b[0m",
      "\u001b[1;31mAttributeError\u001b[0m: 'Employee' object has no attribute 'eid'"
     ]
    }
   ],
   "source": [
    "class Employee:\n",
    "    def __init__(self,eid,name,salary):\n",
    "        self.eid=eid\n",
    "        self.name=name\n",
    "        self.salary=salary\n",
    "        \n",
    "    \n",
    "    def displayDetails(self):\n",
    "        print(\"===== Employee Details =====\\n\")\n",
    "        print(\"Employee ID     : \",self.eid)\n",
    "        print(\"Employee Name   : \",self.name)\n",
    "        print(\"Employee Salary : \",self.salary)\n",
    "\n",
    "eid= int(input(\"Enter employee ID :\"))\n",
    "name = input(\"Enter employee name :\")\n",
    "salary =float(input(\"Enter employee salary :\"))\n",
    "         \n",
    "emp = Employee(eid,name,salary)\n",
    "#emp.displayDetails()\n",
    "print(\"Employee ID \",emp.eid)"
   ]
  },
  {
   "cell_type": "code",
   "execution_count": 12,
   "metadata": {},
   "outputs": [
    {
     "name": "stdout",
     "output_type": "stream",
     "text": [
      "Thread\n",
      "Sat Aug  8 12:41:10 2020\n",
      "Sat Aug  8 12:41:11 2020\n",
      "Sat Aug  8 12:41:12 2020\n",
      "  good byee\n"
     ]
    }
   ],
   "source": [
    "import threading\n",
    "import time\n",
    "\n",
    "\n",
    "\n",
    "\n",
    "class myThread(threading.Thread):\n",
    "\n",
    "    def __init__(self,name,count):\n",
    "        threading.Thread.__init__(self)\n",
    "        self.name=name\n",
    "        self.count=count\n",
    "\n",
    "    def run(self):\n",
    "        print( self.name)\n",
    "        displayTime(self,self.name,self.count)\n",
    "        \n",
    "def displayTime(self,threadName,delay):\n",
    "        for pause_in_minutes in [56,60,60]:\n",
    "            print(time.ctime())\n",
    "            time.sleep(delay)\n",
    "        \n",
    "thread = myThread(\"Thread\",1)\n",
    "thread.start()\n",
    "thread.join()\n",
    "print(\"  good byee\")"
   ]
  },
  {
   "cell_type": "code",
   "execution_count": null,
   "metadata": {},
   "outputs": [],
   "source": []
  }
 ],
 "metadata": {
  "kernelspec": {
   "display_name": "Python 3",
   "language": "python",
   "name": "python3"
  },
  "language_info": {
   "codemirror_mode": {
    "name": "ipython",
    "version": 3
   },
   "file_extension": ".py",
   "mimetype": "text/x-python",
   "name": "python",
   "nbconvert_exporter": "python",
   "pygments_lexer": "ipython3",
   "version": "3.7.4"
  }
 },
 "nbformat": 4,
 "nbformat_minor": 2
}
