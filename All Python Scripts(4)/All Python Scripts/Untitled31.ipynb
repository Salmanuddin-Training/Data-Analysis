{
 "cells": [
  {
   "cell_type": "code",
   "execution_count": 20,
   "metadata": {},
   "outputs": [
    {
     "name": "stdout",
     "output_type": "stream",
     "text": [
      "Base1 class constr. runs...!\n",
      "Base2 class constr. runs...!\n",
      "Derived class constr. runs...!\n",
      "John Williams\n",
      "Base1 method\n",
      "Base2 method\n"
     ]
    }
   ],
   "source": [
    "#Python eg. - multiple inheritance-\n",
    "class Base1(object):\n",
    "    str1=\"John\"\n",
    "    def __init__(self):\n",
    "        #self.str1=\"John\"\n",
    "        print(\"Base1 class constr. runs...!\")\n",
    "    def fun1(self):\n",
    "        print(\"Base1 method\")\n",
    "        \n",
    "class Base2(object):\n",
    "    def __init__(self):\n",
    "        self.str1=\"Williams\"\n",
    "        print(\"Base2 class constr. runs...!\")\n",
    "        \n",
    "    def fun2(self):\n",
    "        print(\"Base2 method\")\n",
    "        \n",
    "class Derived(Base1,Base2):\n",
    "    def __init__(self):\n",
    "        #calling base1,base2 class const.\n",
    "        Base1.__init__(self)\n",
    "        Base2.__init__(self)\n",
    "        print(\"Derived class constr. runs...!\")\n",
    "        \n",
    "    def printStrs(self):\n",
    "        print(Base1.str1,self.str1)\n",
    "\n",
    "obj = Derived()\n",
    "obj.printStrs()\n",
    "obj.fun1()\n",
    "obj.fun2()"
   ]
  },
  {
   "cell_type": "code",
   "execution_count": 18,
   "metadata": {},
   "outputs": [
    {
     "name": "stdout",
     "output_type": "stream",
     "text": [
      "John 79 Python\n"
     ]
    }
   ],
   "source": [
    "#multilevel inheritance in python-\n",
    "class Base(object):\n",
    "    #constructor\n",
    "    def __init__(self,name):\n",
    "        self.name = name\n",
    "        \n",
    "    #to get the name value\n",
    "    def getName(self):\n",
    "        return self.name\n",
    "    \n",
    "class Child(Base):\n",
    "    #constr.\n",
    "    def __init__(self,name,marks):\n",
    "        Base.__init__(self,name)\n",
    "        self.marks = marks\n",
    "        \n",
    "    #to get the marks value\n",
    "    def getMarks(self):\n",
    "        return self.marks\n",
    "    \n",
    "class GrandChild(Child):\n",
    "        #constr.\n",
    "        def __init__(self,name,marks,course):\n",
    "            Child.__init__(self,name,marks)\n",
    "            self.course=course\n",
    "        \n",
    "        #to get the marks value\n",
    "        def getCourse(self):\n",
    "            return self.course\n",
    "\n",
    "gobj = GrandChild(\"John\",79,'Python')\n",
    "print(gobj.getName(),gobj.getMarks(),gobj.getCourse())\n"
   ]
  },
  {
   "cell_type": "code",
   "execution_count": 22,
   "metadata": {},
   "outputs": [
    {
     "name": "stdout",
     "output_type": "stream",
     "text": [
      "Hello\n"
     ]
    }
   ],
   "source": [
    "\n",
    "class AA:\n",
    "    def (self):\n",
    "        print(\"Hello\")\n",
    "        \n",
    "aobj = AA()\n",
    "aobj.fun1()"
   ]
  },
  {
   "cell_type": "code",
   "execution_count": 24,
   "metadata": {},
   "outputs": [
    {
     "name": "stdout",
     "output_type": "stream",
     "text": [
      "modified feature of class A fun1() by class B\n",
      "feature-1 of class A\n"
     ]
    }
   ],
   "source": [
    "#Method overriding\n",
    "class A:\n",
    "    def fun1(self):\n",
    "        print(\"feature-1 of class A\")\n",
    "    \n",
    "    def fun2(self):\n",
    "        print(\"Feature-2 of class A\")\n",
    "        \n",
    "class B(A):\n",
    "    #modifying the behaviour of class A fun1()\n",
    "    def fun1(self):\n",
    "        print(\"modified feature of class A fun1() by class B\")\n",
    "        \n",
    "    def fun3(self):\n",
    "        print(\"Feature-3 of class B\")\n",
    "        \n",
    "obj = B()\n",
    "obj.fun1()\n",
    "\n",
    "obj2 = A()\n",
    "obj2.fun1()"
   ]
  },
  {
   "cell_type": "code",
   "execution_count": null,
   "metadata": {},
   "outputs": [],
   "source": []
  }
 ],
 "metadata": {
  "kernelspec": {
   "display_name": "Python 3",
   "language": "python",
   "name": "python3"
  },
  "language_info": {
   "codemirror_mode": {
    "name": "ipython",
    "version": 3
   },
   "file_extension": ".py",
   "mimetype": "text/x-python",
   "name": "python",
   "nbconvert_exporter": "python",
   "pygments_lexer": "ipython3",
   "version": "3.7.4"
  }
 },
 "nbformat": 4,
 "nbformat_minor": 2
}
