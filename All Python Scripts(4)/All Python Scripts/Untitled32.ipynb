{
 "cells": [
  {
   "cell_type": "code",
   "execution_count": 14,
   "metadata": {},
   "outputs": [
    {
     "name": "stdout",
     "output_type": "stream",
     "text": [
      "Enter object name  -aa\n",
      "hi\n"
     ]
    }
   ],
   "source": [
    "class Booking(object):\n",
    "    def __init__(self,name):\n",
    "        self.name = name\n",
    "    def fun(self):\n",
    "        print(\"hi\")\n",
    "        \n",
    "userobjname = {}\n",
    "\n",
    "name = input(\"Enter object name  -\")\n",
    "userobjname[name] = Booking(name)\n",
    "\n",
    "#print(next(iter(userobjname)))\n",
    "userobjname[name].fun()"
   ]
  },
  {
   "cell_type": "code",
   "execution_count": 21,
   "metadata": {},
   "outputs": [
    {
     "name": "stdout",
     "output_type": "stream",
     "text": [
      "Enter first object name to specify first student det:-st1\n",
      "Enter student name :Aman\n",
      "Enter student course :JAVA\n",
      "\n",
      "========= Student details =========\n",
      "\n",
      "Name :  Aman Course :  JAVA\n",
      "==================================\n",
      "\n"
     ]
    }
   ],
   "source": [
    "class Student(object):\n",
    "    def display(self,name,course):\n",
    "        self.name=name\n",
    "        self.course=course\n",
    "        print(\"Name : \",self.name,\"Course : \",self.course)\n",
    "        print(\"==================================\\n\")\n",
    "        \n",
    "studobjnames = {}\n",
    "objname1 = input(\"Enter first object name to specify first student det:-\")\n",
    "#studobjnames[objname1] = Student()\n",
    "objname1 = Student()\n",
    "\n",
    "sname=input(\"Enter student name :\")\n",
    "scourse=input(\"Enter student course :\")\n",
    "print(\"\\n========= Student details =========\\n\")\n",
    "#studobjnames[objname1].display(sname,scourse)\n",
    "objname1.display(sname,scourse)\n",
    "        "
   ]
  },
  {
   "cell_type": "code",
   "execution_count": 22,
   "metadata": {},
   "outputs": [
    {
     "name": "stdout",
     "output_type": "stream",
     "text": [
      "Speak from Cat\n",
      "Speak from primate!\n"
     ]
    }
   ],
   "source": [
    "class Animal:\n",
    "    def reply(self):   \n",
    "       self.speak()        \n",
    "    def speak(self):   \n",
    "       pass       \n",
    "\n",
    "class Mammal(Animal):\n",
    "    def speak(self):\n",
    "      print ('speak?')\n",
    "\n",
    "class Cat(Mammal):\n",
    "    def speak(self):   \n",
    "       print ('Speak from Cat')\n",
    "\n",
    "class Dog(Mammal):\n",
    "    def speak(self):   \n",
    "       print ('Speak from Dog')\n",
    "\n",
    "class Primate(Mammal):\n",
    "    def speak(self):   \n",
    "       print ('Speak from primate!')\n",
    "\n",
    "class Hacker(Primate): pass     \n",
    "\n",
    "if __name__ == '__main__':\n",
    "    spot = Cat()\n",
    "    spot.reply()        \n",
    "    data = Hacker()     \n",
    "    data.reply()"
   ]
  },
  {
   "cell_type": "code",
   "execution_count": null,
   "metadata": {},
   "outputs": [],
   "source": []
  }
 ],
 "metadata": {
  "kernelspec": {
   "display_name": "Python 3",
   "language": "python",
   "name": "python3"
  },
  "language_info": {
   "codemirror_mode": {
    "name": "ipython",
    "version": 3
   },
   "file_extension": ".py",
   "mimetype": "text/x-python",
   "name": "python",
   "nbconvert_exporter": "python",
   "pygments_lexer": "ipython3",
   "version": "3.7.4"
  }
 },
 "nbformat": 4,
 "nbformat_minor": 2
}
