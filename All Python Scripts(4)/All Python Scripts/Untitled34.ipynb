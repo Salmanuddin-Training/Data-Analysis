{
 "cells": [
  {
   "cell_type": "code",
   "execution_count": 1,
   "metadata": {},
   "outputs": [
    {
     "name": "stdout",
     "output_type": "stream",
     "text": [
      "1\n",
      "6\n",
      "112 243 512 343 90 478\n",
      "500 789 234 400 452 150\n",
      "win\n"
     ]
    }
   ],
   "source": [
    "def main():\n",
    "    team = int(input())\n",
    "    vl=[]\n",
    "    while(team !=0):\n",
    "        team -=1\n",
    "        res=0\n",
    "        n = int(input())\n",
    "        vl=list(map(int,input().split()))\n",
    "        pl = list(map(int,input().split()))\n",
    "        vl.sort(reverse=True)\n",
    "        pl.sort(reverse=True)\n",
    "        length = len(pl)\n",
    "        i=0\n",
    "        while(i<length-1):\n",
    "            if(pl[i]<vl[i]):\n",
    "                res=121\n",
    "            i+=1\n",
    "        if(res!=0):\n",
    "            print('lose')\n",
    "        else:\n",
    "            print('win')\n",
    "main()\n"
   ]
  },
  {
   "cell_type": "code",
   "execution_count": null,
   "metadata": {},
   "outputs": [],
   "source": [
    "1\n",
    "6\n",
    "112 243 512 343 90 478\n",
    "500 789 234 400 452 150\n"
   ]
  }
 ],
 "metadata": {
  "kernelspec": {
   "display_name": "Python 3",
   "language": "python",
   "name": "python3"
  },
  "language_info": {
   "codemirror_mode": {
    "name": "ipython",
    "version": 3
   },
   "file_extension": ".py",
   "mimetype": "text/x-python",
   "name": "python",
   "nbconvert_exporter": "python",
   "pygments_lexer": "ipython3",
   "version": "3.7.4"
  }
 },
 "nbformat": 4,
 "nbformat_minor": 2
}
