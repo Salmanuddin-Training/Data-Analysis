{
 "cells": [
  {
   "cell_type": "code",
   "execution_count": 11,
   "metadata": {},
   "outputs": [
    {
     "name": "stdout",
     "output_type": "stream",
     "text": [
      "Sid    :  101\n",
      "Name   :  Kelly\n",
      "course :  Python\n",
      "Marks  :  89.5\n",
      "----------------------\n",
      "Sid    :  102\n",
      "Name   :  Allen\n",
      "course :  Python\n",
      "Marks  :  90.0\n",
      "----------------------\n",
      "Sid    :  103\n",
      "Name   :  Donald\n",
      "course :  JAVA\n",
      "Marks  :  78.0\n",
      "----------------------\n",
      "Sid    :  104\n",
      "Name   :  Smith\n",
      "course :  Django\n",
      "Marks  :  98.0\n",
      "----------------------\n"
     ]
    }
   ],
   "source": [
    "import  MySQLdb\n",
    "\n",
    "conn = MySQLdb.connect('localhost','root','root')\n",
    "if conn:\n",
    "    conn.select_db(\"pythondb\")\n",
    "    cursor = conn.cursor();\n",
    "    cursor.execute(\"select * from student\")\n",
    "    \n",
    "    data = cursor.fetchall()\n",
    "    for row in data:\n",
    "        print(\"Sid    : \",str(row[0]))\n",
    "        print(\"Name   : \",row[1])\n",
    "        print(\"course : \",row[2])\n",
    "        print(\"Marks  : \",str(row[3]))\n",
    "        print(\"----------------------\")\n",
    "else:\n",
    "    print(\"Failed to connect....!\")\n",
    "conn.close()"
   ]
  },
  {
   "cell_type": "code",
   "execution_count": 10,
   "metadata": {},
   "outputs": [
    {
     "name": "stdout",
     "output_type": "stream",
     "text": [
      "Record saved successfully...!\n"
     ]
    }
   ],
   "source": [
    "import MySQLdb\n",
    "\n",
    "conn = MySQLdb.connect('localhost','root','root')\n",
    "if conn:\n",
    "    conn.select_db(\"pythondb\")\n",
    "    cursor=conn.cursor();\n",
    "    cursor.execute(\"insert into student values(\"+str(104)+\",'Smith','Django',\"+str(98)+\")\");\n",
    "    conn.commit()\n",
    "    print(\"Record saved successfully...!\")\n",
    "else:\n",
    "    print(\"Connection cannot established.....!\")\n",
    "conn.close()"
   ]
  },
  {
   "cell_type": "code",
   "execution_count": 8,
   "metadata": {},
   "outputs": [
    {
     "name": "stdout",
     "output_type": "stream",
     "text": [
      "Connection Established\n",
      "Enter sId : 103\n",
      "Enter Name : Donald\n",
      "Enter Course : JAVA\n",
      "Enter marks : 78\n"
     ]
    }
   ],
   "source": [
    "#Step 1 - Importing MySQLdb module\n",
    "import MySQLdb\n",
    "\n",
    "\n",
    "#Step 2 - Establish a Connection\n",
    "conn = MySQLdb.connect('localhost', user='root', password='root')\n",
    "\n",
    "if conn:\n",
    "\tprint(\"Connection Established\")\n",
    "else:\n",
    "\tprint(\"Connection Failed\")\n",
    "\n",
    "\n",
    "#Step 3 - Select Database\n",
    "\n",
    "conn.select_db(\"pythondb\")\n",
    "\n",
    "#Step 4 - Create Cursor object\n",
    "\n",
    "cursor = conn.cursor()\n",
    "\n",
    "#Step 5 - Execute Query \n",
    "\n",
    "sid=int(input(\"Enter sId : \"))\n",
    "name=input(\"Enter Name : \")\n",
    "course=input(\"Enter Course : \")\n",
    "marks=float(input(\"Enter marks : \"))\n",
    "\n",
    "cursor.execute(\"insert into student values(\"+str(sid)+\",'\"+name+\"','\"+course+\"',\"+str(marks)+\")\")\n",
    "conn.commit()\n",
    "#Step 6 - Close the Connection\n",
    "conn.commit()\n",
    "conn.close()\n"
   ]
  },
  {
   "cell_type": "code",
   "execution_count": 13,
   "metadata": {},
   "outputs": [
    {
     "name": "stdout",
     "output_type": "stream",
     "text": [
      "SId\tName\t\tCourse\t\tMarks\n",
      "101\tKelly\t\tPython\t\t89.5\n",
      "102\tAllen\t\tPython\t\t90.0\n",
      "103\tDonald\t\tJAVA\t\t78.0\n",
      "104\tSmith\t\tDjango\t\t98.0\n"
     ]
    }
   ],
   "source": [
    "import MySQLdb\n",
    "\n",
    "conn = MySQLdb.connect('localhost', user='root', password='root')\n",
    "\n",
    "if conn:\n",
    "        conn.select_db(\"pythondb\")\n",
    "        cursor = conn.cursor()\n",
    "        cursor.execute(\"select * from student\")\n",
    "        data=cursor.fetchall()\n",
    "        print(\"SId\\tName\\t\\tCourse\\t\\tMarks\")\n",
    "        for r in data:\n",
    "                id=r[0]\n",
    "                name=r[1]\n",
    "                course=r[2]\n",
    "                marks=r[3]\n",
    "                \n",
    "                print(str(id)+\"\\t\"+name+\"\\t\\t\"+course+\"\\t\\t\"+str(marks))\n",
    "else:\n",
    "        print(\"Connection Failed\")"
   ]
  },
  {
   "cell_type": "code",
   "execution_count": 1,
   "metadata": {},
   "outputs": [
    {
     "name": "stdout",
     "output_type": "stream",
     "text": [
      "Table created successfully.............!\n"
     ]
    }
   ],
   "source": [
    "#dynamic table creation\n",
    "import MySQLdb\n",
    "\n",
    "conn = MySQLdb.connect('localhost','root','root')\n",
    "try:\n",
    "    conn.select_db(\"pythondb\")\n",
    "    cur = conn.cursor()\n",
    "    cur.execute('create table product(pid int primary key auto_increment, name varchar(30),quantity int,price float)')\n",
    "    conn.commit()\n",
    "    print(\"Table created successfully.............!\")\n",
    "except:\n",
    "    print('Error in operation....! Try agin.')\n",
    "    conn.rollback()\n",
    "conn.close()"
   ]
  },
  {
   "cell_type": "code",
   "execution_count": 11,
   "metadata": {},
   "outputs": [
    {
     "name": "stdout",
     "output_type": "stream",
     "text": [
      "Records added successfully...!\n"
     ]
    }
   ],
   "source": [
    "#insert operation using executemany() (list of tuples)\n",
    "import MySQLdb\n",
    "conn = MySQLdb.connect('localhost','root','root')\n",
    "\n",
    "qry = \"insert into product(name,quantity,price) values(%s,%s,%s)\"\n",
    "products = [('Keyboard',500,465),('Mouse',200,150),('Laptop',100,45000)]\n",
    "try:\n",
    "    conn.select_db('pythondb')\n",
    "    cur = conn.cursor()\n",
    "    cur.executemany(qry,products)\n",
    "    conn.commit()\n",
    "    print(\"Records added successfully...!\")\n",
    "except Exception as e:\n",
    "    print('Error in operation....! Try again.',e)\n",
    "    conn.rollback()\n",
    "conn.close()"
   ]
  },
  {
   "cell_type": "code",
   "execution_count": 12,
   "metadata": {},
   "outputs": [
    {
     "name": "stdout",
     "output_type": "stream",
     "text": [
      "(1, 'Keyboard', 500, 465.0)\n",
      "(2, 'Mouse', 200, 150.0)\n",
      "(3, 'Laptop', 100, 45000.0)\n"
     ]
    }
   ],
   "source": [
    "#fetching the records using fetchone()\n",
    "import MySQLdb\n",
    "\n",
    "conn = MySQLdb.connect('localhost','root','root')\n",
    "qry = \"select * from product;\"\n",
    "try:\n",
    "    conn.select_db('pythondb')\n",
    "    cur = conn.cursor()\n",
    "    cur.execute(qry)\n",
    "    while True:\n",
    "            record = cur.fetchone()\n",
    "            if record==None:\n",
    "                break\n",
    "            print(record)\n",
    "except Exception as e:\n",
    "    print(\"Error in operation : \",e)\n",
    "conn.close()"
   ]
  },
  {
   "cell_type": "code",
   "execution_count": 14,
   "metadata": {},
   "outputs": [
    {
     "name": "stdout",
     "output_type": "stream",
     "text": [
      "(1, 'Keyboard', 500, 465.0)\n",
      "(2, 'Mouse', 200, 150.0)\n",
      "(3, 'Laptop', 100, 45000.0)\n"
     ]
    }
   ],
   "source": [
    "#fetching the records using fetchall()\n",
    "import MySQLdb\n",
    "\n",
    "conn = MySQLdb.connect('localhost','root','root')\n",
    "qry = \"select * from product;\"\n",
    "try:\n",
    "    conn.select_db('pythondb')\n",
    "    cur = conn.cursor()\n",
    "    cur.execute(qry)\n",
    "    products = cur.fetchall()\n",
    "    for rec in products:\n",
    "        print(rec)\n",
    "except Exception as e:\n",
    "    print(\"Error in operation : \",e)\n",
    "conn.close()"
   ]
  },
  {
   "cell_type": "code",
   "execution_count": 15,
   "metadata": {},
   "outputs": [
    {
     "name": "stdout",
     "output_type": "stream",
     "text": [
      "PId\tName\t\tQuantity\t\tPrice\n",
      "2\tMouse\t\t200\t\t150.0\n",
      "3\tLaptop\t\t100\t\t45000.0\n"
     ]
    }
   ],
   "source": [
    "#fetching the records using fetchall() in grid format\n",
    "import MySQLdb\n",
    "\n",
    "conn = MySQLdb.connect('localhost','root','root')\n",
    "qry = \"select * from product;\"\n",
    "print(\"PId\\tName\\t\\tQuantity\\t\\tPrice\")\n",
    "try:\n",
    "    conn.select_db('pythondb')\n",
    "    cur = conn.cursor()\n",
    "    cur.execute(qry)\n",
    "    products = cur.fetchall()\n",
    "    for rec in products:\n",
    "        pid=rec[0]\n",
    "        name=rec[1]\n",
    "        qty=rec[2]\n",
    "        price=rec[3]\n",
    "        print(str(pid)+\"\\t\"+name+\"\\t\\t\"+str(qty)+\"\\t\\t\"+str(price))\n",
    "except Exception as e:\n",
    "    print(\"Error in operation : \",e)\n",
    "conn.close()"
   ]
  },
  {
   "cell_type": "code",
   "execution_count": 22,
   "metadata": {},
   "outputs": [
    {
     "name": "stdout",
     "output_type": "stream",
     "text": [
      "Total products are :  3\n"
     ]
    }
   ],
   "source": [
    "#count total records \n",
    "import MySQLdb\n",
    "\n",
    "conn = MySQLdb.connect('localhost','root','root')\n",
    "qry = \"select * from product;\"\n",
    "try:\n",
    "    conn.select_db('pythondb')\n",
    "    cur = conn.cursor()\n",
    "    cur.execute(qry)\n",
    "    print(\"Total products are : \",cur.rowcount)\n",
    "except Exception as e:\n",
    "    print(\"Error in operation : \",e)\n",
    "conn.close()"
   ]
  },
  {
   "cell_type": "code",
   "execution_count": 8,
   "metadata": {},
   "outputs": [
    {
     "name": "stdout",
     "output_type": "stream",
     "text": [
      "Enter product id whose name u want to update : 1\n",
      "Enter product new name :Charger\n",
      "Record updated successfully...!\n"
     ]
    }
   ],
   "source": [
    "#update operation\n",
    "import MySQLdb\n",
    "\n",
    "conn = MySQLdb.connect('localhost','root','root')\n",
    "qry = \"update product set name=%s where pid=%s;\"\n",
    "pid = int(input('Enter product id whose name u want to update : '))\n",
    "name = input(\"Enter product new name :\")\n",
    "try:\n",
    "    conn.select_db('pythondb')\n",
    "    cur = conn.cursor()\n",
    "    cur.execute(qry,(name,pid))\n",
    "    conn.commit()\n",
    "    print(\"Record updated successfully...!\")\n",
    "except Exception as e:\n",
    "    print(\"Error in operation : \",e)\n",
    "    conn.rollback()\n",
    "conn.close()"
   ]
  },
  {
   "cell_type": "code",
   "execution_count": 14,
   "metadata": {},
   "outputs": [
    {
     "name": "stdout",
     "output_type": "stream",
     "text": [
      "Enter product id whose record u want to delete : 1\n",
      "Record deleted successfully...!\n"
     ]
    }
   ],
   "source": [
    "#delete operation\n",
    "import MySQLdb\n",
    "\n",
    "conn = MySQLdb.connect('localhost','root','root')\n",
    "qry = \"delete from product where pid=%s;\"\n",
    "pid = int(input('Enter product id whose record u want to delete : '))\n",
    "try:\n",
    "    conn.select_db('pythondb')\n",
    "    cur = conn.cursor()\n",
    "    cur.execute(qry,(pid,))\n",
    "    conn.commit()\n",
    "    print(\"Record deleted successfully...!\")\n",
    "except Exception as e:\n",
    "    print(\"Error in operation : \",e)\n",
    "    conn.rollback()\n",
    "conn.close()"
   ]
  },
  {
   "cell_type": "code",
   "execution_count": 16,
   "metadata": {},
   "outputs": [
    {
     "name": "stdout",
     "output_type": "stream",
     "text": [
      "1. Add New Record\n",
      "2. Display Records\n",
      "3. Search Record\n",
      "4. Delete Record\n",
      "5. Update Record\n",
      "0. Exit\n",
      "Enter Choice : 2\n",
      "Id        Name                          Brand               Price   Stock   \n",
      "------------------------------------------------------------------------------------------\n",
      "1. Add New Record\n",
      "2. Display Records\n",
      "3. Search Record\n",
      "4. Delete Record\n",
      "5. Update Record\n",
      "0. Exit\n",
      "Enter Choice : 1\n",
      "Enter Id : 1001\n",
      "Enter Name : Mouse\n",
      "Enter Brand : Logitech\n",
      "Enter Price : 450\n",
      "Enter Stock : 100\n",
      "1. Add New Record\n",
      "2. Display Records\n",
      "3. Search Record\n",
      "4. Delete Record\n",
      "5. Update Record\n",
      "0. Exit\n",
      "Enter Choice : 2\n",
      "Id        Name                          Brand               Price   Stock   \n",
      "------------------------------------------------------------------------------------------\n",
      "1001      Mouse                         Logitech            450.0   100     \n",
      "------------------------------------------------------------------------------------------\n",
      "1. Add New Record\n",
      "2. Display Records\n",
      "3. Search Record\n",
      "4. Delete Record\n",
      "5. Update Record\n",
      "0. Exit\n",
      "Enter Choice : 1\n",
      "Enter Id : 1002\n",
      "Enter Name : Keyborad\n",
      "Enter Brand : Intex\n",
      "Enter Price : 750\n",
      "Enter Stock : 200\n",
      "1. Add New Record\n",
      "2. Display Records\n",
      "3. Search Record\n",
      "4. Delete Record\n",
      "5. Update Record\n",
      "0. Exit\n",
      "Enter Choice : 1\n",
      "Enter Id : 1003\n",
      "Enter Name : Laptop\n",
      "Enter Brand : Dell\n",
      "Enter Price : 50000\n",
      "Enter Stock : 10\n",
      "1. Add New Record\n",
      "2. Display Records\n",
      "3. Search Record\n",
      "4. Delete Record\n",
      "5. Update Record\n",
      "0. Exit\n",
      "Enter Choice : 2\n",
      "Id        Name                          Brand               Price   Stock   \n",
      "------------------------------------------------------------------------------------------\n",
      "1001      Mouse                         Logitech            450.0   100     \n",
      "------------------------------------------------------------------------------------------\n",
      "1002      Keyborad                      Intex               750.0   200     \n",
      "------------------------------------------------------------------------------------------\n",
      "1003      Laptop                        Dell                50000.0 10      \n",
      "------------------------------------------------------------------------------------------\n",
      "1. Add New Record\n",
      "2. Display Records\n",
      "3. Search Record\n",
      "4. Delete Record\n",
      "5. Update Record\n",
      "0. Exit\n",
      "Enter Choice : 5\n",
      "Enter Name : Keyboard\n",
      "Enter New Price : 750\n",
      "1. Add New Record\n",
      "2. Display Records\n",
      "3. Search Record\n",
      "4. Delete Record\n",
      "5. Update Record\n",
      "0. Exit\n",
      "Enter Choice : 2\n",
      "Id        Name                          Brand               Price   Stock   \n",
      "------------------------------------------------------------------------------------------\n",
      "1001      Mouse                         Logitech            450.0   100     \n",
      "------------------------------------------------------------------------------------------\n",
      "1002      Keyborad                      Intex               750.0   200     \n",
      "------------------------------------------------------------------------------------------\n",
      "1003      Laptop                        Dell                50000.0 10      \n",
      "------------------------------------------------------------------------------------------\n",
      "1. Add New Record\n",
      "2. Display Records\n",
      "3. Search Record\n",
      "4. Delete Record\n",
      "5. Update Record\n",
      "0. Exit\n",
      "Enter Choice : 3\n",
      "Enter Name : Laptop\n",
      "Id        Name                          Brand               Price   Stock   \n",
      "------------------------------------------------------------------------------------------\n",
      "1003      Laptop                        Dell                50000.0 10      \n",
      "------------------------------------------------------------------------------------------\n",
      "1. Add New Record\n",
      "2. Display Records\n",
      "3. Search Record\n",
      "4. Delete Record\n",
      "5. Update Record\n",
      "0. Exit\n",
      "Enter Choice : 4\n",
      "Enter Name : Laptop\n",
      "1. Add New Record\n",
      "2. Display Records\n",
      "3. Search Record\n",
      "4. Delete Record\n",
      "5. Update Record\n",
      "0. Exit\n",
      "Enter Choice : 2\n",
      "Id        Name                          Brand               Price   Stock   \n",
      "------------------------------------------------------------------------------------------\n",
      "1001      Mouse                         Logitech            450.0   100     \n",
      "------------------------------------------------------------------------------------------\n",
      "1002      Keyborad                      Intex               750.0   200     \n",
      "------------------------------------------------------------------------------------------\n",
      "1. Add New Record\n",
      "2. Display Records\n",
      "3. Search Record\n",
      "4. Delete Record\n",
      "5. Update Record\n",
      "0. Exit\n",
      "Enter Choice : 0\n"
     ]
    }
   ],
   "source": [
    "import MySQLdb\n",
    "\n",
    "con=MySQLdb.connect('localhost','root','root')\n",
    "con.select_db('pydb')\n",
    "cur=con.cursor()\n",
    "\n",
    "\n",
    "def PrintRow(a,b,c,d,e):\n",
    "    print(a + \" \"*(10-len(a)) , end=\"\")\n",
    "    print(b + \" \"*(30-len(b)) , end=\"\")\n",
    "    print(c + \" \"*(20-len(c)) , end=\"\")\n",
    "    print(d + \" \"*(8-len(d)) , end=\"\")\n",
    "    print(e + \" \"*(8-len(e)) , end=\"\")\n",
    "    print()\n",
    "    print(\"-\"*90)\n",
    "\n",
    "\n",
    "\n",
    "\n",
    "def AddRecord():\n",
    "    #Data Input\n",
    "    id=int(input(\"Enter Id : \"))\n",
    "    name=input(\"Enter Name : \")\n",
    "    brand=input(\"Enter Brand : \")\n",
    "    price=float(input(\"Enter Price : \"))\n",
    "    stock=int(input(\"Enter Stock : \"))\n",
    "\n",
    "    stmt=\"insert into product values(%s,%s,%s,%s,%s)\"\n",
    "    parameters=(id,name,brand,price,stock)\n",
    "\n",
    "    cur.execute(stmt,parameters)\n",
    "    con.commit()\n",
    "           \n",
    "\n",
    "def DisplayRecord():\n",
    "    #Data Output\n",
    "    stmt=\"select * from product\"\n",
    "    cur.execute(stmt)\n",
    "    records=cur.fetchall()\n",
    "    PrintRow(\"Id\",\"Name\",\"Brand\",\"Price\",\"Stock\")    \n",
    "    for record in records:\n",
    "        PrintRow(str(record[0]),record[1],record[2],str(record[3]),str(record[4]))\n",
    "\n",
    "def SearchRecord():\n",
    "    name=input(\"Enter Name : \")\n",
    "    parameters=(name,)\n",
    "    stmt=\"select * from product where name=%s\"\n",
    "    cur.execute(stmt,parameters)\n",
    "    records=cur.fetchall()\n",
    "    PrintRow(\"Id\",\"Name\",\"Brand\",\"Price\",\"Stock\")    \n",
    "    for record in records:\n",
    "        PrintRow(str(record[0]),record[1],record[2],str(record[3]),str(record[4]))\n",
    "    \n",
    "\n",
    "def DeleteRecord():\n",
    "    name=input(\"Enter Name : \")\n",
    "    parameters=(name,)\n",
    "    stmt=\"delete from product where name=%s\"\n",
    "    cur.execute(stmt,parameters)\n",
    "    con.commit()\n",
    "\n",
    "\n",
    "def UpdateRecord():\n",
    "    name=input(\"Enter Name : \")\n",
    "    price=input(\"Enter New Price : \")\n",
    "    parameters=(price,name)\n",
    "    stmt=\"update product set price=%s where name=%s\"\n",
    "    cur.execute(stmt,parameters)\n",
    "    con.commit()\n",
    "\n",
    "\n",
    "while(True):\n",
    "    print(\"1. Add New Record\")\n",
    "    print(\"2. Display Records\")\n",
    "    print(\"3. Search Record\")\n",
    "    print(\"4. Delete Record\")\n",
    "    print(\"5. Update Record\")\n",
    "    print(\"0. Exit\")\n",
    "\n",
    "    choice=int(input(\"Enter Choice : \"))\n",
    "\n",
    "    if(choice==1):\n",
    "        AddRecord()\n",
    "    elif(choice==2):\n",
    "        DisplayRecord()\n",
    "    elif(choice==3):\n",
    "        SearchRecord()\n",
    "    elif(choice==4):\n",
    "        DeleteRecord()\n",
    "    elif(choice==5):\n",
    "        UpdateRecord()\n",
    "    elif(choice==0):\n",
    "        con.close()\n",
    "        break\n",
    "    else:\n",
    "        print(\"Please Try Again!\")\n",
    "        \n",
    "    \n"
   ]
  },
  {
   "cell_type": "code",
   "execution_count": 20,
   "metadata": {},
   "outputs": [
    {
     "name": "stdout",
     "output_type": "stream",
     "text": [
      "Enter pid whose details u want to search: 3\n",
      "(3, 'Laptop', 100, 45000.0)\n"
     ]
    }
   ],
   "source": [
    "#fetching the records using fetchone()\n",
    "import MySQLdb\n",
    "\n",
    "conn = MySQLdb.connect('localhost','root','root')\n",
    "qry = \"select * from product where pid=%s;\"\n",
    "pid=int(input('Enter pid whose details u want to search: '))\n",
    "try:\n",
    "    conn.select_db('pythondb')\n",
    "    cur = conn.cursor()\n",
    "    cur.execute(qry,(pid,))\n",
    "    record = cur.fetchone()\n",
    "    if record==None:\n",
    "        print(\"Invalid product id ...!Try again.....\")\n",
    "    else:\n",
    "        print(record)\n",
    "except Exception as e:\n",
    "    print(\"Error in operation : \",e)\n",
    "conn.close()"
   ]
  },
  {
   "cell_type": "code",
   "execution_count": null,
   "metadata": {},
   "outputs": [],
   "source": []
  }
 ],
 "metadata": {
  "kernelspec": {
   "display_name": "Python 3",
   "language": "python",
   "name": "python3"
  },
  "language_info": {
   "codemirror_mode": {
    "name": "ipython",
    "version": 3
   },
   "file_extension": ".py",
   "mimetype": "text/x-python",
   "name": "python",
   "nbconvert_exporter": "python",
   "pygments_lexer": "ipython3",
   "version": "3.7.4"
  }
 },
 "nbformat": 4,
 "nbformat_minor": 2
}
