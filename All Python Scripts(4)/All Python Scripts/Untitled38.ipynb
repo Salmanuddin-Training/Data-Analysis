{
 "cells": [
  {
   "cell_type": "code",
   "execution_count": null,
   "metadata": {},
   "outputs": [],
   "source": [
    "# simple-text mail\n",
    "import smtplib, ssl\n",
    "\n",
    "context = ssl.create_default_context()\n",
    "with smtplib.SMTP_SSL(\"smtp.gmail.com\",465,context=context) as server:\n",
    "    #server.starttls()\n",
    "    server.login(\"rajesh.loanemi@gmail.com\",\"#####\")\n",
    "    msg = \"Hello...!\"\n",
    "    server.sendmail('rajesh.loanemi@gmail.com','aartikadam639@gmail.com',msg)\n",
    "    server.quit()\n",
    "print(\"email sent...!\")"
   ]
  },
  {
   "cell_type": "code",
   "execution_count": 8,
   "metadata": {},
   "outputs": [
    {
     "name": "stdout",
     "output_type": "stream",
     "text": [
      "email sent...!\n"
     ]
    }
   ],
   "source": [
    "import smtplib, ssl\n",
    "\n",
    "from email.mime.multipart import MIMEMultipart\n",
    "from email.mime.text import MIMEText\n",
    "from email.mime.base import MIMEBase\n",
    "from email import encoders\n",
    "\n",
    "\n",
    "CCRec = ['sangeetaadhana19@gmail.com','snehasaloni2000@gmail.com']\n",
    "#Create Message\n",
    "msg = MIMEMultipart()\n",
    "msg['Subject']=\"Account Created Successfully\"\n",
    "msg['Cc']=', '.join(CCRec)\n",
    "\n",
    "#Body Attachment\n",
    "body = '''\n",
    "    <html>\n",
    "        <body>\n",
    "            <h1>Hello User</h1>\n",
    "            <p>Your account is now ready to use</p>\n",
    "        </body>\n",
    "    </html>\n",
    "    '''\n",
    "msg.attach(MIMEText(body, 'html'))\n",
    "\n",
    "#File Attachment\n",
    "filename=\"Python.txt\"\n",
    "file=open(filename,\"rb\")\n",
    "part = MIMEBase('application', 'octet-stream')\n",
    "part.set_payload((file).read())\n",
    "encoders.encode_base64(part)\n",
    "part.add_header('Content-Disposition', \"attachment; filename= %s\" % filename)\n",
    "msg.attach(part)\n",
    "\n",
    "context = ssl.create_default_context()\n",
    "with smtplib.SMTP_SSL(\"smtp.gmail.com\",465,context=context) as server:\n",
    "    #server.starttls()\n",
    "    server.login(\"rajesh.loanemi@gmail.com\",\"123@passw\")\n",
    "    body=msg.as_string()\n",
    "    server.sendmail('rajesh.loanemi@gmail.com',CCRec,body)\n",
    "    server.quit()\n",
    "print(\"email sent...!\")\n"
   ]
  },
  {
   "cell_type": "code",
   "execution_count": 12,
   "metadata": {},
   "outputs": [
    {
     "name": "stdout",
     "output_type": "stream",
     "text": [
      "email sent...!\n"
     ]
    }
   ],
   "source": [
    "\n",
    "import smtplib, ssl\n",
    "\n",
    "from email.mime.multipart import MIMEMultipart\n",
    "from email.mime.text import MIMEText\n",
    "from email.mime.base import MIMEBase\n",
    "from email import encoders\n",
    "\n",
    "\n",
    "CCRec = ['sangeetaadhana19@gmail.com','snehasaloni2000@gmail.com']\n",
    "#Create Message\n",
    "msg = MIMEMultipart()\n",
    "msg['Subject']=\"Account Created Successfully\"\n",
    "msg['Cc']=', '.join(CCRec)\n",
    "\n",
    "#Body Attachment\n",
    "body = '''\n",
    "    <html>\n",
    "        <body>\n",
    "            <h1>Hello User</h1>\n",
    "            <p>Your account is now ready to use</p>\n",
    "        </body>\n",
    "    </html>\n",
    "    '''\n",
    "msg.attach(MIMEText(body, 'html'))\n",
    "\n",
    "#File Attachment\n",
    "filename=\"C:/Users/Rajesh/Desktop/python/python2.jpg\"\n",
    "file=open(filename,\"rb\")\n",
    "part = MIMEBase('application', 'octet-stream')\n",
    "part.set_payload((file).read())\n",
    "encoders.encode_base64(part)\n",
    "part.add_header('Content-Disposition', \"attachment; filename=\"+filename)\n",
    "msg.attach(part)\n",
    "\n",
    "context = ssl.create_default_context()\n",
    "with smtplib.SMTP_SSL(\"smtp.gmail.com\",465,context=context) as server:\n",
    "    #server.starttls()\n",
    "    server.login(\"rajesh.loanemi@gmail.com\",\"123@passw\")\n",
    "    body=msg.as_string()\n",
    "    server.sendmail('rajesh.loanemi@gmail.com','aartikadam639@gmail.com',body)\n",
    "    server.quit()\n",
    "print(\"email sent...!\")"
   ]
  },
  {
   "cell_type": "code",
   "execution_count": null,
   "metadata": {},
   "outputs": [],
   "source": []
  }
 ],
 "metadata": {
  "kernelspec": {
   "display_name": "Python 3",
   "language": "python",
   "name": "python3"
  },
  "language_info": {
   "codemirror_mode": {
    "name": "ipython",
    "version": 3
   },
   "file_extension": ".py",
   "mimetype": "text/x-python",
   "name": "python",
   "nbconvert_exporter": "python",
   "pygments_lexer": "ipython3",
   "version": "3.7.4"
  }
 },
 "nbformat": 4,
 "nbformat_minor": 2
}
