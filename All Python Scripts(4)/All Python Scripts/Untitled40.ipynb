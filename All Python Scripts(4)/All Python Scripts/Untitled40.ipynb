{
 "cells": [
  {
   "cell_type": "code",
   "execution_count": null,
   "metadata": {},
   "outputs": [],
   "source": [
    "#Thread creation in Python\n",
    "import Queue\n",
    "import threading\n",
    "import time\n",
    "\n",
    "#defining a function for the thread\n",
    "def displayTime(threadName,delay):\n",
    "    count = 0\n",
    "    while count < 5:\n",
    "        time.sleep(delay)\n",
    "        count += 1\n",
    "        print(\"%s: %s\" % (threadName, time.ctime(time.time()))\")\n",
    "#creating two child threads\n",
    "\n",
    "try:\n",
    "    thread.start_new_thread(displayTime,(\"childThread-1\",2,))\n",
    "    thread.start_new_thread(displayTime,(\"childThread-2\",4,))\n",
    "except:\n",
    "    print(\"Error: unable to start the thread\")\n",
    "while 1:\n",
    "    pass\n",
    "    "
   ]
  },
  {
   "cell_type": "code",
   "execution_count": null,
   "metadata": {},
   "outputs": [],
   "source": [
    "import threading\n",
    "import time\n",
    "import logging\n",
    "\n",
    "#defining a function for the thread\n",
    "def displayTime(threadName,delay):\n",
    "    count = 0\n",
    "    while count < 5:\n",
    "        time.sleep(delay)\n",
    "        count += 1\n",
    "        print(\"%s: %s\" % (threadName, time.ctime(time.time())))\n",
    "if __name__ == \"__main__\":\n",
    "    x = threading.Thread(target=displayTime,args=(\"childThread\",4))\n",
    "    x.start()\n",
    "    "
   ]
  },
  {
   "cell_type": "code",
   "execution_count": null,
   "metadata": {},
   "outputs": [],
   "source": [
    "import threading\n",
    "import time\n",
    "\n",
    "exitFlag =0\n",
    "class myThread(threading.Thread):\n",
    "    def __init__(self,name,count):\n",
    "        self.name=name\n",
    "        self.count=count\n",
    "    def run(self):\n",
    "        print(\"Thread starting - \"+self.name)\n",
    "        displayTime(self.name,self.count,4)\n",
    "        print(\"Thread Exiting - \"+self.name)\n",
    "        \n",
    "def displayTime(threadName,count,delay):\n",
    "    while count:\n",
    "        if exitFlag:\n",
    "            threadName.exit()\n",
    "        time.sleep(delay)\n",
    "        print(\"%s: %s\" % (threadName, time.ctime(time.time())))\n",
    "        count -=1\n",
    "\n",
    "#create new Threads\n",
    "thread1 = myThread(1,\"Thread-1\",1)\n",
    "thread2 = myThread(2,\"Thread-1\",2)\n",
    "\n",
    "#starts new thread\n",
    "thread1.start()\n",
    "thread2.start()\n",
    "thread1.join()\n",
    "thread2.join()\n",
    "print(\"Exiting main thread\")\n"
   ]
  }
 ],
 "metadata": {
  "kernelspec": {
   "display_name": "Python 3",
   "language": "python",
   "name": "python3"
  },
  "language_info": {
   "codemirror_mode": {
    "name": "ipython",
    "version": 3
   },
   "file_extension": ".py",
   "mimetype": "text/x-python",
   "name": "python",
   "nbconvert_exporter": "python",
   "pygments_lexer": "ipython3",
   "version": "3.7.4"
  }
 },
 "nbformat": 4,
 "nbformat_minor": 2
}
