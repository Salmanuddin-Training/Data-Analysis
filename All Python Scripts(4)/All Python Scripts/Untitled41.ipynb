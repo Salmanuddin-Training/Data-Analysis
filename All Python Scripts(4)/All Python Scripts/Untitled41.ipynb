{
 "cells": [
  {
   "cell_type": "code",
   "execution_count": 1,
   "metadata": {},
   "outputs": [
    {
     "name": "stdout",
     "output_type": "stream",
     "text": [
      "Starting Main Thread\n",
      "Starting :Thread-1\n",
      "Starting :Thread-2\n",
      "Thread-2: Fri Aug  7 22:43:59 2020\n",
      "Thread-2: Fri Aug  7 22:44:03 2020\n",
      "Thread-1: Fri Aug  7 22:44:07 2020\n",
      "Thread-1: Fri Aug  7 22:44:11 2020\n",
      "Thread-1: Fri Aug  7 22:44:15 2020\n",
      "Exiting Main Thread\n"
     ]
    }
   ],
   "source": [
    "import threading\n",
    "import time\n",
    "\n",
    "class myThread(threading.Thread):\n",
    "\n",
    "    def __init__(self,name,count):\n",
    "        threading.Thread.__init__(self)\n",
    "        self.name=name\n",
    "        self.count=count\n",
    "\n",
    "    def run(self):\n",
    "        print(\"Starting :\"+self.name)\n",
    "        #getting lock to synchronize the threads\n",
    "        threadLock.acquire()\n",
    "        displayTime(self.name,self.count,4)\n",
    "        #making free the lock to release for another thread\n",
    "        threadLock.release()\n",
    "\n",
    "def displayTime(threadName,count,delay):\n",
    "    while count:\n",
    "        time.sleep(delay)\n",
    "        print(\"%s: %s\" %(threadName, time.ctime(time.time())))\n",
    "        count -= 1\n",
    "\n",
    "print(\"Starting Main Thread\")\n",
    "threadLock = threading.Lock()\n",
    "\n",
    "threads=[]\n",
    "#creating new threads\n",
    "thread1 = myThread(\"Thread-1\",3)\n",
    "thread2 = myThread(\"Thread-2\",2)\n",
    "\n",
    "#starting the new threads\n",
    "thread1.start()\n",
    "thread2.start()\n",
    "\n",
    "#Adding the threads to thread list\n",
    "threads.append(thread1)\n",
    "threads.append(thread2)\n",
    "\n",
    "#Wait for all threads to complete\n",
    "for t in threads:\n",
    "        t.join()\n",
    "print(\"Exiting Main Thread\")\n",
    "              \n"
   ]
  },
  {
   "cell_type": "code",
   "execution_count": null,
   "metadata": {},
   "outputs": [],
   "source": []
  }
 ],
 "metadata": {
  "kernelspec": {
   "display_name": "Python 3",
   "language": "python",
   "name": "python3"
  },
  "language_info": {
   "codemirror_mode": {
    "name": "ipython",
    "version": 3
   },
   "file_extension": ".py",
   "mimetype": "text/x-python",
   "name": "python",
   "nbconvert_exporter": "python",
   "pygments_lexer": "ipython3",
   "version": "3.7.4"
  }
 },
 "nbformat": 4,
 "nbformat_minor": 2
}
