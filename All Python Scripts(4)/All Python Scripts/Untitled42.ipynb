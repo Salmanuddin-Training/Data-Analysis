{
 "cells": [
  {
   "cell_type": "code",
   "execution_count": 1,
   "metadata": {},
   "outputs": [
    {
     "name": "stdout",
     "output_type": "stream",
     "text": [
      "***** Student Details *****\n",
      "Name:  John\n",
      "Course:  JAVA\n",
      "Marks:  78\n",
      "***** Student Details *****\n",
      "Name:  Williams\n",
      "Course:  Pyhton\n",
      "Marks:  89\n",
      "***** Student Details *****\n",
      "Name:  Smith\n",
      "Course:  C++\n",
      "Marks:  78\n"
     ]
    }
   ],
   "source": [
    "import xml.sax\n",
    "\n",
    "class StudentHandler(xml.sax.ContentHandler):\n",
    "    def __init__(self):\n",
    "        self.CurrentData=\"\"\n",
    "        self.name=\"\"\n",
    "        self.course=\"\"\n",
    "        self.marks=\"\"\n",
    "        \n",
    "    #call when an elements starts...\n",
    "    def startElement(self,tag,attributes):\n",
    "        self.CurrentData=tag\n",
    "        if tag == \"student\":\n",
    "            print(\"***** Student Details *****\")\n",
    "            \n",
    "    #call when an element  ends\n",
    "    def endElement(self, tag):\n",
    "        if self.CurrentData == \"name\":\n",
    "            print(\"Name: \",self.name)\n",
    "        elif self.CurrentData == \"course\":\n",
    "            print(\"Course: \",self.course)\n",
    "        elif self.CurrentData == \"marks\":\n",
    "            print(\"Marks: \",self.marks)\n",
    "        self.CurrentData=\"\"\n",
    "    \n",
    "    #call when a character is reading\n",
    "    def characters(self,content):\n",
    "        if self.CurrentData == \"name\":\n",
    "            self.name=content\n",
    "        elif self.CurrentData == \"course\":\n",
    "            self.course=content\n",
    "        elif self.CurrentData == \"marks\":\n",
    "            self.marks=content\n",
    "\n",
    "if (__name__ == \"__main__\"):\n",
    "    \n",
    "    #create an xmlReader\n",
    "    parser = xml.sax.make_parser()\n",
    "    \n",
    "    #turn off the namespACES\n",
    "    parser.setFeature(xml.sax.handler.feature_namespaces,0)\n",
    "    \n",
    "    #override the default ContextHandler\n",
    "    handler = StudentHandler()\n",
    "    parser.setContentHandler(handler)\n",
    "    parser.parse(\"C:/Users/Rajesh/Desktop/python_demos/student.xml\")\n",
    "    "
   ]
  },
  {
   "cell_type": "code",
   "execution_count": 5,
   "metadata": {},
   "outputs": [
    {
     "name": "stdout",
     "output_type": "stream",
     "text": [
      "***** Student Details *****\n",
      "\n",
      "Name : John\n",
      "Name : JAVA\n",
      "Name : 78\n",
      "\n",
      "====================================\n",
      "\n",
      "***** Student Details *****\n",
      "\n",
      "Name : Williams\n",
      "Name : Pyhton\n",
      "Name : 89\n",
      "\n",
      "====================================\n",
      "\n",
      "***** Student Details *****\n",
      "\n",
      "Name : Smith\n",
      "Name : C++\n",
      "Name : 78\n",
      "\n",
      "====================================\n",
      "\n"
     ]
    }
   ],
   "source": [
    "#DOM API\n",
    "from xml.dom.minidom import parse\n",
    "import xml.dom.minidom\n",
    "\n",
    "# opening an xml document using minidom parser\n",
    "DOMTree =xml.dom.minidom.parse(\"C:/Users/Rajesh/Desktop/python_demos/student.xml\")\n",
    "collection = DOMTree.documentElement\n",
    "\n",
    "\n",
    "#get all the student in the collection\n",
    " \n",
    "studentlist = collection.getElementsByTagName(\"student\")\n",
    "\n",
    "#print each student details-\n",
    "for stud in studentlist:\n",
    "    print(\"***** Student Details *****\\n\")\n",
    "    \n",
    "    name = stud.getElementsByTagName('name')[0]\n",
    "    print(\"Name : %s\"% name.childNodes[0].data)\n",
    "    \n",
    "    course = stud.getElementsByTagName('course')[0]\n",
    "    print(\"Name : %s\"% course.childNodes[0].data)\n",
    "    \n",
    "    marks = stud.getElementsByTagName('marks')[0]\n",
    "    print(\"Name : %s\"% marks.childNodes[0].data)\n",
    "    \n",
    "    print(\"\\n====================================\\n\")"
   ]
  },
  {
   "cell_type": "code",
   "execution_count": null,
   "metadata": {},
   "outputs": [],
   "source": []
  }
 ],
 "metadata": {
  "kernelspec": {
   "display_name": "Python 3",
   "language": "python",
   "name": "python3"
  },
  "language_info": {
   "codemirror_mode": {
    "name": "ipython",
    "version": 3
   },
   "file_extension": ".py",
   "mimetype": "text/x-python",
   "name": "python",
   "nbconvert_exporter": "python",
   "pygments_lexer": "ipython3",
   "version": "3.7.4"
  }
 },
 "nbformat": 4,
 "nbformat_minor": 2
}
