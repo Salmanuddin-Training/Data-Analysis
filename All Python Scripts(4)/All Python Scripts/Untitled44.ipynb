{
 "cells": [
  {
   "cell_type": "code",
   "execution_count": 5,
   "metadata": {},
   "outputs": [],
   "source": [
    "#window creation in python using Tkinter\n",
    "import tkinter\n",
    "from tkinter import *\n",
    "\n",
    "root = tkinter.Tk()\n",
    "root.mainloop()"
   ]
  },
  {
   "cell_type": "code",
   "execution_count": 9,
   "metadata": {},
   "outputs": [],
   "source": [
    "#window with label widget\n",
    "from tkinter import *\n",
    "\n",
    "root = tkinter.Tk()\n",
    "lblheading = Label(root,text=\"Welcome to GUI in Python\")\n",
    "lblheading.pack()\n",
    "root.mainloop()"
   ]
  },
  {
   "cell_type": "code",
   "execution_count": 4,
   "metadata": {},
   "outputs": [],
   "source": [
    "#window with Text widget\n",
    "from tkinter import *\n",
    "import tkinter\n",
    "\n",
    "root = tkinter.Tk()\n",
    "lblName = Label(root,text=\"Enter ur Name :\",foreground=\"red\",background=\"yellow\")\n",
    "lblAddress = Label(root,text=\"Enter ur address :\",foreground=\"red\",background=\"yellow\")\n",
    "\n",
    "txtName = Text(root,height=1,width=40)\n",
    "txtAddress = Text(root,height=5,width=40)\n",
    "\n",
    "lblName.pack()\n",
    "txtName.pack()\n",
    "\n",
    "lblAddress.pack()\n",
    "txtAddress.pack()\n",
    "\n",
    "root.mainloop()"
   ]
  },
  {
   "cell_type": "code",
   "execution_count": 12,
   "metadata": {},
   "outputs": [],
   "source": [
    "#window with Radiobutton widget\n",
    "from tkinter import *\n",
    "\n",
    "root = tkinter.Tk()\n",
    "\n",
    "rbnMale = Radiobutton(root,text=\"Male\", variable=\"gender\", value=\"M\")\n",
    "rbnFemale = Radiobutton(root,text=\"Female\", variable=\"gender\", value=\"F\")\n",
    "\n",
    "rbnMale.pack()\n",
    "rbnFemale.pack()\n",
    "\n",
    "root.mainloop()"
   ]
  },
  {
   "cell_type": "code",
   "execution_count": 15,
   "metadata": {},
   "outputs": [],
   "source": [
    "#window with Checkbutton widget\n",
    "from tkinter import *\n",
    "\n",
    "root = tkinter.Tk()\n",
    "cbxEnglish = Checkbutton(root,text=\"English\", variable=\"language1\", onvalue=1, offvalue=0,height=5, width=20)\n",
    "cbxHindi = Checkbutton(root,text=\"Hindi\", variable=\"language2\",onvalue=1, offvalue=0,height=5, width=20)\n",
    "\n",
    "cbxEnglish.pack()\n",
    "cbxHindi.pack()\n",
    "root.mainloop()"
   ]
  },
  {
   "cell_type": "code",
   "execution_count": 42,
   "metadata": {},
   "outputs": [],
   "source": [
    "from tkinter import *\n",
    "\n",
    "root = tkinter.Tk()\n",
    "root.title(\"Student Registration Form-\")\n",
    "\n",
    "lblFrame1 = LabelFrame(root,text=\"Basic Details:-\")\n",
    "lblFrame1.pack(fill=\"both\", expand=\"no\")\n",
    "\n",
    "lblFrame2 = LabelFrame(root,text=\"Course Details:-\")\n",
    "lblFrame2.pack(fill=\"both\", expand=\"no\")\n",
    "\n",
    "\n",
    "lblStudName=Label(lblFrame1,text=\"Enter student Name :\")\n",
    "lblCourName=Label(lblFrame2,text=\"Enter course Name :\")\n",
    "\n",
    "lblStudName.pack()\n",
    "lblCourName.pack()\n",
    "\n",
    "root.mainloop()"
   ]
  },
  {
   "cell_type": "code",
   "execution_count": 27,
   "metadata": {},
   "outputs": [],
   "source": [
    "from tkinter import *\n",
    "\n",
    "root = tkinter.Tk()\n",
    "\n",
    "lbxCities = Listbox(root)\n",
    "\n",
    "cities = [\"New Delhi\",\"Noida\",\"Mumbai\",\"Pune\"]\n",
    "\n",
    "for city in cities:\n",
    "    lbxCities.insert(END,city)\n",
    "    \n",
    "lbxCities.pack()\n",
    "\n",
    "root.mainloop()"
   ]
  },
  {
   "cell_type": "code",
   "execution_count": 6,
   "metadata": {},
   "outputs": [],
   "source": [
    "import tkinter\n",
    "from tkinter import *\n",
    "\n",
    "root = tkinter.Tk()\n",
    "root.geometry(\"600x200\")\n",
    "\n",
    "OptionList = [\"New Delhi\",\"Noida\",\"Mumbai\",\"Pune\"]\n",
    "variable  = tkinter.StringVar(root)\n",
    "variable.set(OptionList[0])\n",
    "\n",
    "opx = OptionMenu(root,variable,*OptionList)\n",
    "opx.config(width=20, font=('Algerian',14))\n",
    "opx.pack()\n",
    "root.mainloop()"
   ]
  },
  {
   "cell_type": "code",
   "execution_count": 2,
   "metadata": {},
   "outputs": [],
   "source": [
    "from tkinter import *\n",
    "\n",
    "root = tkinter.Tk()\n",
    "root.geometry(\"100x200+400+300\")\n",
    "\n",
    "variable  = tkinter.StringVar(root)\n",
    "variable.set(\"Orange\")\n",
    "\n",
    "opx = OptionMenu(root,variable,\"Orange\",\"Apple\",\"Grapes\")\n",
    "opx.config(width=20, font=('Algerian',14))\n",
    "opx.pack()\n",
    "\n",
    "def show():\n",
    "    print(\"Selected value : \",variable.get())\n",
    "    \n",
    "btnShow = Button(root,text=\"Show\",command=show) \n",
    "btnShow.pack()\n",
    "root.mainloop()"
   ]
  },
  {
   "cell_type": "code",
   "execution_count": null,
   "metadata": {},
   "outputs": [],
   "source": [
    "from tkinter import *\n",
    "\n",
    "def myFunction():\n",
    "    pass\n",
    "\n",
    "\n",
    "root = tkinter.Tk()\n",
    "\n",
    "menubar = Menu(root)\n",
    "\n",
    "fileMenu = Menu(menubar,tearoff=0, activebackground=\"red\", activeforeground=\"yellow\")\n",
    "fileMenu.add_command(label=\"New\",command=myFunction)\n",
    "fileMenu.add_command(label=\"Open\",command=myFunction)\n",
    "fileMenu.add_separator()\n",
    "fileMenu.add_command(label=\"Save\",command=myFunction)\n",
    "fileMenu.add_command(label=\"Save as...\",command=myFunction)\n",
    "\n",
    "\n",
    "editMenu = Menu(menubar,tearoff=0)\n",
    "editMenu.add_command(label=\"Cut\",command=myFunction)\n",
    "editMenu.add_command(label=\"Copy\",command=myFunction)\n",
    "editMenu.add_command(label=\"Undo\",command=myFunction)\n",
    "editMenu.add_command(label=\"Redo\",command=myFunction)\n",
    "\n",
    "menubar.add_cascade(label=\"File\",menu=fileMenu)\n",
    "menubar.add_cascade(label=\"Edit\",menu=editMenu)\n",
    "menubar.add_cascade(label=\"Help\",command=myFunction)\n",
    "\n",
    "root.config(menu = menubar)\n",
    "root.mainloop()"
   ]
  },
  {
   "cell_type": "code",
   "execution_count": null,
   "metadata": {},
   "outputs": [],
   "source": []
  }
 ],
 "metadata": {
  "kernelspec": {
   "display_name": "Python 3",
   "language": "python",
   "name": "python3"
  },
  "language_info": {
   "codemirror_mode": {
    "name": "ipython",
    "version": 3
   },
   "file_extension": ".py",
   "mimetype": "text/x-python",
   "name": "python",
   "nbconvert_exporter": "python",
   "pygments_lexer": "ipython3",
   "version": "3.7.4"
  }
 },
 "nbformat": 4,
 "nbformat_minor": 2
}
