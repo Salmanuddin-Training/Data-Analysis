{
 "cells": [
  {
   "cell_type": "code",
   "execution_count": null,
   "metadata": {},
   "outputs": [],
   "source": [
    "import tkinter\n",
    "from tkinter import ttk\n",
    "from tkinter import *\n",
    "import MySQLdb\n",
    "import tkinter.messagebox\n",
    "\n",
    "class school_project():\n",
    "    def __init__(self,root):\n",
    "        self.root=root\n",
    "        self.root.title('Student Data')\n",
    "        self.label1 = Label(font=('arial',15,'bold'),text='School Python Project',fg='dark blue')\n",
    "        self.label1.grid(row=8,column=0)\n",
    "        \n",
    "        frame= LabelFrame(self.root,text='Add New Record')\n",
    "        frame.grid(row=0,column=1)\n",
    "        \n",
    "        Label(frame,text='firstname').grid(row=1,coloumn=1,sticky=w)\n",
    "        self.firstname=Entry(frame)\n",
    "        self.firstname.grid(row=1,column=2)\n",
    "        \n",
    "        Label(frame,text='Lastname').grid(row=2,coloumn=1,sticky=w)\n",
    "        self.lastname=Entry(frame)\n",
    "        self.lastname.grid(row=2,column=2)\n",
    "        \n",
    "        Label(frame,text='Username').grid(row=3,coloumn=1,sticky=w)\n",
    "        self.username=Entry(frame)\n",
    "        self.username.grid(row=3,column=2)\n",
    "        \n",
    "        Label(frame,text='Email').grid(row=4,coloumn=1,sticky=w)\n",
    "        self.email=Entry(frame)\n",
    "        self.email.grid(row=4,column=2)\n",
    "        \n",
    "        Label(frame,text='Subject').grid(row=5,coloumn=1,sticky=w)\n",
    "        self.subject=Entry(frame)\n",
    "        self.subject.grid(row=5,column=2)\n",
    "        \n",
    "        Label(frame,text='Age').grid(row=6,coloumn=1,sticky=w)\n",
    "        self.age=Entry(frame)\n",
    "        self.age.grid(row=6,column=2)\n",
    "        \n",
    "        ttk.Button(frame,text='Add Record', command=self.add).grid(row=7,column=2)\n",
    "        self.message= Label\n",
    "        \n",
    "        \n",
    "        \n",
    "        "
   ]
  }
 ],
 "metadata": {
  "kernelspec": {
   "display_name": "Python 3",
   "language": "python",
   "name": "python3"
  },
  "language_info": {
   "codemirror_mode": {
    "name": "ipython",
    "version": 3
   },
   "file_extension": ".py",
   "mimetype": "text/x-python",
   "name": "python",
   "nbconvert_exporter": "python",
   "pygments_lexer": "ipython3",
   "version": "3.7.4"
  }
 },
 "nbformat": 4,
 "nbformat_minor": 2
}
