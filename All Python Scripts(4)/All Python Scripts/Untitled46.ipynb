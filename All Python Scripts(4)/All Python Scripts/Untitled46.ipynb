{
 "cells": [
  {
   "cell_type": "code",
   "execution_count": 10,
   "metadata": {},
   "outputs": [],
   "source": [
    "#window with Text widget\n",
    "from tkinter import *\n",
    "import tkinter\n",
    "import MySQLdb\n",
    "from tkinter import messagebox\n",
    "\n",
    "root = tkinter.Tk()\n",
    "root.geometry(\"500x500\")\n",
    "lblsid = Label(root,text=\"Enter SID :\",foreground=\"red\",background=\"yellow\")\n",
    "lblname = Label(root,text=\"Enter NAME :\",foreground=\"red\",background=\"yellow\")\n",
    "lblcourse = Label(root,text=\"Enter COURSE :\",foreground=\"red\",background=\"yellow\")\n",
    "lblmarks = Label(root,text=\"Enter Marks :\",foreground=\"red\",background=\"yellow\")\n",
    "\n",
    "txtsid = Text(root,height=1,width=40)\n",
    "txtname = Text(root,height=1,width=40)\n",
    "txtcourse = Text(root,height=1,width=40)\n",
    "txtmarks = Text(root,height=1,width=40)\n",
    "\n",
    "lblsid.pack()\n",
    "txtsid.pack()\n",
    "\n",
    "lblname.pack()\n",
    "txtname.pack()\n",
    "\n",
    "lblcourse.pack()\n",
    "txtcourse.pack()\n",
    "\n",
    "lblmarks.pack()\n",
    "txtmarks.pack()\n",
    "\n",
    "def validation():\n",
    "    return len(txtsid.get(1.0,END)) !=0 and len(txtname.get(1.0,END)) != 0 and len(txtcourse.get(1.0,END))!=0 and len(txtmarks.get(1.0,END))!=0\n",
    "\n",
    "def insert():\n",
    "    if validation():\n",
    "        conn = MySQLdb.connect('localhost','root','root')\n",
    "        conn.select_db('pythondb')\n",
    "        cur=conn.cursor()\n",
    "        qry=\"insert into student values(%s,%s,%s,%s)\"\n",
    "        cur.execute(qry,(txtsid.get(1.0,END),txtname.get(1.0,END),txtcourse.get(1.0,END),txtmarks.get(1.0,END)))\n",
    "        conn.commit()\n",
    "        conn.close()\n",
    "        messagebox.showinfo(\"Success\",\"Record added successfully...!\")\n",
    "    else:\n",
    "        messagebox.showinfo(\"Error\",\"Please fill the field first....!\")\n",
    "btnInsert = Button(root,text=\"SAVE\",command=insert) \n",
    "btnInsert.pack()\n",
    "\n",
    "root.mainloop()"
   ]
  },
  {
   "cell_type": "code",
   "execution_count": null,
   "metadata": {},
   "outputs": [],
   "source": []
  }
 ],
 "metadata": {
  "kernelspec": {
   "display_name": "Python 3",
   "language": "python",
   "name": "python3"
  },
  "language_info": {
   "codemirror_mode": {
    "name": "ipython",
    "version": 3
   },
   "file_extension": ".py",
   "mimetype": "text/x-python",
   "name": "python",
   "nbconvert_exporter": "python",
   "pygments_lexer": "ipython3",
   "version": "3.7.4"
  }
 },
 "nbformat": 4,
 "nbformat_minor": 2
}
