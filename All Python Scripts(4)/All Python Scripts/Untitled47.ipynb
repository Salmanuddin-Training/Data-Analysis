{
 "cells": [
  {
   "cell_type": "code",
   "execution_count": 10,
   "metadata": {},
   "outputs": [
    {
     "name": "stdout",
     "output_type": "stream",
     "text": [
      "\n",
      "Bcode :  D1 \n",
      "Bname :  Dhoni \n",
      "Innings :  100 \n",
      "Notout :  6 \n",
      "Runs :  300 \n",
      "Batavg : 3.1914893617021276\n"
     ]
    }
   ],
   "source": [
    "class Batsman:\n",
    "    def __init__(self,bcode,bname,innings,notout,runs):\n",
    "        self.__bcode = bcode\n",
    "        self.__bname = bname\n",
    "        self.__innings = innings\n",
    "        self.__notout = notout\n",
    "        self.__runs = runs\n",
    "\n",
    "    def calcavg(self):\n",
    "        self.__batavg = (self.__runs) / (self.__innings - self.__notout)\n",
    "        return self.__batavg\n",
    "\n",
    "    def readdata(self):\n",
    "       print(\"\\nBcode : \",self.__bcode,\"\\nBname : \",self.__bname,\"\\nInnings : \",self.__innings,\"\\nNotout : \",self.__notout,\"\\nRuns : \",self.__runs,\"\\nBatavg :\",self.calcavg())\n",
    "    \n",
    "    def displaydata(self):\n",
    "        self.readdata()\n",
    "        \n",
    "obj = Batsman(\"D1\",'Dhoni',100,6,300)\n",
    "obj.displaydata()\n"
   ]
  },
  {
   "cell_type": "code",
   "execution_count": 11,
   "metadata": {},
   "outputs": [
    {
     "name": "stdout",
     "output_type": "stream",
     "text": [
      "[6, 10, 16, 20, 26]\n"
     ]
    }
   ],
   "source": [
    "lst=[5,10,15,20,25]\n",
    "lst=list(map(lambda x: x if x%2==0 else x+1, lst))\n",
    "print(lst)"
   ]
  },
  {
   "cell_type": "code",
   "execution_count": null,
   "metadata": {},
   "outputs": [],
   "source": []
  }
 ],
 "metadata": {
  "kernelspec": {
   "display_name": "Python 3",
   "language": "python",
   "name": "python3"
  }
 },
 "nbformat": 4,
 "nbformat_minor": 2
}
