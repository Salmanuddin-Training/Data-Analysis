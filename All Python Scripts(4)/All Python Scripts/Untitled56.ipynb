{
 "cells": [
  {
   "cell_type": "code",
   "execution_count": 3,
   "metadata": {},
   "outputs": [
    {
     "name": "stdout",
     "output_type": "stream",
     "text": [
      "Enter any string....Hello, We are performing File IO operations\n",
      "data save successfully...!\n"
     ]
    }
   ],
   "source": [
    "#File Handling in Python:-\n",
    "#Writing opertion in File\n",
    "\n",
    "f = open(\"E:\\myfile.txt\",\"a\")\n",
    "str=input('Enter any string....')\n",
    "f.write(str)\n",
    "f.close()\n",
    "print('data save successfully...!')"
   ]
  },
  {
   "cell_type": "code",
   "execution_count": 4,
   "metadata": {},
   "outputs": [
    {
     "name": "stdout",
     "output_type": "stream",
     "text": [
      "data save successfully...!\n"
     ]
    }
   ],
   "source": [
    "#Python File : writing lines demo....\n",
    "\n",
    "line=['Hello , Python.\\n','Hello , Django.\\n']\n",
    "f=open(\"e:\\myfile2.txt\",\"w\")\n",
    "f.writelines(line)\n",
    "f.close()\n",
    "print('data save successfully...!')"
   ]
  },
  {
   "cell_type": "code",
   "execution_count": 5,
   "metadata": {},
   "outputs": [
    {
     "name": "stdout",
     "output_type": "stream",
     "text": [
      "Hello , Python.\n",
      "\n"
     ]
    }
   ],
   "source": [
    "#Python Reading operation from a file.....\n",
    "f=open(\"e:\\myfile2.txt\",\"r\")\n",
    "line = f.readline()\n",
    "print(line)\n",
    "f.close()"
   ]
  },
  {
   "cell_type": "code",
   "execution_count": 8,
   "metadata": {},
   "outputs": [
    {
     "name": "stdout",
     "output_type": "stream",
     "text": [
      "public class demo1{\n",
      "\n",
      "   \n",
      "\n",
      "   public static void main(String args[]) throws SQLException\n",
      "\n",
      "\t{\n",
      "\n",
      "            char [] chars = new char[]{'\\u0097'};\n",
      "\n",
      "\t\tString str=new String(chars);\n",
      "\n",
      "\t\tbyte []bytes=str.getBytes();\n",
      "\n",
      "\t\tSystem.out.println(Arrays.toString(bytes));\n",
      "\n",
      "        }\n",
      "\n",
      "}\n"
     ]
    }
   ],
   "source": [
    "#Python Reading operation from a file .....\n",
    "f=open(\"e:\\demo1.java\",\"r\")\n",
    "line = f.readline()\n",
    "while line != '':\n",
    "    print(line)\n",
    "    line=f.readline()\n",
    "f.close()"
   ]
  },
  {
   "cell_type": "code",
   "execution_count": 10,
   "metadata": {},
   "outputs": [
    {
     "name": "stdout",
     "output_type": "stream",
     "text": [
      "Hello , Python.\n",
      "\n",
      "Hello , Django.\n",
      "\n"
     ]
    }
   ],
   "source": [
    "#File Iterator\n",
    "f=open(\"E:\\myfile2.txt\",\"r\")\n",
    "\n",
    "while True:\n",
    "    try:\n",
    "        line=next(f)\n",
    "        print(line)\n",
    "        \n",
    "    except StopIteration:\n",
    "        break\n",
    "        \n",
    "f.close()"
   ]
  },
  {
   "cell_type": "code",
   "execution_count": null,
   "metadata": {},
   "outputs": [],
   "source": []
  },
  {
   "cell_type": "code",
   "execution_count": 11,
   "metadata": {},
   "outputs": [
    {
     "name": "stdout",
     "output_type": "stream",
     "text": [
      "Hello , Python.\n",
      "\n",
      "Hello , Django.\n",
      "\n"
     ]
    }
   ],
   "source": [
    "#Reading line by line using For loop\n",
    "f=open(\"E:\\myfile2.txt\",\"r\")\n",
    "for line in f:\n",
    "    print(line)\n",
    "    \n",
    "f.close()"
   ]
  },
  {
   "cell_type": "code",
   "execution_count": 19,
   "metadata": {},
   "outputs": [
    {
     "name": "stdout",
     "output_type": "stream",
     "text": [
      "\n"
     ]
    }
   ],
   "source": [
    "#Appending & reading a data file\n",
    "f=open(\"E:\\myfile.txt\",\"a+\")\n",
    "f.write('Hello, Welcome to She-Arise...!')\n",
    "line  = f.readline()\n",
    "print(line)\n",
    "f.close()"
   ]
  },
  {
   "cell_type": "code",
   "execution_count": 18,
   "metadata": {},
   "outputs": [
    {
     "name": "stdout",
     "output_type": "stream",
     "text": [
      "Welcome to DJangoHello, We are performing File IO operationsHello, Welcome to She-Arise...!Hello, Welcome to She-Arise...!Hello, Welcome to She-Arise...!Hello, Welcome to She-Arise...!\n"
     ]
    }
   ],
   "source": [
    "f=open(\"E:\\myfile.txt\",\"r\")\n",
    "for line in f:\n",
    "    print(line)\n",
    "    \n",
    "f.close()"
   ]
  },
  {
   "cell_type": "code",
   "execution_count": 22,
   "metadata": {},
   "outputs": [
    {
     "name": "stdout",
     "output_type": "stream",
     "text": [
      " to DJangoHello, We are performing File IO operationsHello, Welcome to She-Arise...!Hello, Welcome to She-Arise...!Hello, Welcome to She-Arise...!Hello, Welcome to She-Arise...!Hello, Welcome to She-Arise...!\n"
     ]
    }
   ],
   "source": [
    "#read or write into the file at a specific pos....\n",
    "f=open(\"E:\\myfile.txt\",\"a+\")\n",
    "f.seek(7,0)\n",
    "lines  = f.readlines()\n",
    "for line in lines:\n",
    "    print(line)\n",
    "f.close()\n",
    "\n"
   ]
  },
  {
   "cell_type": "code",
   "execution_count": 23,
   "metadata": {},
   "outputs": [],
   "source": [
    "#Python -Writing to a Binary file\n",
    "f=open(\"mybinfile.bin\",\"wb\")\n",
    "num=[2,4,6,8,10]\n",
    "arr = bytearray(num)\n",
    "f.write(arr)\n",
    "f.close()"
   ]
  },
  {
   "cell_type": "code",
   "execution_count": 24,
   "metadata": {},
   "outputs": [
    {
     "name": "stdout",
     "output_type": "stream",
     "text": [
      "[2, 4, 6, 8, 10]\n"
     ]
    }
   ],
   "source": [
    "#Python- Reading data from a binary file\n",
    "f = open(\"mybinfile.bin\",\"rb\")\n",
    "num=list(f.read())\n",
    "print(num)\n",
    "f.close()"
   ]
  },
  {
   "cell_type": "code",
   "execution_count": 20,
   "metadata": {},
   "outputs": [
    {
     "name": "stdout",
     "output_type": "stream",
     "text": [
      "folder created successfully...!\n"
     ]
    }
   ],
   "source": [
    "#Python- OS Module\n",
    "#mkdir()\n",
    "\n",
    "import os\n",
    "\n",
    "os.mkdir(\"E:\\\\python_data\")\n",
    "print('folder created successfully...!')"
   ]
  },
  {
   "cell_type": "code",
   "execution_count": 21,
   "metadata": {},
   "outputs": [
    {
     "data": {
      "text/plain": [
       "'e:\\\\'"
      ]
     },
     "execution_count": 21,
     "metadata": {},
     "output_type": "execute_result"
    }
   ],
   "source": [
    "#how to get current working directory\n",
    "import os\n",
    "\n",
    "os.getcwd()\n"
   ]
  },
  {
   "cell_type": "code",
   "execution_count": 3,
   "metadata": {},
   "outputs": [
    {
     "name": "stdout",
     "output_type": "stream",
     "text": [
      "Enter any string....This is my new file.\n",
      "data save successfully...!\n"
     ]
    }
   ],
   "source": [
    "#File Handling in Python:-\n",
    "#Writing opertion in File\n",
    "\n",
    "f = open(\"student_data.txt\",\"a\")\n",
    "str=input('Enter any string....')\n",
    "f.write(str)\n",
    "f.close()\n",
    "print('data save successfully...!')"
   ]
  },
  {
   "cell_type": "code",
   "execution_count": 22,
   "metadata": {},
   "outputs": [],
   "source": [
    "#how to change current working directory\n",
    "import os\n",
    "\n",
    "os.chdir(\"e:\\\\python_data\")\n"
   ]
  },
  {
   "cell_type": "code",
   "execution_count": 23,
   "metadata": {},
   "outputs": [
    {
     "data": {
      "text/plain": [
       "'e:\\\\python_data'"
      ]
     },
     "execution_count": 23,
     "metadata": {},
     "output_type": "execute_result"
    }
   ],
   "source": [
    "import os\n",
    "os.getcwd()"
   ]
  },
  {
   "cell_type": "code",
   "execution_count": 24,
   "metadata": {},
   "outputs": [
    {
     "name": "stdout",
     "output_type": "stream",
     "text": [
      "Enter any string....hi\n",
      "data save successfully...!\n"
     ]
    }
   ],
   "source": [
    "#File Handling in Python:-\n",
    "#Writing opertion in File\n",
    "\n",
    "f = open(\"student_data.txt\",\"a\")\n",
    "str=input('Enter any string....')\n",
    "f.write(str)\n",
    "f.close()\n",
    "print('data save successfully...!')"
   ]
  },
  {
   "cell_type": "code",
   "execution_count": 12,
   "metadata": {},
   "outputs": [
    {
     "name": "stdout",
     "output_type": "stream",
     "text": [
      "folder deleted successfully...!\n"
     ]
    }
   ],
   "source": [
    "#how to remove directory\n",
    "import os\n",
    "\n",
    "os.rmdir(\"e:\\\\python_data\")\n",
    "print('folder deleted successfully...!')"
   ]
  },
  {
   "cell_type": "code",
   "execution_count": 14,
   "metadata": {},
   "outputs": [
    {
     "data": {
      "text/plain": [
       "'e:\\\\'"
      ]
     },
     "execution_count": 14,
     "metadata": {},
     "output_type": "execute_result"
    }
   ],
   "source": [
    "import os\n",
    "os.getcwd()"
   ]
  },
  {
   "cell_type": "code",
   "execution_count": 18,
   "metadata": {},
   "outputs": [
    {
     "data": {
      "text/plain": [
       "'e:\\\\'"
      ]
     },
     "execution_count": 18,
     "metadata": {},
     "output_type": "execute_result"
    }
   ],
   "source": [
    "import os\n",
    "os.chdir(\"..\")\n",
    "os.getcwd()"
   ]
  },
  {
   "cell_type": "code",
   "execution_count": 19,
   "metadata": {},
   "outputs": [],
   "source": [
    "import shutil\n",
    "\n",
    "shutil.rmtree(\"e:\\\\python_data\")"
   ]
  },
  {
   "cell_type": "code",
   "execution_count": 26,
   "metadata": {},
   "outputs": [
    {
     "name": "stdout",
     "output_type": "stream",
     "text": [
      "file removed successfully...!\n"
     ]
    }
   ],
   "source": [
    "import os\n",
    "\n",
    "os.remove(\"e:\\\\python_data\\student_data.txt\")\n",
    "print('file removed successfully...!')"
   ]
  },
  {
   "cell_type": "code",
   "execution_count": 29,
   "metadata": {},
   "outputs": [
    {
     "data": {
      "text/plain": [
       "['aa.txt',\n",
       " 'aman',\n",
       " 'Ashish',\n",
       " 'dd.txt',\n",
       " 'lily.jpg',\n",
       " 'marigold.jpg',\n",
       " 'renFile.txt',\n",
       " 'rose.jpg',\n",
       " 'SQL2008.AdventureWorksLT2008_Only_Database',\n",
       " 'sunflower.jpg',\n",
       " 'work.txt']"
      ]
     },
     "execution_count": 29,
     "metadata": {},
     "output_type": "execute_result"
    }
   ],
   "source": [
    "import os\n",
    "os.getcwd()\n",
    "os.chdir(\"C:\\\\Test\")\n",
    "os.getcwd()\n",
    "os.listdir()"
   ]
  },
  {
   "cell_type": "code",
   "execution_count": 30,
   "metadata": {},
   "outputs": [
    {
     "name": "stdout",
     "output_type": "stream",
     "text": [
      "Hello -f. Welcome to C:\\Users\\Rajesh\\AppData\\Roaming\\jupyter\\runtime\\kernel-24625787-eb33-4d57-93bb-8e2cb6d6cdb8.json\n"
     ]
    }
   ],
   "source": [
    "#Python - Sys-Module\n",
    "import sys\n",
    "\n",
    "print(\"Hello {}. Welcome to {}\".format(sys.argv[1],sys.argv[2]))"
   ]
  },
  {
   "cell_type": "code",
   "execution_count": 31,
   "metadata": {},
   "outputs": [
    {
     "data": {
      "text/plain": [
       "<function sys.exit>"
      ]
     },
     "execution_count": 31,
     "metadata": {},
     "output_type": "execute_result"
    }
   ],
   "source": [
    "import sys\n",
    "\n",
    "sys.exit"
   ]
  },
  {
   "cell_type": "code",
   "execution_count": 32,
   "metadata": {},
   "outputs": [
    {
     "data": {
      "text/plain": [
       "['C:\\\\Users\\\\Rajesh',\n",
       " 'C:\\\\Users\\\\Rajesh\\\\Anaconda3\\\\python37.zip',\n",
       " 'C:\\\\Users\\\\Rajesh\\\\Anaconda3\\\\DLLs',\n",
       " 'C:\\\\Users\\\\Rajesh\\\\Anaconda3\\\\lib',\n",
       " 'C:\\\\Users\\\\Rajesh\\\\Anaconda3',\n",
       " '',\n",
       " 'C:\\\\Users\\\\Rajesh\\\\Anaconda3\\\\lib\\\\site-packages',\n",
       " 'C:\\\\Users\\\\Rajesh\\\\Anaconda3\\\\lib\\\\site-packages\\\\win32',\n",
       " 'C:\\\\Users\\\\Rajesh\\\\Anaconda3\\\\lib\\\\site-packages\\\\win32\\\\lib',\n",
       " 'C:\\\\Users\\\\Rajesh\\\\Anaconda3\\\\lib\\\\site-packages\\\\Pythonwin',\n",
       " 'C:\\\\Users\\\\Rajesh\\\\Anaconda3\\\\lib\\\\site-packages\\\\IPython\\\\extensions',\n",
       " 'C:\\\\Users\\\\Rajesh\\\\.ipython']"
      ]
     },
     "execution_count": 32,
     "metadata": {},
     "output_type": "execute_result"
    }
   ],
   "source": [
    "import sys\n",
    "sys.path"
   ]
  },
  {
   "cell_type": "code",
   "execution_count": 33,
   "metadata": {},
   "outputs": [
    {
     "data": {
      "text/plain": [
       "'3.7.4 (default, Aug  9 2019, 18:34:13) [MSC v.1915 64 bit (AMD64)]'"
      ]
     },
     "execution_count": 33,
     "metadata": {},
     "output_type": "execute_result"
    }
   ],
   "source": [
    "import sys\n",
    "\n",
    "sys.version"
   ]
  },
  {
   "cell_type": "code",
   "execution_count": 48,
   "metadata": {},
   "outputs": [
    {
     "data": {
      "text/plain": [
       "9.0"
      ]
     },
     "execution_count": 48,
     "metadata": {},
     "output_type": "execute_result"
    }
   ],
   "source": [
    "#Python Math-module\n",
    "import math\n",
    "\n",
    "math.pi\n",
    "math.e\n",
    "math.radians(30)\n",
    "math.log(10)\n",
    "math.exp(10)\n",
    "math.pow(2,4)\n",
    "math.sqrt(81)\n"
   ]
  },
  {
   "cell_type": "code",
   "execution_count": 49,
   "metadata": {},
   "outputs": [
    {
     "data": {
      "text/plain": [
       "5"
      ]
     },
     "execution_count": 49,
     "metadata": {},
     "output_type": "execute_result"
    }
   ],
   "source": [
    "#Python statistics Module\n",
    "\n",
    "import statistics\n",
    "statistics.mean([2,4,6,8])"
   ]
  },
  {
   "cell_type": "code",
   "execution_count": 51,
   "metadata": {},
   "outputs": [
    {
     "data": {
      "text/plain": [
       "6"
      ]
     },
     "execution_count": 51,
     "metadata": {},
     "output_type": "execute_result"
    }
   ],
   "source": [
    "#Python statistics Module\n",
    "\n",
    "import statistics\n",
    "statistics.median([2,4,6,8,9])"
   ]
  },
  {
   "cell_type": "code",
   "execution_count": 52,
   "metadata": {},
   "outputs": [
    {
     "data": {
      "text/plain": [
       "2"
      ]
     },
     "execution_count": 52,
     "metadata": {},
     "output_type": "execute_result"
    }
   ],
   "source": [
    "#Python statistics Module\n",
    "\n",
    "import statistics\n",
    "statistics.mode([2,4,2,6,8,9,2])"
   ]
  },
  {
   "cell_type": "code",
   "execution_count": 53,
   "metadata": {},
   "outputs": [
    {
     "data": {
      "text/plain": [
       "1.224744871391589"
      ]
     },
     "execution_count": 53,
     "metadata": {},
     "output_type": "execute_result"
    }
   ],
   "source": [
    "#Python statistics Module\n",
    "\n",
    "import statistics\n",
    "statistics.stdev([1,1.5,2,2.5,3,3.5,4,4.5])"
   ]
  },
  {
   "cell_type": "code",
   "execution_count": 71,
   "metadata": {},
   "outputs": [
    {
     "name": "stdout",
     "output_type": "stream",
     "text": [
      "John   20\n"
     ]
    }
   ],
   "source": [
    "#Python Collections module:-\n",
    "import collections\n",
    "\n",
    "student=collections.namedtuple('student',['name','age','marks'])\n",
    "s1=student(\"John\",20,89.5)\n",
    "print(s1.name,\" \",s1.age)"
   ]
  },
  {
   "cell_type": "code",
   "execution_count": 69,
   "metadata": {},
   "outputs": [
    {
     "name": "stdout",
     "output_type": "stream",
     "text": [
      "a 10\n",
      "b 20\n",
      "c 30\n",
      "d 40\n"
     ]
    }
   ],
   "source": [
    "import collections\n",
    "d1=collections.OrderedDict()\n",
    "d1['a']=10\n",
    "d1['b']=20\n",
    "d1['c']=30\n",
    "d1['d']=40\n",
    "\n",
    "for k,v in d1.items():\n",
    "    print(k,v)"
   ]
  },
  {
   "cell_type": "code",
   "execution_count": null,
   "metadata": {},
   "outputs": [],
   "source": []
  }
 ],
 "metadata": {
  "kernelspec": {
   "display_name": "Python 3",
   "language": "python",
   "name": "python3"
  },
  "language_info": {
   "codemirror_mode": {
    "name": "ipython",
    "version": 3
   },
   "file_extension": ".py",
   "mimetype": "text/x-python",
   "name": "python",
   "nbconvert_exporter": "python",
   "pygments_lexer": "ipython3",
   "version": "3.7.4"
  }
 },
 "nbformat": 4,
 "nbformat_minor": 2
}
