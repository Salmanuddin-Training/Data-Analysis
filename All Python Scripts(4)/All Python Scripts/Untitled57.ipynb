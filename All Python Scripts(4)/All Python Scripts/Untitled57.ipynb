{
 "cells": [
  {
   "cell_type": "code",
   "execution_count": 4,
   "metadata": {},
   "outputs": [
    {
     "name": "stdout",
     "output_type": "stream",
     "text": [
      "Enter fist no. :4\n",
      "Enter second no.: 0\n",
      "Error : Wrong no. entered by the user...Try again...\n",
      "Prog ends here\n"
     ]
    }
   ],
   "source": [
    "#Python ...try except\n",
    "n1= int(input('Enter fist no. :'))\n",
    "n2= int(input('Enter second no.: '))\n",
    "\n",
    "try:\n",
    "    n3 = n1/n2\n",
    "    print(\"Result : \",n3)\n",
    "    \n",
    "except:\n",
    "    print(\"Error : Wrong no. entered by the user...Try again...\")\n",
    "    \n",
    "print(\"Prog ends here\")"
   ]
  },
  {
   "cell_type": "code",
   "execution_count": 8,
   "metadata": {},
   "outputs": [
    {
     "ename": "TypeError",
     "evalue": "unsupported operand type(s) for /: 'int' and 'str'",
     "output_type": "error",
     "traceback": [
      "\u001b[1;31m---------------------------------------------------------------------------\u001b[0m",
      "\u001b[1;31mTypeError\u001b[0m                                 Traceback (most recent call last)",
      "\u001b[1;32m<ipython-input-8-376444694c9b>\u001b[0m in \u001b[0;36m<module>\u001b[1;34m\u001b[0m\n\u001b[0;32m      1\u001b[0m \u001b[0ma\u001b[0m\u001b[1;33m=\u001b[0m\u001b[1;36m3\u001b[0m\u001b[1;33m\u001b[0m\u001b[1;33m\u001b[0m\u001b[0m\n\u001b[0;32m      2\u001b[0m \u001b[0mb\u001b[0m\u001b[1;33m=\u001b[0m\u001b[1;34m'0'\u001b[0m\u001b[1;33m\u001b[0m\u001b[1;33m\u001b[0m\u001b[0m\n\u001b[1;32m----> 3\u001b[1;33m \u001b[0mprint\u001b[0m\u001b[1;33m(\u001b[0m\u001b[0ma\u001b[0m\u001b[1;33m/\u001b[0m\u001b[0mb\u001b[0m\u001b[1;33m)\u001b[0m\u001b[1;33m\u001b[0m\u001b[1;33m\u001b[0m\u001b[0m\n\u001b[0m\u001b[0;32m      4\u001b[0m \u001b[1;33m\u001b[0m\u001b[0m\n",
      "\u001b[1;31mTypeError\u001b[0m: unsupported operand type(s) for /: 'int' and 'str'"
     ]
    }
   ],
   "source": [
    "\n",
    "    a=3\n",
    "    b='0'\n",
    "    print(a/b)\n",
    "\n"
   ]
  },
  {
   "cell_type": "code",
   "execution_count": 10,
   "metadata": {},
   "outputs": [
    {
     "name": "stdout",
     "output_type": "stream",
     "text": [
      "Unsupported exception\n",
      "Prog. ends here..!\n"
     ]
    }
   ],
   "source": [
    "try:\n",
    "    a=5\n",
    "    b=0\n",
    "    print(a/b)\n",
    "\n",
    "except TypeError:\n",
    "    print('Unsupported exception')\n",
    "\n",
    "except ZeroDivisionError:\n",
    "    print('Division by zero is allowed')\n",
    "\n",
    "print('Prog. ends here..!')"
   ]
  },
  {
   "cell_type": "code",
   "execution_count": 11,
   "metadata": {},
   "outputs": [
    {
     "name": "stdout",
     "output_type": "stream",
     "text": [
      "try block\n",
      "Enter 1st no. :3\n",
      "Enter 2nd no. :0\n",
      "except ZeroDivisionEror block\n",
      "Divison by 0 is not possoble\n",
      "fianlly block\n",
      "Prog.ends here\n"
     ]
    }
   ],
   "source": [
    "#else and finally block inside Python\n",
    "try:\n",
    "    print(\"try block\")\n",
    "    n1= int(input(\"Enter 1st no. :\"))\n",
    "    n2= int(input(\"Enter 2nd no. :\"))\n",
    "    \n",
    "    n3=n1/n2\n",
    "except ZeroDivisionError:\n",
    "    print(\"except ZeroDivisionEror block\")\n",
    "    print(\"Divison by 0 is not possoble\")\n",
    "\n",
    "else:\n",
    "    print(\"Else block\")\n",
    "    print(\"division :\"+n3)\n",
    "\n",
    "finally:\n",
    "    print(\"finally block\")\n",
    "    n1=0\n",
    "    n2=0\n",
    "\n",
    "print(\"Prog.ends here\")\n",
    "    \n",
    "    \n"
   ]
  },
  {
   "cell_type": "code",
   "execution_count": null,
   "metadata": {},
   "outputs": [],
   "source": []
  }
 ],
 "metadata": {
  "kernelspec": {
   "display_name": "Python 3",
   "language": "python",
   "name": "python3"
  },
  "language_info": {
   "codemirror_mode": {
    "name": "ipython",
    "version": 3
   },
   "file_extension": ".py",
   "mimetype": "text/x-python",
   "name": "python",
   "nbconvert_exporter": "python",
   "pygments_lexer": "ipython3",
   "version": "3.7.4"
  }
 },
 "nbformat": 4,
 "nbformat_minor": 2
}
