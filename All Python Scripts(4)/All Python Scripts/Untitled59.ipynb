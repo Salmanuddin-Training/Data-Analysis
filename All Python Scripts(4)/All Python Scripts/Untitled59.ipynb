{
 "cells": [
  {
   "cell_type": "code",
   "execution_count": 6,
   "metadata": {},
   "outputs": [
    {
     "name": "stdout",
     "output_type": "stream",
     "text": [
      "{'C001': 'Python', 'C002': 'Django', 'C003': 'Pyramid'}\n",
      "('C003', 'Pyramid')\n",
      "Python\n",
      "{'C002': 'Django'}\n"
     ]
    }
   ],
   "source": [
    "#popitem() - remove the item that was last in dictionary\n",
    "course={\"C001\":\"Python\",\"C002\":\"Django\",\"C003\":\"Pyramid\"}\n",
    "print(course)\n",
    "print(course.popitem())\n",
    "print(course.pop(\"C001\"))\n",
    "print(course)"
   ]
  },
  {
   "cell_type": "code",
   "execution_count": 13,
   "metadata": {},
   "outputs": [
    {
     "name": "stdout",
     "output_type": "stream",
     "text": [
      "{'101': (2, 4), '102': (2, 4), '103': (2, 4)}\n"
     ]
    }
   ],
   "source": [
    "dictkey=(\"101\",\"102\",\"103\")\n",
    "dictval=2,4\n",
    "\n",
    "mydict=dict.fromkeys(dictkey,dictval)\n",
    "print(mydict)"
   ]
  },
  {
   "cell_type": "code",
   "execution_count": 8,
   "metadata": {},
   "outputs": [
    {
     "name": "stdout",
     "output_type": "stream",
     "text": [
      "{'101': None, '102': None, '103': None}\n"
     ]
    }
   ],
   "source": [
    "dictkey=(\"101\",\"102\",\"103\")\n",
    "\n",
    "\n",
    "mydict=dict.fromkeys(dictkey)\n",
    "print(mydict)"
   ]
  },
  {
   "cell_type": "code",
   "execution_count": 16,
   "metadata": {},
   "outputs": [
    {
     "name": "stdout",
     "output_type": "stream",
     "text": [
      "H\n"
     ]
    },
    {
     "ename": "TypeError",
     "evalue": "'str' object does not support item assignment",
     "output_type": "error",
     "traceback": [
      "\u001b[1;31m---------------------------------------------------------------------------\u001b[0m",
      "\u001b[1;31mTypeError\u001b[0m                                 Traceback (most recent call last)",
      "\u001b[1;32m<ipython-input-16-5444d6bf41f7>\u001b[0m in \u001b[0;36m<module>\u001b[1;34m\u001b[0m\n\u001b[0;32m      2\u001b[0m \u001b[0mstr\u001b[0m\u001b[1;33m\u001b[0m\u001b[1;33m\u001b[0m\u001b[0m\n\u001b[0;32m      3\u001b[0m \u001b[0mprint\u001b[0m\u001b[1;33m(\u001b[0m\u001b[0mstr\u001b[0m\u001b[1;33m[\u001b[0m\u001b[1;36m0\u001b[0m\u001b[1;33m]\u001b[0m\u001b[1;33m)\u001b[0m\u001b[1;33m\u001b[0m\u001b[1;33m\u001b[0m\u001b[0m\n\u001b[1;32m----> 4\u001b[1;33m \u001b[0mstr\u001b[0m\u001b[1;33m[\u001b[0m\u001b[1;36m0\u001b[0m\u001b[1;33m]\u001b[0m\u001b[1;33m=\u001b[0m\u001b[1;34m'Y'\u001b[0m\u001b[1;33m\u001b[0m\u001b[1;33m\u001b[0m\u001b[0m\n\u001b[0m\u001b[0;32m      5\u001b[0m \u001b[0mprint\u001b[0m\u001b[1;33m(\u001b[0m\u001b[0mstr\u001b[0m\u001b[1;33m)\u001b[0m\u001b[1;33m\u001b[0m\u001b[1;33m\u001b[0m\u001b[0m\n",
      "\u001b[1;31mTypeError\u001b[0m: 'str' object does not support item assignment"
     ]
    }
   ],
   "source": [
    "str= \"Hello Python\"\n",
    "str\n",
    "print(str[0])\n",
    "str[0]='Y'\n",
    "print(str)"
   ]
  },
  {
   "cell_type": "code",
   "execution_count": 17,
   "metadata": {},
   "outputs": [
    {
     "name": "stdout",
     "output_type": "stream",
     "text": [
      "Welcome to Python Strings\n"
     ]
    }
   ],
   "source": [
    "str = \"\"\"Welcome to Python Strings\"\"\"\n",
    "print(str)"
   ]
  },
  {
   "cell_type": "code",
   "execution_count": 20,
   "metadata": {},
   "outputs": [
    {
     "name": "stdout",
     "output_type": "stream",
     "text": [
      "Hello\tPython\n",
      "Djangp\n",
      "Pyramid\n",
      "\bDjango\n"
     ]
    }
   ],
   "source": [
    "#escape characters \\a, \\b,\\f,\\n,\\nnn,\\t,\\xn\n",
    "print(\"Hello\\tPython\")\n",
    "print(\"Djangp\\nPyramid\")\n",
    "print(\"\\bDjango\")\n"
   ]
  },
  {
   "cell_type": "code",
   "execution_count": 23,
   "metadata": {},
   "outputs": [
    {
     "name": "stdout",
     "output_type": "stream",
     "text": [
      "A\n"
     ]
    }
   ],
   "source": [
    "print(\"\\x41\")"
   ]
  },
  {
   "cell_type": "code",
   "execution_count": 1,
   "metadata": {},
   "outputs": [
    {
     "name": "stdout",
     "output_type": "stream",
     "text": [
      "PythonDjango\n"
     ]
    }
   ],
   "source": [
    "#String operators:-\n",
    "#+,*,[],[:],in,not in\n",
    "\n",
    "#    (+) concatenation Op.\n",
    "str1 = \"Python\"\n",
    "str2 = \"Django\"\n",
    "print(str1+str2)\n",
    "\n"
   ]
  },
  {
   "cell_type": "code",
   "execution_count": 2,
   "metadata": {},
   "outputs": [
    {
     "name": "stdout",
     "output_type": "stream",
     "text": [
      "PythonPythonPython\n"
     ]
    }
   ],
   "source": [
    "#    (*) repeater Op.\n",
    "str1 = \"Python\"\n",
    "print(str1*3)"
   ]
  },
  {
   "cell_type": "code",
   "execution_count": 8,
   "metadata": {},
   "outputs": [
    {
     "name": "stdout",
     "output_type": "stream",
     "text": [
      "\t\n",
      "14\n"
     ]
    }
   ],
   "source": [
    "#    ([])  \n",
    "str1 = \"Python\\tDjango!\"\n",
    "print(str1[6])\n",
    "\n",
    "print(len(str1)) #14,13 12"
   ]
  },
  {
   "cell_type": "code",
   "execution_count": 15,
   "metadata": {},
   "outputs": [
    {
     "name": "stdout",
     "output_type": "stream",
     "text": [
      "16\n"
     ]
    }
   ],
   "source": [
    "str1 = \"Python\\nnnDjango!\"\n",
    "print(len(str1))"
   ]
  },
  {
   "cell_type": "code",
   "execution_count": 16,
   "metadata": {},
   "outputs": [
    {
     "name": "stdout",
     "output_type": "stream",
     "text": [
      "Python\n"
     ]
    }
   ],
   "source": [
    "# range ([:])\n",
    "str=\"Hello Python\"\n",
    "print(str[6:12])\n"
   ]
  },
  {
   "cell_type": "code",
   "execution_count": 19,
   "metadata": {},
   "outputs": [
    {
     "name": "stdout",
     "output_type": "stream",
     "text": [
      "False\n"
     ]
    }
   ],
   "source": [
    "# in operator\n",
    "str=\"Hello we are learning Strings in Python\"\n",
    "print(\"We are learning\" in str)"
   ]
  },
  {
   "cell_type": "code",
   "execution_count": 20,
   "metadata": {},
   "outputs": [
    {
     "name": "stdout",
     "output_type": "stream",
     "text": [
      "False\n"
     ]
    }
   ],
   "source": [
    "# not in operator\n",
    "str=\"Hello we are learning Strings in Python\"\n",
    "print(\"we are learning\" not in str)"
   ]
  },
  {
   "cell_type": "code",
   "execution_count": 23,
   "metadata": {},
   "outputs": [
    {
     "name": "stdout",
     "output_type": "stream",
     "text": [
      "Hello python\n"
     ]
    }
   ],
   "source": [
    "#In -built methods \n",
    "#capitalize() - used to capatalize the first character of a string\n",
    "str=\"hello python\"\n",
    "print(str.capitalize())"
   ]
  },
  {
   "cell_type": "code",
   "execution_count": 24,
   "metadata": {},
   "outputs": [
    {
     "name": "stdout",
     "output_type": "stream",
     "text": [
      "Hello Python\n"
     ]
    }
   ],
   "source": [
    "#In -built methods \n",
    "#title() - used to capatalize the first character of each word of a string\n",
    "str=\"hello python\"\n",
    "print(str.title())"
   ]
  },
  {
   "cell_type": "code",
   "execution_count": 26,
   "metadata": {},
   "outputs": [
    {
     "name": "stdout",
     "output_type": "stream",
     "text": [
      "HELLO PYTHON\n"
     ]
    }
   ],
   "source": [
    "#In -built methods \n",
    "#upper() - used to convert lowercase to uppercase a string\n",
    "str=\"Hello Python\"\n",
    "print(str.upper())"
   ]
  },
  {
   "cell_type": "code",
   "execution_count": 28,
   "metadata": {},
   "outputs": [
    {
     "name": "stdout",
     "output_type": "stream",
     "text": [
      "hello python\n"
     ]
    }
   ],
   "source": [
    "#In -built methods \n",
    "#lower() - used to convert uppercase to lowercase a string\n",
    "str=\"HELLO Python\"\n",
    "print(str.lower())"
   ]
  },
  {
   "cell_type": "code",
   "execution_count": 30,
   "metadata": {},
   "outputs": [
    {
     "name": "stdout",
     "output_type": "stream",
     "text": [
      "-1\n"
     ]
    }
   ],
   "source": [
    "#In -built methods \n",
    "#find() - used to find the first occurences of a substring in another string....if not found -1\n",
    "str=\"We are learning Python. Strings are there in Python\"\n",
    "print(str.find('python'))"
   ]
  },
  {
   "cell_type": "code",
   "execution_count": 32,
   "metadata": {},
   "outputs": [
    {
     "name": "stdout",
     "output_type": "stream",
     "text": [
      "3\n"
     ]
    }
   ],
   "source": [
    "#In -built methods \n",
    "#count() - used to retuns count the opccurencers for a substring in String \n",
    "str=\"We are learning Python. Strings are there in Python Python\"\n",
    "print(str.count('Python'))"
   ]
  },
  {
   "cell_type": "code",
   "execution_count": 35,
   "metadata": {},
   "outputs": [
    {
     "name": "stdout",
     "output_type": "stream",
     "text": [
      "True\n"
     ]
    }
   ],
   "source": [
    "#In -built methods \n",
    "#isalpha() - used to characters in  String are alphabets\n",
    "str=\"Python\"\n",
    "print(str.isalpha())"
   ]
  },
  {
   "cell_type": "code",
   "execution_count": 37,
   "metadata": {},
   "outputs": [
    {
     "name": "stdout",
     "output_type": "stream",
     "text": [
      "False\n"
     ]
    }
   ],
   "source": [
    "#In -built methods \n",
    "#isdigit() - used to characters in  String are alphabets\n",
    "str=\"10,000\"\n",
    "print(str.isdigit())"
   ]
  },
  {
   "cell_type": "code",
   "execution_count": null,
   "metadata": {},
   "outputs": [],
   "source": []
  }
 ],
 "metadata": {
  "kernelspec": {
   "display_name": "Python 3",
   "language": "python",
   "name": "python3"
  },
  "language_info": {
   "codemirror_mode": {
    "name": "ipython",
    "version": 3
   },
   "file_extension": ".py",
   "mimetype": "text/x-python",
   "name": "python",
   "nbconvert_exporter": "python",
   "pygments_lexer": "ipython3",
   "version": "3.7.4"
  }
 },
 "nbformat": 4,
 "nbformat_minor": 2
}
