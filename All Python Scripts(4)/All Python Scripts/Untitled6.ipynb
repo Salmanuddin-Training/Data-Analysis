{
 "cells": [
  {
   "cell_type": "code",
   "execution_count": 2,
   "metadata": {},
   "outputs": [
    {
     "name": "stdout",
     "output_type": "stream",
     "text": [
      "4\n"
     ]
    }
   ],
   "source": [
    "print(0b100)"
   ]
  },
  {
   "cell_type": "code",
   "execution_count": 5,
   "metadata": {},
   "outputs": [
    {
     "name": "stdout",
     "output_type": "stream",
     "text": [
      "2476979795053773/2251799813685248\n",
      "11/10\n"
     ]
    }
   ],
   "source": [
    "import fractions\n",
    "print(fractions.Fraction(1.1))\n",
    "print(fractions.Fraction('1.1'))"
   ]
  },
  {
   "cell_type": "code",
   "execution_count": 7,
   "metadata": {},
   "outputs": [
    {
     "name": "stdout",
     "output_type": "stream",
     "text": [
      "3.141592653589793\n"
     ]
    }
   ],
   "source": [
    "import math\n",
    "\n",
    "print(math.pi)"
   ]
  },
  {
   "cell_type": "code",
   "execution_count": 10,
   "metadata": {},
   "outputs": [
    {
     "name": "stdout",
     "output_type": "stream",
     "text": [
      "Enter any number7\n",
      "5040\n"
     ]
    }
   ],
   "source": [
    "import math\n",
    "\n",
    "num = int(input('Enter any number'))\n",
    "print (math.factorial(num))"
   ]
  },
  {
   "cell_type": "code",
   "execution_count": 11,
   "metadata": {},
   "outputs": [
    {
     "name": "stdout",
     "output_type": "stream",
     "text": [
      "-1.0\n"
     ]
    }
   ],
   "source": [
    "import math\n",
    "\n",
    "print(math.cos(math.pi))\n"
   ]
  },
  {
   "cell_type": "code",
   "execution_count": 14,
   "metadata": {},
   "outputs": [
    {
     "name": "stdout",
     "output_type": "stream",
     "text": [
      "N\n"
     ]
    }
   ],
   "source": [
    "my_list = ['P','Y','T','H','O','N']\n",
    "print(my_list[-1])"
   ]
  },
  {
   "cell_type": "code",
   "execution_count": 16,
   "metadata": {},
   "outputs": [
    {
     "name": "stdout",
     "output_type": "stream",
     "text": [
      "Python\n"
     ]
    }
   ],
   "source": [
    "course_list = [\"C\",\"C++\",\"Python\",\"JAVA\"]\n",
    "print(course_list[-2])"
   ]
  },
  {
   "cell_type": "code",
   "execution_count": 17,
   "metadata": {},
   "outputs": [
    {
     "name": "stdout",
     "output_type": "stream",
     "text": [
      "Laptop price is :  50000\n"
     ]
    }
   ],
   "source": [
    "product_list = [1001,\"Laptop\",50000,5]\n",
    "print('Laptop price is : ',product_list[2])"
   ]
  },
  {
   "cell_type": "code",
   "execution_count": 20,
   "metadata": {},
   "outputs": [
    {
     "name": "stdout",
     "output_type": "stream",
     "text": [
      "a\n",
      "Happy\n",
      "2\n"
     ]
    }
   ],
   "source": [
    "n_list = [\"Happy\", [2,0,1,5]]\n",
    "print(n_list[0][1])\n",
    "print(n_list[0])\n",
    "print(n_list[1][0])"
   ]
  },
  {
   "cell_type": "code",
   "execution_count": 24,
   "metadata": {},
   "outputs": [
    {
     "name": "stdout",
     "output_type": "stream",
     "text": [
      "[2, 4, 6, 8]\n",
      "[1, 4, 6, 8]\n",
      "[1, 3, 5, 8]\n"
     ]
    }
   ],
   "source": [
    "odd =[2,4,6,8]\n",
    "print(odd)\n",
    "odd[0] =1\n",
    "print(odd)\n",
    "odd[1:3] = [3,5]  \n",
    "print(odd)"
   ]
  },
  {
   "cell_type": "code",
   "execution_count": 25,
   "metadata": {},
   "outputs": [
    {
     "name": "stdout",
     "output_type": "stream",
     "text": [
      "[1, 2, 0, 4, 0]\n"
     ]
    }
   ],
   "source": [
    "my_list = [1,2,3,4,5]\n",
    "my_list[2::2] = [0,0]\n",
    "print(my_list)"
   ]
  },
  {
   "cell_type": "code",
   "execution_count": 30,
   "metadata": {},
   "outputs": [
    {
     "name": "stdout",
     "output_type": "stream",
     "text": [
      "[0, 2, 2, 0]\n",
      "[1, 1, 4, 4]\n",
      "[[0, 2, 2, 0], [1, 1, 4, 4]]\n"
     ]
    }
   ],
   "source": [
    "n_list = [[0,0,0,0], [1,1,1,1]]\n",
    "n_list[0][1:3] =[2,2] \n",
    "n_list[1][2:4] =[4,4]\n",
    "print(n_list[0])\n",
    "print(n_list[1])\n",
    "\n",
    "print(n_list)\n"
   ]
  },
  {
   "cell_type": "code",
   "execution_count": 4,
   "metadata": {},
   "outputs": [
    {
     "name": "stdout",
     "output_type": "stream",
     "text": [
      "Original list  ['Python', 'Hibernate', 'Ionic', 'Jquery']\n",
      "update list :  ['Python', 'Bootstrap', 'Ionic', 'Jquery']\n",
      "Final list :  ['Python', 'Bootstrap', 'Ionic', 'Jquery', 'Angular']\n",
      "List  ['Python', 'Bootstrap', 'Ionic', 'Jquery', 'Angular', 'Flask', 'Django', 'Pyramid']\n"
     ]
    }
   ],
   "source": [
    "course_lst = [\"Python\",\"Hibernate\",\"Ionic\",\"Jquery\"]\n",
    "print('Original list ',course_lst)\n",
    "course_lst[1] = \"Bootstrap\"\n",
    "print('update list : ',course_lst)\n",
    "course_lst.append(\"Angular\")\n",
    "print('Final list : ',course_lst)\n",
    "course_lst.extend([\"Flask\",\"Django\",\"Pyramid\"])\n",
    "print('List ',course_lst)\n",
    "\n"
   ]
  },
  {
   "cell_type": "code",
   "execution_count": 5,
   "metadata": {},
   "outputs": [
    {
     "name": "stdout",
     "output_type": "stream",
     "text": [
      "['pyhton', 'pyhton']\n"
     ]
    }
   ],
   "source": [
    "print([\"pyhton\"]*2)"
   ]
  },
  {
   "cell_type": "code",
   "execution_count": 6,
   "metadata": {},
   "outputs": [
    {
     "name": "stdout",
     "output_type": "stream",
     "text": [
      "['o', 'g', 'r']\n",
      "['p', 'r', 'o', 'g', 'r', 'a']\n",
      "['m', 'i', 'z', 'z', 'z']\n",
      "['p', 'r', 'o', 'g', 'r', 'a', 'm', 'i', 'z', 'z', 'z']\n"
     ]
    }
   ],
   "source": [
    "#sclicing elements\n",
    "my_list = ['p','r','o','g','r','a','m','i','z','z','z']\n",
    "# elements 3rd to 5th\n",
    "print(my_list[2:5])  \n",
    "\n",
    "# elements beginning to 4th\n",
    "print(my_list[:-5])\n",
    "\n",
    "# elements 6th to end\n",
    "print(my_list[-5:])\n",
    "\n",
    "# elements beginning to end\n",
    "print(my_list[:])"
   ]
  },
  {
   "cell_type": "code",
   "execution_count": 13,
   "metadata": {},
   "outputs": [
    {
     "name": "stdout",
     "output_type": "stream",
     "text": [
      "[1, 3, 9, 10, 20]\n",
      "[1, 3, 9, 10, 15, 20]\n"
     ]
    }
   ],
   "source": [
    "odd = [1, 9, 10, 20]\n",
    "odd.insert(1,3)\n",
    "print(odd)\n",
    "\n",
    "#syntax :- insert(pos,element)\n",
    "\n",
    "odd.insert(4,15)\n",
    "print(odd)\n",
    "\n"
   ]
  },
  {
   "cell_type": "code",
   "execution_count": 15,
   "metadata": {},
   "outputs": [
    {
     "name": "stdout",
     "output_type": "stream",
     "text": [
      "['p', 'r', 'b', 'l', 'e', 'm']\n",
      "['p', 'm']\n"
     ]
    }
   ],
   "source": [
    "#deletion operstion in list....\n",
    "#Deleting items from the list\n",
    "my_list = ['p','r','o','b','l','e','m']\n",
    "\n",
    "# delete one item\n",
    "del my_list[2]\n",
    "\n",
    "# Output: ['p', 'r', 'b', 'l', 'e', 'm']     \n",
    "print(my_list)\n",
    "\n",
    "# delete multiple items\n",
    "del my_list[1:5]  \n",
    "\n",
    "# Output: ['p', 'm']\n",
    "print(my_list)\n",
    "\n",
    "# delete entire list\n",
    "del my_list       \n",
    "\n",
    "# Error: List not defined\n",
    "#print(my_list)"
   ]
  },
  {
   "cell_type": "code",
   "execution_count": 23,
   "metadata": {},
   "outputs": [
    {
     "name": "stdout",
     "output_type": "stream",
     "text": [
      "['REd', 'Green', 'blue']\n",
      "[]\n"
     ]
    }
   ],
   "source": [
    "color_lst = [\"REd\",\"Green\",\"blue\",\"blue\"]\n",
    "#if no index no. is specified in pop paramater then it will pop last element from the list\n",
    "color_lst.pop()\n",
    "\n",
    "\"\"\"print(color_lst)\n",
    "color_lst.pop(1)\n",
    "print(color_lst)\n",
    "color_lst.remove(\"blue\")\n",
    "print(color_lst)\n",
    "color_lst.pop()\"\"\"\n",
    "print(color_lst)\n",
    "color_lst.clear()\n",
    "print(color_lst)"
   ]
  },
  {
   "cell_type": "code",
   "execution_count": 34,
   "metadata": {},
   "outputs": [
    {
     "name": "stdout",
     "output_type": "stream",
     "text": [
      "Total John nmed students : 3\n",
      "Total student  5\n"
     ]
    }
   ],
   "source": [
    "my_lst = [\"John\",\"Williams\",\"John\",\"Allen\",\"John\"]\n",
    "print('Total John nmed students :',my_lst.count(\"John\"))\n",
    "print('Total student ',len(my_lst))"
   ]
  },
  {
   "cell_type": "code",
   "execution_count": 33,
   "metadata": {},
   "outputs": [
    {
     "name": "stdout",
     "output_type": "stream",
     "text": [
      "False\n"
     ]
    }
   ],
   "source": [
    "my_lst = [\"John\",\"Williams\",\"Harry\"]\n",
    "print(\"allen\" in my_lst)"
   ]
  },
  {
   "cell_type": "code",
   "execution_count": null,
   "metadata": {},
   "outputs": [],
   "source": []
  }
 ],
 "metadata": {
  "kernelspec": {
   "display_name": "Python 3",
   "language": "python",
   "name": "python3"
  },
  "language_info": {
   "codemirror_mode": {
    "name": "ipython",
    "version": 3
   },
   "file_extension": ".py",
   "mimetype": "text/x-python",
   "name": "python",
   "nbconvert_exporter": "python",
   "pygments_lexer": "ipython3",
   "version": "3.7.4"
  }
 },
 "nbformat": 4,
 "nbformat_minor": 2
}
