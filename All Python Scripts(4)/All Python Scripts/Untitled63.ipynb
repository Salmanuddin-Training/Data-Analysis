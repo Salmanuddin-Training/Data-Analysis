{
 "cells": [
  {
   "cell_type": "code",
   "execution_count": 3,
   "metadata": {},
   "outputs": [
    {
     "name": "stdout",
     "output_type": "stream",
     "text": [
      "Enter any value : 0  to stop entering:1\n",
      "Enter any value : 0  to stop entering:2\n",
      "Enter any value : 0  to stop entering:3\n",
      "Enter any value : 0  to stop entering:4\n",
      "Enter any value : 0  to stop entering:5\n",
      "Enter any value : 0  to stop entering:0\n",
      "Total no. of the elemnts passed by user :  6\n",
      "Total Sum :  15\n"
     ]
    }
   ],
   "source": [
    "flag = True\n",
    "count=0\n",
    "sum =0\n",
    "\n",
    "while flag:\n",
    "    num = int(input('Enter any value : 0  to stop entering:'))\n",
    "    if num==0:\n",
    "       flag=False\n",
    "    \n",
    "    count=count+1\n",
    "    sum=sum+num\n",
    "\n",
    "print(\"Total no. of the elemnts passed by user : \",count)\n",
    "print(\"Total Sum : \",sum)\n",
    "    \n"
   ]
  },
  {
   "cell_type": "code",
   "execution_count": null,
   "metadata": {},
   "outputs": [],
   "source": []
  }
 ],
 "metadata": {
  "kernelspec": {
   "display_name": "Python 3",
   "language": "python",
   "name": "python3"
  },
  "language_info": {
   "codemirror_mode": {
    "name": "ipython",
    "version": 3
   },
   "file_extension": ".py",
   "mimetype": "text/x-python",
   "name": "python",
   "nbconvert_exporter": "python",
   "pygments_lexer": "ipython3",
   "version": "3.7.4"
  }
 },
 "nbformat": 4,
 "nbformat_minor": 2
}
