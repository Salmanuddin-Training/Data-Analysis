{
 "cells": [
  {
   "cell_type": "code",
   "execution_count": 3,
   "metadata": {},
   "outputs": [
    {
     "name": "stdout",
     "output_type": "stream",
     "text": [
      "(5+9j)\n",
      "(-1-1j)\n",
      "(-14+22j)\n"
     ]
    }
   ],
   "source": [
    "#Mathematical op. on Complex no.\n",
    "\n",
    "n1= 2+4j #first complex no.\n",
    "n2= 3+5j #second complex no.\n",
    "\n",
    "#add\n",
    "print(n1+n2)    \n",
    "\n",
    "print(n1-n2)\n",
    "\n",
    "print(n1*n2)\n"
   ]
  },
  {
   "cell_type": "code",
   "execution_count": null,
   "metadata": {},
   "outputs": [],
   "source": []
  }
 ],
 "metadata": {
  "kernelspec": {
   "display_name": "Python 3",
   "language": "python",
   "name": "python3"
  },
  "language_info": {
   "codemirror_mode": {
    "name": "ipython",
    "version": 3
   },
   "file_extension": ".py",
   "mimetype": "text/x-python",
   "name": "python",
   "nbconvert_exporter": "python",
   "pygments_lexer": "ipython3",
   "version": "3.7.4"
  }
 },
 "nbformat": 4,
 "nbformat_minor": 2
}
