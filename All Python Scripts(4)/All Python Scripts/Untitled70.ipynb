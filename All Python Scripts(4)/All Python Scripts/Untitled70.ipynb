{
 "cells": [
  {
   "cell_type": "code",
   "execution_count": 7,
   "metadata": {},
   "outputs": [
    {
     "name": "stdout",
     "output_type": "stream",
     "text": [
      "('C', 'C++', 'JAVA', 'Python', 'Django')\n",
      "We are learning :  Python\n",
      "Element : C++\n"
     ]
    }
   ],
   "source": [
    "#Python - Tuple()......(immutable)\n",
    "\n",
    "course=(\"C\",\"C++\",\"JAVA\",\"Python\",\"Django\")\n",
    "\n",
    "print(course)\n",
    "print(\"We are learning : \",course[3])\n",
    "print(\"Element :\",course[-4])\n"
   ]
  },
  {
   "cell_type": "code",
   "execution_count": 10,
   "metadata": {},
   "outputs": [
    {
     "name": "stdout",
     "output_type": "stream",
     "text": [
      "(101, 'Williams', 'Python', 80.5)\n",
      "student naemed tuple deleted successfully...!\n"
     ]
    }
   ],
   "source": [
    "student=(101,'Williams','Python',80.5)\n",
    "print(student)\n",
    "del student\n",
    "print(\"student naemed tuple deleted successfully...!\")\n"
   ]
  },
  {
   "cell_type": "code",
   "execution_count": 12,
   "metadata": {},
   "outputs": [
    {
     "name": "stdout",
     "output_type": "stream",
     "text": [
      "('C', 'C++', 'JAVA', 'Python', 'Django', 'MySQL', 'Oracle', 'MSSQL')\n",
      "('C', 'C++', 'JAVA', 'Python', 'Django')\n",
      "('MySQL', 'Oracle', 'MSSQL')\n"
     ]
    }
   ],
   "source": [
    "#Python- operatos - tuple\n",
    "# + - (concatenation op.)\n",
    "\n",
    "c1=(\"C\",\"C++\",\"JAVA\",\"Python\",\"Django\")\n",
    "c2=('MySQL','Oracle','MSSQL')\n",
    "\n",
    "print(c1+c2)\n",
    "print(c1)\n",
    "print(c2)\n"
   ]
  },
  {
   "cell_type": "code",
   "execution_count": 13,
   "metadata": {},
   "outputs": [
    {
     "name": "stdout",
     "output_type": "stream",
     "text": [
      "('C', 'C++', 'JAVA', 'Python', 'Django', 'C', 'C++', 'JAVA', 'Python', 'Django')\n"
     ]
    }
   ],
   "source": [
    "#Python- operatos - tuple\n",
    "# * - (repetition op.)\n",
    "\n",
    "c1=(\"C\",\"C++\",\"JAVA\",\"Python\",\"Django\")\n",
    "\n",
    "print(c1*2)"
   ]
  },
  {
   "cell_type": "code",
   "execution_count": 16,
   "metadata": {},
   "outputs": [
    {
     "name": "stdout",
     "output_type": "stream",
     "text": [
      "('C++', 'JAVA')\n",
      "('C', 'C++', 'JAVA', 'Python')\n",
      "('JAVA', 'Python', 'Django')\n"
     ]
    }
   ],
   "source": [
    "#Python- operatos - tuple\n",
    "# [] - (slice op.)\n",
    "c1=(\"C\",\"C++\",\"JAVA\",\"Python\",\"Django\")\n",
    "print(c1[1:3])\n",
    "print(c1[:4])\n",
    "print(c1[2:])\n"
   ]
  },
  {
   "cell_type": "code",
   "execution_count": 17,
   "metadata": {},
   "outputs": [
    {
     "name": "stdout",
     "output_type": "stream",
     "text": [
      "True\n"
     ]
    }
   ],
   "source": [
    "#Python- operatos - tuple\n",
    "# in - ( op.)\n",
    "\n",
    "c1=(\"C\",\"C++\",\"JAVA\",\"Python\",\"Django\")\n",
    "print('Django' in c1)\n"
   ]
  },
  {
   "cell_type": "code",
   "execution_count": 18,
   "metadata": {},
   "outputs": [
    {
     "name": "stdout",
     "output_type": "stream",
     "text": [
      "False\n"
     ]
    }
   ],
   "source": [
    "#Python- operatos - tuple\n",
    "# not in - ( op.)\n",
    "\n",
    "c1=(\"C\",\"C++\",\"JAVA\",\"Python\",\"Django\")\n",
    "print('Django' not in c1)"
   ]
  },
  {
   "cell_type": "code",
   "execution_count": 19,
   "metadata": {},
   "outputs": [
    {
     "name": "stdout",
     "output_type": "stream",
     "text": [
      "total courses :  5\n"
     ]
    }
   ],
   "source": [
    "#Python - in -built functions.....\n",
    "# len() - used to get length of a tuple\n",
    "\n",
    "course=(\"C\",\"C++\",\"JAVA\",\"Python\",\"Django\")\n",
    "\n",
    "print(\"total courses : \",len(course))"
   ]
  },
  {
   "cell_type": "code",
   "execution_count": 20,
   "metadata": {},
   "outputs": [
    {
     "name": "stdout",
     "output_type": "stream",
     "text": [
      "maximum : 95\n"
     ]
    }
   ],
   "source": [
    "#Python - in -built functions.....\n",
    "# max() - used to get maximum of a tuple\n",
    "\n",
    "marks=(56,78,90,34,95)\n",
    "print('maximum :',max(marks))"
   ]
  },
  {
   "cell_type": "code",
   "execution_count": 21,
   "metadata": {},
   "outputs": [
    {
     "name": "stdout",
     "output_type": "stream",
     "text": [
      "minimum : 34\n"
     ]
    }
   ],
   "source": [
    "#Python - in -built functions.....\n",
    "# min() - used to get maximum of a tuple\n",
    "\n",
    "marks=(56,78,90,34,95)\n",
    "print('minimum :',min(marks))"
   ]
  },
  {
   "cell_type": "code",
   "execution_count": 26,
   "metadata": {},
   "outputs": [
    {
     "name": "stdout",
     "output_type": "stream",
     "text": [
      "C++\n",
      "abc\n"
     ]
    }
   ],
   "source": [
    "course=(\"aaa\",'abc',\"C++\",\"JAVA\",\"Python\",\"Django\")\n",
    "print(min(course))\n",
    "print(max(course))"
   ]
  },
  {
   "cell_type": "code",
   "execution_count": 30,
   "metadata": {},
   "outputs": [
    {
     "name": "stdout",
     "output_type": "stream",
     "text": [
      "class assoc - n1 : <class 'int'>\n",
      "class assoc - n2 : <class 'float'>\n"
     ]
    },
    {
     "data": {
      "text/plain": [
       "30.5"
      ]
     },
     "execution_count": 30,
     "metadata": {},
     "output_type": "execute_result"
    }
   ],
   "source": [
    "n1 = 10\n",
    "n2 = 20.5\n",
    "print(\"class assoc - n1 :\",type(n1))\n",
    "print(\"class assoc - n2 :\",type(n2))\n",
    "n1+n2 #(arithemetic)"
   ]
  },
  {
   "cell_type": "code",
   "execution_count": 31,
   "metadata": {},
   "outputs": [
    {
     "name": "stdout",
     "output_type": "stream",
     "text": [
      "class assoc - n1 : <class 'str'>\n",
      "class assoc - n2 : <class 'int'>\n"
     ]
    },
    {
     "ename": "TypeError",
     "evalue": "can only concatenate str (not \"int\") to str",
     "output_type": "error",
     "traceback": [
      "\u001b[1;31m---------------------------------------------------------------------------\u001b[0m",
      "\u001b[1;31mTypeError\u001b[0m                                 Traceback (most recent call last)",
      "\u001b[1;32m<ipython-input-31-07e9e31bfc08>\u001b[0m in \u001b[0;36m<module>\u001b[1;34m\u001b[0m\n\u001b[0;32m      3\u001b[0m \u001b[0mprint\u001b[0m\u001b[1;33m(\u001b[0m\u001b[1;34m\"class assoc - n1 :\"\u001b[0m\u001b[1;33m,\u001b[0m\u001b[0mtype\u001b[0m\u001b[1;33m(\u001b[0m\u001b[0mn1\u001b[0m\u001b[1;33m)\u001b[0m\u001b[1;33m)\u001b[0m\u001b[1;33m\u001b[0m\u001b[1;33m\u001b[0m\u001b[0m\n\u001b[0;32m      4\u001b[0m \u001b[0mprint\u001b[0m\u001b[1;33m(\u001b[0m\u001b[1;34m\"class assoc - n2 :\"\u001b[0m\u001b[1;33m,\u001b[0m\u001b[0mtype\u001b[0m\u001b[1;33m(\u001b[0m\u001b[0mn2\u001b[0m\u001b[1;33m)\u001b[0m\u001b[1;33m)\u001b[0m\u001b[1;33m\u001b[0m\u001b[1;33m\u001b[0m\u001b[0m\n\u001b[1;32m----> 5\u001b[1;33m \u001b[0mn1\u001b[0m\u001b[1;33m+\u001b[0m\u001b[0mn2\u001b[0m\u001b[1;33m\u001b[0m\u001b[1;33m\u001b[0m\u001b[0m\n\u001b[0m",
      "\u001b[1;31mTypeError\u001b[0m: can only concatenate str (not \"int\") to str"
     ]
    }
   ],
   "source": [
    "n1 = '10'\n",
    "n2 = 20\n",
    "print(\"class assoc - n1 :\",type(n1))\n",
    "print(\"class assoc - n2 :\",type(n2))\n",
    "n1+n2"
   ]
  },
  {
   "cell_type": "code",
   "execution_count": 33,
   "metadata": {},
   "outputs": [
    {
     "name": "stdout",
     "output_type": "stream",
     "text": [
      "class assoc - n1 : <class 'list'>\n",
      "class assoc - n2 : <class 'int'>\n"
     ]
    },
    {
     "ename": "TypeError",
     "evalue": "can only concatenate list (not \"int\") to list",
     "output_type": "error",
     "traceback": [
      "\u001b[1;31m---------------------------------------------------------------------------\u001b[0m",
      "\u001b[1;31mTypeError\u001b[0m                                 Traceback (most recent call last)",
      "\u001b[1;32m<ipython-input-33-94a0a572b11b>\u001b[0m in \u001b[0;36m<module>\u001b[1;34m\u001b[0m\n\u001b[0;32m      3\u001b[0m \u001b[0mprint\u001b[0m\u001b[1;33m(\u001b[0m\u001b[1;34m\"class assoc - n1 :\"\u001b[0m\u001b[1;33m,\u001b[0m\u001b[0mtype\u001b[0m\u001b[1;33m(\u001b[0m\u001b[0mn1\u001b[0m\u001b[1;33m)\u001b[0m\u001b[1;33m)\u001b[0m\u001b[1;33m\u001b[0m\u001b[1;33m\u001b[0m\u001b[0m\n\u001b[0;32m      4\u001b[0m \u001b[0mprint\u001b[0m\u001b[1;33m(\u001b[0m\u001b[1;34m\"class assoc - n2 :\"\u001b[0m\u001b[1;33m,\u001b[0m\u001b[0mtype\u001b[0m\u001b[1;33m(\u001b[0m\u001b[0mn2\u001b[0m\u001b[1;33m)\u001b[0m\u001b[1;33m)\u001b[0m\u001b[1;33m\u001b[0m\u001b[1;33m\u001b[0m\u001b[0m\n\u001b[1;32m----> 5\u001b[1;33m \u001b[0mn1\u001b[0m\u001b[1;33m+\u001b[0m\u001b[0mn2\u001b[0m\u001b[1;33m\u001b[0m\u001b[1;33m\u001b[0m\u001b[0m\n\u001b[0m",
      "\u001b[1;31mTypeError\u001b[0m: can only concatenate list (not \"int\") to list"
     ]
    }
   ],
   "source": [
    "n1 = [10]\n",
    "n2 = 20\n",
    "print(\"class assoc - n1 :\",type(n1))\n",
    "print(\"class assoc - n2 :\",type(n2))\n",
    "n1+n2"
   ]
  },
  {
   "cell_type": "code",
   "execution_count": 36,
   "metadata": {},
   "outputs": [
    {
     "name": "stdout",
     "output_type": "stream",
     "text": [
      "Roll    : 101\n",
      "Name    : Pattrick\n",
      "Courses : ['Data Science', 'Data Analytics']\n",
      "Adresss : USA\n",
      "(101, 'Pattrick', ['Data Science', 'Python with ML'], 'USA')\n"
     ]
    }
   ],
   "source": [
    "student=(101,'Pattrick',['Data Science','Data Analytics'],'USA')\n",
    "print(\"Roll    :\",student[0])\n",
    "print('Name    :',student[1])\n",
    "print('Courses :',student[2])\n",
    "print('Adresss :',student[3])\n",
    "student[2][1]='Python with ML'\n",
    "print(student)"
   ]
  },
  {
   "cell_type": "code",
   "execution_count": 41,
   "metadata": {},
   "outputs": [
    {
     "name": "stdout",
     "output_type": "stream",
     "text": [
      "Data Science course is not avaialble.\n"
     ]
    }
   ],
   "source": [
    "student=(101,'Pattrick',['c','c++','HTML5','Data Analytics'],'USA')\n",
    "\n",
    "course=student[2]\n",
    "if 'Data Science' in course: \n",
    "    i =0\n",
    "    for cr in course:\n",
    "        if cr=='Data Science':\n",
    "            break\n",
    "        else:\n",
    "            i+=1\n",
    "    print('Data science is at index :',i)\n",
    "else:\n",
    "    print('Data Science course is not avaialble.')"
   ]
  },
  {
   "cell_type": "code",
   "execution_count": 45,
   "metadata": {},
   "outputs": [
    {
     "name": "stdout",
     "output_type": "stream",
     "text": [
      "True\n",
      "C\n",
      "C\n",
      "Python\n",
      "Python\n"
     ]
    }
   ],
   "source": [
    "c1 =['C','C++']\n",
    "c2 =['C','C++']\n",
    "\n",
    "print(c1 is c2)\n",
    "print(c1[0])\n",
    "print(c2[0])\n",
    "\n",
    "c2[0]=\"Python\"\n",
    "\n",
    "print(c1[0])\n",
    "print(c2[0])"
   ]
  },
  {
   "cell_type": "code",
   "execution_count": 53,
   "metadata": {},
   "outputs": [
    {
     "name": "stdout",
     "output_type": "stream",
     "text": [
      "c1 : 2519195210184\n",
      "c2 : 2519195210184\n",
      "is c1 = c2 : True\n",
      "a1 : 2519196136648\n",
      "a2 : 2519196135816\n",
      "is a1 = a2 : False\n"
     ]
    }
   ],
   "source": [
    "c1 =[1,2]\n",
    "c2 =c1\n",
    "print(\"c1 :\",id(c1))\n",
    "print(\"c2 :\",id(c2))\n",
    "print('is c1 = c2 :',c1 is c2)\n",
    "\n",
    "a1=[1,2]\n",
    "a2=[1,2]\n",
    "print(\"a1 :\",id(a1))\n",
    "print(\"a2 :\",id(a2))\n",
    "print('is a1 = a2 :',a1 is a2)"
   ]
  },
  {
   "cell_type": "code",
   "execution_count": 55,
   "metadata": {},
   "outputs": [
    {
     "name": "stdout",
     "output_type": "stream",
     "text": [
      "id of x is : 140722889859760\n",
      "id of y is : 140722889859760\n"
     ]
    },
    {
     "data": {
      "text/plain": [
       "True"
      ]
     },
     "execution_count": 55,
     "metadata": {},
     "output_type": "execute_result"
    }
   ],
   "source": [
    "x = 10\n",
    "y = 10\n",
    "\n",
    "print('id of x is :',id(x))\n",
    "print('id of y is :',id(y))\n",
    "\n",
    "x is y\n"
   ]
  },
  {
   "cell_type": "code",
   "execution_count": 57,
   "metadata": {},
   "outputs": [
    {
     "name": "stdout",
     "output_type": "stream",
     "text": [
      "<class 'str'>\n",
      "Course name is : P\n"
     ]
    }
   ],
   "source": [
    "course=('Python')\n",
    "print(type(course))\n",
    "print(\"Course name is :\",course[0])"
   ]
  },
  {
   "cell_type": "code",
   "execution_count": 64,
   "metadata": {},
   "outputs": [
    {
     "name": "stdout",
     "output_type": "stream",
     "text": [
      "3.7.4 (default, Aug  9 2019, 18:34:13) [MSC v.1915 64 bit (AMD64)]\n"
     ]
    }
   ],
   "source": [
    "import sys\n",
    "\n",
    "print(sys.version)\n"
   ]
  },
  {
   "cell_type": "code",
   "execution_count": 65,
   "metadata": {},
   "outputs": [
    {
     "ename": "ModuleNotFoundError",
     "evalue": "No module named 'mypackage'",
     "output_type": "error",
     "traceback": [
      "\u001b[1;31m---------------------------------------------------------------------------\u001b[0m",
      "\u001b[1;31mModuleNotFoundError\u001b[0m                       Traceback (most recent call last)",
      "\u001b[1;32m<ipython-input-65-ebee4bc62610>\u001b[0m in \u001b[0;36m<module>\u001b[1;34m\u001b[0m\n\u001b[1;32m----> 1\u001b[1;33m \u001b[1;32mimport\u001b[0m \u001b[0mmypackage\u001b[0m\u001b[1;33m\u001b[0m\u001b[1;33m\u001b[0m\u001b[0m\n\u001b[0m",
      "\u001b[1;31mModuleNotFoundError\u001b[0m: No module named 'mypackage'"
     ]
    }
   ],
   "source": [
    "import mypackage"
   ]
  },
  {
   "cell_type": "code",
   "execution_count": null,
   "metadata": {},
   "outputs": [],
   "source": []
  }
 ],
 "metadata": {
  "kernelspec": {
   "display_name": "Python 3",
   "language": "python",
   "name": "python3"
  },
  "language_info": {
   "codemirror_mode": {
    "name": "ipython",
    "version": 3
   },
   "file_extension": ".py",
   "mimetype": "text/x-python",
   "name": "python",
   "nbconvert_exporter": "python",
   "pygments_lexer": "ipython3",
   "version": "3.7.4"
  }
 },
 "nbformat": 4,
 "nbformat_minor": 2
}
