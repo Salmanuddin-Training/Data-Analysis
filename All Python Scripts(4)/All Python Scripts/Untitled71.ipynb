{
 "cells": [
  {
   "cell_type": "code",
   "execution_count": 2,
   "metadata": {},
   "outputs": [
    {
     "name": "stdout",
     "output_type": "stream",
     "text": [
      "Enter any string :hello Python\n",
      "File created & Data Written Successfully\n"
     ]
    }
   ],
   "source": [
    "#Python- File Handling-\n",
    "#Writing operation\n",
    "\n",
    "f=open(\"E:\\PythonApp\\myfile.txt\",\"w\")\n",
    "str=input('Enter any string :')\n",
    "f.write(str)\n",
    "f.close()\n",
    "print('File created & Data Written Successfully')\n",
    "\n"
   ]
  },
  {
   "cell_type": "code",
   "execution_count": 4,
   "metadata": {},
   "outputs": [
    {
     "name": "stdout",
     "output_type": "stream",
     "text": [
      "Enter any string :Welcome to Python\n",
      "Data Written Successfully\n"
     ]
    }
   ],
   "source": [
    "#Python- File Handling-\n",
    "#Writing operation in append mode\n",
    "\n",
    "f=open(\"E:\\PythonApp\\myfile.txt\",\"a\")\n",
    "str=input('Enter any string :')\n",
    "f.write(\"\\n\"+str)\n",
    "f.close()\n",
    "print('Data Written Successfully')"
   ]
  },
  {
   "cell_type": "code",
   "execution_count": 5,
   "metadata": {},
   "outputs": [
    {
     "name": "stdout",
     "output_type": "stream",
     "text": [
      "Data Written Successfully\n"
     ]
    }
   ],
   "source": [
    "#Python- File Handling-\n",
    "#Writing operation in append mode\n",
    "\n",
    "course=['C\\n','C++\\n','Python\\n','Django\\n']\n",
    "f=open(\"E:\\PythonApp\\myfile1.txt\",\"a\")\n",
    "\n",
    "f.writelines(course)\n",
    "f.close()\n",
    "print('Data Written Successfully')"
   ]
  },
  {
   "cell_type": "code",
   "execution_count": 7,
   "metadata": {},
   "outputs": [
    {
     "name": "stdout",
     "output_type": "stream",
     "text": [
      "print (\"This is Python Script.\")\n",
      "\n",
      "print (\"Welcome to Python Tutorial by Altran\")\n",
      "\n"
     ]
    }
   ],
   "source": [
    "#Python- File Handling-\n",
    "#Reading operation\n",
    "f=open(\"E:\\myPythonScript.py\",\"r\")\n",
    "line=f.readline()\n",
    "while line != '':\n",
    "    print(line)\n",
    "    line=f.readline()\n"
   ]
  },
  {
   "cell_type": "code",
   "execution_count": null,
   "metadata": {},
   "outputs": [],
   "source": []
  }
 ],
 "metadata": {
  "kernelspec": {
   "display_name": "Python 3",
   "language": "python",
   "name": "python3"
  },
  "language_info": {
   "codemirror_mode": {
    "name": "ipython",
    "version": 3
   },
   "file_extension": ".py",
   "mimetype": "text/x-python",
   "name": "python",
   "nbconvert_exporter": "python",
   "pygments_lexer": "ipython3",
   "version": "3.7.4"
  }
 },
 "nbformat": 4,
 "nbformat_minor": 2
}
