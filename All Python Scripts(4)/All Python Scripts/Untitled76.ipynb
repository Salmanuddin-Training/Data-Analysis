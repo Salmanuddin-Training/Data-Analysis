{
 "cells": [
  {
   "cell_type": "code",
   "execution_count": 7,
   "metadata": {},
   "outputs": [
    {
     "name": "stdout",
     "output_type": "stream",
     "text": [
      "id of x is : 140704400777648\n",
      "id of x is : 140704400777712\n",
      "id of y is : 140704400777648\n",
      "id of y is : 140704400777680\n"
     ]
    }
   ],
   "source": [
    "#Python namespaces:-\n",
    "\n",
    "x = 2\n",
    "print(\"id of x is :\",id(x))\n",
    "x=x+2\n",
    "print(\"id of x is :\",id(x))\n",
    "\n",
    "y = 2\n",
    "\n",
    "print(\"id of y is :\",id(y))\n",
    "y+=1\n",
    "print(\"id of y is :\",id(y))"
   ]
  },
  {
   "cell_type": "code",
   "execution_count": 18,
   "metadata": {},
   "outputs": [
    {
     "name": "stdout",
     "output_type": "stream",
     "text": [
      "10\n",
      "10\n"
     ]
    }
   ],
   "source": [
    "import math\n",
    "\n",
    "num=10\n",
    "\n",
    "def myfun():\n",
    "    num=num+5\n",
    "    print(num)\n",
    "    \n",
    "myfun()\n",
    "print(num)"
   ]
  },
  {
   "cell_type": "code",
   "execution_count": 16,
   "metadata": {},
   "outputs": [
    {
     "name": "stdout",
     "output_type": "stream",
     "text": [
      "3.141592653589793\n"
     ]
    }
   ],
   "source": [
    "from math import pi\n",
    "\n",
    "\n",
    "def myfun():\n",
    "    print(pi)\n",
    "    \n",
    "myfun()\n"
   ]
  },
  {
   "cell_type": "code",
   "execution_count": 23,
   "metadata": {},
   "outputs": [
    {
     "name": "stdout",
     "output_type": "stream",
     "text": [
      "10\n",
      "20\n",
      "10 20 30\n"
     ]
    }
   ],
   "source": [
    "def outer_function():\n",
    "    b = 20\n",
    "    print(b)\n",
    "    \n",
    "    \n",
    "    def inner_func():\n",
    "        c = 30\n",
    "        print(a,b,c)\n",
    "    inner_func()\n",
    "    \n",
    "a = 10\n",
    "\n",
    "print(a)\n",
    "outer_function()\n"
   ]
  },
  {
   "cell_type": "code",
   "execution_count": 2,
   "metadata": {},
   "outputs": [
    {
     "name": "stdout",
     "output_type": "stream",
     "text": [
      "local spam\n",
      "After local assignment: test spam\n",
      "After nonlocal assignment: nonlocal spam\n",
      "After global assignment: nonlocal spam\n",
      "In global scope: global spam\n"
     ]
    }
   ],
   "source": [
    "def scope_test():\n",
    "    def do_local():\n",
    "        spam = \"local spam\"\n",
    "        print(spam)\n",
    "\n",
    "    def do_nonlocal():\n",
    "        nonlocal spam\n",
    "        spam = \"nonlocal spam\"\n",
    "\n",
    "    def do_global():\n",
    "        global spam\n",
    "        spam = \"global spam\"\n",
    "\n",
    "    spam = \"test spam\"\n",
    "    do_local()\n",
    "    print(\"After local assignment:\", spam)\n",
    "    do_nonlocal()\n",
    "    print(\"After nonlocal assignment:\", spam)\n",
    "    do_global()\n",
    "    print(\"After global assignment:\", spam)\n",
    "\n",
    "scope_test()\n",
    "print(\"In global scope:\", spam)"
   ]
  },
  {
   "cell_type": "code",
   "execution_count": 16,
   "metadata": {},
   "outputs": [
    {
     "name": "stdout",
     "output_type": "stream",
     "text": [
      "Welcome\n",
      "Welcome\n"
     ]
    }
   ],
   "source": [
    "a = \"Hello\"\n",
    "def f1():\n",
    "    global a\n",
    "    a=\"Welcome\"\n",
    "    print(a)\n",
    "    \n",
    "f1()\n",
    "print(a)"
   ]
  },
  {
   "cell_type": "code",
   "execution_count": 20,
   "metadata": {},
   "outputs": [
    {
     "name": "stdout",
     "output_type": "stream",
     "text": [
      "Python\n",
      "Welcome\n",
      "Hello\n"
     ]
    }
   ],
   "source": [
    "a = \"Hello\"\n",
    "def outerfun():\n",
    "    a=\"Welcome\"\n",
    "    def innerfun():\n",
    "        nonlocal a\n",
    "        a=\"Python\"\n",
    "        print(a)\n",
    "        \n",
    "    innerfun()  #calling inner function\n",
    "    print(a)\n",
    "outerfun()\n",
    "print(a)"
   ]
  },
  {
   "cell_type": "code",
   "execution_count": null,
   "metadata": {},
   "outputs": [],
   "source": []
  }
 ],
 "metadata": {
  "kernelspec": {
   "display_name": "Python 3",
   "language": "python",
   "name": "python3"
  },
  "language_info": {
   "codemirror_mode": {
    "name": "ipython",
    "version": 3
   },
   "file_extension": ".py",
   "mimetype": "text/x-python",
   "name": "python",
   "nbconvert_exporter": "python",
   "pygments_lexer": "ipython3",
   "version": "3.7.4"
  }
 },
 "nbformat": 4,
 "nbformat_minor": 2
}
