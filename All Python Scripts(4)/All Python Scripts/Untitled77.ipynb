{
 "cells": [
  {
   "cell_type": "code",
   "execution_count": null,
   "metadata": {},
   "outputs": [],
   "source": [
    "#Python-Project\n",
    "\n",
    "import MySQLdb\n",
    "from tkinter import *\n",
    "from tkinter import ttk\n",
    "import datetime\n",
    "import time\n",
    "\n",
    "class AA:\n",
    "    def add(self):\n",
    "        pass\n",
    "    \n",
    "    def edit(self):\n",
    "            pass\n",
    "        \n",
    "    def delete(self):\n",
    "            pass\n",
    "        \n",
    "    def exit(self):\n",
    "            pass\n",
    "        \n",
    "    def helpp(self):\n",
    "            pass\n",
    "    def __init__(self,win):\n",
    "        self.lbl1=Label(win,text=\"Welcome to Aplha Inventory System...!\",font=('arial',15,'bold'))\n",
    "        self.lbl1.grid(row=0,column=1)\n",
    "\n",
    "#-------Menu Bar--------------------------------\n",
    "        chooser=Menu()\n",
    "       \n",
    "        itemtwo=Menu(tearoff=0)\n",
    "        itemtwo.add_command(label='Add Product',command=self.add)\n",
    "        itemtwo.add_command(label='Edit Product',command=self.edit)\n",
    "        itemtwo.add_command(label='Delete Product',command=self.delete)\n",
    "        itemtwo.add_separator()\n",
    "        itemtwo.add_command(label='Help',command=self.helpp)\n",
    "        itemtwo.add_command(label='Exit',command=self.exit)\n",
    "        \n",
    "        \n",
    "        chooser.add_cascade(label='Product Master',menu=itemtwo)\n",
    "        win.config(menu=chooser)\n",
    "        \n",
    "if __name__ == '__main__':\n",
    "    window = Tk()\n",
    "    alphaobj = AA(window)\n",
    "    window.title('Alpha Inventory System...!')\n",
    "    window.geometry('530x465+500+200')\n",
    "    window.mainloop()"
   ]
  },
  {
   "cell_type": "code",
   "execution_count": null,
   "metadata": {},
   "outputs": [],
   "source": []
  }
 ],
 "metadata": {
  "kernelspec": {
   "display_name": "Python 3",
   "language": "python",
   "name": "python3"
  },
  "language_info": {
   "codemirror_mode": {
    "name": "ipython",
    "version": 3
   },
   "file_extension": ".py",
   "mimetype": "text/x-python",
   "name": "python",
   "nbconvert_exporter": "python",
   "pygments_lexer": "ipython3",
   "version": "3.7.4"
  }
 },
 "nbformat": 4,
 "nbformat_minor": 2
}
