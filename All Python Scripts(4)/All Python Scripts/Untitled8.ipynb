{
 "cells": [
  {
   "cell_type": "code",
   "execution_count": 2,
   "metadata": {},
   "outputs": [
    {
     "name": "stdout",
     "output_type": "stream",
     "text": [
      "{1, 2, 3}\n"
     ]
    }
   ],
   "source": [
    "#set in python (unorderd collection of data elements - unique)\n",
    "\n",
    "my_set = {1,2,3,2}\n",
    "\n",
    "print(my_set)"
   ]
  },
  {
   "cell_type": "code",
   "execution_count": 3,
   "metadata": {},
   "outputs": [
    {
     "name": "stdout",
     "output_type": "stream",
     "text": [
      "{55000.5, 1, 'Laptop'}\n"
     ]
    }
   ],
   "source": [
    "my_set = {1,\"Laptop\",55000.50}\n",
    "print(my_set)"
   ]
  },
  {
   "cell_type": "code",
   "execution_count": 15,
   "metadata": {},
   "outputs": [
    {
     "name": "stdout",
     "output_type": "stream",
     "text": [
      "{'C++', 'JAVA', 'Python'}\n",
      "{'C++', 'JAVA', 'Python', 'Django'}\n",
      "{'C++', 'JAVA', 'Python'}\n",
      "C++\n",
      "set()\n"
     ]
    }
   ],
   "source": [
    "my_lst = [\"Python\",\"JAVA\",\"C++\",\"Python\",\"Python\"]\n",
    "my_set = set(my_lst)\n",
    "print(my_set)\n",
    "my_set.add(\"Django\")\n",
    "print(my_set)\n",
    "\n",
    "my_set.remove(\"Django\")\n",
    "print(my_set)\n",
    "#my_set.remove(\"Django\")\n",
    "print(my_set.pop())\n",
    "my_set.clear()\n",
    "print(my_set)"
   ]
  },
  {
   "cell_type": "code",
   "execution_count": 19,
   "metadata": {},
   "outputs": [
    {
     "name": "stdout",
     "output_type": "stream",
     "text": [
      "{'Roll': 101, 'Name': 'Steve', 'Age': 26}\n",
      "Student name is   Steve\n"
     ]
    }
   ],
   "source": [
    "my_dict = {'Roll':101,'Name':'Steve','Age':26}\n",
    "print(my_dict)\n",
    "print('Student name is  ',my_dict['Name'])"
   ]
  },
  {
   "cell_type": "code",
   "execution_count": 21,
   "metadata": {},
   "outputs": [
    {
     "name": "stdout",
     "output_type": "stream",
     "text": [
      "16\n",
      "{1: 1, 2: 4, 3: 9, 5: 25}\n",
      "(5, 25)\n",
      "{1: 1, 2: 4, 3: 9}\n",
      "{1: 1, 2: 4, 3: 9}\n",
      "{}\n"
     ]
    }
   ],
   "source": [
    "#Remove element and values in dictionary \n",
    "# create a dictionary\n",
    "squares = {1:1, 2:4, 3:9, 4:16, 5:25}  \n",
    "\n",
    "# remove a particular item\n",
    "# Output: 16\n",
    "print(squares.pop(4))  \n",
    "\n",
    "# Output: {1: 1, 2: 4, 3: 9, 5: 25}\n",
    "print(squares)\n",
    "\n",
    "# remove an arbitrary item\n",
    "# Output: (1, 1)\n",
    "print(squares.popitem())\n",
    "\n",
    "# Output: {2: 4, 3: 9, 5: 25}\n",
    "print(squares)\n",
    "\n",
    "# delete a particular item\n",
    "#del squares[5]  \n",
    "\n",
    "# Output: {2: 4, 3: 9}\n",
    "print(squares)\n",
    "\n",
    "# remove all items\n",
    "squares.clear()\n",
    "\n",
    "# Output: {}\n",
    "print(squares)"
   ]
  },
  {
   "cell_type": "code",
   "execution_count": 26,
   "metadata": {},
   "outputs": [
    {
     "name": "stdout",
     "output_type": "stream",
     "text": [
      "{1: 1, 2: 4, 3: 9, 4: 16, 5: 25}\n",
      "16\n",
      "{1: 1, 2: 4, 3: 9}\n"
     ]
    },
    {
     "ename": "KeyError",
     "evalue": "5",
     "output_type": "error",
     "traceback": [
      "\u001b[1;31m---------------------------------------------------------------------------\u001b[0m",
      "\u001b[1;31mKeyError\u001b[0m                                  Traceback (most recent call last)",
      "\u001b[1;32m<ipython-input-26-78f944dcca87>\u001b[0m in \u001b[0;36m<module>\u001b[1;34m\u001b[0m\n\u001b[0;32m      6\u001b[0m \u001b[1;32mdel\u001b[0m \u001b[0msquares\u001b[0m\u001b[1;33m[\u001b[0m\u001b[1;36m5\u001b[0m\u001b[1;33m]\u001b[0m\u001b[1;33m\u001b[0m\u001b[1;33m\u001b[0m\u001b[0m\n\u001b[0;32m      7\u001b[0m \u001b[0mprint\u001b[0m\u001b[1;33m(\u001b[0m\u001b[0msquares\u001b[0m\u001b[1;33m)\u001b[0m\u001b[1;33m\u001b[0m\u001b[1;33m\u001b[0m\u001b[0m\n\u001b[1;32m----> 8\u001b[1;33m \u001b[1;32mdel\u001b[0m \u001b[0msquares\u001b[0m\u001b[1;33m[\u001b[0m\u001b[1;36m5\u001b[0m\u001b[1;33m]\u001b[0m\u001b[1;33m\u001b[0m\u001b[1;33m\u001b[0m\u001b[0m\n\u001b[0m",
      "\u001b[1;31mKeyError\u001b[0m: 5"
     ]
    }
   ],
   "source": [
    "# create a dictionary\n",
    "squares = {1:1, 2:4, 3:9, 4:16, 5:25}  \n",
    "\n",
    "print(squares)\n",
    "print(squares.pop(4))  \n",
    "del squares[5]\n",
    "print(squares)\n",
    "del squares[5]"
   ]
  },
  {
   "cell_type": "code",
   "execution_count": null,
   "metadata": {},
   "outputs": [],
   "source": []
  }
 ],
 "metadata": {
  "kernelspec": {
   "display_name": "Python 3",
   "language": "python",
   "name": "python3"
  },
  "language_info": {
   "codemirror_mode": {
    "name": "ipython",
    "version": 3
   },
   "file_extension": ".py",
   "mimetype": "text/x-python",
   "name": "python",
   "nbconvert_exporter": "python",
   "pygments_lexer": "ipython3",
   "version": "3.7.4"
  }
 },
 "nbformat": 4,
 "nbformat_minor": 2
}
