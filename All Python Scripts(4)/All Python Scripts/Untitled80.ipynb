{
 "cells": [
  {
   "cell_type": "code",
   "execution_count": 11,
   "metadata": {},
   "outputs": [
    {
     "name": "stdout",
     "output_type": "stream",
     "text": [
      "Inserting BLOB into python_employee table\n",
      "Image and file inserted successfully as a BLOB into python_employee table 1\n",
      "Inserting BLOB into python_employee table\n",
      "Image and file inserted successfully as a BLOB into python_employee table 1\n"
     ]
    }
   ],
   "source": [
    "import MySQLdb\n",
    "from MySQLdb import Error\n",
    "\n",
    "def convertToBinaryData(filename):\n",
    "    # Convert digital data to binary format\n",
    "    with open(filename, 'rb') as file:\n",
    "        binaryData = file.read()\n",
    "    return binaryData\n",
    "\n",
    "def insertBLOB(emp_id, name, photo, biodataFile):\n",
    "    print(\"Inserting BLOB into python_employee table\")\n",
    "    try:\n",
    "        db= MySQLdb.connect('localhost','root','root','python_db')\n",
    "\n",
    "        cursor = db.cursor()\n",
    "        sql_insert_blob_query = \"INSERT INTO python_employee(id, name, photo, biodata) VALUES (%s,%s,%s,%s)\"\n",
    "\n",
    "        empPicture = convertToBinaryData(photo)\n",
    "        file = convertToBinaryData(biodataFile)\n",
    "\n",
    "        # Convert data into tuple format\n",
    "        insert_blob_tuple = (emp_id, name, empPicture, file)\n",
    "        result = cursor.execute(sql_insert_blob_query, insert_blob_tuple)\n",
    "        db.commit()\n",
    "        print(\"Image and file inserted successfully as a BLOB into python_employee table\", result)\n",
    "\n",
    "    except MySQLdb.Error as error:\n",
    "        print(\"Failed inserting BLOB data into MySQL table {}\".format(error))\n",
    "\n",
    "    \n",
    "\n",
    "insertBLOB(1, \"John\", \"E:/human1.png\",\"E:/john_resume.txt\")\n",
    "insertBLOB(2, \"Williams\", \"E:/human2.png\",\"E:/williams_resume.txt\")"
   ]
  },
  {
   "cell_type": "code",
   "execution_count": 5,
   "metadata": {},
   "outputs": [
    {
     "name": "stdout",
     "output_type": "stream",
     "text": [
      "Reading BLOB data from python_employee table\n",
      "Failed to read BLOB data from MySQL table 1045 (28000): Access denied for user 'pynative'@'localhost' (using password: YES)\n"
     ]
    },
    {
     "ename": "UnboundLocalError",
     "evalue": "local variable 'connection' referenced before assignment",
     "output_type": "error",
     "traceback": [
      "\u001b[1;31m---------------------------------------------------------------------------\u001b[0m",
      "\u001b[1;31mUnboundLocalError\u001b[0m                         Traceback (most recent call last)",
      "\u001b[1;32m<ipython-input-5-6efdf7760004>\u001b[0m in \u001b[0;36m<module>\u001b[1;34m\u001b[0m\n\u001b[0;32m     40\u001b[0m \u001b[1;33m\u001b[0m\u001b[0m\n\u001b[0;32m     41\u001b[0m readBLOB(1, \"D:\\Python\\Articles\\my_SQL\\query_output\\eric_photo.png\",\n\u001b[1;32m---> 42\u001b[1;33m          \"D:\\Python\\Articles\\my_SQL\\query_output\\eric_bioData.txt\")\n\u001b[0m\u001b[0;32m     43\u001b[0m readBLOB(2, \"D:\\Python\\Articles\\my_SQL\\query_output\\scott_photo.png\",\n\u001b[0;32m     44\u001b[0m          \"D:\\Python\\Articles\\my_SQL\\query_output\\scott_bioData.txt\")\n",
      "\u001b[1;32m<ipython-input-5-6efdf7760004>\u001b[0m in \u001b[0;36mreadBLOB\u001b[1;34m(emp_id, photo, bioData)\u001b[0m\n\u001b[0;32m     34\u001b[0m \u001b[1;33m\u001b[0m\u001b[0m\n\u001b[0;32m     35\u001b[0m     \u001b[1;32mfinally\u001b[0m\u001b[1;33m:\u001b[0m\u001b[1;33m\u001b[0m\u001b[1;33m\u001b[0m\u001b[0m\n\u001b[1;32m---> 36\u001b[1;33m         \u001b[1;32mif\u001b[0m \u001b[1;33m(\u001b[0m\u001b[0mconnection\u001b[0m\u001b[1;33m.\u001b[0m\u001b[0mis_connected\u001b[0m\u001b[1;33m(\u001b[0m\u001b[1;33m)\u001b[0m\u001b[1;33m)\u001b[0m\u001b[1;33m:\u001b[0m\u001b[1;33m\u001b[0m\u001b[1;33m\u001b[0m\u001b[0m\n\u001b[0m\u001b[0;32m     37\u001b[0m             \u001b[0mcursor\u001b[0m\u001b[1;33m.\u001b[0m\u001b[0mclose\u001b[0m\u001b[1;33m(\u001b[0m\u001b[1;33m)\u001b[0m\u001b[1;33m\u001b[0m\u001b[1;33m\u001b[0m\u001b[0m\n\u001b[0;32m     38\u001b[0m             \u001b[0mconnection\u001b[0m\u001b[1;33m.\u001b[0m\u001b[0mclose\u001b[0m\u001b[1;33m(\u001b[0m\u001b[1;33m)\u001b[0m\u001b[1;33m\u001b[0m\u001b[1;33m\u001b[0m\u001b[0m\n",
      "\u001b[1;31mUnboundLocalError\u001b[0m: local variable 'connection' referenced before assignment"
     ]
    }
   ],
   "source": [
    "import mysql.connector\n",
    "from mysql.connector import Error\n",
    "\n",
    "def write_file(data, filename):\n",
    "    # Convert binary data to proper format and write it on Hard Disk\n",
    "    with open(filename, 'wb') as file:\n",
    "        file.write(data)\n",
    "\n",
    "def readBLOB(emp_id, photo, bioData):\n",
    "    print(\"Reading BLOB data from python_employee table\")\n",
    "\n",
    "    try:\n",
    "        connection = mysql.connector.connect(host='localhost',\n",
    "                                             database='python_db',\n",
    "                                             user='pynative',\n",
    "                                             password='pynative@#29')\n",
    "\n",
    "        cursor = connection.cursor()\n",
    "        sql_fetch_blob_query = \"\"\"SELECT * from python_employee where id = %s\"\"\"\n",
    "\n",
    "        cursor.execute(sql_fetch_blob_query, (emp_id,))\n",
    "        record = cursor.fetchall()\n",
    "        for row in record:\n",
    "            print(\"Id = \", row[0], )\n",
    "            print(\"Name = \", row[1])\n",
    "            image = row[2]\n",
    "            file = row[3]\n",
    "            print(\"Storing employee image and bio-data on disk \\n\")\n",
    "            write_file(image, photo)\n",
    "            write_file(file, bioData)\n",
    "\n",
    "    except mysql.connector.Error as error:\n",
    "        print(\"Failed to read BLOB data from MySQL table {}\".format(error))\n",
    "\n",
    "    finally:\n",
    "        if (connection.is_connected()):\n",
    "            cursor.close()\n",
    "            connection.close()\n",
    "            print(\"MySQL connection is closed\")\n",
    "\n",
    "readBLOB(1, \"D:\\Python\\Articles\\my_SQL\\query_output\\eric_photo.png\",\n",
    "         \"D:\\Python\\Articles\\my_SQL\\query_output\\eric_bioData.txt\")\n",
    "readBLOB(2, \"D:\\Python\\Articles\\my_SQL\\query_output\\scott_photo.png\",\n",
    "         \"D:\\Python\\Articles\\my_SQL\\query_output\\scott_bioData.txt\")"
   ]
  },
  {
   "cell_type": "code",
   "execution_count": 7,
   "metadata": {},
   "outputs": [
    {
     "name": "stderr",
     "output_type": "stream",
     "text": [
      "Exception in Tkinter callback\n",
      "Traceback (most recent call last):\n",
      "  File \"C:\\Users\\Rajesh\\Anaconda3\\lib\\tkinter\\__init__.py\", line 1705, in __call__\n",
      "    return self.func(*args)\n",
      "  File \"<ipython-input-7-80af6fba9aa6>\", line 22, in <lambda>\n",
      "    btn = Button(root, text ='Open', command = lambda:open_file())\n",
      "  File \"<ipython-input-7-80af6fba9aa6>\", line 19, in open_file\n",
      "    content = file.read()\n",
      "  File \"C:\\Users\\Rajesh\\Anaconda3\\lib\\encodings\\cp1252.py\", line 23, in decode\n",
      "    return codecs.charmap_decode(input,self.errors,decoding_table)[0]\n",
      "UnicodeDecodeError: 'charmap' codec can't decode byte 0x8f in position 57: character maps to <undefined>\n"
     ]
    }
   ],
   "source": [
    "# importing tkinter and tkinter.ttk \n",
    "# and all their functions and classes \n",
    "from tkinter import *\n",
    "from tkinter.ttk import *\n",
    "\n",
    "# importing askopenfile function \n",
    "# from class filedialog \n",
    "from tkinter.filedialog import askopenfile \n",
    "\n",
    "root = Tk() \n",
    "root.geometry('200x100') \n",
    "\n",
    "# This function will be used to open \n",
    "# file in read mode and only Python files \n",
    "# will be opened \n",
    "def open_file(): \n",
    "\tfile = askopenfile(mode ='r', filetypes =[('All Files', '.*')]) \n",
    "\tif file is not None: \n",
    "\t\tcontent = file.read() \n",
    "\t\tprint(content) \n",
    "\n",
    "btn = Button(root, text ='Open', command = lambda:open_file()) \n",
    "btn.pack(side = TOP, pady = 10) \n",
    "\n",
    "mainloop() \n"
   ]
  },
  {
   "cell_type": "code",
   "execution_count": 10,
   "metadata": {},
   "outputs": [
    {
     "name": "stdout",
     "output_type": "stream",
     "text": [
      "E:/human1.png\n",
      "13\n"
     ]
    }
   ],
   "source": [
    "from tkinter import filedialog as fd\n",
    "\n",
    "filename = fd.askopenfilename()\n",
    "print(filename)\n",
    "print(len(filename))"
   ]
  },
  {
   "cell_type": "code",
   "execution_count": null,
   "metadata": {},
   "outputs": [],
   "source": []
  }
 ],
 "metadata": {
  "kernelspec": {
   "display_name": "Python 3",
   "language": "python",
   "name": "python3"
  },
  "language_info": {
   "codemirror_mode": {
    "name": "ipython",
    "version": 3
   },
   "file_extension": ".py",
   "mimetype": "text/x-python",
   "name": "python",
   "nbconvert_exporter": "python",
   "pygments_lexer": "ipython3",
   "version": "3.7.4"
  }
 },
 "nbformat": 4,
 "nbformat_minor": 2
}
