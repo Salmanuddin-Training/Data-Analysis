{
 "cells": [
  {
   "cell_type": "code",
   "execution_count": null,
   "metadata": {},
   "outputs": [],
   "source": [
    "import MySQLdb\n",
    "from MySQLdb import Error\n",
    "\n",
    "def convertBinaryFun(filename):\n",
    "    #converting digital data into Binary format\n",
    "    with open(filename,\"rb\") as f:\n",
    "        binaryData = f.read()\n",
    "    return binaryData\n",
    "\n",
    "\n",
    "try:\n",
    "    db=MySQLdb.connect('localhost','root','root','emiprojectdb')\n",
    "    cursor=db.cursor()\n",
    "    sqlquery=\"insert into users (name,photo,resume) values(%s,%s,%s)\"\n",
    "    \n",
    "    binphoto = convertBinaryFun('E:\\human2.png')\n",
    "    binresume = convertBinaryFun('E:\\Color_Codes_1.pdf')\n",
    "    \n",
    "    res = cursor.execute(sqlquery,('John',binphoto,binresume))\n",
    "    db.commit()\n",
    "    print('record has been saved successfully with image & cv.')\n",
    "    \n",
    "except MySQLdb.Error as error:\n",
    "    print('Faile to insert the record with image',error)\n",
    "    "
   ]
  },
  {
   "cell_type": "code",
   "execution_count": 24,
   "metadata": {
    "scrolled": true
   },
   "outputs": [
    {
     "name": "stdout",
     "output_type": "stream",
     "text": [
      "record has been saved successfully with image & cv.\n"
     ]
    }
   ],
   "source": [
    "from tkinter import *\n",
    "from tkinter.ttk import *\n",
    "from tkinter import filedialog as fd\n",
    "from tkinter import messagebox\n",
    "import MySQLdb\n",
    "\n",
    "class EmiCalculator:\n",
    "    def convertBinaryFun(self,filename):\n",
    "        #converting digital data into Binary format\n",
    "        with open(filename,\"rb\") as f:\n",
    "            binaryData = f.read()\n",
    "        return binaryData\n",
    "    \n",
    "    def browsePhoto(self):\n",
    "        filename1 = fd.askopenfilename()\n",
    "        self.photo.insert(END,filename1)\n",
    "    \n",
    "    def browseResume(self):\n",
    "        filename2 = fd.askopenfilename()\n",
    "        self.resume.insert(END,filename2)\n",
    "    \n",
    "    def insertData(self):\n",
    "        self.name=self.name.get()\n",
    "        self.photo=self.photo.get()\n",
    "        self.resume=self.resume.get()\n",
    "        \n",
    "        try:\n",
    "            db=MySQLdb.connect('localhost','root','root','emiprojectdb')\n",
    "            cursor=db.cursor()\n",
    "            sqlquery=\"insert into users (name,photo,resume) values(%s,%s,%s)\"\n",
    "    \n",
    "            binphoto = self.convertBinaryFun(self.photo)\n",
    "            binresume = self.convertBinaryFun(self.resume)\n",
    "    \n",
    "            res = cursor.execute(sqlquery,(self.name,binphoto,binresume))\n",
    "            db.commit()\n",
    "            print('record has been saved successfully with image & cv.')\n",
    "            messagebox.showinfo(\"Success\",\"Record has been saved succesfully.\")\n",
    "    \n",
    "        except MySQLdb.Error as error:\n",
    "            print('Faile to insert the record with image',error)\n",
    "    \n",
    "    def __init__(self,win):\n",
    "        self.lblname=Label(win,text='Name',font=('arial',12))\n",
    "        self.lblname.place(x=20,y=50)\n",
    "        self.name=Entry(win)\n",
    "        self.name.place(x=100,y=50)\n",
    "        \n",
    "        self.lblphoto=Label(win,text='Photo',font=('arial',12))\n",
    "        self.lblphoto.place(x=20,y=100)\n",
    "        self.photo=Entry(win)\n",
    "        self.photo.place(x=100,y=100)\n",
    "        self.photobtn=Button(win,text='Select photo',command=self.browsePhoto)\n",
    "        self.photobtn.place(x=250,y=100)\n",
    "        \n",
    "        self.lblresume=Label(win,text='Resume',font=('arial',12))\n",
    "        self.lblresume.place(x=20,y=150)\n",
    "        self.resume=Entry(win)\n",
    "        self.resume.place(x=100,y=150)\n",
    "        self.resumebtn=Button(win,text='Select Resume',command=self.browseResume)\n",
    "        self.resumebtn.place(x=250,y=150)\n",
    "        \n",
    "        self.submitbtn=Button(win,text='SUBMIT',command=self.insertData)\n",
    "        self.submitbtn.place(x=100,y=200)\n",
    "\n",
    "window = Tk()\n",
    "window.title('Add Product....!')\n",
    "obj = EmiCalculator(window)\n",
    "window.geometry('530x460+300+200')\n",
    "window.mainloop()"
   ]
  },
  {
   "cell_type": "code",
   "execution_count": null,
   "metadata": {},
   "outputs": [],
   "source": []
  }
 ],
 "metadata": {
  "kernelspec": {
   "display_name": "Python 3",
   "language": "python",
   "name": "python3"
  },
  "language_info": {
   "codemirror_mode": {
    "name": "ipython",
    "version": 3
   },
   "file_extension": ".py",
   "mimetype": "text/x-python",
   "name": "python",
   "nbconvert_exporter": "python",
   "pygments_lexer": "ipython3",
   "version": "3.7.4"
  }
 },
 "nbformat": 4,
 "nbformat_minor": 2
}
