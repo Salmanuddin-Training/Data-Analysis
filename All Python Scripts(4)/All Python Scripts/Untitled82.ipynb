{
 "cells": [
  {
   "cell_type": "code",
   "execution_count": null,
   "metadata": {},
   "outputs": [],
   "source": [
    "#Python - Class attributes\n",
    "\n",
    "class Employee:\n",
    "    \n",
    "    totalemp=0 #class attributes\n",
    "    \n",
    "    def __init__(self):\n",
    "        self.eid=0 #instance attributes\n",
    "        self.name=''\n",
    "        self.address=''\n",
    "        Employee.totalemp+=1 #Emplpoyee.totalemp=Employee.totalemp+1\n",
    "        \n",
    "    def acceptDet(self):\n",
    "        self.eid=int(input('Enter employee id :'))\n",
    "        self.name=input('Enter employee name :')\n",
    "        self.address=input('Enter employee address :')\n",
    "        \n",
    "    def displayDet(self):\n",
    "        print(self.eid,\" \",self.name,\" \",self.address)  \n",
    "\n",
    "\n",
    "e1 = Employee()\n",
    "e1.acceptDet()\n",
    "\n",
    "e2 = Employee ()\n",
    "e2.acceptDet()\n",
    "\n",
    "print(\"\\n===== Employee Details ======\")\n",
    "e1.displayDet()\n",
    "e2.displayDet()\n",
    "print(\"\\n========================\")\n",
    "print(\"Total employee are : \",Employee.totalemp)\n",
    "print(\"========================\")\n",
    "\n",
    "        "
   ]
  },
  {
   "cell_type": "code",
   "execution_count": 3,
   "metadata": {},
   "outputs": [
    {
     "ename": "TypeError",
     "evalue": "accept() missing 1 required positional argument: 'self'",
     "output_type": "error",
     "traceback": [
      "\u001b[1;31m---------------------------------------------------------------------------\u001b[0m",
      "\u001b[1;31mTypeError\u001b[0m                                 Traceback (most recent call last)",
      "\u001b[1;32m<ipython-input-3-a136ba48e50f>\u001b[0m in \u001b[0;36m<module>\u001b[1;34m\u001b[0m\n\u001b[0;32m     10\u001b[0m \u001b[1;33m\u001b[0m\u001b[0m\n\u001b[0;32m     11\u001b[0m \u001b[1;33m\u001b[0m\u001b[0m\n\u001b[1;32m---> 12\u001b[1;33m \u001b[0mCalculator\u001b[0m\u001b[1;33m.\u001b[0m\u001b[0maccept\u001b[0m\u001b[1;33m(\u001b[0m\u001b[1;33m)\u001b[0m\u001b[1;33m\u001b[0m\u001b[1;33m\u001b[0m\u001b[0m\n\u001b[0m\u001b[0;32m     13\u001b[0m \u001b[1;33m\u001b[0m\u001b[0m\n\u001b[0;32m     14\u001b[0m \u001b[1;33m\u001b[0m\u001b[0m\n",
      "\u001b[1;31mTypeError\u001b[0m: accept() missing 1 required positional argument: 'self'"
     ]
    }
   ],
   "source": [
    "class Calculator:\n",
    "    \n",
    "    def accept(self):\n",
    "        self.n1=2\n",
    "        self.n2=4\n",
    "        \n",
    "    def  sum(self):\n",
    "        self.res=self.n1+self.n2\n",
    "        print(\"sum is : \",self.res)\n",
    "\n",
    "\n",
    "Calculator.accept()\n",
    "\n",
    "        \n",
    "        "
   ]
  },
  {
   "cell_type": "code",
   "execution_count": null,
   "metadata": {},
   "outputs": [],
   "source": []
  },
  {
   "cell_type": "code",
   "execution_count": null,
   "metadata": {},
   "outputs": [],
   "source": []
  }
 ],
 "metadata": {
  "kernelspec": {
   "display_name": "Python 3",
   "language": "python",
   "name": "python3"
  },
  "language_info": {
   "codemirror_mode": {
    "name": "ipython",
    "version": 3
   },
   "file_extension": ".py",
   "mimetype": "text/x-python",
   "name": "python",
   "nbconvert_exporter": "python",
   "pygments_lexer": "ipython3",
   "version": "3.7.4"
  }
 },
 "nbformat": 4,
 "nbformat_minor": 2
}
