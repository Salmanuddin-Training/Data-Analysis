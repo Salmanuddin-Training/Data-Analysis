{
 "cells": [
  {
   "cell_type": "code",
   "execution_count": 11,
   "metadata": {},
   "outputs": [
    {
     "name": "stdout",
     "output_type": "stream",
     "text": [
      "******Student Details******\n",
      "Name :  John\n",
      "Course :  JAVA\n",
      "Marks :  67\n",
      "******Student Details******\n",
      "Name :  Williams\n",
      "Course :  Python\n",
      "Marks :  70\n"
     ]
    }
   ],
   "source": [
    "#Python- XML parser\n",
    "import xml.sax\n",
    "\n",
    "class StudentHandler(xml.sax.ContentHandler):\n",
    "    def __init__(self):\n",
    "            self.CurrentData=\"\"\n",
    "            self.name=''\n",
    "            self.course=''\n",
    "            self.marks=''\n",
    "            \n",
    "    def startElement(self,tag,attribute):\n",
    "            self.CurrentData=tag\n",
    "            if tag == 'student':\n",
    "                print(\"******Student Details******\")\n",
    "                \n",
    "    def endElement(self,tag):\n",
    "        if self.CurrentData==\"name\":\n",
    "            print(\"Name : \", self.name)\n",
    "        elif self.CurrentData==\"course\":\n",
    "            print(\"Course : \", self.course)\n",
    "        elif self.CurrentData==\"marks\":\n",
    "            print(\"Marks : \", self.marks)\n",
    "        self.CurrentData=\"\"\n",
    "        \n",
    "    def characters(self,content):\n",
    "        if self.CurrentData==\"name\":\n",
    "            self.name=content\n",
    "        elif self.CurrentData==\"course\":\n",
    "            self.course=content\n",
    "        elif self.CurrentData==\"marks\":\n",
    "            self.marks=content\n",
    "            \n",
    "if (__name__ == \"__main__\"):\n",
    "    #create an xmlReader\n",
    "    parser = xml.sax.make_parser()\n",
    "    \n",
    "    #turn off the nasmespaces\n",
    "    parser.setFeature(xml.sax.handler.feature_namespaces,0)\n",
    "    \n",
    "    handler = StudentHandler()\n",
    "    parser.setContentHandler(handler)\n",
    "    parser.parse('E:/student_data.xml')\n",
    "    "
   ]
  },
  {
   "cell_type": "code",
   "execution_count": 14,
   "metadata": {},
   "outputs": [
    {
     "name": "stdout",
     "output_type": "stream",
     "text": [
      "******Student Details******\n",
      "Name : John\n",
      "Course : JAVA\n",
      "Marks : 67\n",
      "\n",
      "====================================\n",
      "\n",
      "******Student Details******\n",
      "Name : Williams\n",
      "Course : Python\n",
      "Marks : 70\n",
      "\n",
      "====================================\n",
      "\n"
     ]
    }
   ],
   "source": [
    "#Python- DOM API parser\n",
    "from xml.dom.minidom import parse\n",
    "import xml.dom.minidom\n",
    "\n",
    "#opening an xml doc using minidom parser\n",
    "DOMTree = xml.dom.minidom.parse(\"E:/student_data.xml\")\n",
    "collection = DOMTree.documentElement\n",
    "\n",
    "#get all the student in the  collection\n",
    "\n",
    "studentlist= collection.getElementsByTagName(\"student\")\n",
    "for stud in studentlist:\n",
    "    print(\"******Student Details******\")\n",
    "    \n",
    "    name = stud.getElementsByTagName('name')[0]\n",
    "    print(\"Name : %s\"% name.childNodes[0].data)\n",
    "    \n",
    "    course = stud.getElementsByTagName('course')[0]\n",
    "    print(\"Course : %s\"% course.childNodes[0].data)\n",
    "    \n",
    "    marks = stud.getElementsByTagName('marks')[0]\n",
    "    print(\"Marks : %s\"% marks.childNodes[0].data)\n",
    "    \n",
    "    print(\"\\n====================================\\n\")\n",
    "    "
   ]
  },
  {
   "cell_type": "code",
   "execution_count": null,
   "metadata": {},
   "outputs": [],
   "source": []
  }
 ],
 "metadata": {
  "kernelspec": {
   "display_name": "Python 3",
   "language": "python",
   "name": "python3"
  },
  "language_info": {
   "codemirror_mode": {
    "name": "ipython",
    "version": 3
   },
   "file_extension": ".py",
   "mimetype": "text/x-python",
   "name": "python",
   "nbconvert_exporter": "python",
   "pygments_lexer": "ipython3",
   "version": "3.7.4"
  }
 },
 "nbformat": 4,
 "nbformat_minor": 2
}
