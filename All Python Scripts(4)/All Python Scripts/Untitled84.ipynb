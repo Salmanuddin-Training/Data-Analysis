{
 "cells": [
  {
   "cell_type": "code",
   "execution_count": 1,
   "metadata": {},
   "outputs": [
    {
     "name": "stdout",
     "output_type": "stream",
     "text": [
      "Old customer ID :  101\n",
      "New customer ID :  102\n"
     ]
    }
   ],
   "source": [
    "#Python-  Public\n",
    "\n",
    "class Customer:\n",
    "    def __init__(self):\n",
    "        self.custId=101\n",
    "        self.custName=\"John\"\n",
    "        \n",
    "c1 = Customer()\n",
    "print(\"Old customer ID : \",c1.custId)\n",
    "c1.custId=102\n",
    "print(\"New customer ID : \",c1.custId)"
   ]
  },
  {
   "cell_type": "code",
   "execution_count": 9,
   "metadata": {},
   "outputs": [
    {
     "name": "stdout",
     "output_type": "stream",
     "text": [
      "Customer ID :  101\n",
      "Customer Name :  John\n",
      "101\n"
     ]
    }
   ],
   "source": [
    "#Python-  Private\n",
    "\n",
    "class Customer:\n",
    "    def __init__(self):\n",
    "        self.__custId=101\n",
    "        self.custName=\"John\"\n",
    "     \n",
    "    def display(self):\n",
    "        print(\"Customer ID : \",self.__custId)\n",
    "        print(\"Customer Name : \",self.custName)\n",
    "        \n",
    "c1 = Customer()\n",
    "c1.display()\n",
    "\n"
   ]
  },
  {
   "cell_type": "code",
   "execution_count": 11,
   "metadata": {},
   "outputs": [
    {
     "name": "stdout",
     "output_type": "stream",
     "text": [
      "Customer Name :  williams\n"
     ]
    }
   ],
   "source": [
    "class Customer:\n",
    "    def __init__(self,name='williams'):\n",
    "        self.custName=name\n",
    "     \n",
    "    def display(self):\n",
    "        print(\"Customer Name : \",self.custName)\n",
    "        \n",
    "c1 = Customer()\n",
    "c1.display()\n",
    "\n"
   ]
  },
  {
   "cell_type": "code",
   "execution_count": 4,
   "metadata": {},
   "outputs": [
    {
     "name": "stdout",
     "output_type": "stream",
     "text": [
      "Hi......\n"
     ]
    }
   ],
   "source": [
    "class MyClass:\n",
    "    \n",
    "    @staticmethod\n",
    "    def myfun():\n",
    "        print(\"Hi......\")\n",
    "\n",
    "MyClass.myfun()"
   ]
  },
  {
   "cell_type": "code",
   "execution_count": null,
   "metadata": {},
   "outputs": [],
   "source": []
  }
 ],
 "metadata": {
  "kernelspec": {
   "display_name": "Python 3",
   "language": "python",
   "name": "python3"
  },
  "language_info": {
   "codemirror_mode": {
    "name": "ipython",
    "version": 3
   },
   "file_extension": ".py",
   "mimetype": "text/x-python",
   "name": "python",
   "nbconvert_exporter": "python",
   "pygments_lexer": "ipython3",
   "version": "3.7.4"
  }
 },
 "nbformat": 4,
 "nbformat_minor": 2
}
