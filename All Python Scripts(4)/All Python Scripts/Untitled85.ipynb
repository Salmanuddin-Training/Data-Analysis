{
 "cells": [
  {
   "cell_type": "code",
   "execution_count": 2,
   "metadata": {},
   "outputs": [
    {
     "name": "stdout",
     "output_type": "stream",
     "text": [
      "Enter flight no. :10001\n",
      "Enter flight destination :Tokyo\n",
      "Enter flight distance :1500\n",
      "***** Flight Details : *****\n",
      "Flight No.    : 10001\n",
      "Destination   : Tokyo\n",
      "Distance      : 1500\n",
      "Fuel required : 1100\n"
     ]
    }
   ],
   "source": [
    "class Flight:\n",
    "    def __init__(self):\n",
    "        self.flight_no=0\n",
    "        self.destination=''\n",
    "        self.distance=0\n",
    "        self.fuel=0\n",
    "        \n",
    "    def CALFUEL(self):\n",
    "        if self.distance <=1000:\n",
    "            self.fuel=500\n",
    "        elif self.distance>=1000 and self.distance<=2000:\n",
    "            self.fuel=1100\n",
    "        elif self.distance>2000:\n",
    "            self.fuel=2200\n",
    "            \n",
    "    def FEEDINFO(self):\n",
    "        self.flight_no=int(input('Enter flight no. :'))\n",
    "        self.destination=input('Enter flight destination :')\n",
    "        self.distance=int(input('Enter flight distance :'))\n",
    "        self.CALFUEL()\n",
    "        \n",
    "    def SHOWINFO(self):\n",
    "        print(\"***** Flight Details : *****\")\n",
    "        print(\"Flight No.    :\",self.flight_no)\n",
    "        print(\"Destination   :\",self.destination)\n",
    "        print(\"Distance      :\",self.distance)\n",
    "        print(\"Fuel required :\",self.fuel)\n",
    "        \n",
    "fobj = Flight()\n",
    "fobj.FEEDINFO()\n",
    "fobj.SHOWINFO()"
   ]
  },
  {
   "cell_type": "code",
   "execution_count": 3,
   "metadata": {},
   "outputs": [
    {
     "name": "stdout",
     "output_type": "stream",
     "text": [
      "Enter batsman code :1001\n",
      "Enter batsman name     :Sachin\n",
      "Enter  innings   :5\n",
      "Enter notouts    :4\n",
      "Enter runs scored   :1000\n",
      "===== Batsman Details : =====\n",
      "Batsman code  : 1001\n",
      "Name          : Sachin\n",
      "Innings       : 5\n",
      "Notouts       : 4\n",
      "Runs          : 1000\n",
      "Average       : 1000.0\n"
     ]
    }
   ],
   "source": [
    "class Batsman:\n",
    "    def __init__(self):\n",
    "        self.__bcode=0\n",
    "        self.__bname=''\n",
    "        self.__innings=0\n",
    "        self.__notouts=0\n",
    "        self.__runs=0\n",
    "        self.__batavg=0\n",
    "        \n",
    "    def calcavg(self):\n",
    "        return self.__runs/(self.__innings-self.__notouts)\n",
    "    \n",
    "    def readdata(self):\n",
    "        self.__bcode=int(input('Enter batsman code :'))\n",
    "        self.__bname=input('Enter batsman name     :')\n",
    "        self.__innings=int(input('Enter  innings   :'))\n",
    "        self.__notouts=int(input('Enter notouts    :'))\n",
    "        self.__runs=int(input('Enter runs scored   :'))\n",
    "        self.__batavg = self.calcavg()\n",
    "      \n",
    "    def displaydata(self):\n",
    "        print(\"===== Batsman Details : =====\")\n",
    "        print(\"Batsman code  :\",self.__bcode)\n",
    "        print(\"Name          :\",self.__bname)\n",
    "        print(\"Innings       :\",self.__innings)\n",
    "        print(\"Notouts       :\",self.__notouts)\n",
    "        print(\"Runs          :\",self.__runs)\n",
    "        print(\"Average       :\",self.__batavg)\n",
    "        \n",
    "    "
   ]
  },
  {
   "cell_type": "code",
   "execution_count": null,
   "metadata": {},
   "outputs": [],
   "source": []
  }
 ],
 "metadata": {
  "kernelspec": {
   "display_name": "Python 3",
   "language": "python",
   "name": "python3"
  },
  "language_info": {
   "codemirror_mode": {
    "name": "ipython",
    "version": 3
   },
   "file_extension": ".py",
   "mimetype": "text/x-python",
   "name": "python",
   "nbconvert_exporter": "python",
   "pygments_lexer": "ipython3",
   "version": "3.7.4"
  }
 },
 "nbformat": 4,
 "nbformat_minor": 2
}
