{
 "cells": [
  {
   "cell_type": "code",
   "execution_count": 10,
   "metadata": {},
   "outputs": [],
   "source": [
    "from tkinter import *\n",
    "from tkinter import messagebox\n",
    "class GuiTableDemo:\n",
    "    \n",
    "    def __init__(self,win):\n",
    "        \n",
    "        messagebox.showinfo('aa')\n",
    "        datalst=[(1,'Cookies','Bakery',85),(2,'Potato','Grocery',50),(3,'Pizaa','Snacks',45)]\n",
    "    \n",
    "        total_rows=len(datalst)\n",
    "        total_column=len(datalst[0])\n",
    "    \n",
    "        for i in range(total_rows):\n",
    "            for j in range(total_column):\n",
    "                self.a=Entry(win,width=20,font=('arial',15,'bold'),fg='blue')\n",
    "                self.a.grid(row=i,column=j)\n",
    "                self.a.insert(END,datalst[i][j])\n",
    "    \n",
    "    \n",
    "window = Tk()\n",
    "GuiTableDemo(window)\n",
    "window.geometry('530x400+200+300')\n",
    "window.mainloop()"
   ]
  },
  {
   "cell_type": "code",
   "execution_count": null,
   "metadata": {},
   "outputs": [],
   "source": []
  }
 ],
 "metadata": {
  "kernelspec": {
   "display_name": "Python 3",
   "language": "python",
   "name": "python3"
  },
  "language_info": {
   "codemirror_mode": {
    "name": "ipython",
    "version": 3
   },
   "file_extension": ".py",
   "mimetype": "text/x-python",
   "name": "python",
   "nbconvert_exporter": "python",
   "pygments_lexer": "ipython3",
   "version": "3.7.4"
  }
 },
 "nbformat": 4,
 "nbformat_minor": 2
}
