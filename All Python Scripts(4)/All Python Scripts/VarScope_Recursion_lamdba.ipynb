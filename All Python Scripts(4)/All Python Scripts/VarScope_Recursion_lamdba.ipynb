{
 "cells": [
  {
   "cell_type": "code",
   "execution_count": 8,
   "metadata": {},
   "outputs": [
    {
     "name": "stdout",
     "output_type": "stream",
     "text": [
      "Weclome to,  Python\n",
      "<class 'str'>\n"
     ]
    }
   ],
   "source": [
    "#Python - Local Variables...\n",
    "\n",
    "def myFun():\n",
    "    str='Python' #str var. has a local scope\n",
    "    print('Weclome to, ',str)\n",
    "    return\n",
    "\n",
    "myFun()\n",
    "print(str)\n"
   ]
  },
  {
   "cell_type": "code",
   "execution_count": 9,
   "metadata": {},
   "outputs": [
    {
     "name": "stdout",
     "output_type": "stream",
     "text": [
      "Weclome to,  Django\n",
      "Django\n"
     ]
    }
   ],
   "source": [
    "#Python - Global Variables...\n",
    "\n",
    "str = 'Django'\n",
    "def myFun():\n",
    "    print('Weclome to, ',str)\n",
    "    return\n",
    "\n",
    "myFun()\n",
    "print(str)\n"
   ]
  },
  {
   "cell_type": "code",
   "execution_count": 13,
   "metadata": {},
   "outputs": [
    {
     "name": "stdout",
     "output_type": "stream",
     "text": [
      "Enter any no.1\n",
      "1\n"
     ]
    }
   ],
   "source": [
    "#Recursions\n",
    "\n",
    "def factorial(n):\n",
    "    if n==1:\n",
    "        return 1\n",
    "    else:\n",
    "        return n*factorial(n-1)\n",
    "    \n",
    "n = int(input('Enter any no.'))\n",
    "fact = factorial(n)\n",
    "print(fact)"
   ]
  },
  {
   "cell_type": "code",
   "execution_count": 14,
   "metadata": {},
   "outputs": [
    {
     "data": {
      "text/plain": [
       "16"
      ]
     },
     "execution_count": 14,
     "metadata": {},
     "output_type": "execute_result"
    }
   ],
   "source": [
    "#Annoymous functions or lambda function\n",
    "square = lambda num: num*num\n",
    "\n",
    "square(4)"
   ]
  },
  {
   "cell_type": "code",
   "execution_count": 16,
   "metadata": {},
   "outputs": [
    {
     "name": "stdout",
     "output_type": "stream",
     "text": [
      "[1, 5, 11, 3]\n"
     ]
    }
   ],
   "source": [
    "my_list = [1, 5, 4, 6, 8, 11, 3, 12]\n",
    "new_list = list(filter(lambda x: (x%2 == 0) , my_list))\n",
    "print(new_list)"
   ]
  },
  {
   "cell_type": "code",
   "execution_count": 17,
   "metadata": {},
   "outputs": [
    {
     "name": "stdout",
     "output_type": "stream",
     "text": [
      "[False, False, True, True, True, False, False, True]\n"
     ]
    }
   ],
   "source": [
    "my_list = [1, 5, 4, 6, 8, 11, 3, 12]\n",
    "\n",
    "new_list = list(map(lambda x: x%2==0 , my_list))\n",
    "print(new_list)"
   ]
  },
  {
   "cell_type": "code",
   "execution_count": null,
   "metadata": {},
   "outputs": [],
   "source": []
  }
 ],
 "metadata": {
  "kernelspec": {
   "display_name": "Python 3",
   "language": "python",
   "name": "python3"
  },
  "language_info": {
   "codemirror_mode": {
    "name": "ipython",
    "version": 3
   },
   "file_extension": ".py",
   "mimetype": "text/x-python",
   "name": "python",
   "nbconvert_exporter": "python",
   "pygments_lexer": "ipython3",
   "version": "3.7.4"
  }
 },
 "nbformat": 4,
 "nbformat_minor": 2
}
