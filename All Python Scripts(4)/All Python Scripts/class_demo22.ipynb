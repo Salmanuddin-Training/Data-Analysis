{
 "cells": [
  {
   "cell_type": "code",
   "execution_count": 2,
   "metadata": {},
   "outputs": [
    {
     "data": {
      "text/plain": [
       "'This class deals with Employee info.'"
      ]
     },
     "execution_count": 2,
     "metadata": {},
     "output_type": "execute_result"
    }
   ],
   "source": [
    "#Python- class\n",
    "\n",
    "class Employee:\n",
    "    '''This class deals with Employee info.'''\n",
    "    pass\n",
    "\n",
    "Employee.__doc__"
   ]
  },
  {
   "cell_type": "code",
   "execution_count": 7,
   "metadata": {},
   "outputs": [
    {
     "name": "stdout",
     "output_type": "stream",
     "text": [
      "hi\n"
     ]
    }
   ],
   "source": [
    "def fun():\n",
    "    print(\"hi\")\n",
    "    \n",
    "fun()"
   ]
  },
  {
   "cell_type": "code",
   "execution_count": 5,
   "metadata": {},
   "outputs": [
    {
     "name": "stdout",
     "output_type": "stream",
     "text": [
      "Constructor run.....!\n"
     ]
    }
   ],
   "source": [
    "#Python - constr.\n",
    "\n",
    "class Employee:          #class\n",
    "    def __init__(self):  #const.\n",
    "        print(\"Constructor run.....!\")\n",
    "\n",
    "e1 = Employee()      #object creation/instantion\n"
   ]
  },
  {
   "cell_type": "code",
   "execution_count": 10,
   "metadata": {},
   "outputs": [
    {
     "name": "stdout",
     "output_type": "stream",
     "text": [
      "Emp ID  : E001\n",
      "Emp name: John\n",
      "Emp Addr: USA\n"
     ]
    }
   ],
   "source": [
    "#Python - instance attributes/var.\n",
    "\n",
    "class Employee:          \n",
    "    def __init__(self):  \n",
    "        self.eid='E001'     #instance attr.\n",
    "        self.name=\"John\"\n",
    "        self.address=\"USA\"\n",
    "        \n",
    "e1 = Employee()\n",
    "print(\"Emp ID  :\",e1.eid)\n",
    "print(\"Emp name:\",e1.name)\n",
    "print(\"Emp Addr:\",e1.address)"
   ]
  },
  {
   "cell_type": "code",
   "execution_count": 12,
   "metadata": {},
   "outputs": [
    {
     "name": "stdout",
     "output_type": "stream",
     "text": [
      "Enter employee  id :1001\n",
      "Employee name :Allen\n",
      "Employee address:USA\n",
      "Emp ID  : 1001\n",
      "Emp name: Allen\n",
      "Emp Addr: USA\n"
     ]
    }
   ],
   "source": [
    "#Python - instance attributes/var.\n",
    "\n",
    "class Employee:          \n",
    "    def __init__(self,eid,name,addr):  \n",
    "        self.eid=eid\n",
    "        self.name=name\n",
    "        self.address=addr\n",
    "        \n",
    "eid=input('Enter employee  id :')\n",
    "name=input('Employee name :')\n",
    "addr=input('Employee address:')\n",
    "\n",
    "e1 = Employee(eid,name,addr)\n",
    "print(\"Emp ID  :\",e1.eid)\n",
    "print(\"Emp name:\",e1.name)\n",
    "print(\"Emp Addr:\",e1.address)"
   ]
  },
  {
   "cell_type": "code",
   "execution_count": 13,
   "metadata": {},
   "outputs": [
    {
     "name": "stdout",
     "output_type": "stream",
     "text": [
      "Emp ID  : 101\n",
      "Emp name: John\n",
      "Emp Addr: USA\n",
      "--------------------------\n",
      "Emp ID  : 102\n",
      "Emp name: Williams\n",
      "Emp Addr: Germany\n"
     ]
    }
   ],
   "source": [
    "class Employee:          \n",
    "    def __init__(self,eid,name,addr):  \n",
    "        self.eid=eid\n",
    "        self.name=name\n",
    "        self.address=addr\n",
    "    \n",
    "e1 = Employee(101,'John','USA')\n",
    "e2 = Employee(102,'Williams','Germany')\n",
    "\n",
    "print(\"Emp ID  :\",e1.eid)\n",
    "print(\"Emp name:\",e1.name)\n",
    "print(\"Emp Addr:\",e1.address)\n",
    "print('--------------------------')\n",
    "print(\"Emp ID  :\",e2.eid)\n",
    "print(\"Emp name:\",e2.name)\n",
    "print(\"Emp Addr:\",e2.address)"
   ]
  },
  {
   "cell_type": "code",
   "execution_count": 14,
   "metadata": {},
   "outputs": [
    {
     "name": "stdout",
     "output_type": "stream",
     "text": [
      "Enter emp ID:101\n",
      "Enter emp nameJohn\n",
      "Enter emp address:usa\n",
      "Enter emp ID:102\n",
      "Enter emp nameWilliams\n",
      "Enter emp address:Germany\n",
      "===== Employee Details ======\n",
      "101   John   usa\n",
      "102   Williams   Germany\n"
     ]
    }
   ],
   "source": [
    "#Python- OPPs- user-defined function/methods\n",
    "class Employee:\n",
    "    def __init__(self):\n",
    "        self.eid=0\n",
    "        self.name=''\n",
    "        self.address=''\n",
    "        \n",
    "    def acceptDet(self):\n",
    "        self.eid=int(input('Enter emp ID:'))\n",
    "        self.name=input('Enter emp name')\n",
    "        self.address=input(\"Enter emp address:\")\n",
    "     \n",
    "    def displayDet(self):\n",
    "        print(self.eid,\" \",self.name,\" \",self.address)\n",
    "        \n",
    "e1=Employee()\n",
    "e1.acceptDet()  \n",
    "\n",
    "e2=Employee()\n",
    "e2.acceptDet() \n",
    "\n",
    "print(\"===== Employee Details ======\")\n",
    "e1.displayDet()\n",
    "e2.displayDet()"
   ]
  },
  {
   "cell_type": "code",
   "execution_count": null,
   "metadata": {},
   "outputs": [],
   "source": []
  }
 ],
 "metadata": {
  "kernelspec": {
   "display_name": "Python 3",
   "language": "python",
   "name": "python3"
  },
  "language_info": {
   "codemirror_mode": {
    "name": "ipython",
    "version": 3
   },
   "file_extension": ".py",
   "mimetype": "text/x-python",
   "name": "python",
   "nbconvert_exporter": "python",
   "pygments_lexer": "ipython3",
   "version": "3.7.4"
  }
 },
 "nbformat": 4,
 "nbformat_minor": 2
}
