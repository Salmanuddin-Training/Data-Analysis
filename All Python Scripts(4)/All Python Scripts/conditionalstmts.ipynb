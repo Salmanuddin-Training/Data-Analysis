{
 "cells": [
  {
   "cell_type": "code",
   "execution_count": 2,
   "metadata": {},
   "outputs": [
    {
     "name": "stdout",
     "output_type": "stream",
     "text": [
      "Enter price:500\n",
      "Enter quantity :2\n",
      "Amount payable is :  1000\n"
     ]
    }
   ],
   "source": [
    "#Python Conditional Statements\n",
    "#if -constructs\n",
    "\n",
    "price=int(input('Enter price:'))\n",
    "qty=int(input('Enter quantity :'))\n",
    "totalamt = price*qty\n",
    "if totalamt>=2000:\n",
    "    print('10% discount is applicable...!')\n",
    "    discount=totalamt*10/100\n",
    "    totalamt=totalamt-discount\n",
    "print(\"Amount payable is : \",totalamt)"
   ]
  },
  {
   "cell_type": "code",
   "execution_count": 4,
   "metadata": {},
   "outputs": [
    {
     "name": "stdout",
     "output_type": "stream",
     "text": [
      "Enter ur age :16\n",
      "Not elligble for voting\n"
     ]
    }
   ],
   "source": [
    "#Python Conditional Statements\n",
    "#if else -constructs\n",
    "\n",
    "age=int(input('Enter ur age :'))\n",
    "if age>= 18:\n",
    "    print(\"U r elligible for voting.....!\")\n",
    "else:\n",
    "    print(\"Not elligble for voting\")"
   ]
  },
  {
   "cell_type": "code",
   "execution_count": 11,
   "metadata": {},
   "outputs": [
    {
     "name": "stdout",
     "output_type": "stream",
     "text": [
      "Enter marks:45\n",
      "Result is :  Failed\n"
     ]
    }
   ],
   "source": [
    "#Python Conditional Statements\n",
    "#if elif else -constructs (multiple conditions)\n",
    "\n",
    "marks = int(input('Enter marks:'))\n",
    "grade=''\n",
    "if marks>=50 and marks<60:\n",
    "    grade='Passed'\n",
    "elif marks>=60 and marks<70:\n",
    "    grade='Good'\n",
    "elif marks>=70 and marks<80:\n",
    "    grade='Very Good'\n",
    "elif marks>=80 and marks<=100:\n",
    "    grade='Excellent'\n",
    "elif marks<0 or marks>100:\n",
    "    grade='Invalid marks entry...!'\n",
    "else:\n",
    "    grade=\"Failed\"\n",
    "\n",
    "print(\"Result is : \",grade)"
   ]
  },
  {
   "cell_type": "code",
   "execution_count": 13,
   "metadata": {},
   "outputs": [
    {
     "name": "stdout",
     "output_type": "stream",
     "text": [
      "Average is :  60.6\n"
     ]
    }
   ],
   "source": [
    "#Python Conditional Statements\n",
    "#for - loop with list\n",
    "\n",
    "marks =[56,78,90,45,34]\n",
    "total=0\n",
    "\n",
    "for m1 in marks:\n",
    "    total=total+m1 #total+=m1\n",
    "\n",
    "print(\"Average is : \",total/len(marks))"
   ]
  },
  {
   "cell_type": "code",
   "execution_count": 14,
   "metadata": {},
   "outputs": [
    {
     "name": "stdout",
     "output_type": "stream",
     "text": [
      "Average is :  60.6\n"
     ]
    }
   ],
   "source": [
    "#Python Conditional Statements\n",
    "#for - loop with tuple\n",
    "\n",
    "marks =(56,78,90,45,34)\n",
    "total=0\n",
    "\n",
    "for m1 in marks:\n",
    "    total=total+m1 #total+=m1\n",
    "\n",
    "print(\"Average is : \",total/len(marks))"
   ]
  },
  {
   "cell_type": "code",
   "execution_count": 15,
   "metadata": {},
   "outputs": [
    {
     "name": "stdout",
     "output_type": "stream",
     "text": [
      "(1, 50)\n",
      "(2, 60)\n",
      "(3, 70)\n"
     ]
    }
   ],
   "source": [
    "#Python Conditional Statements\n",
    "#for - loop with dictionary\n",
    "dict1={1:50,2:60,3:70}\n",
    "for pair in dict1.items():\n",
    "    print(pair)\n",
    "    \n",
    "    "
   ]
  },
  {
   "cell_type": "code",
   "execution_count": 16,
   "metadata": {},
   "outputs": [
    {
     "name": "stdout",
     "output_type": "stream",
     "text": [
      "Roll no : 1  Marks : 50\n",
      "Roll no : 2  Marks : 60\n",
      "Roll no : 3  Marks : 70\n"
     ]
    }
   ],
   "source": [
    "#Python Conditional Statements\n",
    "#for - loop with dictionary\n",
    "dict1={1:50,2:60,3:70}\n",
    "for k,v in dict1.items():\n",
    "    print(\"Roll no :\",k,\" Marks :\",v)"
   ]
  },
  {
   "cell_type": "code",
   "execution_count": 17,
   "metadata": {},
   "outputs": [
    {
     "name": "stdout",
     "output_type": "stream",
     "text": [
      "P\n",
      "y\n",
      "t\n",
      "h\n",
      "o\n",
      "n\n"
     ]
    }
   ],
   "source": [
    "#Python Conditional Statements\n",
    "#for - loop with String\n",
    "str=\"Python\"\n",
    "for char in str:\n",
    "    print(char)"
   ]
  },
  {
   "cell_type": "code",
   "execution_count": 24,
   "metadata": {},
   "outputs": [
    {
     "name": "stdout",
     "output_type": "stream",
     "text": [
      "   * \n",
      "\n",
      "  * * \n",
      "\n",
      " * * * \n",
      "\n",
      "* * * * \n",
      "\n"
     ]
    }
   ],
   "source": [
    "#Python Conditional Statements\n",
    "#nested for - loop\n",
    "\n",
    "for x in range(0,4):\n",
    "    for y in range(x,3):\n",
    "        print(\" \",end='')\n",
    "    for z in range(x+1):\n",
    "        print(\"* \",end=\"\")\n",
    "    print(\"\\n\")\n",
    "    "
   ]
  },
  {
   "cell_type": "code",
   "execution_count": 2,
   "metadata": {},
   "outputs": [
    {
     "name": "stdout",
     "output_type": "stream",
     "text": [
      "2\n",
      "4\n",
      "6\n",
      "8\n",
      "10\n"
     ]
    }
   ],
   "source": [
    "#Python - while loop (variable category loop)\n",
    "num =0\n",
    "while num<10:\n",
    "    num+=2 #num=num+2\n",
    "    print(num)\n"
   ]
  },
  {
   "cell_type": "code",
   "execution_count": 4,
   "metadata": {},
   "outputs": [
    {
     "name": "stdout",
     "output_type": "stream",
     "text": [
      "Enter a number:2\n",
      "Enter a number:4\n",
      "Enter a number:6\n",
      "Enter a number:0\n",
      "Enter a number:-1\n",
      "Total no. input by the user is:  4\n",
      "Total sum is:  12\n"
     ]
    }
   ],
   "source": [
    "num=0\n",
    "count=0\n",
    "sum = 0\n",
    "while num>=0:\n",
    "    num=int(input('Enter a number:'))\n",
    "    if num>=0:\n",
    "        count+=1\n",
    "        sum=sum+num\n",
    "print(\"Total no. input by the user is: \",count)\n",
    "print(\"Total sum is: \",sum)"
   ]
  },
  {
   "cell_type": "markdown",
   "metadata": {},
   "source": [
    "#Python - else in loop\n"
   ]
  },
  {
   "cell_type": "code",
   "execution_count": 7,
   "metadata": {},
   "outputs": [
    {
     "name": "stdout",
     "output_type": "stream",
     "text": [
      "0\n",
      "1\n",
      "2\n",
      "3\n",
      "4\n",
      "Else block in loop\n",
      "End og prog.\n"
     ]
    }
   ],
   "source": [
    "#Python- else in for loop\n",
    "for x in range(5):\n",
    "    print(x)\n",
    "else:\n",
    "    print(\"Else block in loop\")\n",
    "    \n",
    "print(\"End og prog.\")"
   ]
  },
  {
   "cell_type": "code",
   "execution_count": 10,
   "metadata": {},
   "outputs": [
    {
     "ename": "SyntaxError",
     "evalue": "invalid syntax (<ipython-input-10-d3bd252e1665>, line 7)",
     "output_type": "error",
     "traceback": [
      "\u001b[1;36m  File \u001b[1;32m\"<ipython-input-10-d3bd252e1665>\"\u001b[1;36m, line \u001b[1;32m7\u001b[0m\n\u001b[1;33m    else:\u001b[0m\n\u001b[1;37m       ^\u001b[0m\n\u001b[1;31mSyntaxError\u001b[0m\u001b[1;31m:\u001b[0m invalid syntax\n"
     ]
    }
   ],
   "source": [
    "#Python- else in while loop\n",
    "x=0\n",
    "while x<5:\n",
    "    x+=1\n",
    "    print(\"Loop : \",x)n\n",
    "else:\n",
    "    print(\"Else block in loop\")\n",
    "    \n",
    "print(\"End of prog.\")\n",
    "        "
   ]
  },
  {
   "cell_type": "code",
   "execution_count": 11,
   "metadata": {},
   "outputs": [
    {
     "name": "stdout",
     "output_type": "stream",
     "text": [
      "1\n",
      "2\n",
      "3\n",
      "End of prog.\n"
     ]
    }
   ],
   "source": [
    "#Pyhton-break statement\n",
    "num=0\n",
    "while num<5:\n",
    "    num+=1\n",
    "    print(num)\n",
    "    if num==3:\n",
    "        break\n",
    "print(\"End of prog.\")\n"
   ]
  },
  {
   "cell_type": "code",
   "execution_count": 12,
   "metadata": {},
   "outputs": [
    {
     "name": "stdout",
     "output_type": "stream",
     "text": [
      "1\n",
      "2\n",
      "4\n",
      "5\n",
      "End of prog.\n"
     ]
    }
   ],
   "source": [
    "#Pyhton-continue statement\n",
    "num=0\n",
    "while num<5:\n",
    "    num+=1\n",
    "    if num==3:\n",
    "        continue\n",
    "        \n",
    "    print(num)\n",
    "   \n",
    "print(\"End of prog.\")"
   ]
  },
  {
   "cell_type": "code",
   "execution_count": 17,
   "metadata": {},
   "outputs": [],
   "source": [
    "#Python- pass statement\n",
    "for i in range(5):\n",
    "    pass"
   ]
  },
  {
   "cell_type": "code",
   "execution_count": 21,
   "metadata": {},
   "outputs": [],
   "source": [
    "def myfun():\n",
    "   pass\n",
    "\n"
   ]
  },
  {
   "cell_type": "code",
   "execution_count": null,
   "metadata": {},
   "outputs": [],
   "source": []
  }
 ],
 "metadata": {
  "kernelspec": {
   "display_name": "Python 3",
   "language": "python",
   "name": "python3"
  },
  "language_info": {
   "codemirror_mode": {
    "name": "ipython",
    "version": 3
   },
   "file_extension": ".py",
   "mimetype": "text/x-python",
   "name": "python",
   "nbconvert_exporter": "python",
   "pygments_lexer": "ipython3",
   "version": "3.7.4"
  }
 },
 "nbformat": 4,
 "nbformat_minor": 2
}
