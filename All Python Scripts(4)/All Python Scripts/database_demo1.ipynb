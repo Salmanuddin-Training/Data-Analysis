{
 "cells": [
  {
   "cell_type": "code",
   "execution_count": 3,
   "metadata": {},
   "outputs": [
    {
     "name": "stdout",
     "output_type": "stream",
     "text": [
      "Current database version : ('5.7.31-log',)\n"
     ]
    }
   ],
   "source": [
    "#Python Database iteraction\n",
    "import MySQLdb\n",
    "\n",
    "#open the database connection\n",
    "db = MySQLdb.connect(\"localhost\",\"root\",\"root\",\"python_db\")\n",
    "\n",
    "#creating cursor object\n",
    "cursor = db.cursor()\n",
    "\n",
    "#executing sql query\n",
    "cursor.execute(\"select version()\")\n",
    "\n",
    "#fetch a single row using fetchone()\n",
    "data = cursor.fetchone()\n",
    "\n",
    "print(\"Current database version :\",data)\n",
    "\n",
    "#close the connection\n",
    "db.close()"
   ]
  },
  {
   "cell_type": "code",
   "execution_count": 6,
   "metadata": {},
   "outputs": [
    {
     "name": "stdout",
     "output_type": "stream",
     "text": [
      "(101, 'John', 'Python', 79.0)\n",
      "(102, 'Williams', 'Django', 90.0)\n"
     ]
    }
   ],
   "source": [
    "#Python Database- Read operation\n",
    "import MySQLdb\n",
    "\n",
    "#open the database connection\n",
    "db = MySQLdb.connect(\"localhost\",\"root\",\"root\",\"python_db\")\n",
    "\n",
    "#creating cursor object\n",
    "cursor = db.cursor()\n",
    "\n",
    "#executing sql query\n",
    "cursor.execute(\"select * from student\")\n",
    "\n",
    "#fetch a single row using fetchone()\n",
    "#data = cursor.fetchone()\n",
    "#data = cursor.fetchall()\n",
    "data = cursor.fetchmany(2)\n",
    "for row in data:\n",
    "    print(row)\n",
    "\n",
    "#close the connection\n",
    "db.close()"
   ]
  },
  {
   "cell_type": "code",
   "execution_count": 7,
   "metadata": {},
   "outputs": [
    {
     "name": "stdout",
     "output_type": "stream",
     "text": [
      "Table created successfully.....!\n"
     ]
    }
   ],
   "source": [
    "#Python - Dynamic table creation-\n",
    "import MySQLdb\n",
    "\n",
    "#open the database connection\n",
    "db = MySQLdb.connect(\"localhost\",\"root\",\"root\",\"python_db\")\n",
    "\n",
    "#creating cursor object\n",
    "cursor = db.cursor()\n",
    "\n",
    "sqlquery=\"create table product(pid int primary key,name varchar(45),quantity int,price float)\"\n",
    "#executing sql query\n",
    "cursor.execute(sqlquery)\n",
    "\n",
    "print(\"Table created successfully.....!\")\n",
    "#close the connection\n",
    "db.close()"
   ]
  },
  {
   "cell_type": "code",
   "execution_count": 9,
   "metadata": {},
   "outputs": [
    {
     "name": "stdout",
     "output_type": "stream",
     "text": [
      "Record inserted successfully.....!\n"
     ]
    }
   ],
   "source": [
    "#Python -Insertion operation\n",
    "import MySQLdb\n",
    "\n",
    "#open the database connection\n",
    "db = MySQLdb.connect(\"localhost\",\"root\",\"root\",\"python_db\")\n",
    "\n",
    "#creating cursor object\n",
    "cursor = db.cursor()\n",
    "\n",
    "sqlquery=\"insert into product(pid,name,quantity,price) values(1001,'Laptop',100,45000.50)\"\n",
    "try:\n",
    "    #executing sql query\n",
    "    cursor.execute(sqlquery)\n",
    "    #commit the changes into a database table\n",
    "    db.commit()\n",
    "except:\n",
    "    #Rollback in case there is any error occured\n",
    "    db.rollback()\n",
    "\n",
    "print(\"Record inserted successfully.....!\")\n",
    "#close the connection\n",
    "db.close()"
   ]
  },
  {
   "cell_type": "code",
   "execution_count": 10,
   "metadata": {},
   "outputs": [
    {
     "name": "stdout",
     "output_type": "stream",
     "text": [
      "====== Accepting product details ======\n",
      "Enter pid :1002\n",
      "Enter product name:Desktop\n",
      "Enter quantity :200\n",
      "Enter price :25000\n",
      "Record inserted successfully.....!\n"
     ]
    }
   ],
   "source": [
    "#Python -Insertion operation\n",
    "\n",
    "import MySQLdb\n",
    "\n",
    "print(\"====== Accepting product details ======\")\n",
    "\n",
    "pid=int(input(\"Enter pid :\"))\n",
    "name=input(\"Enter product name:\")\n",
    "qty=int(input(\"Enter quantity :\"))\n",
    "price=float(input(\"Enter price :\"))\n",
    "\n",
    "#open the database connection\n",
    "db = MySQLdb.connect(\"localhost\",\"root\",\"root\",\"python_db\")\n",
    "\n",
    "#creating cursor object\n",
    "cursor = db.cursor()\n",
    "\n",
    "sqlquery=\"insert into product(pid,name,quantity,price) values(%s,%s,%s,%s)\"\n",
    "try:\n",
    "    #executing sql query\n",
    "    cursor.execute(sqlquery,(pid,name,qty,price))\n",
    "    #commit the changes into a database table\n",
    "    db.commit()\n",
    "except:\n",
    "    #Rollback in case there is any error occured\n",
    "    db.rollback()\n",
    "\n",
    "print(\"Record inserted successfully.....!\")\n",
    "#close the connection\n",
    "db.close()"
   ]
  },
  {
   "cell_type": "code",
   "execution_count": 12,
   "metadata": {},
   "outputs": [
    {
     "name": "stdout",
     "output_type": "stream",
     "text": [
      "====== Accepting product details ======\n",
      "Enter pid whose record u want to update :1002\n",
      "Enter updated quantity :150\n",
      "Enter updated price :30000\n",
      "Record updated successfully.....!\n"
     ]
    }
   ],
   "source": [
    "#Python -update operation\n",
    "\n",
    "import MySQLdb\n",
    "\n",
    "print(\"====== Accepting product details ======\")\n",
    "\n",
    "pid=int(input(\"Enter pid whose record u want to update :\"))\n",
    "qty=int(input(\"Enter updated quantity :\"))\n",
    "price=float(input(\"Enter updated price :\"))\n",
    "\n",
    "#open the database connection\n",
    "db = MySQLdb.connect(\"localhost\",\"root\",\"root\",\"python_db\")\n",
    "\n",
    "#creating cursor object\n",
    "cursor = db.cursor()\n",
    "\n",
    "sqlquery=\"update product set quantity=%s , price=%s where pid=%s\"\n",
    "try:\n",
    "    #executing sql query\n",
    "    cursor.execute(sqlquery,(qty,price,pid))\n",
    "    #commit the changes into a database table\n",
    "    db.commit()\n",
    "except:\n",
    "    #Rollback in case there is any error occured\n",
    "    db.rollback()\n",
    "\n",
    "print(\"Record updated successfully.....!\")\n",
    "#close the connection\n",
    "db.close()"
   ]
  },
  {
   "cell_type": "code",
   "execution_count": 14,
   "metadata": {},
   "outputs": [
    {
     "name": "stdout",
     "output_type": "stream",
     "text": [
      "====== Accepting product details ======\n",
      "Enter pid whose record u want to delete :1002\n",
      "Record deleted successfully.....!\n"
     ]
    }
   ],
   "source": [
    "#Python -Delete operation\n",
    "\n",
    "import MySQLdb\n",
    "\n",
    "print(\"====== Accepting product details ======\")\n",
    "\n",
    "pid=int(input(\"Enter pid whose record u want to delete :\"))\n",
    "\n",
    "#open the database connection\n",
    "db = MySQLdb.connect(\"localhost\",\"root\",\"root\",\"python_db\")\n",
    "\n",
    "#creating cursor object\n",
    "cursor = db.cursor()\n",
    "\n",
    "sqlquery=\"delete from product where pid=%s\"\n",
    "try:\n",
    "    #executing sql query\n",
    "    cursor.execute(sqlquery,(pid,))\n",
    "    #commit the changes into a database table\n",
    "    db.commit()\n",
    "except:\n",
    "    #Rollback in case there is any error occured\n",
    "    db.rollback()\n",
    "\n",
    "print(\"Record deleted successfully.....!\")\n",
    "#close the connection\n",
    "db.close()"
   ]
  },
  {
   "cell_type": "code",
   "execution_count": null,
   "metadata": {},
   "outputs": [],
   "source": []
  }
 ],
 "metadata": {
  "kernelspec": {
   "display_name": "Python 3",
   "language": "python",
   "name": "python3"
  },
  "language_info": {
   "codemirror_mode": {
    "name": "ipython",
    "version": 3
   },
   "file_extension": ".py",
   "mimetype": "text/x-python",
   "name": "python",
   "nbconvert_exporter": "python",
   "pygments_lexer": "ipython3",
   "version": "3.7.4"
  }
 },
 "nbformat": 4,
 "nbformat_minor": 2
}
