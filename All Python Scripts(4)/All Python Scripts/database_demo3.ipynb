{
 "cells": [
  {
   "cell_type": "code",
   "execution_count": 1,
   "metadata": {},
   "outputs": [
    {
     "name": "stdout",
     "output_type": "stream",
     "text": [
      "enter pid whose record u want to delete :102\n",
      "Record deleted successfully...!\n"
     ]
    }
   ],
   "source": [
    "#Python- Deletion operation\n",
    "\n",
    "pid=int(input(\"enter pid whose record u want to delete :\"))\n",
    "\n",
    "import MySQLdb\n",
    "\n",
    "db=MySQLdb.connect(\"localhost\",\"root\",\"root\",\"pyprojectdb\")\n",
    "\n",
    "cursor = db.cursor()\n",
    "\n",
    "sqlquery = \"delete from product where pid=%s\"\n",
    "\n",
    "try:\n",
    "    cursor.execute(sqlquery,(pid,))\n",
    "    db.commit()\n",
    "except:\n",
    "    db.rollback()\n",
    "    \n",
    "print(\"Record deleted successfully...!\")\n",
    "db.close()"
   ]
  },
  {
   "cell_type": "code",
   "execution_count": null,
   "metadata": {},
   "outputs": [],
   "source": []
  },
  {
   "cell_type": "code",
   "execution_count": 3,
   "metadata": {},
   "outputs": [
    {
     "name": "stdout",
     "output_type": "stream",
     "text": [
      "Total records are : 3\n"
     ]
    }
   ],
   "source": [
    "#Python- Finding total no. of records\n",
    "\n",
    "import MySQLdb\n",
    "\n",
    "db=MySQLdb.connect(\"localhost\",\"root\",\"root\",\"pyprojectdb\")\n",
    "\n",
    "cursor = db.cursor()\n",
    "\n",
    "sqlquery = \"select count(*) from customer\"\n",
    "\n",
    "cursor.execute(sqlquery)\n",
    "\n",
    "data = cursor.fetchone()\n",
    "    \n",
    "print(\"Total records are :\",data[0])\n",
    "db.close()"
   ]
  },
  {
   "cell_type": "code",
   "execution_count": 9,
   "metadata": {},
   "outputs": [
    {
     "name": "stdout",
     "output_type": "stream",
     "text": [
      "(103, 'Kelly', 'kell123@gmail.com', 9999988888)\n",
      "(102, 'Williams', 'williams@gmail.com', 9988776655)\n",
      "(101, 'John', 'john@gmail.com', 9986754533)\n"
     ]
    }
   ],
   "source": [
    "import MySQLdb\n",
    "\n",
    "db=MySQLdb.connect(\"localhost\",\"root\",\"root\",\"pyprojectdb\")\n",
    "\n",
    "cursor = db.cursor()\n",
    "\n",
    "sqlquery = \"select * from customer order by cid desc\"\n",
    "\n",
    "cursor.execute(sqlquery)\n",
    "\n",
    "data = cursor.fetchall()\n",
    "\n",
    "for row in data:\n",
    "    print(row)\n",
    "    \n",
    "db.close()"
   ]
  },
  {
   "cell_type": "code",
   "execution_count": 17,
   "metadata": {},
   "outputs": [
    {
     "name": "stdout",
     "output_type": "stream",
     "text": [
      "Enter country code betweeen-'IND,AFG,NLD' :AFG\n",
      "(1, 'Kabul', 'AFG', 'Kabol', 1780000)\n",
      "(2, 'Qandahar', 'AFG', 'Qandahar', 237500)\n",
      "(3, 'Herat', 'AFG', 'Herat', 186800)\n",
      "(4, 'Mazar-e-Sharif', 'AFG', 'Balkh', 127800)\n"
     ]
    }
   ],
   "source": [
    "import MySQLdb\n",
    "\n",
    "ccode=input(\"Enter country code betweeen-'IND,AFG,NLD' :\")\n",
    "\n",
    "db=MySQLdb.connect(\"localhost\",\"root\",\"root\",\"world\")\n",
    "\n",
    "cursor = db.cursor()\n",
    "\n",
    "sqlquery = \"select * from city where countrycode=%s\"\n",
    "\n",
    "cursor.execute(sqlquery,(ccode,))\n",
    "\n",
    "#data = cursor.fetchone()\n",
    "#print(\"Total cities : \",data[0])\n",
    "\n",
    "data = cursor.fetchall()\n",
    "\n",
    "for row in data:\n",
    "    print(row)\n",
    "    \n",
    "db.close()"
   ]
  },
  {
   "cell_type": "code",
   "execution_count": 22,
   "metadata": {},
   "outputs": [
    {
     "name": "stdout",
     "output_type": "stream",
     "text": [
      "(1334, 'Champdani', 'IND', 'West Bengali', 98818)\n",
      "(1335, 'Orai', 'IND', 'Uttar Pradesh', 98640)\n",
      "(1336, 'Pudukkottai', 'IND', 'Tamil Nadu', 98619)\n",
      "(1337, 'Sasaram', 'IND', 'Bihar', 98220)\n",
      "(1338, 'Hazaribag', 'IND', 'Jharkhand', 97712)\n",
      "(1339, 'Palayankottai', 'IND', 'Tamil Nadu', 97662)\n",
      "(1340, 'Banda', 'IND', 'Uttar Pradesh', 97227)\n",
      "(1341, 'Godhra', 'IND', 'Gujarat', 96813)\n",
      "(1342, 'Hospet', 'IND', 'Karnataka', 96322)\n",
      "(1343, 'Ashoknagar-Kalyangarh', 'IND', 'West Bengali', 96315)\n",
      "(1344, 'Achalpur', 'IND', 'Maharashtra', 96216)\n",
      "(1345, 'Patan', 'IND', 'Gujarat', 96109)\n",
      "(1346, 'Mandasor', 'IND', 'Madhya Pradesh', 95758)\n",
      "(1347, 'Damoh', 'IND', 'Madhya Pradesh', 95661)\n",
      "(1348, 'Satara', 'IND', 'Maharashtra', 95133)\n",
      "(1349, 'Meerut Cantonment', 'IND', 'Uttar Pradesh', 94876)\n",
      "(1350, 'Dehri', 'IND', 'Bihar', 94526)\n",
      "(1351, 'Delhi Cantonment', 'IND', 'Delhi', 94326)\n",
      "(1352, 'Chhindwara', 'IND', 'Madhya Pradesh', 93731)\n",
      "(1353, 'Bansberia', 'IND', 'West Bengali', 93447)\n",
      "(1354, 'Nagaon', 'IND', 'Assam', 93350)\n",
      "(1355, 'Kanpur Cantonment', 'IND', 'Uttar Pradesh', 93109)\n",
      "(1356, 'Vidisha', 'IND', 'Madhya Pradesh', 92917)\n",
      "(1357, 'Bettiah', 'IND', 'Bihar', 92583)\n",
      "(1358, 'Purulia', 'IND', 'Jharkhand', 92574)\n",
      "(1359, 'Hassan', 'IND', 'Karnataka', 90803)\n",
      "(1360, 'Ambala Sadar', 'IND', 'Haryana', 90712)\n",
      "(1361, 'Baidyabati', 'IND', 'West Bengali', 90601)\n",
      "(1362, 'Morvi', 'IND', 'Gujarat', 90357)\n",
      "(1363, 'Raigarh', 'IND', 'Chhatisgarh', 89166)\n",
      "(1364, 'Vejalpur', 'IND', 'Gujarat', 89053)\n"
     ]
    }
   ],
   "source": [
    "import MySQLdb\n",
    "\n",
    "db=MySQLdb.connect(\"localhost\",\"root\",\"root\",\"world\")\n",
    "\n",
    "cursor = db.cursor()\n",
    "\n",
    "sqlquery = \"select * from city where population < 100000 and countrycode='IND'\"\n",
    "\n",
    "cursor.execute(sqlquery)\n",
    "\n",
    "#data = cursor.fetchone()\n",
    "#print(\"Total cities : \",data[0])\n",
    "\n",
    "data = cursor.fetchall()\n",
    "\n",
    "for row in data:\n",
    "    print(row)\n",
    "    \n",
    "db.close()"
   ]
  },
  {
   "cell_type": "code",
   "execution_count": 24,
   "metadata": {},
   "outputs": [
    {
     "name": "stdout",
     "output_type": "stream",
     "text": [
      "(1025, 'Delhi', 'IND', 'Delhi', 7206704)\n",
      "(1042, 'Madurai', 'IND', 'Tamil Nadu', 977856)\n",
      "(1062, 'Ranchi', 'IND', 'Jharkhand', 599306)\n",
      "(1083, 'Amravati', 'IND', 'Maharashtra', 421576)\n",
      "(1091, 'Tiruchirapalli', 'IND', 'Tamil Nadu', 387223)\n",
      "(1092, 'Bhilai', 'IND', 'Chhatisgarh', 386159)\n",
      "(1093, 'Bhiwandi', 'IND', 'Maharashtra', 379070)\n",
      "(1109, 'New Delhi', 'IND', 'Delhi', 301297)\n",
      "(1110, 'Jhansi', 'IND', 'Uttar Pradesh', 300850)\n",
      "(1114, 'Panihati', 'IND', 'West Bengali', 275990)\n",
      "(1118, 'Kamarhati', 'IND', 'West Bengali', 266889)\n",
      "(1144, 'Ichalkaranji', 'IND', 'Maharashtra', 214950)\n",
      "(1158, 'Sangli', 'IND', 'Maharashtra', 193197)\n",
      "(1159, 'Parbhani', 'IND', 'Maharashtra', 190255)\n",
      "(1166, 'Avadi', 'IND', 'Tamil Nadu', 183215)\n",
      "(1178, 'Tirupati', 'IND', 'Andhra Pradesh', 174369)\n",
      "(1222, 'Tenali', 'IND', 'Andhra Pradesh', 143726)\n",
      "(1231, 'Pali', 'IND', 'Rajasthan', 136842)\n",
      "(1233, 'Adoni', 'IND', 'Andhra Pradesh', 136182)\n",
      "(1235, 'Tirunelveli', 'IND', 'Tamil Nadu', 135825)\n",
      "(1237, 'Gadag Betigeri', 'IND', 'Karnataka', 134051)\n",
      "(1242, 'Naihati', 'IND', 'West Bengali', 132701)\n",
      "(1246, 'Rae Bareli', 'IND', 'Uttar Pradesh', 129904)\n",
      "(1251, 'Navsari', 'IND', 'Gujarat', 126089)\n",
      "(1252, 'Malkajgiri', 'IND', 'Andhra Pradesh', 126066)\n",
      "(1257, 'Puri', 'IND', 'Orissa', 125199)\n",
      "(1270, 'Bhiwani', 'IND', 'Haryana', 121629)\n",
      "(1279, 'Neyveli', 'IND', 'Tamil Nadu', 118080)\n",
      "(1299, 'Tiruvannamalai', 'IND', 'Tamil Nadu', 109196)\n",
      "(1303, 'Shivapuri', 'IND', 'Madhya Pradesh', 108277)\n",
      "(1311, 'Valparai', 'IND', 'Tamil Nadu', 106523)\n",
      "(1334, 'Champdani', 'IND', 'West Bengali', 98818)\n",
      "(1335, 'Orai', 'IND', 'Uttar Pradesh', 98640)\n",
      "(1336, 'Pudukkottai', 'IND', 'Tamil Nadu', 98619)\n",
      "(1339, 'Palayankottai', 'IND', 'Tamil Nadu', 97662)\n",
      "(1350, 'Dehri', 'IND', 'Bihar', 94526)\n",
      "(1361, 'Baidyabati', 'IND', 'West Bengali', 90601)\n",
      "(1362, 'Morvi', 'IND', 'Gujarat', 90357)\n"
     ]
    }
   ],
   "source": [
    "import MySQLdb\n",
    "\n",
    "db=MySQLdb.connect(\"localhost\",\"root\",\"root\",\"world\")\n",
    "\n",
    "cursor = db.cursor()\n",
    "\n",
    "sqlquery = \"select * from city where countrycode='IND' and name like '%i'\"\n",
    "\n",
    "cursor.execute(sqlquery)\n",
    "\n",
    "#data = cursor.fetchone()\n",
    "#print(\"Total cities : \",data[0])\n",
    "\n",
    "data = cursor.fetchall()\n",
    "\n",
    "for row in data:\n",
    "    print(row)\n",
    "    \n",
    "db.close()"
   ]
  },
  {
   "cell_type": "code",
   "execution_count": null,
   "metadata": {},
   "outputs": [],
   "source": []
  }
 ],
 "metadata": {
  "kernelspec": {
   "display_name": "Python 3",
   "language": "python",
   "name": "python3"
  },
  "language_info": {
   "codemirror_mode": {
    "name": "ipython",
    "version": 3
   },
   "file_extension": ".py",
   "mimetype": "text/x-python",
   "name": "python",
   "nbconvert_exporter": "python",
   "pygments_lexer": "ipython3",
   "version": "3.7.4"
  }
 },
 "nbformat": 4,
 "nbformat_minor": 2
}
