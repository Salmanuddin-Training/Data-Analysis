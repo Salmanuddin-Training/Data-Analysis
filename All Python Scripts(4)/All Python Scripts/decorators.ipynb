{
 "cells": [
  {
   "cell_type": "code",
   "execution_count": 39,
   "metadata": {},
   "outputs": [
    {
     "name": "stdout",
     "output_type": "stream",
     "text": [
      "setter for roll is executed\n",
      "getter for roll is executed\n",
      "101\n",
      "deletter for roll is executed\n"
     ]
    }
   ],
   "source": [
    "#Property- class\n",
    "\n",
    "class Student:\n",
    "    def __init__(self):\n",
    "        self.__roll=0\n",
    "        \n",
    "    #setters/mutators       \n",
    "    def setroll(self,roll):\n",
    "        print(\"setter for roll is executed\")\n",
    "        self.__roll=roll\n",
    "     \n",
    "    #getters/accessors\n",
    "    def getroll(self):\n",
    "        print(\"getter for roll is executed\")\n",
    "        return self.__roll\n",
    "    \n",
    "    def delroll(self):\n",
    "        print(\"deletter for roll is executed\")\n",
    "        del self.__roll\n",
    "    \n",
    "    roll=property(getroll,setroll,delroll)\n",
    "    \n",
    "s1=Student()\n",
    "s1.roll=101\n",
    "print(s1.roll)\n",
    "del s1.roll   "
   ]
  },
  {
   "cell_type": "code",
   "execution_count": 5,
   "metadata": {},
   "outputs": [
    {
     "name": "stdout",
     "output_type": "stream",
     "text": [
      "36\n"
     ]
    }
   ],
   "source": [
    "def sum(x,y):\n",
    "    return x+y\n",
    "\n",
    "def square(z):\n",
    "    return z*z\n",
    "\n",
    "print(square(sum(3,3)))"
   ]
  },
  {
   "cell_type": "code",
   "execution_count": 10,
   "metadata": {},
   "outputs": [
    {
     "name": "stdout",
     "output_type": "stream",
     "text": [
      "Hello : \n",
      "Python\n"
     ]
    }
   ],
   "source": [
    "#Decorator function in Python.....!\n",
    "\n",
    "@displaydecorator\n",
    "def display(str1):\n",
    "    print(str1)\n",
    "\n",
    "    \n",
    "def displaydecorator(fn):\n",
    "    def display_wrapper(str):\n",
    "        print(\"Hello : \")\n",
    "        fn(str)\n",
    "    return display_wrapper\n",
    "\n",
    "display(\"Python\")\n",
    "\n",
    "#out = displaydecorator(display)\n",
    "#out('Python')"
   ]
  },
  {
   "cell_type": "code",
   "execution_count": 31,
   "metadata": {},
   "outputs": [
    {
     "name": "stdout",
     "output_type": "stream",
     "text": [
      "101\n",
      "getter for roll is executed\n",
      "John\n",
      "Pyhton\n",
      "Deleting..roll no\n"
     ]
    }
   ],
   "source": [
    "#Property- class\n",
    "\n",
    "class Student:\n",
    "    def __init__(self):\n",
    "        self.__roll=0\n",
    "        self.__name=''\n",
    "        self.__course=''\n",
    "     \n",
    "    @property\n",
    "    def roll(self):\n",
    "        return self.__roll\n",
    "    \n",
    "    @property\n",
    "    def name(self):\n",
    "        print(\"getter for roll is executed\")\n",
    "        return self.__name\n",
    "    \n",
    "    @property\n",
    "    def course(self):\n",
    "        return self.__course\n",
    "    \n",
    "    @roll.setter\n",
    "    def roll(self,roll):\n",
    "        self.__roll=roll\n",
    "        \n",
    "    @name.setter\n",
    "    def name(self,name):\n",
    "        self.__name=name\n",
    "        \n",
    "    @course.setter\n",
    "    def course(self,course):\n",
    "        self.__course=course\n",
    "    \n",
    "    @roll.deleter\n",
    "    def roll(self):\n",
    "        print('Deleting..roll no')\n",
    "        del self.__roll\n",
    "    \n",
    "s1=Student()\n",
    "s1.roll=101\n",
    "s1.name='John'\n",
    "s1.course='Pyhton'\n",
    "print(s1.roll)\n",
    "print(s1.name)\n",
    "print(s1.course)\n",
    "del s1.roll\n"
   ]
  },
  {
   "cell_type": "code",
   "execution_count": null,
   "metadata": {},
   "outputs": [],
   "source": []
  }
 ],
 "metadata": {
  "kernelspec": {
   "display_name": "Python 3",
   "language": "python",
   "name": "python3"
  },
  "language_info": {
   "codemirror_mode": {
    "name": "ipython",
    "version": 3
   },
   "file_extension": ".py",
   "mimetype": "text/x-python",
   "name": "python",
   "nbconvert_exporter": "python",
   "pygments_lexer": "ipython3",
   "version": "3.7.4"
  }
 },
 "nbformat": 4,
 "nbformat_minor": 2
}
