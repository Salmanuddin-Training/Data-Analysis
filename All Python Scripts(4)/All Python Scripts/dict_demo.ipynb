{
 "cells": [
  {
   "cell_type": "code",
   "execution_count": null,
   "metadata": {},
   "outputs": [],
   "source": [
    "#Python- Dictionary\n",
    "\n",
    "country = {'IND':'India','CHN':'China','AUS':'Australia'}\n",
    "\n",
    "marks = {1:50.5,   2:80,   3:89.2,   4:70}\n"
   ]
  },
  {
   "cell_type": "code",
   "execution_count": null,
   "metadata": {},
   "outputs": [],
   "source": [
    "dict= {1:'John',2:'Williams',2:'allen'}\n",
    "dict"
   ]
  },
  {
   "cell_type": "code",
   "execution_count": null,
   "metadata": {},
   "outputs": [],
   "source": [
    "dict = {\"Flowers\":[\"Rose\",\"Lily\"],\"colours\":[\"Red\",\"Blue\"]}\n",
    "dict\n"
   ]
  },
  {
   "cell_type": "code",
   "execution_count": null,
   "metadata": {},
   "outputs": [],
   "source": [
    "#How to access the value corresponding to the key in a dictionary\n",
    "#get()\n",
    "country = {'IND':'India','CHN':'China','AUS':'Australia'}\n",
    "print(country.get('Ind'))"
   ]
  },
  {
   "cell_type": "code",
   "execution_count": null,
   "metadata": {},
   "outputs": [],
   "source": [
    "#iterating dictonary trough loops\n",
    "country = {'IND':'India','CHN':'China','AUS':'Australia'}\n",
    "for key in country:\n",
    "    print(key+\" \"+country.get(key))"
   ]
  },
  {
   "cell_type": "code",
   "execution_count": 10,
   "metadata": {},
   "outputs": [
    {
     "name": "stdout",
     "output_type": "stream",
     "text": [
      "IND India\n",
      "CHN China\n",
      "AUS Australia\n"
     ]
    }
   ],
   "source": [
    "#iterating dictonary trough loops\n",
    "country = {'IND':'India','CHN':'China','AUS':'Australia'}\n",
    "for key,val in country.items():\n",
    "    print(key+\" \"+val)"
   ]
  },
  {
   "cell_type": "code",
   "execution_count": null,
   "metadata": {},
   "outputs": [],
   "source": [
    "#Update dictionry\n",
    "student={101:'Allen',102:\"donald\",103:'Williams'}\n",
    "print(\"Elements of a dictionary before updating : \",student)\n",
    "student[102]=\"Kelly\"\n",
    "print(\"Elements of a dictionary after updating : \",student)\n"
   ]
  },
  {
   "cell_type": "code",
   "execution_count": null,
   "metadata": {},
   "outputs": [],
   "source": [
    "#deleting a value from a dictionary\n",
    "# del\n",
    "student={101:'Allen',102:\"donald\",103:'Williams'}\n",
    "del student[103]\n",
    "print(\"element deleted successfully\")\n",
    "student\n"
   ]
  },
  {
   "cell_type": "code",
   "execution_count": 2,
   "metadata": {},
   "outputs": [
    {
     "name": "stdout",
     "output_type": "stream",
     "text": [
      "dict deleted successfully\n"
     ]
    },
    {
     "ename": "NameError",
     "evalue": "name 'student' is not defined",
     "output_type": "error",
     "traceback": [
      "\u001b[1;31m---------------------------------------------------------------------------\u001b[0m",
      "\u001b[1;31mNameError\u001b[0m                                 Traceback (most recent call last)",
      "\u001b[1;32m<ipython-input-2-5b0cf416bdb1>\u001b[0m in \u001b[0;36m<module>\u001b[1;34m\u001b[0m\n\u001b[0;32m      2\u001b[0m \u001b[1;32mdel\u001b[0m \u001b[0mstudent\u001b[0m\u001b[1;33m\u001b[0m\u001b[1;33m\u001b[0m\u001b[0m\n\u001b[0;32m      3\u001b[0m \u001b[0mprint\u001b[0m\u001b[1;33m(\u001b[0m\u001b[1;34m\"dict deleted successfully\"\u001b[0m\u001b[1;33m)\u001b[0m\u001b[1;33m\u001b[0m\u001b[1;33m\u001b[0m\u001b[0m\n\u001b[1;32m----> 4\u001b[1;33m \u001b[0mstudent\u001b[0m\u001b[1;33m\u001b[0m\u001b[1;33m\u001b[0m\u001b[0m\n\u001b[0m",
      "\u001b[1;31mNameError\u001b[0m: name 'student' is not defined"
     ]
    }
   ],
   "source": [
    "student={101:'Allen',102:\"donald\",103:'Williams'}\n",
    "del student\n",
    "print(\"dict deleted successfully\")\n",
    "student"
   ]
  },
  {
   "cell_type": "code",
   "execution_count": null,
   "metadata": {},
   "outputs": [],
   "source": [
    "#How to view only the keys & values\n",
    "#keys() - values()\n",
    "\n",
    "student={101:'Allen',102:\"donald\",103:'Williams'}\n",
    "print(\"Keys are   : \",student.keys())\n",
    "print(\"Values are : \",student.values())\n",
    "\n"
   ]
  },
  {
   "cell_type": "code",
   "execution_count": null,
   "metadata": {},
   "outputs": [],
   "source": [
    "student={101:'Allen',102:\"donald\",103:'Williams'}\n",
    "student[102]=None\n",
    "student"
   ]
  },
  {
   "cell_type": "code",
   "execution_count": null,
   "metadata": {},
   "outputs": [],
   "source": [
    "d1={'roll':101,'name':'John', 'marks':90}\n",
    "values=d1.values()\n",
    "\n",
    "print(values,type(values))\n",
    "\n",
    "d1.update({'course':'Python'})\n",
    "print(values)"
   ]
  },
  {
   "cell_type": "code",
   "execution_count": null,
   "metadata": {},
   "outputs": [],
   "source": [
    "#Multi dimensional dict\n",
    "d1={'name':'John','marks':89}\n",
    "d2={'name':'williams','marks':50}\n",
    "d3={'name':'Smith','marks':70}\n",
    "\n",
    "student={101:d1,102:d2,103:d3}\n",
    "\n",
    "print(student[101])\n",
    "print(\"Marks of a williams is :\",student[102]['marks'])\n"
   ]
  },
  {
   "cell_type": "code",
   "execution_count": null,
   "metadata": {},
   "outputs": [],
   "source": [
    "#Buitl-In function over a Dictionary\n",
    "#len()-used to get the length\n",
    "d1={'name':'John','marks':89}\n",
    "print(\"Total elements : \",len(d1))\n"
   ]
  },
  {
   "cell_type": "code",
   "execution_count": null,
   "metadata": {},
   "outputs": [],
   "source": [
    "#Buitl-In function over a Dictionary\n",
    "#max()\n",
    "d1={'P':\"Python\",\"D\":\"Django\",\"p\":\"Pyramid\"}\n",
    "d2={1:50,2:60,3:70}\n",
    "print(max(d2))"
   ]
  },
  {
   "cell_type": "code",
   "execution_count": null,
   "metadata": {},
   "outputs": [],
   "source": [
    "#Buitl-In function over a Dictionary\n",
    "#min()\n",
    "d1={'P':\"Python\",\"D\":\"Django\",\"p\":\"Pyramid\"}\n",
    "d2={1:50,2:60,3:70}\n",
    "print(min(d1))\n",
    "print(min(d2))"
   ]
  },
  {
   "cell_type": "code",
   "execution_count": null,
   "metadata": {},
   "outputs": [],
   "source": [
    "#Buitl-In function over a Dictionary\n",
    "#pop() - - return the value associated with the key & the coresponding key-valuer pair to be removed.\n",
    "student={101:'Allen',102:\"donald\",103:'Williams'}\n",
    "print(student.pop(102))\n",
    "print(student)"
   ]
  },
  {
   "cell_type": "code",
   "execution_count": 4,
   "metadata": {},
   "outputs": [
    {
     "name": "stdout",
     "output_type": "stream",
     "text": [
      "{}\n"
     ]
    }
   ],
   "source": [
    "#Buitl-In function over a Dictionary\n",
    "#clear()- delete all the elements\n",
    "\n",
    "student1={101:'Allen',102:\"donald\",103:'Williams'}\n",
    "student1.clear()\n",
    "print(student1)\n"
   ]
  },
  {
   "cell_type": "code",
   "execution_count": 9,
   "metadata": {},
   "outputs": [
    {
     "name": "stdout",
     "output_type": "stream",
     "text": [
      "dict_items([(101, 'Allen'), (102, 'donald'), (103, 'Williams')])\n"
     ]
    }
   ],
   "source": [
    "#Buitl-In function over a Dictionary\n",
    "#items()- return a list of tuple as key value\n",
    "student1={101:'Allen',102:\"donald\",103:'Williams'}\n",
    "print(student1.items())"
   ]
  },
  {
   "cell_type": "code",
   "execution_count": 6,
   "metadata": {},
   "outputs": [
    {
     "data": {
      "text/plain": [
       "dict_keys([101, 102, 103])"
      ]
     },
     "execution_count": 6,
     "metadata": {},
     "output_type": "execute_result"
    }
   ],
   "source": [
    "#Buitl-In function over a Dictionary\n",
    "#keys()- use to get only keys\n",
    "student1={101:'Allen',102:\"donald\",103:'Williams'}\n",
    "student1.keys()"
   ]
  },
  {
   "cell_type": "code",
   "execution_count": 7,
   "metadata": {},
   "outputs": [
    {
     "data": {
      "text/plain": [
       "dict_values(['Allen', 'donald', 'Williams'])"
      ]
     },
     "execution_count": 7,
     "metadata": {},
     "output_type": "execute_result"
    }
   ],
   "source": [
    "#Buitl-In function over a Dictionary\n",
    "#values()- use to get only keys\n",
    "student1={101:'Allen',102:\"donald\",103:'Williams'}\n",
    "student1.values()"
   ]
  },
  {
   "cell_type": "code",
   "execution_count": 8,
   "metadata": {},
   "outputs": [
    {
     "name": "stdout",
     "output_type": "stream",
     "text": [
      "Keys  dict_keys([101, 102, 103]) Values  dict_values(['Allen', 'donald', 'Williams'])\n"
     ]
    }
   ],
   "source": [
    "student1={101:'Allen',102:\"donald\",103:'Williams'}\n",
    "print(\"Keys \",student1.keys(),\"Values \",student1.values())"
   ]
  },
  {
   "cell_type": "code",
   "execution_count": null,
   "metadata": {},
   "outputs": [],
   "source": []
  }
 ],
 "metadata": {
  "kernelspec": {
   "display_name": "Python 3",
   "language": "python",
   "name": "python3"
  }
 },
 "nbformat": 4,
 "nbformat_minor": 2
}
