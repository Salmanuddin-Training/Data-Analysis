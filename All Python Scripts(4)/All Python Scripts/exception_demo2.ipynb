{
 "cells": [
  {
   "cell_type": "code",
   "execution_count": 5,
   "metadata": {},
   "outputs": [
    {
     "name": "stdout",
     "output_type": "stream",
     "text": [
      "enter 1st no.4\n",
      "enter 2nd no.0\n",
      "Wrong no. entered by u...try again....!\n"
     ]
    }
   ],
   "source": [
    "#Exception Handling in Python\n",
    "\n",
    "num1 = int(input('enter 1st no.'))\n",
    "num2 = int(input('enter 2nd no.'))\n",
    "try:\n",
    "    num3 = num1/num2\n",
    "    print(\"Result is : \",num3)\n",
    "    \n",
    "except:\n",
    "    print(\"Wrong no. entered by u...try again....!\")\n"
   ]
  },
  {
   "cell_type": "code",
   "execution_count": 2,
   "metadata": {},
   "outputs": [
    {
     "name": "stdout",
     "output_type": "stream",
     "text": [
      "Wrong number entered by u....try again...!\n",
      "End of a prog.....\n"
     ]
    }
   ],
   "source": [
    "try:\n",
    "    num1 = 2\n",
    "    num2 = 0\n",
    "    num3 = num1/num2\n",
    "    print(\"Result is : \",num3)\n",
    "    \n",
    "except TypeError:\n",
    "    print(\"Unsupported operation ....!\")\n",
    "\n",
    "except (ZeroDivisionError,ValueError):\n",
    "    print(\"Wrong number entered by u....try again...!\")\n",
    "    \n",
    "except:\n",
    "    print(\"all other exceptions handled by this block.\")\n",
    "\n",
    "print(\"End of a prog.....\")"
   ]
  },
  {
   "cell_type": "code",
   "execution_count": 9,
   "metadata": {},
   "outputs": [
    {
     "name": "stdout",
     "output_type": "stream",
     "text": [
      "hello\n",
      "hi\n"
     ]
    }
   ],
   "source": [
    "print('hello')\n",
    "print('hi')"
   ]
  },
  {
   "cell_type": "code",
   "execution_count": 11,
   "metadata": {},
   "outputs": [],
   "source": [
    "def myfun():\n",
    "    pass"
   ]
  },
  {
   "cell_type": "code",
   "execution_count": 10,
   "metadata": {},
   "outputs": [
    {
     "name": "stdout",
     "output_type": "stream",
     "text": [
      "Error occured in division....!\n",
      "Finally exceuted & resources alloacated to file I/O operation is closed successfully..!\n",
      "End of prog.\n"
     ]
    }
   ],
   "source": [
    "#else & finally block in Python\n",
    "try:\n",
    "    n1=5\n",
    "    n2=0\n",
    "    f = open(\"E:\\myfile.txt\",\"w\")\n",
    "    n3=n1/n2\n",
    "    f.write(str(n3))\n",
    "except ZeroDivisionError:\n",
    "    print(\"Error occured in division....!\")\n",
    "finally:\n",
    "    f.close()\n",
    "    print(\"Finally exceuted & resources alloacated to file I/O operation is closed successfully..!\")\n",
    "print(\"End of prog.\")\n"
   ]
  },
  {
   "cell_type": "code",
   "execution_count": 13,
   "metadata": {},
   "outputs": [
    {
     "name": "stdout",
     "output_type": "stream",
     "text": [
      "enter 1st no.5\n",
      "enter 2nd no.0\n",
      "except block is executed\n",
      "finally block is executed\n"
     ]
    }
   ],
   "source": [
    "num1 = int(input('enter 1st no.'))\n",
    "num2 = int(input('enter 2nd no.'))\n",
    "try:\n",
    "    num3 = num1/num2\n",
    "    print(\"Result is : \",num3)\n",
    "    \n",
    "except:\n",
    "    print(\"except block is executed\")\n",
    "\n",
    "else:\n",
    "    print(\"Else block is executed\")\n",
    "    \n",
    "finally:\n",
    "    print(\"finally block is executed\")"
   ]
  },
  {
   "cell_type": "code",
   "execution_count": 16,
   "metadata": {},
   "outputs": [
    {
     "name": "stdout",
     "output_type": "stream",
     "text": [
      "try block\n",
      "enter 1st no.4\n",
      "enter 2nd no.w\n",
      "finally block is executed\n"
     ]
    },
    {
     "ename": "ValueError",
     "evalue": "invalid literal for int() with base 10: 'w'",
     "output_type": "error",
     "traceback": [
      "\u001b[1;31m---------------------------------------------------------------------------\u001b[0m",
      "\u001b[1;31mValueError\u001b[0m                                Traceback (most recent call last)",
      "\u001b[1;32m<ipython-input-16-f9ebab47bcd8>\u001b[0m in \u001b[0;36m<module>\u001b[1;34m\u001b[0m\n\u001b[0;32m      2\u001b[0m     \u001b[0mprint\u001b[0m\u001b[1;33m(\u001b[0m\u001b[1;34m\"try block\"\u001b[0m\u001b[1;33m)\u001b[0m\u001b[1;33m\u001b[0m\u001b[1;33m\u001b[0m\u001b[0m\n\u001b[0;32m      3\u001b[0m     \u001b[0mnum1\u001b[0m \u001b[1;33m=\u001b[0m \u001b[0mint\u001b[0m\u001b[1;33m(\u001b[0m\u001b[0minput\u001b[0m\u001b[1;33m(\u001b[0m\u001b[1;34m'enter 1st no.'\u001b[0m\u001b[1;33m)\u001b[0m\u001b[1;33m)\u001b[0m\u001b[1;33m\u001b[0m\u001b[1;33m\u001b[0m\u001b[0m\n\u001b[1;32m----> 4\u001b[1;33m     \u001b[0mnum2\u001b[0m \u001b[1;33m=\u001b[0m \u001b[0mint\u001b[0m\u001b[1;33m(\u001b[0m\u001b[0minput\u001b[0m\u001b[1;33m(\u001b[0m\u001b[1;34m'enter 2nd no.'\u001b[0m\u001b[1;33m)\u001b[0m\u001b[1;33m)\u001b[0m\u001b[1;33m\u001b[0m\u001b[1;33m\u001b[0m\u001b[0m\n\u001b[0m\u001b[0;32m      5\u001b[0m     \u001b[0mnum3\u001b[0m\u001b[1;33m=\u001b[0m\u001b[0mnum1\u001b[0m\u001b[1;33m/\u001b[0m\u001b[0mnum2\u001b[0m\u001b[1;33m\u001b[0m\u001b[1;33m\u001b[0m\u001b[0m\n\u001b[0;32m      6\u001b[0m \u001b[1;33m\u001b[0m\u001b[0m\n",
      "\u001b[1;31mValueError\u001b[0m: invalid literal for int() with base 10: 'w'"
     ]
    }
   ],
   "source": [
    "try:\n",
    "    print(\"try block\")\n",
    "    num1 = int(input('enter 1st no.'))\n",
    "    num2 = int(input('enter 2nd no.'))\n",
    "    num3=num1/num2\n",
    "    \n",
    "except ZeroDivisionError:\n",
    "    print(\"except ZeroDivision block is executed\")\n",
    "    print(\"Division by 0 is not possible\")\n",
    "\n",
    "else:\n",
    "    print(\"Else block is executed\")\n",
    "    print(\"Result is :\",num3)\n",
    "    \n",
    "finally:\n",
    "    print(\"finally block is executed\")  \n",
    "    num1=num2=0\n",
    "    \n",
    "print(\"End og prog.\")\n",
    "\n"
   ]
  },
  {
   "cell_type": "code",
   "execution_count": 20,
   "metadata": {},
   "outputs": [
    {
     "name": "stdout",
     "output_type": "stream",
     "text": [
      "Enter a no. between 1 - 1013\n",
      "13  is out of range\n"
     ]
    }
   ],
   "source": [
    "#how we can raise an exception in Python explicitly\n",
    "#By using  raise keyword\n",
    "\n",
    "try:\n",
    "    num = int(input('Enter a no. between 1 - 10'))\n",
    "    if num > 10:\n",
    "        raise ValueError(num)\n",
    "except ValueError:\n",
    "    print(num,\" is out of range\")\n",
    "else:\n",
    "    print(num,\" is within range\")\n",
    "    \n"
   ]
  },
  {
   "cell_type": "code",
   "execution_count": 4,
   "metadata": {},
   "outputs": [
    {
     "name": "stdout",
     "output_type": "stream",
     "text": [
      "Enter your age:12\n"
     ]
    },
    {
     "ename": "AssertionError",
     "evalue": "Age must be greater than or equal to 18.",
     "output_type": "error",
     "traceback": [
      "\u001b[1;31m---------------------------------------------------------------------------\u001b[0m",
      "\u001b[1;31mAssertionError\u001b[0m                            Traceback (most recent call last)",
      "\u001b[1;32m<ipython-input-4-8d77f3e016dc>\u001b[0m in \u001b[0;36m<module>\u001b[1;34m\u001b[0m\n\u001b[0;32m      4\u001b[0m \u001b[0mage\u001b[0m \u001b[1;33m=\u001b[0m \u001b[0mint\u001b[0m\u001b[1;33m(\u001b[0m\u001b[0minput\u001b[0m\u001b[1;33m(\u001b[0m\u001b[1;34m\"Enter your age:\"\u001b[0m\u001b[1;33m)\u001b[0m\u001b[1;33m)\u001b[0m\u001b[1;33m\u001b[0m\u001b[1;33m\u001b[0m\u001b[0m\n\u001b[0;32m      5\u001b[0m \u001b[1;33m\u001b[0m\u001b[0m\n\u001b[1;32m----> 6\u001b[1;33m \u001b[1;32massert\u001b[0m \u001b[0mage\u001b[0m\u001b[1;33m>=\u001b[0m\u001b[1;36m18\u001b[0m\u001b[1;33m,\u001b[0m \u001b[1;34m\"Age must be greater than or equal to 18.\"\u001b[0m\u001b[1;33m\u001b[0m\u001b[1;33m\u001b[0m\u001b[0m\n\u001b[0m\u001b[0;32m      7\u001b[0m \u001b[0mprint\u001b[0m\u001b[1;33m(\u001b[0m\u001b[1;34m'Your age is :'\u001b[0m\u001b[1;33m,\u001b[0m\u001b[0mage\u001b[0m\u001b[1;33m)\u001b[0m\u001b[1;33m\u001b[0m\u001b[1;33m\u001b[0m\u001b[0m\n",
      "\u001b[1;31mAssertionError\u001b[0m: Age must be greater than or equal to 18."
     ]
    }
   ],
   "source": [
    "#Python - assertion (used to test the logic of your prog.)\n",
    "#assert statement\n",
    "\n",
    "age = int(input(\"Enter your age:\"))\n",
    "\n",
    "assert age>=18, \"Age must be greater than or equal to 18.\"\n",
    "print('Your age is :',age)"
   ]
  },
  {
   "cell_type": "code",
   "execution_count": 6,
   "metadata": {},
   "outputs": [
    {
     "name": "stdout",
     "output_type": "stream",
     "text": [
      "Enter your age:12\n",
      "Age must be greater than or equal to 18.\n"
     ]
    }
   ],
   "source": [
    "try:\n",
    "    age = int(input(\"Enter your age:\"))\n",
    "    assert age>=18, \"Age must be greater than or equal to 18.\"\n",
    "    print('Your age is :',age)\n",
    "    \n",
    "except AssertionError as msg:\n",
    "    print(msg)"
   ]
  },
  {
   "cell_type": "code",
   "execution_count": 24,
   "metadata": {},
   "outputs": [
    {
     "name": "stdout",
     "output_type": "stream",
     "text": [
      "Balance is : 1100\n",
      "Balance is : 700\n",
      "Balance is : 300\n",
      "Balance is : -100\n",
      "Balance is below 0\n"
     ]
    }
   ],
   "source": [
    "balance = 1500\n",
    "def transaction(amt):\n",
    "    global balance\n",
    "    balance -=amt\n",
    "    print(\"Balance is :\",balance)\n",
    "try:   \n",
    "    for i in range(0,4): \n",
    "        transaction(400)\n",
    "        assert balance>0, \"Balance is below 0\"\n",
    "        \n",
    "except AssertionError as obj:\n",
    "    print(obj)\n",
    "    "
   ]
  },
  {
   "cell_type": "code",
   "execution_count": 31,
   "metadata": {},
   "outputs": [
    {
     "name": "stdout",
     "output_type": "stream",
     "text": [
      "Balance is : 1100\n",
      "Balance is : 700\n",
      "Balance is : 300\n"
     ]
    },
    {
     "ename": "AssertionError",
     "evalue": "Balance is below 0",
     "output_type": "error",
     "traceback": [
      "\u001b[1;31m---------------------------------------------------------------------------\u001b[0m",
      "\u001b[1;31mAssertionError\u001b[0m                            Traceback (most recent call last)",
      "\u001b[1;32m<ipython-input-31-652604ab9ed0>\u001b[0m in \u001b[0;36m<module>\u001b[1;34m\u001b[0m\n\u001b[0;32m      7\u001b[0m \u001b[1;32mfor\u001b[0m \u001b[0mi\u001b[0m \u001b[1;32min\u001b[0m \u001b[0mrange\u001b[0m\u001b[1;33m(\u001b[0m\u001b[1;36m0\u001b[0m\u001b[1;33m,\u001b[0m\u001b[1;36m5\u001b[0m\u001b[1;33m)\u001b[0m\u001b[1;33m:\u001b[0m\u001b[1;33m\u001b[0m\u001b[1;33m\u001b[0m\u001b[0m\n\u001b[0;32m      8\u001b[0m     \u001b[0mtransaction\u001b[0m\u001b[1;33m(\u001b[0m\u001b[1;36m400\u001b[0m\u001b[1;33m)\u001b[0m\u001b[1;33m\u001b[0m\u001b[1;33m\u001b[0m\u001b[0m\n\u001b[1;32m----> 9\u001b[1;33m     \u001b[1;32massert\u001b[0m \u001b[0mbalance\u001b[0m\u001b[1;33m>\u001b[0m\u001b[1;36m300\u001b[0m\u001b[1;33m,\u001b[0m \u001b[1;34m\"Balance is below 0\"\u001b[0m\u001b[1;33m\u001b[0m\u001b[1;33m\u001b[0m\u001b[0m\n\u001b[0m\u001b[0;32m     10\u001b[0m \u001b[1;33m\u001b[0m\u001b[0m\n\u001b[0;32m     11\u001b[0m \u001b[1;33m\u001b[0m\u001b[0m\n",
      "\u001b[1;31mAssertionError\u001b[0m: Balance is below 0"
     ]
    }
   ],
   "source": [
    "balance = 1500\n",
    "def transaction(amt):\n",
    "    global balance\n",
    "    balance =balance-amt\n",
    "    print(\"Balance is :\",balance)\n",
    "    \n",
    "for i in range(0,5): \n",
    "    transaction(400)\n",
    "    assert balance>300, \"Balance is below 0\"\n",
    "  \n",
    "    "
   ]
  },
  {
   "cell_type": "code",
   "execution_count": null,
   "metadata": {},
   "outputs": [],
   "source": []
  }
 ],
 "metadata": {
  "kernelspec": {
   "display_name": "Python 3",
   "language": "python",
   "name": "python3"
  },
  "language_info": {
   "codemirror_mode": {
    "name": "ipython",
    "version": 3
   },
   "file_extension": ".py",
   "mimetype": "text/x-python",
   "name": "python",
   "nbconvert_exporter": "python",
   "pygments_lexer": "ipython3",
   "version": "3.7.4"
  }
 },
 "nbformat": 4,
 "nbformat_minor": 2
}
