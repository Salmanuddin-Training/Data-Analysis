{
 "cells": [
  {
   "cell_type": "code",
   "execution_count": 7,
   "metadata": {},
   "outputs": [
    {
     "ename": "SyntaxError",
     "evalue": "invalid syntax (<ipython-input-7-8e8533068bb7>, line 10)",
     "output_type": "error",
     "traceback": [
      "\u001b[1;36m  File \u001b[1;32m\"<ipython-input-7-8e8533068bb7>\"\u001b[1;36m, line \u001b[1;32m10\u001b[0m\n\u001b[1;33m    print('Prog. ends here')\u001b[0m\n\u001b[1;37m        ^\u001b[0m\n\u001b[1;31mSyntaxError\u001b[0m\u001b[1;31m:\u001b[0m invalid syntax\n"
     ]
    }
   ],
   "source": [
    "#Python Exception handling...!\n",
    "n1 = int(input('Enter 1st no :'))\n",
    "n2 = int(input('Enter 2nd no :'))\n",
    "\n",
    "try:\n",
    "    n3 = n1/n2\n",
    "    print(\"result is \",n3)\n",
    "    \n",
    "except ZeroDivisionError:\n",
    "    print(\"Wrong no. enterd by u...Try again\")\n",
    "\n",
    "except:\n",
    "    print(\"some other error\")\n",
    "    \n",
    "print('Prog. ends here')\n"
   ]
  },
  {
   "cell_type": "code",
   "execution_count": 12,
   "metadata": {},
   "outputs": [
    {
     "name": "stdout",
     "output_type": "stream",
     "text": [
      "Error occured\n",
      "Prog. ends here\n"
     ]
    }
   ],
   "source": [
    "try:\n",
    "    n1=4\n",
    "    n2=0\n",
    "    print(n1/n2)\n",
    "    print('hi')\n",
    "    \n",
    "except TypeError:\n",
    "    print(\"Operation is not supported\")\n",
    "    \n",
    "except ZeroDivisionError:\n",
    "    print(\"Wrong no. enterd by u...Try again\")\n",
    "    \n",
    "print(\"Prog. ends here\")"
   ]
  },
  {
   "cell_type": "code",
   "execution_count": 15,
   "metadata": {},
   "outputs": [
    {
     "name": "stdout",
     "output_type": "stream",
     "text": [
      "Error occured....!\n",
      "Prog ends here..!\n"
     ]
    }
   ],
   "source": [
    "#Python else and finally\n",
    "\n",
    "try:\n",
    "    f = open(\"E:\\myfile.txt\",\"w\")\n",
    "    f.write(\"Python Programming\")\n",
    "    n1=2\n",
    "    n2='0'\n",
    "    n3=n1+n2\n",
    "    \n",
    "except:\n",
    "    print('Error occured....!')\n",
    "finally:\n",
    "    f.close()\n",
    "    \n",
    "print('Prog ends here..!')"
   ]
  },
  {
   "cell_type": "code",
   "execution_count": 16,
   "metadata": {},
   "outputs": [
    {
     "data": {
      "text/plain": [
       "'\\ntry\\n    #statements in try block\\n    \\nexcept:\\n   #executed when error in try block\\n   \\nelse:\\n    #executed if try block is erro-free\\n    \\nfinally:\\n    #executed irrespective of exception\\n'"
      ]
     },
     "execution_count": 16,
     "metadata": {},
     "output_type": "execute_result"
    }
   ],
   "source": [
    "\"\"\"\n",
    "try\n",
    "    #statements in try block\n",
    "    \n",
    "except:\n",
    "   #executed when error in try block\n",
    "   \n",
    "else:\n",
    "    #executed if try block is erro-free\n",
    "    \n",
    "finally:\n",
    "    #executed irrespective of exception\n",
    "\"\"\""
   ]
  },
  {
   "cell_type": "code",
   "execution_count": 18,
   "metadata": {},
   "outputs": [
    {
     "name": "stdout",
     "output_type": "stream",
     "text": [
      "try block\n",
      "Enter 1st no.:5\n",
      "Enter 2nd no.:2\n",
      "else block\n",
      "Result :  2.5\n",
      "finally block\n",
      "prog. ends here\n"
     ]
    }
   ],
   "source": [
    "try:\n",
    "    print('try block')\n",
    "    x=int(input('Enter 1st no.:'))\n",
    "    y=int(input('Enter 2nd no.:'))\n",
    "    \n",
    "    z=x/y\n",
    "except ZeroDivisionError:\n",
    "    print('except ZeroDivisionError block')\n",
    "    print('Division by 0 is not accepted')\n",
    "else:\n",
    "    print('else block')\n",
    "    print(\"Result : \",z)\n",
    "finally:\n",
    "    print(\"finally block\")\n",
    "    x=y=0\n",
    "print(\"prog. ends here\")"
   ]
  },
  {
   "cell_type": "code",
   "execution_count": 2,
   "metadata": {},
   "outputs": [
    {
     "name": "stdout",
     "output_type": "stream",
     "text": [
      "Enter a number upto 10:11\n",
      "11  is out of allowed range.\n"
     ]
    }
   ],
   "source": [
    "#Python - Raise an Exception\n",
    "#raise keyword- used to raise an exception explicitly\n",
    "\n",
    "try:\n",
    "    num =int(input('Enter a number upto 10:'))\n",
    "    if num > 10:\n",
    "        raise ValueError(num)\n",
    "except ValueError:\n",
    "    print(num,\" is out of allowed range.\")\n",
    "else:\n",
    "    print(num,\"is within the allowed range.\")\n",
    "    \n",
    "    "
   ]
  },
  {
   "cell_type": "code",
   "execution_count": 23,
   "metadata": {},
   "outputs": [
    {
     "name": "stdout",
     "output_type": "stream",
     "text": [
      "e:\\\n",
      "e:\\\n"
     ]
    },
    {
     "ename": "UnsupportedOperation",
     "evalue": "not writable",
     "output_type": "error",
     "traceback": [
      "\u001b[1;31m---------------------------------------------------------------------------\u001b[0m",
      "\u001b[1;31mUnsupportedOperation\u001b[0m                      Traceback (most recent call last)",
      "\u001b[1;32m<ipython-input-23-4a286ffbff7d>\u001b[0m in \u001b[0;36m<module>\u001b[1;34m\u001b[0m\n\u001b[0;32m      7\u001b[0m \u001b[1;33m\u001b[0m\u001b[0m\n\u001b[0;32m      8\u001b[0m \u001b[0mf\u001b[0m \u001b[1;33m=\u001b[0m \u001b[0mopen\u001b[0m\u001b[1;33m(\u001b[0m\u001b[1;34m'myfile1.txt'\u001b[0m\u001b[1;33m)\u001b[0m\u001b[1;33m\u001b[0m\u001b[1;33m\u001b[0m\u001b[0m\n\u001b[1;32m----> 9\u001b[1;33m \u001b[0mf\u001b[0m\u001b[1;33m.\u001b[0m\u001b[0mwrite\u001b[0m\u001b[1;33m(\u001b[0m\u001b[1;34m\"welcome\"\u001b[0m\u001b[1;33m)\u001b[0m\u001b[1;33m\u001b[0m\u001b[1;33m\u001b[0m\u001b[0m\n\u001b[0m\u001b[0;32m     10\u001b[0m \u001b[0mf\u001b[0m\u001b[1;33m.\u001b[0m\u001b[0mclose\u001b[0m\u001b[1;33m(\u001b[0m\u001b[1;33m)\u001b[0m\u001b[1;33m\u001b[0m\u001b[1;33m\u001b[0m\u001b[0m\n",
      "\u001b[1;31mUnsupportedOperation\u001b[0m: not writable"
     ]
    }
   ],
   "source": [
    "import os\n",
    "\n",
    "print(os.getcwd())\n",
    "os.chdir(\"e:\\\\\")\n",
    "print(os.getcwd())\n",
    "\n",
    "\n",
    "f = open('myfile1.txt')\n",
    "f.write(\"welcome\")\n",
    "f.close()"
   ]
  },
  {
   "cell_type": "code",
   "execution_count": 24,
   "metadata": {},
   "outputs": [
    {
     "ename": "ZeroDivisionError",
     "evalue": "division by zero",
     "output_type": "error",
     "traceback": [
      "\u001b[1;31m---------------------------------------------------------------------------\u001b[0m",
      "\u001b[1;31mZeroDivisionError\u001b[0m                         Traceback (most recent call last)",
      "\u001b[1;32m<ipython-input-24-d2c0889640ff>\u001b[0m in \u001b[0;36m<module>\u001b[1;34m\u001b[0m\n\u001b[1;32m----> 1\u001b[1;33m \u001b[0mprint\u001b[0m\u001b[1;33m(\u001b[0m\u001b[1;36m2\u001b[0m\u001b[1;33m/\u001b[0m\u001b[1;36m0\u001b[0m\u001b[1;33m)\u001b[0m\u001b[1;33m\u001b[0m\u001b[1;33m\u001b[0m\u001b[0m\n\u001b[0m",
      "\u001b[1;31mZeroDivisionError\u001b[0m: division by zero"
     ]
    }
   ],
   "source": [
    "print(2/0)"
   ]
  },
  {
   "cell_type": "code",
   "execution_count": null,
   "metadata": {},
   "outputs": [],
   "source": []
  }
 ],
 "metadata": {
  "kernelspec": {
   "display_name": "Python 3",
   "language": "python",
   "name": "python3"
  },
  "language_info": {
   "codemirror_mode": {
    "name": "ipython",
    "version": 3
   },
   "file_extension": ".py",
   "mimetype": "text/x-python",
   "name": "python",
   "nbconvert_exporter": "python",
   "pygments_lexer": "ipython3",
   "version": "3.7.4"
  }
 },
 "nbformat": 4,
 "nbformat_minor": 2
}
