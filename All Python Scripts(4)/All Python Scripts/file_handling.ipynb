{
 "cells": [
  {
   "cell_type": "code",
   "execution_count": 2,
   "metadata": {},
   "outputs": [
    {
     "name": "stdout",
     "output_type": "stream",
     "text": [
      "Enter any text:Hello,,,,,,,,Python\n",
      "Data written successfully...!\n"
     ]
    }
   ],
   "source": [
    "#Python- File I/O operations.....!\n",
    "#Writing operation\n",
    "\n",
    "f = open(\"E:\\myapp1\\myfile.txt\",\"w\")\n",
    "data=input(\"Enter any text:\")\n",
    "f.write(data)\n",
    "f.close()\n",
    "print(\"Data written successfully...!\")"
   ]
  },
  {
   "cell_type": "code",
   "execution_count": 4,
   "metadata": {},
   "outputs": [
    {
     "name": "stdout",
     "output_type": "stream",
     "text": [
      "Enter any text:hi\n",
      "Data written successfully...!\n"
     ]
    }
   ],
   "source": [
    "#Writing operation with append\n",
    "\n",
    "f = open(\"E:\\myapp1\\myfile.txt\",\"a\")\n",
    "data=input(\"Enter any text:\")\n",
    "f.write(\"\\n\"+data)\n",
    "f.close()\n",
    "print(\"Data written successfully...!\")"
   ]
  },
  {
   "cell_type": "code",
   "execution_count": 5,
   "metadata": {},
   "outputs": [
    {
     "name": "stdout",
     "output_type": "stream",
     "text": [
      "Data written successfully...!\n"
     ]
    }
   ],
   "source": [
    "#Writing operation with write lines\n",
    "\n",
    "f = open(\"E:\\myapp1\\myfile1.txt\",\"a\")\n",
    "lines =[\"Welcome to Python\\n\",\"Welcome to Django Framework\\n\",\"Welcome to Pyramid.\\n\"] \n",
    "f.writelines(lines)\n",
    "f.close()\n",
    "print(\"Data written successfully...!\")"
   ]
  },
  {
   "cell_type": "code",
   "execution_count": 8,
   "metadata": {},
   "outputs": [
    {
     "name": "stdout",
     "output_type": "stream",
     "text": [
      "Welcome to Python\n",
      "\n",
      "Welcome to Django Framework\n",
      "\n",
      "Welcome to Pyramid.\n",
      "\n"
     ]
    }
   ],
   "source": [
    "#Reading operation  with While loop\n",
    "\n",
    "f = open(\"E:\\myapp1\\myfile1.txt\",\"r\")\n",
    "line = f.readline()\n",
    "\n",
    "while line != '':\n",
    "    print(line)\n",
    "    line=f.readline()\n",
    "    \n",
    "f.close()\n"
   ]
  },
  {
   "cell_type": "code",
   "execution_count": 10,
   "metadata": {},
   "outputs": [
    {
     "name": "stdout",
     "output_type": "stream",
     "text": [
      "Welcome to Python\n",
      "\n",
      "Welcome to Django Framework\n",
      "\n",
      "Welcome to Pyramid.\n",
      "\n"
     ]
    }
   ],
   "source": [
    "#Reading operation  with for loop\n",
    "\n",
    "f = open(\"E:\\myapp1\\myfile1.txt\",\"r\")\n",
    "for line in f:\n",
    "    print(line)\n",
    "f.close()"
   ]
  },
  {
   "cell_type": "code",
   "execution_count": 17,
   "metadata": {},
   "outputs": [
    {
     "name": "stdout",
     "output_type": "stream",
     "text": [
      "Welcome to Python\n",
      "\n",
      "Welcome to Django Framework\n",
      "\n",
      "Welcome to Pyramid.\n",
      "\n"
     ]
    }
   ],
   "source": [
    "#Reading operation  with readlines()\n",
    "\n",
    "f = open(\"E:\\myapp1\\myfile1.txt\")\n",
    "linelst = f.readlines()\n",
    "for line in linelst: \n",
    "    print(line)\n",
    "f.close()"
   ]
  },
  {
   "cell_type": "code",
   "execution_count": 18,
   "metadata": {},
   "outputs": [
    {
     "name": "stdout",
     "output_type": "stream",
     "text": [
      "Function call with Parentheses: \n",
      "Hello, George\n",
      "1600705467632\n",
      "Function call without Parentheses: \n",
      "<function concatenate_string at 0x00000174B17A3E58>\n",
      "1600705412696\n"
     ]
    }
   ],
   "source": [
    "def concatenate_string(*args): \n",
    "\tstring1 = args[0] \n",
    "\tstring2 = args[1] \n",
    "\n",
    "\treturn string1 + string2 \n",
    "\n",
    "obj = concatenate_string('Hello, ', 'George') \n",
    "print('Function call with Parentheses: ') \n",
    "print(obj)\n",
    "print(id(obj)) \n",
    "\n",
    "obj = concatenate_string \n",
    "print('Function call without Parentheses: ') \n",
    "print(obj) \n",
    "print(id(obj)) "
   ]
  },
  {
   "cell_type": "code",
   "execution_count": 23,
   "metadata": {},
   "outputs": [
    {
     "name": "stdout",
     "output_type": "stream",
     "text": [
      "6\n",
      "Python\n"
     ]
    }
   ],
   "source": [
    "#Python File-Handling- (seek() - used to read/write at a specific position , set the current read/write cur pos)\n",
    "#Syntax:-\n",
    "# f.seek(offset,from)\n",
    "#0: offset - from beginging\n",
    "#1: offset - from position\n",
    "#2: offset - from the end\n",
    "\n",
    "\n",
    "f = open(\"E:\\myapp1\\myfile.txt\",\"r+\")\n",
    "f.seek(6,0)\n",
    "print(f.tell())\n",
    "lineslst=f.readlines()\n",
    "for line in lineslst:\n",
    "    print(line)\n",
    "f.close()\n",
    "\n"
   ]
  },
  {
   "cell_type": "code",
   "execution_count": 33,
   "metadata": {},
   "outputs": [
    {
     "name": "stdout",
     "output_type": "stream",
     "text": [
      "Python\n",
      "Done....!\n"
     ]
    }
   ],
   "source": [
    "f = open(\"E:\\myapp1\\myfile.txt\",\"r+\")\n",
    "f.seek(6,0)\n",
    "line=f.readlines()\n",
    "print(line)\n",
    "f.seek(6,0)\n",
    "f.write(\"Welcome \"+line)\n",
    "f.close()\n",
    "print(\"Done....!\")"
   ]
  },
  {
   "cell_type": "code",
   "execution_count": 41,
   "metadata": {},
   "outputs": [
    {
     "name": "stdout",
     "output_type": "stream",
     "text": [
      "Enter student roll :1\n",
      "Enter student roll :78\n",
      "data written...\n"
     ]
    }
   ],
   "source": [
    "#Reading & writing data into/ from a binary file....\n",
    "#Pythion- write a data to a binary file\n",
    "\n",
    "f=open(\"E:\\myapp1\\myfile3.txt\",\"wb\")\n",
    "\n",
    "studlst=[]\n",
    "\n",
    "roll=int(input(\"Enter student roll :\"))\n",
    "studlst.append(roll)\n",
    "marks=int(input(\"Enter student marks \"))\n",
    "studlst.append(marks)\n",
    "\n",
    "arr=bytearray(studlst)\n",
    "f.write(arr)\n",
    "f.close()\n",
    "print(\"data written...\")"
   ]
  },
  {
   "cell_type": "code",
   "execution_count": 44,
   "metadata": {},
   "outputs": [
    {
     "name": "stdout",
     "output_type": "stream",
     "text": [
      "bytearray(b'This is Binary data')\n",
      "data written...\n"
     ]
    }
   ],
   "source": [
    "f=open(\"E:\\myapp1\\myfile4.txt\",\"wb\")\n",
    "data=\"This is Binary data\"\n",
    "arr=bytearray()\n",
    "arr.extend(map(ord,data))\n",
    "print(arr)\n",
    "f.write(arr)\n",
    "f.close()\n",
    "print(\"data written...\")"
   ]
  },
  {
   "cell_type": "code",
   "execution_count": 42,
   "metadata": {},
   "outputs": [
    {
     "name": "stdout",
     "output_type": "stream",
     "text": [
      "Roll no . :  1\n",
      "Marks     :  78\n"
     ]
    }
   ],
   "source": [
    "#Python- read a data from a binary file\n",
    "\n",
    "f=open(\"E:\\myapp1\\myfile3.txt\",\"rb\")\n",
    "studlst=list(f.read())\n",
    "print(\"Roll no . : \",studlst[0])\n",
    "print(\"Marks     : \",studlst[1])\n",
    "f.close()"
   ]
  },
  {
   "cell_type": "code",
   "execution_count": 48,
   "metadata": {},
   "outputs": [
    {
     "name": "stdout",
     "output_type": "stream",
     "text": [
      "Curent working directory :  C:\\Users\\Rajesh\n",
      "None\n",
      "Curent working directory :  E:\\\n"
     ]
    }
   ],
   "source": [
    "import os\n",
    "\n",
    "print(\"Curent working directory : \",os.getcwd())\n",
    "print(os.chdir(\"E:\"))\n",
    "print(\"Curent working directory : \",os.getcwd())             \n",
    "f=open(\"file5.txt\",\"w\")\n",
    "f.write(\"Hi\")\n",
    "f.close()"
   ]
  },
  {
   "cell_type": "code",
   "execution_count": 50,
   "metadata": {},
   "outputs": [],
   "source": [
    "import os\n",
    "\n",
    "os.remove(\"e:\\\\file5.txt\")"
   ]
  },
  {
   "cell_type": "code",
   "execution_count": 55,
   "metadata": {},
   "outputs": [
    {
     "name": "stdout",
     "output_type": "stream",
     "text": [
      "done\n"
     ]
    }
   ],
   "source": [
    "import shutil\n",
    "\n",
    "shutil.rmtree(\"e:\\myapp1\")\n",
    "print(\"done\")"
   ]
  },
  {
   "cell_type": "code",
   "execution_count": 59,
   "metadata": {},
   "outputs": [
    {
     "name": "stdout",
     "output_type": "stream",
     "text": [
      "total files & folder inside is : 26\n"
     ]
    }
   ],
   "source": [
    "import os\n",
    "\n",
    "total=len(os.listdir(\"e:\\MYSQL DATA\"))\n",
    "print(\"total files & folder inside is :\",total)"
   ]
  },
  {
   "cell_type": "code",
   "execution_count": 63,
   "metadata": {},
   "outputs": [
    {
     "name": "stdout",
     "output_type": "stream",
     "text": [
      "assign.txt : is a file\n",
      "assign2.txt : is a file\n",
      "assign3.txt : is a file\n"
     ]
    }
   ],
   "source": [
    "import os\n",
    "\n",
    "listitems=os.listdir(\"e:\\MYSQL DATA\")\n",
    "for item in listitems:\n",
    "    if \".txt\" in item:\n",
    "        print(item+\" : is a file\")\n"
   ]
  },
  {
   "cell_type": "code",
   "execution_count": null,
   "metadata": {},
   "outputs": [],
   "source": []
  }
 ],
 "metadata": {
  "kernelspec": {
   "display_name": "Python 3",
   "language": "python",
   "name": "python3"
  },
  "language_info": {
   "codemirror_mode": {
    "name": "ipython",
    "version": 3
   },
   "file_extension": ".py",
   "mimetype": "text/x-python",
   "name": "python",
   "nbconvert_exporter": "python",
   "pygments_lexer": "ipython3",
   "version": "3.7.4"
  }
 },
 "nbformat": 4,
 "nbformat_minor": 2
}
