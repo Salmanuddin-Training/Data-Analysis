{
 "cells": [
  {
   "cell_type": "code",
   "execution_count": null,
   "metadata": {},
   "outputs": [],
   "source": [
    "#Python-Functions\n",
    "\n",
    "def myFun():  \n",
    "    \"\"\"This function is used to print hello on screen.\"\"\"\n",
    "    print(\"Hello.....!\")\n",
    "    \n",
    "\n",
    "myFun() #function calling/execution\n",
    "\n",
    "myFun.__doc__\n"
   ]
  },
  {
   "cell_type": "code",
   "execution_count": null,
   "metadata": {},
   "outputs": [],
   "source": [
    "#Python-Functions with prameters\n",
    "\n",
    "def myFun(name):\n",
    "    print(\"Hi...\",name)\n",
    "    print(\"Welcome to Python...!\")\n",
    "\n",
    "nm=input('Enter name :')\n",
    "myFun(nm)"
   ]
  },
  {
   "cell_type": "code",
   "execution_count": null,
   "metadata": {},
   "outputs": [],
   "source": [
    "#Python - Functions with multiple prameters\n",
    "\n",
    "def calResult(m1,m2,m3):\n",
    "    total=m1+m2+m3\n",
    "    avg=total/3\n",
    "    if avg >=50:\n",
    "        print(\"Reuslt : Pass\")\n",
    "    else:\n",
    "        print(\"Result : Fail\")\n",
    "    \n",
    "eng=int(input('Enter english subject marks :'))\n",
    "maths=int(input('Enter maths subject marks :'))\n",
    "science=int(input('Enter science subject marks :'))\n",
    "\n",
    "calResult(eng,maths,science)"
   ]
  },
  {
   "cell_type": "code",
   "execution_count": null,
   "metadata": {},
   "outputs": [],
   "source": [
    "#Prameter with default values:-\n",
    "\n",
    "def myFun(course='Python'):\n",
    "    print(\"Your course :\",course)\n",
    "\n",
    "myFun()\n",
    "\n"
   ]
  },
  {
   "cell_type": "code",
   "execution_count": null,
   "metadata": {},
   "outputs": [],
   "source": [
    "#switch in python.....\n",
    "def add(n1,n2):\n",
    "    return n1+n2\n",
    "\n",
    "def product(n1,n2):\n",
    "    return n1*n2\n",
    "\n",
    "def subtract(n1,n2):\n",
    "    return n1-n2\n",
    "\n",
    "def divide(n1,n2):\n",
    "    return n1/n2\n",
    "\n",
    "\n",
    "print(\"===== My Python Calculator=====\")\n",
    "print(\"\\t1. Add\")\n",
    "print(\"\\t2. product\")\n",
    "print(\"\\t3. subtract\")\n",
    "print(\"\\t4. divide\")\n",
    "\n",
    "choice=int(input(\"Enter choice between-(1-4):\"))\n",
    "\n",
    "\"\"\"while True:\n",
    "    choice=int(input(\"Enter choice between-(1-4):\"))\n",
    "    if choice <1 or choice>4:\n",
    "        print(\"Invalid choice...Try again...!\")\n",
    "    else:\n",
    "        break\n",
    "\"\"\"\n",
    "\n",
    "n1=int(input(\"Enter 1st no.\"))\n",
    "n2=int(input(\"Enter 2nd no.\"))\n",
    "\n",
    "def switch_demo(argument):\n",
    "    switcher={\n",
    "        1: add(n1,n2),\n",
    "        2: product(n1,n2),\n",
    "        3: subtract(n1,n2),\n",
    "        4: divide(n1,n2)\n",
    "    }\n",
    "    print(switcher.get(argument,\"Invalid choice.....Try again...!\"))\n",
    "    \n",
    "switch_demo(choice)\n"
   ]
  },
  {
   "cell_type": "code",
   "execution_count": null,
   "metadata": {},
   "outputs": [],
   "source": [
    "#do-while in python\n",
    "\"\"\"do {\n",
    "    ....\n",
    "    }\n",
    "    while(cond.);\n",
    "\"\"\"\n",
    "x=10\n",
    "\n",
    "while True:\n",
    "    print(x)\n",
    "    x+=1\n",
    "    if x>5:\n",
    "        break\n",
    "\n",
    "\n"
   ]
  },
  {
   "cell_type": "code",
   "execution_count": null,
   "metadata": {},
   "outputs": [],
   "source": [
    "x=10\n",
    "while x<=5:\n",
    "    print(x)\n",
    "    x+=1\n",
    "print(\"prog ends here\")\n"
   ]
  },
  {
   "cell_type": "code",
   "execution_count": 3,
   "metadata": {},
   "outputs": [
    {
     "name": "stdout",
     "output_type": "stream",
     "text": [
      "Total :  210\n"
     ]
    }
   ],
   "source": [
    "#Python-arbitrary arguments....\n",
    "\n",
    "\n",
    "def calculateAvg(*marks):\n",
    "    total=0\n",
    "    for val in marks:\n",
    "        total += val\n",
    "    print(\"Total : \",total)\n",
    "\n",
    "calculateAvg(80,90,40,67,45)"
   ]
  },
  {
   "cell_type": "code",
   "execution_count": 3,
   "metadata": {},
   "outputs": [
    {
     "name": "stdout",
     "output_type": "stream",
     "text": [
      "<class 'tuple'>\n",
      "Allen\n",
      "Donald\n",
      "Kelly\n",
      "Allen\n"
     ]
    }
   ],
   "source": [
    "def f1(*nm):\n",
    "     print(type(nm))\n",
    "     for val in nm:\n",
    "            print(val)\n",
    "            \n",
    "f1(\"Allen\",\"Donald\",\"Kelly\",\"Allen\")\n"
   ]
  },
  {
   "cell_type": "code",
   "execution_count": 8,
   "metadata": {},
   "outputs": [
    {
     "name": "stdout",
     "output_type": "stream",
     "text": [
      "Welcome : Anil kumar\n"
     ]
    }
   ],
   "source": [
    "#Functions - with keyword arguments\n",
    "\n",
    "def display(fname,lname):\n",
    "    print(\"Welcome : {} {}\".format(fname,lname))\n",
    "\n",
    "display(lname=\"kumar\",fname=\"Anil\")"
   ]
  },
  {
   "cell_type": "code",
   "execution_count": 9,
   "metadata": {},
   "outputs": [
    {
     "name": "stdout",
     "output_type": "stream",
     "text": [
      "Enter 1st no.2\n",
      "Enter 2nd no.2\n",
      "Sum is : 4\n",
      "1849742784696\n"
     ]
    }
   ],
   "source": [
    "#Funtions - return values from a function\n",
    "\n",
    "def sum(n1,n2):\n",
    "    return n1+n2\n",
    "\n",
    "x=int(input(\"Enter 1st no.\"))\n",
    "y=int(input(\"Enter 2nd no.\"))\n",
    "\n",
    "print(\"Sum is :\",sum(x,y))\n",
    "\n",
    "print(id(sum))"
   ]
  },
  {
   "cell_type": "code",
   "execution_count": 17,
   "metadata": {},
   "outputs": [
    {
     "name": "stdout",
     "output_type": "stream",
     "text": [
      "value of x before pasing is : 2  id:  140733865435568\n",
      "Value inside arg  2  id:  140733865435568\n",
      "Value inside arg  3  id:  140733865435600\n",
      "value of x after passing is : 2  id:  140733865435568\n"
     ]
    }
   ],
   "source": [
    "\n",
    "def myfun(arg):\n",
    "    print(\"Value inside arg \",arg,\" id: \",id(arg))\n",
    "    arg+=1\n",
    "    print(\"Value inside arg \",arg,\" id: \",id(arg))\n",
    "    \n",
    "x=2;\n",
    "print(\"value of x before pasing is :\",x,\" id: \",id(x))\n",
    "myfun(x)\n",
    "print(\"value of x after passing is :\",x,\" id: \",id(x))"
   ]
  },
  {
   "cell_type": "code",
   "execution_count": 16,
   "metadata": {},
   "outputs": [
    {
     "name": "stdout",
     "output_type": "stream",
     "text": [
      "elemnts of list before pasing is : [2, 4, 6, 8]\n",
      "updated list inside function: [2, 4, 6, 8, 10]\n",
      "elemnts of list after pasing is : [2, 4, 6, 8, 10]\n"
     ]
    }
   ],
   "source": [
    "#Pass by-reference in Python\n",
    "def myfun2(list):\n",
    "    list.append(10)\n",
    "    print(\"updated list inside function:\",list)\n",
    "    \n",
    "mylist=[2,4,6,8]\n",
    "print(\"elemnts of list before pasing is :\",mylist)\n",
    "myfun2(mylist)\n",
    "print(\"elemnts of list after pasing is :\",mylist)\n"
   ]
  },
  {
   "cell_type": "code",
   "execution_count": 19,
   "metadata": {},
   "outputs": [
    {
     "name": "stdout",
     "output_type": "stream",
     "text": [
      "x :  140733865435568\n",
      "y :  140733865435568\n",
      "x :  140733865435600\n"
     ]
    }
   ],
   "source": [
    "x=2\n",
    "y=2\n",
    "\n",
    "print(\"x : \",id(x))\n",
    "print(\"y : \",id(y))\n",
    "\n",
    "x+=1\n",
    "print(\"x : \",id(x))"
   ]
  },
  {
   "cell_type": "code",
   "execution_count": 21,
   "metadata": {},
   "outputs": [
    {
     "name": "stdout",
     "output_type": "stream",
     "text": [
      "Enter any no.4\n",
      "factorial of 4  is  24\n"
     ]
    }
   ],
   "source": [
    "#Recursive Function\n",
    "#5 = 5*4*3*2*1\n",
    "\n",
    "def factorial(n):\n",
    "    if n==1:\n",
    "        return 1\n",
    "    else:\n",
    "        return n*factorial(n-1)\n",
    "    \n",
    "num=int(input(\"Enter any no.\"))\n",
    "print(\"factorial of\",num,\" is \",factorial(num))"
   ]
  },
  {
   "cell_type": "code",
   "execution_count": 23,
   "metadata": {},
   "outputs": [
    {
     "name": "stdout",
     "output_type": "stream",
     "text": [
      "9\n"
     ]
    }
   ],
   "source": [
    "def square(n):\n",
    "    print(n*n)\n",
    "\n",
    "square(3)"
   ]
  },
  {
   "cell_type": "code",
   "execution_count": 27,
   "metadata": {},
   "outputs": [
    {
     "name": "stdout",
     "output_type": "stream",
     "text": [
      "enter any no.6\n",
      "Square is : 36\n"
     ]
    }
   ],
   "source": [
    "num = int(input(\"enter any no.\"))\n",
    "square = lambda num: num*num\n",
    "print(\"Square is :\",square(num))"
   ]
  },
  {
   "cell_type": "raw",
   "metadata": {},
   "source": []
  },
  {
   "cell_type": "code",
   "execution_count": 28,
   "metadata": {},
   "outputs": [
    {
     "data": {
      "text/plain": [
       "60"
      ]
     },
     "execution_count": 28,
     "metadata": {},
     "output_type": "execute_result"
    }
   ],
   "source": [
    "sum=lambda n1,n2,n3: n1+n2+n3\n",
    "sum(10,20,30)"
   ]
  },
  {
   "cell_type": "code",
   "execution_count": 29,
   "metadata": {},
   "outputs": [
    {
     "name": "stdout",
     "output_type": "stream",
     "text": [
      "hello  Python\n"
     ]
    }
   ],
   "source": [
    "str1 = lambda str:print(\"hello \",str)\n",
    "str1(\"Python\")\n"
   ]
  },
  {
   "cell_type": "code",
   "execution_count": 2,
   "metadata": {},
   "outputs": [
    {
     "name": "stdout",
     "output_type": "stream",
     "text": [
      "[4, 6, 8, 12]\n"
     ]
    }
   ],
   "source": [
    "#Program to filter out only the even items from a list using filter() ans lambda function\n",
    "\n",
    "my_list=[1,5,4,6,8,11,3,12]\n",
    "new_list=list(filter((lambda x:(x%2==0)),my_list))\n",
    "print(new_list)"
   ]
  },
  {
   "cell_type": "code",
   "execution_count": 5,
   "metadata": {},
   "outputs": [
    {
     "name": "stdout",
     "output_type": "stream",
     "text": [
      "[2, 10, 8, 12, 16, 22, 6, 24]\n"
     ]
    }
   ],
   "source": [
    "#Program to double each item in list using map() and lambda function\n",
    "my_list=[1,5,4,6,8,11,3,12]\n",
    "new_list=list(map(lambda x:x*2,my_list))\n",
    "print(new_list)\n",
    "\n",
    "#for x in range(0,len(my_list)):\n",
    "#   my_list[x]=my_list[x]*2\n",
    "    \n"
   ]
  },
  {
   "cell_type": "code",
   "execution_count": 7,
   "metadata": {},
   "outputs": [
    {
     "name": "stdout",
     "output_type": "stream",
     "text": [
      "<built-in function ceil>\n"
     ]
    }
   ],
   "source": [
    "import math\n",
    "\n",
    "print(math.ceil)"
   ]
  },
  {
   "cell_type": "code",
   "execution_count": null,
   "metadata": {},
   "outputs": [],
   "source": []
  }
 ],
 "metadata": {
  "kernelspec": {
   "display_name": "Python 3",
   "language": "python",
   "name": "python3"
  },
  "language_info": {
   "codemirror_mode": {
    "name": "ipython",
    "version": 3
   },
   "file_extension": ".py",
   "mimetype": "text/x-python",
   "name": "python",
   "nbconvert_exporter": "python",
   "pygments_lexer": "ipython3",
   "version": "3.7.4"
  }
 },
 "nbformat": 4,
 "nbformat_minor": 2
}
