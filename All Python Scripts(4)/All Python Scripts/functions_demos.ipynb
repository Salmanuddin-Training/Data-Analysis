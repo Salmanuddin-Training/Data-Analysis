{
 "cells": [
  {
   "cell_type": "code",
   "execution_count": 3,
   "metadata": {},
   "outputs": [
    {
     "data": {
      "text/plain": [
       "'This is function is used to greet the user.'"
      ]
     },
     "execution_count": 3,
     "metadata": {},
     "output_type": "execute_result"
    }
   ],
   "source": [
    "#Python-functions\n",
    "\n",
    "def myFun():\n",
    "    \"\"\"This is function is used to greet the user.\"\"\"\n",
    "    print(\"Welcome to Python.....!\")\n",
    "    print(\"We are implementing Functions in Python\")\n",
    "\n",
    "\n",
    "#myFun() #calling the function...\n",
    "myFun.__doc__"
   ]
  },
  {
   "cell_type": "code",
   "execution_count": 5,
   "metadata": {},
   "outputs": [
    {
     "name": "stdout",
     "output_type": "stream",
     "text": [
      "Enter name: Williams\n",
      "Hello :  Williams\n"
     ]
    }
   ],
   "source": [
    "#Function with parameters with no return type\n",
    "\n",
    "def myFun(name):\n",
    "    print(\"Hello : \",name)\n",
    "\n",
    "\n",
    "myFun(input('Enter name: '))"
   ]
  },
  {
   "cell_type": "code",
   "execution_count": 10,
   "metadata": {},
   "outputs": [
    {
     "name": "stdout",
     "output_type": "stream",
     "text": [
      "Enter 1st subject marks10\n",
      "Enter 2nd subject marks20\n",
      "Enter 3rd subject marks30\n",
      "Result :  Failed\n"
     ]
    }
   ],
   "source": [
    "#Function with parameter\n",
    "def calResult(n1,n2,n3):\n",
    "    total=n1+n2+n3\n",
    "    average=total/3\n",
    "    grade=\"\"\n",
    "    if average >= 50:\n",
    "        grade= \"Passed\"\n",
    "    else:\n",
    "        grade= \"Failed\"\n",
    "        \n",
    "    return grade\n",
    "    \n",
    "s1=int(input('Enter 1st subject marks'))\n",
    "s2=int(input('Enter 2nd subject marks'))\n",
    "s3=int(input('Enter 3rd subject marks'))\n",
    "\n",
    "result =calResult(s1,s2,s3)\n",
    "\n",
    "print(\"Result : \",result)\n"
   ]
  },
  {
   "cell_type": "code",
   "execution_count": 15,
   "metadata": {},
   "outputs": [
    {
     "name": "stdout",
     "output_type": "stream",
     "text": [
      "Enroll for :  Python\n"
     ]
    }
   ],
   "source": [
    "#Parameter with default values:-\n",
    "def myFun(course=\"Python\"):\n",
    "    print(\"Enroll for : \",course)\n",
    "\n",
    "myFun()"
   ]
  },
  {
   "cell_type": "code",
   "execution_count": 19,
   "metadata": {},
   "outputs": [
    {
     "name": "stdout",
     "output_type": "stream",
     "text": [
      "Roll : 101  Name :  John\n"
     ]
    }
   ],
   "source": [
    "#Python- Function with keyword arguments\n",
    "def myFun(roll,name):\n",
    "    print(\"Roll :\",roll,\" Name : \",name)\n",
    "    \n",
    "myFun(name=\"John\",roll=101)"
   ]
  },
  {
   "cell_type": "code",
   "execution_count": 22,
   "metadata": {},
   "outputs": [
    {
     "name": "stdout",
     "output_type": "stream",
     "text": [
      "Value inside num before passing : 10  ID :  140733436699312\n",
      "Incremented value :  11 ID :  140733436699344\n",
      "Value inside num after passing : 10  ID :  140733436699312\n"
     ]
    }
   ],
   "source": [
    "#Python- passing arguments by reference\n",
    "def myFun(arg):\n",
    "    arg=arg+1\n",
    "    print('Incremented value : ',arg,\"ID : \",id(arg))\n",
    "    \n",
    "num=10\n",
    "print(\"Value inside num before passing :\",num,\" ID : \",id(num))\n",
    "myFun(num)\n",
    "print(\"Value inside num after passing :\",num,\" ID : \",id(num))"
   ]
  },
  {
   "cell_type": "code",
   "execution_count": 28,
   "metadata": {},
   "outputs": [
    {
     "name": "stdout",
     "output_type": "stream",
     "text": [
      "Original List before passing  : [10, 20, 30, 40]\n",
      "Modified list inside the function: [10, 20, 30, 40, 50]\n",
      "Original List after passing  : [10, 20, 30, 40, 50]\n",
      "2470096106184\n"
     ]
    }
   ],
   "source": [
    "def myFun(lst):\n",
    "    lst.append(50)\n",
    "    print(\"Modified list inside the function:\",lst)\n",
    "\n",
    "mylist=[10,20,30,40]\n",
    "print(\"Original List before passing  :\",mylist)\n",
    "myFun(mylist)\n",
    "print(\"Original List after passing  :\",mylist)\n",
    "\n",
    "print(id(mylist))"
   ]
  },
  {
   "cell_type": "code",
   "execution_count": 35,
   "metadata": {},
   "outputs": [
    {
     "name": "stdout",
     "output_type": "stream",
     "text": [
      "Result is  :  Hello Pyhton\n"
     ]
    }
   ],
   "source": [
    "#python - decorator function\n",
    "@displayDecorator\n",
    "def display(str):\n",
    "    print(str)\n",
    "    \n",
    "def displayDecorator(fn):\n",
    "    def display_wrapper(str):\n",
    "        print('Result is  : ',end=\" \")\n",
    "        fn(str)\n",
    "    return display_wrapper\n",
    "\n",
    "display('Hello Pyhton')\n",
    "#out = displayDecorator(display)\n",
    "#out('Hello Python')\n",
    "\n"
   ]
  },
  {
   "cell_type": "code",
   "execution_count": 38,
   "metadata": {},
   "outputs": [
    {
     "ename": "TypeError",
     "evalue": "myFun() missing 1 required positional argument: 'name'",
     "output_type": "error",
     "traceback": [
      "\u001b[1;31m---------------------------------------------------------------------------\u001b[0m",
      "\u001b[1;31mTypeError\u001b[0m                                 Traceback (most recent call last)",
      "\u001b[1;32m<ipython-input-38-6b4b3f7a9a13>\u001b[0m in \u001b[0;36m<module>\u001b[1;34m\u001b[0m\n\u001b[0;32m      5\u001b[0m     \u001b[0mprint\u001b[0m\u001b[1;33m(\u001b[0m\u001b[1;34m\"Welcome : \"\u001b[0m\u001b[1;33m,\u001b[0m\u001b[0mname\u001b[0m\u001b[1;33m)\u001b[0m\u001b[1;33m\u001b[0m\u001b[1;33m\u001b[0m\u001b[0m\n\u001b[0;32m      6\u001b[0m \u001b[1;33m\u001b[0m\u001b[0m\n\u001b[1;32m----> 7\u001b[1;33m \u001b[0mmyFun\u001b[0m\u001b[1;33m(\u001b[0m\u001b[1;34m'John'\u001b[0m\u001b[1;33m)\u001b[0m\u001b[1;33m\u001b[0m\u001b[1;33m\u001b[0m\u001b[0m\n\u001b[0m",
      "\u001b[1;31mTypeError\u001b[0m: myFun() missing 1 required positional argument: 'name'"
     ]
    }
   ],
   "source": [
    "def myFun(self):\n",
    "    print(\"Hello\")\n",
    "\n",
    "def myFun(self,name):\n",
    "    print(\"Welcome : \",name)\n",
    "    \n",
    "myFun('John')"
   ]
  },
  {
   "cell_type": "code",
   "execution_count": 3,
   "metadata": {},
   "outputs": [
    {
     "name": "stdout",
     "output_type": "stream",
     "text": [
      "<class 'tuple'>\n",
      "Course : C\n",
      "Course : C++\n",
      "Course : Python\n",
      "Course : Django\n"
     ]
    }
   ],
   "source": [
    "def myFun(*course):\n",
    "    #course is a tuple with arguments\n",
    "    print(type(course))\n",
    "    for cr in course:\n",
    "        print(\"Course :\",cr)\n",
    "\n",
    "        \n",
    "myFun(\"C\",\"C++\",\"Python\",\"Django\")\n",
    "    "
   ]
  },
  {
   "cell_type": "code",
   "execution_count": 6,
   "metadata": {},
   "outputs": [
    {
     "name": "stdout",
     "output_type": "stream",
     "text": [
      "5\n",
      "hello\n",
      "hello\n"
     ]
    }
   ],
   "source": [
    "str=\"hello\"\n",
    "\n",
    "def add(n1,n2):\n",
    "    n3=n1+n2\n",
    "    print(n3)\n",
    "    print(str)\n",
    "\n",
    "add(2,3)\n",
    "print(str)"
   ]
  },
  {
   "cell_type": "code",
   "execution_count": 9,
   "metadata": {},
   "outputs": [
    {
     "name": "stdout",
     "output_type": "stream",
     "text": [
      "Enter any no.6\n"
     ]
    },
    {
     "data": {
      "text/plain": [
       "720"
      ]
     },
     "execution_count": 9,
     "metadata": {},
     "output_type": "execute_result"
    }
   ],
   "source": [
    "#Python recursive functions:-5! = 5*4*3*2*1\n",
    "def factorial(n):\n",
    "    if n==1:\n",
    "        return 1\n",
    "    else:\n",
    "        return n*factorial(n-1)\n",
    "\n",
    "n=int(input('Enter any no.'))\n",
    "factorial(n)"
   ]
  },
  {
   "cell_type": "code",
   "execution_count": 10,
   "metadata": {},
   "outputs": [
    {
     "data": {
      "text/plain": [
       "81"
      ]
     },
     "execution_count": 10,
     "metadata": {},
     "output_type": "execute_result"
    }
   ],
   "source": [
    "#Python-Lambda / anonymous functions\n",
    "\n",
    "square = lambda n: n*n\n",
    "\n",
    "square(9)"
   ]
  },
  {
   "cell_type": "code",
   "execution_count": 11,
   "metadata": {},
   "outputs": [
    {
     "data": {
      "text/plain": [
       "25"
      ]
     },
     "execution_count": 11,
     "metadata": {},
     "output_type": "execute_result"
    }
   ],
   "source": [
    "def square(n):\n",
    "    return n*n\n",
    "\n",
    "square(5)"
   ]
  },
  {
   "cell_type": "code",
   "execution_count": 16,
   "metadata": {},
   "outputs": [
    {
     "name": "stdout",
     "output_type": "stream",
     "text": [
      "1\n",
      "4\n",
      "9\n",
      "16\n"
     ]
    },
    {
     "data": {
      "text/plain": [
       "25"
      ]
     },
     "execution_count": 16,
     "metadata": {},
     "output_type": "execute_result"
    }
   ],
   "source": [
    "#Python-Map() call the specified function for each itertion of an iterable & return a list of results\n",
    "def square(n):\n",
    "    return n*n\n",
    "\n",
    "lst=[1,2,3,4,5]\n",
    "\n",
    "sqrlst = map(square,lst)\n",
    "print(next(sqrlst))\n",
    "print(next(sqrlst))\n",
    "print(next(sqrlst))\n",
    "print(next(sqrlst))\n",
    "next(sqrlst)"
   ]
  },
  {
   "cell_type": "code",
   "execution_count": 1,
   "metadata": {},
   "outputs": [
    {
     "name": "stdout",
     "output_type": "stream",
     "text": [
      "[1, 4, 9, 16, 25]\n"
     ]
    }
   ],
   "source": [
    "lst=[1,2,3,4,5]\n",
    "\n",
    "sqrlst=list(map(lambda n:n*n,lst))\n",
    "print(sqrlst)\n"
   ]
  },
  {
   "cell_type": "code",
   "execution_count": 19,
   "metadata": {},
   "outputs": [
    {
     "name": "stdout",
     "output_type": "stream",
     "text": [
      "[4, 6, 8, 12]\n"
     ]
    }
   ],
   "source": [
    "my_list = [1, 5, 4, 6, 8, 11, 3, 12]\n",
    "\n",
    "new_list = list(filter(lambda x: (x%2 == 0) , my_list))\n",
    "\n",
    "print(new_list)"
   ]
  },
  {
   "cell_type": "code",
   "execution_count": 20,
   "metadata": {},
   "outputs": [
    {
     "name": "stdout",
     "output_type": "stream",
     "text": [
      "[False, False, True, True, True, False, False, True]\n"
     ]
    }
   ],
   "source": [
    "my_list = [1, 5, 4, 6, 8, 11, 3, 12]\n",
    "\n",
    "new_list = list(map(lambda x: (x%2 == 0) , my_list))\n",
    "\n",
    "print(new_list)"
   ]
  },
  {
   "cell_type": "code",
   "execution_count": 22,
   "metadata": {},
   "outputs": [
    {
     "name": "stdout",
     "output_type": "stream",
     "text": [
      "a= 1 b= 2\n",
      "a= 2 b= 3\n",
      "a= 6 b= 4\n",
      "Factorial of 3 : 24\n"
     ]
    }
   ],
   "source": [
    "#Reduce - Python\n",
    "import functools\n",
    "\n",
    "def multi(a,b):\n",
    "    print(\"a=\",a,\"b=\",b)\n",
    "    return a*b\n",
    "\n",
    "fact = functools.reduce(multi,range(1,5))\n",
    "print('Factorial of  :',fact)"
   ]
  },
  {
   "cell_type": "code",
   "execution_count": null,
   "metadata": {},
   "outputs": [],
   "source": []
  }
 ],
 "metadata": {
  "kernelspec": {
   "display_name": "Python 3",
   "language": "python",
   "name": "python3"
  },
  "language_info": {
   "codemirror_mode": {
    "name": "ipython",
    "version": 3
   },
   "file_extension": ".py",
   "mimetype": "text/x-python",
   "name": "python",
   "nbconvert_exporter": "python",
   "pygments_lexer": "ipython3",
   "version": "3.7.4"
  }
 },
 "nbformat": 4,
 "nbformat_minor": 2
}
