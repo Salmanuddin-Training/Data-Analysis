{
 "cells": [
  {
   "cell_type": "code",
   "execution_count": null,
   "metadata": {},
   "outputs": [],
   "source": [
    "class Account:\n",
    "    bankid=\"B001\" #class variable/attributes\n",
    "    def __init__(self,id,nm,bal):\n",
    "        self.accid=id #class variable/attributes\n",
    "        self.name=nm\n",
    "        self.balance=bal\n",
    "        \n",
    "    def displayDet(self):\n",
    "        print(\"Account no.     :\",self.accid)\n",
    "        print(\"Acc Holder Name :\",self.name)\n",
    "        print(\"Balance         :\",self.balance)\n",
    "        \n",
    "class Saving(Account):\n",
    "    \n",
    "      def __init__(self,id,nm,bal,type):\n",
    "            super().__init__(id,nm,bal)\n",
    "            self.acctype=type\n",
    "            \n",
    "      def raiseinterest(self,time):\n",
    "             return ((self.balance*3.5*time)/100)\n",
    "    \n",
    "s1 =Saving(10001,'Donald',5000,'Saving')\n",
    "s1.displayDet()\n",
    "print(s1.raiseinterest(12))"
   ]
  },
  {
   "cell_type": "code",
   "execution_count": null,
   "metadata": {},
   "outputs": [],
   "source": [
    "class AA:\n",
    "    def fun1(self):\n",
    "        print(\"Hello\")\n",
    "        \n",
    "class BB(AA): \n",
    "    def fun2(self):\n",
    "        print(\"Welcome\")\n",
    "        \n",
    "b1 = BB()\n",
    "b1.fun2()\n",
    "b1.fun1()"
   ]
  },
  {
   "cell_type": "code",
   "execution_count": null,
   "metadata": {},
   "outputs": [],
   "source": [
    "class AA: \n",
    "    def __init__(self):\n",
    "        print(\"Const. of AA Class\")\n",
    "        \n",
    "class BB(AA):\n",
    "    def __init__(self): \n",
    "        super().__init__()\n",
    "        print(\"Const. of BB Class\")\n",
    "        \n",
    "b1=BB()"
   ]
  },
  {
   "cell_type": "code",
   "execution_count": null,
   "metadata": {},
   "outputs": [],
   "source": [
    "#Multiple  inheritance\n",
    "class AA:\n",
    "    def fun1(self):\n",
    "        print(\"Method of AA class\")\n",
    "\n",
    "class BB:\n",
    "    def fun2(self):\n",
    "        print(\"Method of BB class\")\n",
    "\n",
    "class CC(AA,BB):\n",
    "    def fun3(self):\n",
    "        print(\"Method of CC class\")\n",
    "\n",
    "c1 = CC()\n",
    "c1.fun1()\n",
    "c1.fun2()\n",
    "c1.fun3()\n"
   ]
  },
  {
   "cell_type": "code",
   "execution_count": null,
   "metadata": {},
   "outputs": [],
   "source": [
    "#Multilevel inheritance\n",
    "class AA:\n",
    "    def fun1(self):\n",
    "        print(\"Method of AA class\")\n",
    "\n",
    "class BB(AA):\n",
    "    def fun2(self):\n",
    "        print(\"Method of BB class\")\n",
    "\n",
    "class CC(BB):\n",
    "    def fun3(self):\n",
    "        print(\"Method of CC class\")\n",
    "        \n",
    "c1 = CC()\n",
    "c1.fun1()\n",
    "c1.fun2()\n",
    "c1.fun3()       "
   ]
  },
  {
   "cell_type": "code",
   "execution_count": null,
   "metadata": {},
   "outputs": [],
   "source": [
    "class StaticMethodDemo:\n",
    "    @staticmethod\n",
    "    def sayHello():\n",
    "        print(\"Welcome to Python\")\n",
    "\n",
    "StaticMethodDemo.sayHello()"
   ]
  },
  {
   "cell_type": "code",
   "execution_count": null,
   "metadata": {},
   "outputs": [],
   "source": [
    "class TestPoly:\n",
    "    def fun1(self):\n",
    "        print(\"function without parameter\")\n",
    "        \n",
    "    def fun1(self,name):\n",
    "        print(\"function with one parameter:\",name)\n",
    "        \n",
    "t1=TestPoly()\n",
    "t1.fun1(\"John\")\n"
   ]
  },
  {
   "cell_type": "code",
   "execution_count": null,
   "metadata": {},
   "outputs": [],
   "source": [
    "#Python- methpod overriding.....\n",
    "class Base:\n",
    "    def __init__(self):\n",
    "        self.x=\"Hello\"\n",
    "        \n",
    "    def display(self):\n",
    "        print(self.x)\n",
    "        \n",
    "class Child(Base):\n",
    "    def __init__(self):\n",
    "        self.x=\"Welcome\"\n",
    "        \n",
    "    def display(self):\n",
    "        print(self.x)\n",
    "\n",
    "#obj1 = Base()\n",
    "#obj1.display()\n",
    "obj2 = Child()\n",
    "obj2.display()"
   ]
  },
  {
   "cell_type": "code",
   "execution_count": null,
   "metadata": {},
   "outputs": [],
   "source": [
    "garmetsobj=[]\n",
    "while True:\n",
    "    print(\"1. Add Garments\\n2. Set Order\\n3. Show Details\\n4. Exit\")\n",
    "    n=int(input(\"Enter your choice: \"))\n",
    "    if (n==1):\n",
    "        a1=Garments()\n",
    "        garmentobj.append(a1)\n",
    "        a1.addGarment()\n",
    "    elif (n==2):\n",
    "        a1.setOrder()\n",
    "        \n",
    "    elif (n==3):\n",
    "        a1.showDetails()\n",
    "    elif (n==4):\n",
    "        break\n",
    "    else:\n",
    "        print(\"INVALID INPUT!!!!\")"
   ]
  }
 ],
 "metadata": {
  "kernelspec": {
   "display_name": "Python 3",
   "language": "python",
   "name": "python3"
  },
  "language_info": {
   "codemirror_mode": {
    "name": "ipython",
    "version": 3
   },
   "file_extension": ".py",
   "mimetype": "text/x-python",
   "name": "python",
   "nbconvert_exporter": "python",
   "pygments_lexer": "ipython3",
   "version": "3.7.4"
  }
 },
 "nbformat": 4,
 "nbformat_minor": 2
}
