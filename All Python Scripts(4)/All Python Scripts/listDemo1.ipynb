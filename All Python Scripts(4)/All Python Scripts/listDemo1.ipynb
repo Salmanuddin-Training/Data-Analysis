{
 "cells": [
  {
   "cell_type": "code",
   "execution_count": 2,
   "metadata": {},
   "outputs": [
    {
     "name": "stdout",
     "output_type": "stream",
     "text": [
      "0.1000000000000000055511151231257827021181583404541015625\n"
     ]
    }
   ],
   "source": [
    "#Python script - Decimal values\n",
    "import decimal\n",
    "\n",
    "print(decimal.Decimal(0.1))"
   ]
  },
  {
   "cell_type": "code",
   "execution_count": 4,
   "metadata": {},
   "outputs": [
    {
     "name": "stdout",
     "output_type": "stream",
     "text": [
      "3.4\n"
     ]
    }
   ],
   "source": [
    "from decimal import Decimal as D\n",
    "\n",
    "print(D('1.2')+D('2.2'))\n"
   ]
  },
  {
   "cell_type": "code",
   "execution_count": 6,
   "metadata": {},
   "outputs": [
    {
     "name": "stdout",
     "output_type": "stream",
     "text": [
      "1/2\n"
     ]
    }
   ],
   "source": [
    "import fractions\n",
    "\n",
    "print(fractions.Fraction(0.5))"
   ]
  },
  {
   "cell_type": "code",
   "execution_count": 7,
   "metadata": {},
   "outputs": [
    {
     "name": "stdout",
     "output_type": "stream",
     "text": [
      "1/2\n"
     ]
    }
   ],
   "source": [
    "import fractions\n",
    "\n",
    "print(fractions.Fraction(1/2))"
   ]
  },
  {
   "cell_type": "code",
   "execution_count": 12,
   "metadata": {},
   "outputs": [
    {
     "name": "stdout",
     "output_type": "stream",
     "text": [
      "3.5\n",
      "<class 'float'>\n",
      "3.5\n"
     ]
    }
   ],
   "source": [
    "print(1.2+2.3)\n",
    "\n",
    "n1=1.2\n",
    "n2=2.3\n",
    "print(type(n1))\n",
    "print(n1+n2)"
   ]
  },
  {
   "cell_type": "code",
   "execution_count": 17,
   "metadata": {},
   "outputs": [
    {
     "name": "stdout",
     "output_type": "stream",
     "text": [
      "3.141592653589793\n",
      "-1.0\n",
      "22026.465794806718\n"
     ]
    }
   ],
   "source": [
    "import math\n",
    "\n",
    "print(math.pi)\n",
    "print(math.cos(math.pi))\n",
    "print(math.exp(10))"
   ]
  },
  {
   "cell_type": "code",
   "execution_count": 21,
   "metadata": {},
   "outputs": [
    {
     "name": "stdout",
     "output_type": "stream",
     "text": [
      "Enter any no. :5\n",
      "Factorial of  5  is :  120\n"
     ]
    }
   ],
   "source": [
    "import math\n",
    "\n",
    "n=int(input('Enter any no. :'))\n",
    "fact = math.factorial(n)\n",
    "print('Factorial of ',n,' is : ',fact)\n"
   ]
  },
  {
   "cell_type": "code",
   "execution_count": 22,
   "metadata": {},
   "outputs": [
    {
     "name": "stdout",
     "output_type": "stream",
     "text": [
      "[101, 'Williams', 'Python', 67.8]\n"
     ]
    }
   ],
   "source": [
    "# Python List:-\n",
    "student = [101,'Williams','Python',67.8]\n",
    "print(student)"
   ]
  },
  {
   "cell_type": "code",
   "execution_count": 24,
   "metadata": {},
   "outputs": [
    {
     "name": "stdout",
     "output_type": "stream",
     "text": [
      "Name   :  Williams\n",
      "course :  Python\n"
     ]
    }
   ],
   "source": [
    "# Python List:-\n",
    "student = [101,'Williams','Python',67.8]\n",
    "print(\"Name   : \",student[1])\n",
    "print(\"course : \",student[2])"
   ]
  },
  {
   "cell_type": "code",
   "execution_count": 25,
   "metadata": {},
   "outputs": [
    {
     "name": "stdout",
     "output_type": "stream",
     "text": [
      "[101, 'Williams', 'Python', 67.8]\n",
      "[101, 'Williams', 'django', 67.8]\n"
     ]
    }
   ],
   "source": [
    "#update element inside a list\n",
    "student = [101,'Williams','Python',67.8]\n",
    "\n",
    "print(student)\n",
    "\n",
    "student[2]=\"django\"\n",
    "\n",
    "print(student)"
   ]
  },
  {
   "cell_type": "code",
   "execution_count": 28,
   "metadata": {},
   "outputs": [
    {
     "name": "stdout",
     "output_type": "stream",
     "text": [
      "[101, 'Williams', 'Python', 67.8]\n"
     ]
    }
   ],
   "source": [
    "name='Williams'\n",
    "student = [101,name,'Python',67.8]\n",
    "print(student)"
   ]
  },
  {
   "cell_type": "code",
   "execution_count": 30,
   "metadata": {},
   "outputs": [
    {
     "name": "stdout",
     "output_type": "stream",
     "text": [
      "67.8\n"
     ]
    }
   ],
   "source": [
    "student = [101,name,'Python',67.8]\n",
    "print(student[3])"
   ]
  },
  {
   "cell_type": "code",
   "execution_count": 31,
   "metadata": {},
   "outputs": [
    {
     "name": "stdout",
     "output_type": "stream",
     "text": [
      "['C', 'C++', 'Python', 'Django', 'JAVA']\n"
     ]
    },
    {
     "ename": "NameError",
     "evalue": "name 'course' is not defined",
     "output_type": "error",
     "traceback": [
      "\u001b[1;31m---------------------------------------------------------------------------\u001b[0m",
      "\u001b[1;31mNameError\u001b[0m                                 Traceback (most recent call last)",
      "\u001b[1;32m<ipython-input-31-7f0712aa4bd5>\u001b[0m in \u001b[0;36m<module>\u001b[1;34m\u001b[0m\n\u001b[0;32m      3\u001b[0m \u001b[0mprint\u001b[0m\u001b[1;33m(\u001b[0m\u001b[0mcourse\u001b[0m\u001b[1;33m)\u001b[0m\u001b[1;33m\u001b[0m\u001b[1;33m\u001b[0m\u001b[0m\n\u001b[0;32m      4\u001b[0m \u001b[1;32mdel\u001b[0m \u001b[0mcourse\u001b[0m\u001b[1;33m\u001b[0m\u001b[1;33m\u001b[0m\u001b[0m\n\u001b[1;32m----> 5\u001b[1;33m \u001b[0mprint\u001b[0m\u001b[1;33m(\u001b[0m\u001b[0mcourse\u001b[0m\u001b[1;33m)\u001b[0m\u001b[1;33m\u001b[0m\u001b[1;33m\u001b[0m\u001b[0m\n\u001b[0m",
      "\u001b[1;31mNameError\u001b[0m: name 'course' is not defined"
     ]
    }
   ],
   "source": [
    "#deleting  list\n",
    "course=['C','C++','Python','Django','JAVA']\n",
    "print(course)\n",
    "del course\n",
    "print(course)\n"
   ]
  },
  {
   "cell_type": "code",
   "execution_count": 33,
   "metadata": {},
   "outputs": [
    {
     "name": "stdout",
     "output_type": "stream",
     "text": [
      "['C', 'C++', 'Python', 'Django', 'JAVA']\n",
      "['C', 'C++', 'Python', 'Django']\n",
      "[]\n"
     ]
    }
   ],
   "source": [
    "course=['C','C++','Python','Django','JAVA']\n",
    "print(course)\n",
    "course.remove('JAVA')\n",
    "print(course)\n",
    "course.clear()\n",
    "print(course)\n"
   ]
  },
  {
   "cell_type": "code",
   "execution_count": 34,
   "metadata": {},
   "outputs": [
    {
     "name": "stdout",
     "output_type": "stream",
     "text": [
      "Total courses :  5\n"
     ]
    }
   ],
   "source": [
    "#diff operation list\n",
    "course=['C','C++','Python','Django','JAVA']\n",
    "print('Total courses : ',len(course))"
   ]
  },
  {
   "cell_type": "code",
   "execution_count": 35,
   "metadata": {},
   "outputs": [
    {
     "name": "stdout",
     "output_type": "stream",
     "text": [
      "max :  90\n"
     ]
    }
   ],
   "source": [
    "marks=[56,78,90,45,67]\n",
    "print('max : ',max(marks))"
   ]
  },
  {
   "cell_type": "code",
   "execution_count": 36,
   "metadata": {},
   "outputs": [
    {
     "name": "stdout",
     "output_type": "stream",
     "text": [
      "Min :  45\n"
     ]
    }
   ],
   "source": [
    "marks=[56,78,90,45,67]\n",
    "print('Min : ',min(marks))"
   ]
  },
  {
   "cell_type": "code",
   "execution_count": 37,
   "metadata": {},
   "outputs": [
    {
     "name": "stdout",
     "output_type": "stream",
     "text": [
      "['C', 'C++', 'Python', 'Django', 'JAVA']\n",
      "['C', 'C++', 'Python', 'Django', 'JAVA', 'PHP']\n"
     ]
    }
   ],
   "source": [
    "course=['C','C++','Python','Django','JAVA']\n",
    "print(course)\n",
    "course.append('PHP')\n",
    "print(course)"
   ]
  },
  {
   "cell_type": "code",
   "execution_count": 40,
   "metadata": {},
   "outputs": [
    {
     "name": "stdout",
     "output_type": "stream",
     "text": [
      "['C', 'C++', 'Python', 'Django', 'JAVA', 'Pyramid']\n"
     ]
    }
   ],
   "source": [
    "course=['C','C++','Python','Django','JAVA']\n",
    "course.insert(7,'Pyramid')\n",
    "print(course)"
   ]
  },
  {
   "cell_type": "code",
   "execution_count": 42,
   "metadata": {},
   "outputs": [
    {
     "name": "stdout",
     "output_type": "stream",
     "text": [
      "['C', 'C++', 'Python', 'Django', 'JAVA']\n",
      "['JAVA', 'Django', 'Python', 'C++', 'C']\n"
     ]
    }
   ],
   "source": [
    "course=['C','C++','Python','Django','JAVA']\n",
    "print(course)\n",
    "course.reverse()\n",
    "print(course)"
   ]
  },
  {
   "cell_type": "code",
   "execution_count": 46,
   "metadata": {},
   "outputs": [
    {
     "name": "stdout",
     "output_type": "stream",
     "text": [
      "[56, 78, 90, 45, 67]\n",
      "[45, 56, 67, 78, 90]\n",
      "[90, 78, 67, 56, 45]\n"
     ]
    }
   ],
   "source": [
    "marks=[56,78,90,45,67]\n",
    "print(marks)\n",
    "marks.sort()\n",
    "print(marks)\n",
    "marks.sort(reverse=True)\n",
    "print(marks)"
   ]
  },
  {
   "cell_type": "code",
   "execution_count": 49,
   "metadata": {},
   "outputs": [
    {
     "name": "stdout",
     "output_type": "stream",
     "text": [
      "['C', 'C++', 'Python', 'Django', 'JAVA']\n",
      "['C', 'C++', 'Python', 'Django', 'JAVA', 'Html5', 'CSS3', 'JScript']\n",
      "['C', 'C++', 'Python', 'Django', 'JAVA', 'Html5', 'CSS3', 'JScript', 'MySql', 'MSSql', 'Oracle']\n",
      "['C', 'C++', 'Python', 'Django', 'JAVA', 'Html5', 'CSS3', 'JScript']\n"
     ]
    }
   ],
   "source": [
    "course1=['C','C++','Python','Django','JAVA']\n",
    "course2=['Html5','CSS3','JScript']\n",
    "\n",
    "print(course1)\n",
    "course1.extend(course2)\n",
    "print(course1)\n",
    "print(course1+['MySql','MSSql','Oracle'])\n",
    "\n",
    "print(course1)"
   ]
  },
  {
   "cell_type": "code",
   "execution_count": 50,
   "metadata": {},
   "outputs": [
    {
     "name": "stdout",
     "output_type": "stream",
     "text": [
      "['Html5', 'CSS3', 'JScript', 'Html5', 'CSS3', 'JScript']\n"
     ]
    }
   ],
   "source": [
    "course2=['Html5','CSS3','JScript']\n",
    "print(course2 * 2)"
   ]
  },
  {
   "cell_type": "code",
   "execution_count": 59,
   "metadata": {},
   "outputs": [
    {
     "name": "stdout",
     "output_type": "stream",
     "text": [
      "['H', 'e', 'l', 'l', 'o', ' ', 'P', 'y', 't', 'h', 'o', 'n']\n",
      "['P', 'y', 't', 'h', 'o', 'n']\n",
      "['P', 'y', 't']\n",
      "['H', 'e', 'l', 'l', 'o']\n",
      "['H', 'e', 'l', 'l', 'o']\n"
     ]
    }
   ],
   "source": [
    "course=['H','e','l','l','o',' ','P','y','t','h','o','n']\n",
    "print(course)\n",
    "print(course[6:])\n",
    "print(course[6:9])\n",
    "print(course[:-7])\n",
    "print(course[-12:-7])"
   ]
  },
  {
   "cell_type": "code",
   "execution_count": null,
   "metadata": {},
   "outputs": [],
   "source": []
  }
 ],
 "metadata": {
  "kernelspec": {
   "display_name": "Python 3",
   "language": "python",
   "name": "python3"
  },
  "language_info": {
   "codemirror_mode": {
    "name": "ipython",
    "version": 3
   },
   "file_extension": ".py",
   "mimetype": "text/x-python",
   "name": "python",
   "nbconvert_exporter": "python",
   "pygments_lexer": "ipython3",
   "version": "3.7.4"
  }
 },
 "nbformat": 4,
 "nbformat_minor": 2
}
