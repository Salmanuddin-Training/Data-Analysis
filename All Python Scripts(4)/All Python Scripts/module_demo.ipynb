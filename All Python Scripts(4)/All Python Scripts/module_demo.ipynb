{
 "cells": [
  {
   "cell_type": "code",
   "execution_count": 2,
   "metadata": {},
   "outputs": [
    {
     "name": "stdout",
     "output_type": "stream",
     "text": [
      "Dirtectory createrd successfully..!\n"
     ]
    }
   ],
   "source": [
    "#Python- OS module\n",
    "# mkdir() - used to create a directory\n",
    "import os\n",
    "\n",
    "os.mkdir(\"e:\\\\python_example\")\n",
    "print('Dirtectory createrd successfully..!')"
   ]
  },
  {
   "cell_type": "code",
   "execution_count": 3,
   "metadata": {},
   "outputs": [
    {
     "data": {
      "text/plain": [
       "'C:\\\\Users\\\\Rajesh'"
      ]
     },
     "execution_count": 3,
     "metadata": {},
     "output_type": "execute_result"
    }
   ],
   "source": [
    "#Python- OS module\n",
    "# getcwd() - used to get current working directory\n",
    "\n",
    "import os\n",
    "\n",
    "os.getcwd()"
   ]
  },
  {
   "cell_type": "code",
   "execution_count": 7,
   "metadata": {},
   "outputs": [
    {
     "name": "stdout",
     "output_type": "stream",
     "text": [
      "e:\\python_example\n",
      "e:\\python_example\n"
     ]
    }
   ],
   "source": [
    "#Python- OS module\n",
    "# chdir() - used to change current working directory\n",
    "\n",
    "import os\n",
    "\n",
    "os.chdir(\"e:\\\\python_example\")\n",
    "print(os.getcwd())"
   ]
  },
  {
   "cell_type": "code",
   "execution_count": 10,
   "metadata": {},
   "outputs": [
    {
     "name": "stdout",
     "output_type": "stream",
     "text": [
      "Dirtectory removed successfully..!\n"
     ]
    }
   ],
   "source": [
    "#Python- OS module\n",
    "# rmdir() - used to change current working directory\n",
    "\n",
    "import os\n",
    "\n",
    "os.rmdir(\"e:\\\\python_example\")\n",
    "print('Dirtectory removed successfully..!')"
   ]
  },
  {
   "cell_type": "code",
   "execution_count": 9,
   "metadata": {},
   "outputs": [],
   "source": [
    "import os\n",
    "\n",
    "os.chdir(\"C:\\\\Users\\\\Rajesh\")"
   ]
  },
  {
   "cell_type": "code",
   "execution_count": 11,
   "metadata": {},
   "outputs": [
    {
     "data": {
      "text/plain": [
       "['2 Easy Processes to Install Pandas on Windows.docx',\n",
       " 'Beginning-Programming-with-Python-For-Dummies[ebooksfeed.com].pdf',\n",
       " 'CBSE_NCERT_SOLUTIONS-master.zip',\n",
       " 'Code_Script.zip',\n",
       " 'Computer Sc with Python',\n",
       " 'Computer Sc with Python.zip',\n",
       " 'Django Web Development with Python (2016).pdf',\n",
       " 'image stegnography.docx',\n",
       " 'New folder',\n",
       " 'project',\n",
       " 'python imp tutorial site.txt',\n",
       " 'python practice',\n",
       " 'Python Training - Jan 2017.zip',\n",
       " 'Python Training - Jan 2020',\n",
       " 'Python with oracle-instant client',\n",
       " 'Python-Delhi.pdf',\n",
       " 'python-demos-master(1)',\n",
       " 'python-demos-master(1).zip',\n",
       " 'python-django-master',\n",
       " 'python-django-master.zip',\n",
       " 'python-easykart-master.zip',\n",
       " 'RealTimeProject.py',\n",
       " 'ses-1_2.mp4',\n",
       " 'ses-2.mp4',\n",
       " 'ses_1.mp4',\n",
       " 'software',\n",
       " 'stegnography final.txt',\n",
       " 'Web project',\n",
       " 'Web project.zip']"
      ]
     },
     "execution_count": 11,
     "metadata": {},
     "output_type": "execute_result"
    }
   ],
   "source": [
    "#Python- OS module\n",
    "# listdir() - used to return all the files & folder\n",
    "\n",
    "import os\n",
    "\n",
    "os.listdir(\"E:\\PYTHON DATA\")"
   ]
  },
  {
   "cell_type": "code",
   "execution_count": 16,
   "metadata": {},
   "outputs": [
    {
     "name": "stdout",
     "output_type": "stream",
     "text": [
      "still in prog\n"
     ]
    }
   ],
   "source": [
    "import sys\n",
    "\n",
    "if False:\n",
    "    sys.exit\n",
    "else:\n",
    "    print('still in prog')"
   ]
  },
  {
   "cell_type": "code",
   "execution_count": 15,
   "metadata": {},
   "outputs": [
    {
     "data": {
      "text/plain": [
       "'3.7.4 (default, Aug  9 2019, 18:34:13) [MSC v.1915 64 bit (AMD64)]'"
      ]
     },
     "execution_count": 15,
     "metadata": {},
     "output_type": "execute_result"
    }
   ],
   "source": [
    "import sys\n",
    "\n",
    "sys.maxsize\n",
    "sys.path\n",
    "sys.version"
   ]
  },
  {
   "cell_type": "code",
   "execution_count": 28,
   "metadata": {},
   "outputs": [
    {
     "data": {
      "text/plain": [
       "4"
      ]
     },
     "execution_count": 28,
     "metadata": {},
     "output_type": "execute_result"
    }
   ],
   "source": [
    "import math\n",
    "\n",
    "math.pi\n",
    "math.e\n",
    "math.radians(30)\n",
    "math.log(10)\n",
    "math.e**10\n",
    "math.pow(2,3)\n",
    "math.sqrt(81)\n",
    "math.ceil(4.12)\n",
    "math.floor(4.72)"
   ]
  },
  {
   "cell_type": "code",
   "execution_count": 1,
   "metadata": {},
   "outputs": [
    {
     "data": {
      "text/plain": [
       "5.6"
      ]
     },
     "execution_count": 1,
     "metadata": {},
     "output_type": "execute_result"
    }
   ],
   "source": [
    "#Python statistics module:-\n",
    "# mean() - calculate the arithmetic mean of numbers in a list\n",
    "\n",
    "import statistics\n",
    "\n",
    "list10=[2,5,8,6,7]\n",
    "\n",
    "statistics.mean(list10)\n"
   ]
  },
  {
   "cell_type": "code",
   "execution_count": 4,
   "metadata": {},
   "outputs": [
    {
     "data": {
      "text/plain": [
       "7.5"
      ]
     },
     "execution_count": 4,
     "metadata": {},
     "output_type": "execute_result"
    }
   ],
   "source": [
    "#median()- used to return the middle value of numeric data in alist\n",
    "import statistics\n",
    "\n",
    "statistics.median([10,2,3,7,8,9])\n"
   ]
  },
  {
   "cell_type": "code",
   "execution_count": 6,
   "metadata": {},
   "outputs": [
    {
     "ename": "StatisticsError",
     "evalue": "no unique mode; found 2 equally common values",
     "output_type": "error",
     "traceback": [
      "\u001b[1;31m---------------------------------------------------------------------------\u001b[0m",
      "\u001b[1;31mStatisticsError\u001b[0m                           Traceback (most recent call last)",
      "\u001b[1;32m<ipython-input-6-8f46936437a6>\u001b[0m in \u001b[0;36m<module>\u001b[1;34m\u001b[0m\n\u001b[0;32m      1\u001b[0m \u001b[1;31m#mode() - used to get most of the common data points in the list\u001b[0m\u001b[1;33m\u001b[0m\u001b[1;33m\u001b[0m\u001b[1;33m\u001b[0m\u001b[0m\n\u001b[0;32m      2\u001b[0m \u001b[1;32mimport\u001b[0m \u001b[0mstatistics\u001b[0m\u001b[1;33m\u001b[0m\u001b[1;33m\u001b[0m\u001b[0m\n\u001b[1;32m----> 3\u001b[1;33m \u001b[0mstatistics\u001b[0m\u001b[1;33m.\u001b[0m\u001b[0mmode\u001b[0m\u001b[1;33m(\u001b[0m\u001b[1;33m[\u001b[0m\u001b[1;36m2\u001b[0m\u001b[1;33m,\u001b[0m\u001b[1;36m5\u001b[0m\u001b[1;33m,\u001b[0m\u001b[1;36m3\u001b[0m\u001b[1;33m,\u001b[0m\u001b[1;36m2\u001b[0m\u001b[1;33m,\u001b[0m\u001b[1;36m5\u001b[0m\u001b[1;33m,\u001b[0m\u001b[1;36m3\u001b[0m\u001b[1;33m,\u001b[0m\u001b[1;36m9\u001b[0m\u001b[1;33m,\u001b[0m\u001b[1;36m4\u001b[0m\u001b[1;33m,\u001b[0m\u001b[1;36m2\u001b[0m\u001b[1;33m,\u001b[0m\u001b[1;36m5\u001b[0m\u001b[1;33m,\u001b[0m\u001b[1;36m6\u001b[0m\u001b[1;33m]\u001b[0m\u001b[1;33m)\u001b[0m\u001b[1;33m\u001b[0m\u001b[1;33m\u001b[0m\u001b[0m\n\u001b[0m",
      "\u001b[1;32m~\\Anaconda3\\lib\\statistics.py\u001b[0m in \u001b[0;36mmode\u001b[1;34m(data)\u001b[0m\n\u001b[0;32m    504\u001b[0m     \u001b[1;32melif\u001b[0m \u001b[0mtable\u001b[0m\u001b[1;33m:\u001b[0m\u001b[1;33m\u001b[0m\u001b[1;33m\u001b[0m\u001b[0m\n\u001b[0;32m    505\u001b[0m         raise StatisticsError(\n\u001b[1;32m--> 506\u001b[1;33m                 \u001b[1;34m'no unique mode; found %d equally common values'\u001b[0m \u001b[1;33m%\u001b[0m \u001b[0mlen\u001b[0m\u001b[1;33m(\u001b[0m\u001b[0mtable\u001b[0m\u001b[1;33m)\u001b[0m\u001b[1;33m\u001b[0m\u001b[1;33m\u001b[0m\u001b[0m\n\u001b[0m\u001b[0;32m    507\u001b[0m                 )\n\u001b[0;32m    508\u001b[0m     \u001b[1;32melse\u001b[0m\u001b[1;33m:\u001b[0m\u001b[1;33m\u001b[0m\u001b[1;33m\u001b[0m\u001b[0m\n",
      "\u001b[1;31mStatisticsError\u001b[0m: no unique mode; found 2 equally common values"
     ]
    }
   ],
   "source": [
    "#mode() - used to get most of the common data points in the list\n",
    "import statistics\n",
    "statistics.mode([2,5,3,2,5,3,9,4,2,5,6])"
   ]
  },
  {
   "cell_type": "code",
   "execution_count": 7,
   "metadata": {},
   "outputs": [
    {
     "data": {
      "text/plain": [
       "1.224744871391589"
      ]
     },
     "execution_count": 7,
     "metadata": {},
     "output_type": "execute_result"
    }
   ],
   "source": [
    "#stdev() -on  calculate the std dev.  in then form of a given list\n",
    "import statistics\n",
    "\n",
    "statistics.stdev([1,1.5,2,2.5,3,3.5,4,4.5])"
   ]
  },
  {
   "cell_type": "code",
   "execution_count": 11,
   "metadata": {},
   "outputs": [
    {
     "data": {
      "text/plain": [
       "0.021941386138393804"
      ]
     },
     "execution_count": 11,
     "metadata": {},
     "output_type": "execute_result"
    }
   ],
   "source": [
    "#Random Module-\n",
    "import random\n",
    "\n",
    "random.random() # 0.0 - 1.0\n"
   ]
  },
  {
   "cell_type": "code",
   "execution_count": 18,
   "metadata": {},
   "outputs": [
    {
     "data": {
      "text/plain": [
       "49"
      ]
     },
     "execution_count": 18,
     "metadata": {},
     "output_type": "execute_result"
    }
   ],
   "source": [
    "#randint() - get a random no. between a sp. range\n",
    "import random\n",
    "random.randint(1,50)\n"
   ]
  },
  {
   "cell_type": "code",
   "execution_count": 50,
   "metadata": {},
   "outputs": [
    {
     "data": {
      "text/plain": [
       "5"
      ]
     },
     "execution_count": 50,
     "metadata": {},
     "output_type": "execute_result"
    }
   ],
   "source": [
    "#randrange() -\n",
    "import random\n",
    "random.randrange(1,11,2)"
   ]
  },
  {
   "cell_type": "code",
   "execution_count": 54,
   "metadata": {},
   "outputs": [
    {
     "data": {
      "text/plain": [
       "34"
      ]
     },
     "execution_count": 54,
     "metadata": {},
     "output_type": "execute_result"
    }
   ],
   "source": [
    "import random\n",
    "random.choice('Python')\n",
    "random.choice([56,78,34,90])"
   ]
  },
  {
   "cell_type": "code",
   "execution_count": 59,
   "metadata": {},
   "outputs": [
    {
     "name": "stdout",
     "output_type": "stream",
     "text": [
      "[25, 35, 45, 65]\n",
      "[25, 45, 35, 65]\n"
     ]
    }
   ],
   "source": [
    "import random\n",
    "\n",
    "lst11=[25,35,45,65]\n",
    "print(lst11)\n",
    "random.shuffle(lst11)\n",
    "print(lst11)"
   ]
  },
  {
   "cell_type": "code",
   "execution_count": null,
   "metadata": {},
   "outputs": [],
   "source": []
  }
 ],
 "metadata": {
  "kernelspec": {
   "display_name": "Python 3",
   "language": "python",
   "name": "python3"
  },
  "language_info": {
   "codemirror_mode": {
    "name": "ipython",
    "version": 3
   },
   "file_extension": ".py",
   "mimetype": "text/x-python",
   "name": "python",
   "nbconvert_exporter": "python",
   "pygments_lexer": "ipython3",
   "version": "3.7.4"
  }
 },
 "nbformat": 4,
 "nbformat_minor": 2
}
