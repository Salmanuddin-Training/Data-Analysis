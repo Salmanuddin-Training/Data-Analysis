{
 "cells": [
  {
   "cell_type": "code",
   "execution_count": 3,
   "metadata": {},
   "outputs": [
    {
     "name": "stdout",
     "output_type": "stream",
     "text": [
      "(101, 'Laptop', 100, 570.5)\n"
     ]
    }
   ],
   "source": [
    "#Python - MySQL connectivity\n",
    "\n",
    "import MySQLdb\n",
    "\n",
    "#open a database connection\n",
    "db = MySQLdb.connect(\"localhost\",\"root\",\"root\",\"pyprojectdb\")\n",
    "\n",
    "#prepare the cursor object using cursor() method\n",
    "cursor = db.cursor()\n",
    "\n",
    "#execute SQL query using execute()...\n",
    "cursor.execute(\"select * from product\")\n",
    "\n",
    "#fetch a single row using fetchone()\n",
    "data = cursor.fetchone()\n",
    "print(data)\n",
    "\n",
    "#disconnect from server\n",
    "db.close()"
   ]
  },
  {
   "cell_type": "code",
   "execution_count": 5,
   "metadata": {},
   "outputs": [
    {
     "name": "stdout",
     "output_type": "stream",
     "text": [
      "Total rows : 2\n",
      "Total columns : 4\n",
      "<class 'list'>\n",
      "(101, 'Laptop', 100, 570.5)\n",
      "(102, 'Mouse', 50, 450.0)\n"
     ]
    }
   ],
   "source": [
    "#Python - MySQL connectivity\n",
    "\n",
    "import MySQLdb\n",
    "\n",
    "#open a database connection\n",
    "db = MySQLdb.connect(\"localhost\",\"root\",\"root\",\"pyprojectdb\")\n",
    "\n",
    "#prepare the cursor object using cursor() method\n",
    "cursor = db.cursor()\n",
    "\n",
    "#execute SQL query using execute()...\n",
    "cursor.execute(\"select * from product\")\n",
    "\n",
    "#fetch a single row using fetchone()\n",
    "data = cursor.fetchall()\n",
    "print('Total rows :',len(data))\n",
    "\n",
    "print('Total columns :',len(data[0]))\n",
    "\n",
    "print(type(list(data)))\n",
    "    \n",
    "for var in data:\n",
    "    print(var)\n",
    "\n",
    "#disconnect from server\n",
    "db.close()"
   ]
  },
  {
   "cell_type": "code",
   "execution_count": 1,
   "metadata": {},
   "outputs": [
    {
     "name": "stderr",
     "output_type": "stream",
     "text": [
      "C:\\Users\\Rajesh\\Anaconda3\\lib\\site-packages\\ipykernel_launcher.py:11: Warning: (1051, \"Unknown table 'pyprojectdb.customer'\")\n",
      "  # This is added back by InteractiveShellApp.init_path()\n"
     ]
    },
    {
     "name": "stdout",
     "output_type": "stream",
     "text": [
      "Table created successfully....!\n"
     ]
    }
   ],
   "source": [
    "#Python - MySQL = dynamically table creation\n",
    "import MySQLdb\n",
    "\n",
    "#open the database connection\n",
    "db=MySQLdb.connect(\"localhost\",\"root\",\"root\",\"pyprojectdb\")\n",
    "\n",
    "#preparing cursor object\n",
    "cursor = db.cursor()\n",
    "\n",
    "#drop alredy existing table named-customer\n",
    "cursor.execute(\"drop table if exists customer\")\n",
    "\n",
    "\n",
    "sql=\"create table customer(cid int primary key,name varchar(45),email varchar(80),phone bigint)\"\n",
    "\n",
    "cursor.execute(sql)\n",
    "print(\"Table created successfully....!\")\n",
    "\n",
    "db.close()"
   ]
  },
  {
   "cell_type": "code",
   "execution_count": 2,
   "metadata": {},
   "outputs": [
    {
     "name": "stdout",
     "output_type": "stream",
     "text": [
      "Record inserted successfully....!\n"
     ]
    }
   ],
   "source": [
    "#Python - MySQL = Insertion\n",
    "import MySQLdb\n",
    "\n",
    "#open the database connection\n",
    "db=MySQLdb.connect(\"localhost\",\"root\",\"root\",\"pyprojectdb\")\n",
    "\n",
    "#preparing cursor object\n",
    "cursor = db.cursor()\n",
    "\n",
    "#Prepare query\n",
    "sqlquery=\"insert into customer (cid,name,email,phone) values(101,'John','john@gmail.com',9986754533)\"\n",
    "\n",
    "try:\n",
    "    #executing the query\n",
    "    cursor.execute(sqlquery)\n",
    "    \n",
    "    #commit the changes\n",
    "    db.commit()\n",
    "except:\n",
    "    #Rollback the changes\n",
    "    db.rollback()\n",
    "\n",
    "print(\"Record inserted successfully....!\")\n",
    "\n",
    "db.close()\n"
   ]
  },
  {
   "cell_type": "code",
   "execution_count": 9,
   "metadata": {},
   "outputs": [
    {
     "name": "stdout",
     "output_type": "stream",
     "text": [
      "Enter customer ID:103\n",
      "Enter customer name :Kelly\n",
      "Enter customer email :kell123@gmail.com\n",
      "Enter customer phone no. 998899889988\n",
      "Record inserted successfully....!\n"
     ]
    }
   ],
   "source": [
    "#Python - MySQL = Insertion -dynammically\n",
    "import MySQLdb\n",
    "\n",
    "custRecord=[]\n",
    "custRecord.append(int(input(\"Enter customer ID:\")))\n",
    "custRecord.append(input(\"Enter customer name :\"))\n",
    "custRecord.append(input(\"Enter customer email :\"))\n",
    "custRecord.append(int(input(\"Enter customer phone no. \")))\n",
    "\n",
    "#open the database connection\n",
    "db=MySQLdb.connect(\"localhost\",\"root\",\"root\",\"pyprojectdb\")\n",
    "\n",
    "#preparing cursor object\n",
    "cursor = db.cursor()\n",
    "\n",
    "#Prepare query\n",
    "sqlquery=\"insert into customer (cid,name,email,phone) values(%s,%s,%s,%s)\"\n",
    "\n",
    "try:\n",
    "    #executing the query\n",
    "    cursor.execute(sqlquery,tuple(custRecord))\n",
    "    \n",
    "    #commit the changes\n",
    "    db.commit()\n",
    "    print(\"Record inserted successfully....!\")\n",
    "\n",
    "except:\n",
    "    #Rollback the changes\n",
    "    db.rollback()\n",
    "    print(\"Exception occured ....rollback successfully....!\")\n",
    "\n",
    "db.close()\n"
   ]
  },
  {
   "cell_type": "code",
   "execution_count": 15,
   "metadata": {},
   "outputs": [
    {
     "name": "stdout",
     "output_type": "stream",
     "text": [
      "Enter customer ID:103\n",
      "Enter customer new phone no. 9999988888\n",
      "Record updated successfully....!\n"
     ]
    }
   ],
   "source": [
    "#Python - Mysql - record Updation\n",
    "import MySQLdb\n",
    "\n",
    "cid=int(input(\"Enter customer ID:\"))\n",
    "phone=int(input(\"Enter customer new phone no. \"))\n",
    "\n",
    "#open the database connection\n",
    "db=MySQLdb.connect(\"localhost\",\"root\",\"root\",\"pyprojectdb\")\n",
    "\n",
    "#preparing cursor object\n",
    "cursor = db.cursor()\n",
    "\n",
    "#Prepare query\n",
    "sqlquery=\"update customer set phone=%s where cid=%s\" %(phone,cid)\n",
    "\n",
    "try:\n",
    "    #executing the query\n",
    "    cursor.execute(sqlquery)\n",
    "    \n",
    "    #commit the changes\n",
    "    db.commit()\n",
    "    print(\"Record updated successfully....!\")\n",
    "\n",
    "except:\n",
    "    #Rollback the changes\n",
    "    db.rollback()\n",
    "    print(\"Exception occured ....rollback successfully....!\")\n",
    "\n",
    "db.close()"
   ]
  },
  {
   "cell_type": "code",
   "execution_count": null,
   "metadata": {},
   "outputs": [],
   "source": []
  }
 ],
 "metadata": {
  "kernelspec": {
   "display_name": "Python 3",
   "language": "python",
   "name": "python3"
  },
  "language_info": {
   "codemirror_mode": {
    "name": "ipython",
    "version": 3
   },
   "file_extension": ".py",
   "mimetype": "text/x-python",
   "name": "python",
   "nbconvert_exporter": "python",
   "pygments_lexer": "ipython3",
   "version": "3.7.4"
  }
 },
 "nbformat": 4,
 "nbformat_minor": 2
}
