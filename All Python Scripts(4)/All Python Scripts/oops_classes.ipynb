{
 "cells": [
  {
   "cell_type": "code",
   "execution_count": 1,
   "metadata": {},
   "outputs": [
    {
     "data": {
      "text/plain": [
       "'This class deals with employee info.'"
      ]
     },
     "execution_count": 1,
     "metadata": {},
     "output_type": "execute_result"
    }
   ],
   "source": [
    "#Python- OOPS- class\n",
    "\n",
    "class Employee:\n",
    "    '''This class deals with employee info.'''\n",
    "    pass\n",
    "\n",
    "Employee.__doc__"
   ]
  },
  {
   "cell_type": "code",
   "execution_count": null,
   "metadata": {},
   "outputs": [],
   "source": [
    "def fun():\n",
    "    pass"
   ]
  },
  {
   "cell_type": "code",
   "execution_count": null,
   "metadata": {},
   "outputs": [],
   "source": [
    "#Python- OOPS- constructor\n",
    "class Employee:\n",
    "    def __init__(self):\n",
    "        print(\"Constructor run...\")\n",
    "\n",
    "e1 = Employee()   #object creation"
   ]
  },
  {
   "cell_type": "code",
   "execution_count": null,
   "metadata": {},
   "outputs": [],
   "source": [
    "#Python- OOPS- attribute\n",
    "class Employee:\n",
    "    def __init__(self):\n",
    "        self.eid=1001 #instance attributes\n",
    "        self.name='John'\n",
    "        self.address='USA'\n",
    "\n",
    "e1 = Employee()   #object creation\n",
    "print(\"Emp ID :\",e1.eid)\n",
    "print(\"Name   :\",e1.name)\n",
    "print(\"Address:\",e1.address)\n"
   ]
  },
  {
   "cell_type": "code",
   "execution_count": null,
   "metadata": {},
   "outputs": [],
   "source": [
    "#Python- OOPS- attribute\n",
    "class Employee:\n",
    "    def __init__(self,empid,empname,empaddress):\n",
    "        self.eid=empid\n",
    "        self.name=empname\n",
    "        self.address=empaddress\n",
    "\n",
    "id=int(input('Enter emp id :'))\n",
    "nm=input('Enter name :')\n",
    "ad=input('Enter address:')\n",
    "\n",
    "e1 = Employee(id,nm,ad)   \n",
    "print(\"Emp ID :\",e1.eid)\n",
    "print(\"Name   :\",e1.name)\n",
    "print(\"Address:\",e1.address)\n",
    "\n",
    "\n",
    "\n",
    "\n",
    "\n"
   ]
  },
  {
   "cell_type": "code",
   "execution_count": null,
   "metadata": {},
   "outputs": [],
   "source": [
    "#Python- OOPS- user-defined functions.....\n",
    "class Employee:\n",
    "    \n",
    "    totalemp=0 #class attributes\n",
    "    \n",
    "    def __init__(self):\n",
    "        self.eid=0 #instance attributes\n",
    "        self.name=''\n",
    "        self.address=''\n",
    "        Employee.totalemp+=1\n",
    "        \n",
    "    def acceptDet(self):\n",
    "        self.eid=int(input('Enter emp id :'))\n",
    "        self.name=input('Enter name :')\n",
    "        self.address=input('Enter address:')\n",
    "        \n",
    "    def displayDet(self):\n",
    "        print(self.eid,\" \",self.name,\" \",self.address)\n",
    "\n",
    "e1 = Employee()\n",
    "e1.acceptDet()\n",
    "\n",
    "e2 = Employee()\n",
    "e2.acceptDet()\n",
    "\n",
    "print(\"===== Employee Details :- =====\")\n",
    "e1.displayDet()\n",
    "e2.displayDet()\n",
    "\n",
    "print(\"==============================\")\n",
    "print(\"Total employees are : \",Employee.totalemp)\n",
    "print(\"==============================\")\n"
   ]
  },
  {
   "cell_type": "code",
   "execution_count": null,
   "metadata": {},
   "outputs": [],
   "source": [
    "class Calculator:\n",
    "    def __init__(self):\n",
    "        self.n1=0\n",
    "        self.n2=0\n",
    "        self.n3=0\n",
    "    \n",
    "    def sum(self,x,y):\n",
    "        self.n1=x\n",
    "        self.n2=y\n",
    "        return self.n1+self.n2\n",
    "    \n",
    "    def squarer(self,n3):\n",
    "        self.n3=n3\n",
    "        print(\"Square of sum of two no. : \",self.n3*self.n3)\n",
    "        \n",
    "c1=Calculator()\n",
    "c1.squarer(c1.sum(2,3))\n"
   ]
  },
  {
   "cell_type": "code",
   "execution_count": null,
   "metadata": {},
   "outputs": [],
   "source": [
    "class MyClass:\n",
    "    \n",
    "    def f1(self,n1):\n",
    "        self.val=n1\n",
    "        print(\"function 1\")\n",
    "    \n",
    "    def f1(self):\n",
    "         print(\"function 2\")\n",
    "    \n",
    "m1=MyClass()\n",
    "m1.f1(2)"
   ]
  },
  {
   "cell_type": "code",
   "execution_count": null,
   "metadata": {},
   "outputs": [],
   "source": [
    "\n",
    "\n",
    "def product(x,y,z):\n",
    "    p=x*y*z\n",
    "    print(\"Product : \",p)\n",
    "    \n",
    "def product(x,y):\n",
    "    p=x*y\n",
    "    print(\"Product : \",p)\n",
    "    \n",
    "product(1,2,3)"
   ]
  },
  {
   "cell_type": "code",
   "execution_count": null,
   "metadata": {},
   "outputs": [],
   "source": [
    "#Method overriding\n",
    "class Parent:\n",
    "    def __init__(self):\n",
    "        self.n1=10\n",
    "        self.n2=20\n",
    "        self.n3=0\n",
    "        \n",
    "    def operate(self):\n",
    "        print(\"Sum is : \",self.n1+self.n2)\n",
    "        \n",
    "class Child(Parent):\n",
    "    \n",
    "    def operate(self):\n",
    "        print(\"Product is :\",self.n1*self.n2)\n",
    "        \n",
    "p1=Parent()  \n",
    "p1.operate()\n",
    "\n",
    "\n",
    "c1=Child()\n",
    "c1.operate()"
   ]
  },
  {
   "cell_type": "code",
   "execution_count": null,
   "metadata": {},
   "outputs": [],
   "source": [
    "class Parent:\n",
    "    \n",
    "    def __init__(self):\n",
    "        self.var=\"Inside parent clas const.\"\n",
    "        \n",
    "    def display(self):\n",
    "        print(self.var)\n",
    "\n",
    "class Child(Parent):\n",
    "    \n",
    "    def __init__(self):\n",
    "        self.var=\"Child class constr...\"\n",
    "        \n",
    "    def display(self):\n",
    "        print(self.var)\n",
    "        \n",
    "#obj1=Parent()\n",
    "obj2=Child()\n",
    "        \n",
    "#obj1.display()\n",
    "obj2.display()"
   ]
  },
  {
   "cell_type": "code",
   "execution_count": null,
   "metadata": {},
   "outputs": [],
   "source": [
    "class A:\n",
    "    def f1(self):\n",
    "        print(\"method of A class\")\n",
    "        \n",
    "class B:\n",
    "    def f2(self):\n",
    "        print(\"method of B class\")\n",
    "\n",
    "class C(A,B):\n",
    "    def f3(self):\n",
    "        print(\"method of C class\")\n",
    "        \n",
    "c1 =C()\n",
    "c1.f1()\n",
    "c1.f2()\n",
    "c1.f3()"
   ]
  },
  {
   "cell_type": "code",
   "execution_count": null,
   "metadata": {},
   "outputs": [],
   "source": [
    "class A:\n",
    "    def f1(self):\n",
    "        print(\"method of A class\")\n",
    "        \n",
    "class B(A):\n",
    "    def f2(self):\n",
    "        print(\"method of B class\")\n",
    "\n",
    "class C(B):\n",
    "    def f3(self):\n",
    "        print(\"method of C class\")\n",
    "        \n",
    "c1 =C()\n",
    "c1.f1()\n",
    "c1.f2()\n",
    "c1.f3()"
   ]
  },
  {
   "cell_type": "code",
   "execution_count": null,
   "metadata": {},
   "outputs": [],
   "source": [
    "class Student:\n",
    "    def __init__(self):\n",
    "        self.roll=101\n",
    "        self.name=\"John\"\n",
    "        \n",
    "s1=Student()\n",
    "print(\"Roll : \",s1.roll)\n",
    "print(\"Name : \",s1.name)\n",
    "s1.name='Williams'\n",
    "print(\"Updated name : \",s1.name)\n"
   ]
  },
  {
   "cell_type": "code",
   "execution_count": null,
   "metadata": {},
   "outputs": [],
   "source": [
    "class Student:\n",
    "    def __init__(self): \n",
    "        self._roll=101    #protected\n",
    "        self._name=\"John\" #protected\n",
    "        \n",
    "s1=Student()\n",
    "print(\"Roll : \",s1._roll)\n",
    "print(\"Name : \",s1._name)\n",
    "\n"
   ]
  },
  {
   "cell_type": "code",
   "execution_count": null,
   "metadata": {},
   "outputs": [],
   "source": [
    "class Student:\n",
    "    def __init__(self): \n",
    "        self.roll=101    #protected\n",
    "        self.__name1=\"John\" #private\n",
    "        \n",
    "    def displayDet(self):\n",
    "        print(\"=====  student details  =====\")\n",
    "        print(\"Roll : \",s1.roll)\n",
    "        print(\"Name : \",s1.__name1)\n",
    "        \n",
    "s1=Student()\n",
    "s1.displayDet()\n",
    "s1.__name1='Unknown'\n",
    "print(s1.__name1)"
   ]
  },
  {
   "cell_type": "code",
   "execution_count": 5,
   "metadata": {},
   "outputs": [
    {
     "name": "stdout",
     "output_type": "stream",
     "text": [
      "20\n"
     ]
    }
   ],
   "source": [
    "class Emp:\n",
    "    def __init__(self):\n",
    "        self.__y=10\n",
    "        \n",
    "eobj=Emp()\n",
    "eobj._Emp__y\n",
    "eobj.__y=20\n",
    "print(eobj.__y)"
   ]
  },
  {
   "cell_type": "code",
   "execution_count": 8,
   "metadata": {},
   "outputs": [
    {
     "name": "stdout",
     "output_type": "stream",
     "text": [
      "Method of Parent class\n",
      "Method of Child class\n"
     ]
    }
   ],
   "source": [
    "#Python - inheritance \n",
    "class Parent:\n",
    "    def f1(self):\n",
    "        print('Method of Parent class')\n",
    "    \n",
    "class Child(Parent):\n",
    "    def f2(self):\n",
    "        print(\"Method of Child class\")\n",
    "        \n",
    "c1=Child()\n",
    "c1.f1()\n",
    "c1.f2()"
   ]
  },
  {
   "cell_type": "code",
   "execution_count": 10,
   "metadata": {},
   "outputs": [
    {
     "name": "stdout",
     "output_type": "stream",
     "text": [
      "Const. of child class\n",
      "Method of Parent class\n",
      "Method of Child class\n"
     ]
    }
   ],
   "source": [
    "#Python - inheritance \n",
    "class Parent:\n",
    "    def __init__(self):\n",
    "        print(\"Const. of Parent class\")\n",
    "        \n",
    "    def f1(self):\n",
    "        print('Method of Parent class')\n",
    "    \n",
    "class Child(Parent):\n",
    "    def __init__(self):\n",
    "        print(\"Const. of child class\")\n",
    "        \n",
    "    def f2(self):\n",
    "        print(\"Method of Child class\")\n",
    "        \n",
    "c1=Child()\n",
    "c1.f1()\n",
    "c1.f2()"
   ]
  },
  {
   "cell_type": "code",
   "execution_count": 13,
   "metadata": {},
   "outputs": [
    {
     "name": "stdout",
     "output_type": "stream",
     "text": [
      "Method of AA class\n",
      "Method of BB class\n",
      "Method of CC class\n"
     ]
    }
   ],
   "source": [
    "class AA:\n",
    "    def f1(self):\n",
    "        print(\"Method of AA class\")\n",
    "class BB:\n",
    "    def f2(self):\n",
    "        print(\"Method of BB class\")\n",
    "\n",
    "class CC(AA,BB):\n",
    "     def f3(self):\n",
    "        print(\"Method of CC class\")\n",
    "        \n",
    "c1=CC()\n",
    "c1.f1()\n",
    "c1.f2()\n",
    "c1.f3()\n",
    "    "
   ]
  },
  {
   "cell_type": "code",
   "execution_count": 14,
   "metadata": {},
   "outputs": [
    {
     "name": "stdout",
     "output_type": "stream",
     "text": [
      "Method of AA class\n",
      "Method of BB class\n",
      "Method of CC class\n"
     ]
    }
   ],
   "source": [
    "class AA:\n",
    "    def f1(self):\n",
    "        print(\"Method of AA class\")\n",
    "class BB(AA):\n",
    "    def f2(self):\n",
    "        print(\"Method of BB class\")\n",
    "\n",
    "class CC(BB):\n",
    "     def f3(self):\n",
    "        print(\"Method of CC class\")\n",
    "        \n",
    "c1=CC()\n",
    "c1.f1()\n",
    "c1.f2()\n",
    "c1.f3()"
   ]
  },
  {
   "cell_type": "code",
   "execution_count": null,
   "metadata": {},
   "outputs": [],
   "source": []
  }
 ],
 "metadata": {
  "kernelspec": {
   "display_name": "Python 3",
   "language": "python",
   "name": "python3"
  },
  "language_info": {
   "codemirror_mode": {
    "name": "ipython",
    "version": 3
   },
   "file_extension": ".py",
   "mimetype": "text/x-python",
   "name": "python",
   "nbconvert_exporter": "python",
   "pygments_lexer": "ipython3",
   "version": "3.7.4"
  }
 },
 "nbformat": 4,
 "nbformat_minor": 2
}
