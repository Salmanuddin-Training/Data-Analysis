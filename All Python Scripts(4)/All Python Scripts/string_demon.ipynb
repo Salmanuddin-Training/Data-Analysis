{
 "cells": [
  {
   "cell_type": "code",
   "execution_count": null,
   "metadata": {},
   "outputs": [],
   "source": [
    "#Python-String\n",
    "str = \"Python\"\n",
    "print(str)\n",
    "print(str[2])\n",
    "str[1]='T'"
   ]
  },
  {
   "cell_type": "code",
   "execution_count": null,
   "metadata": {},
   "outputs": [],
   "source": [
    "str=\"\"\"Welcome to Python\"\"\"\n",
    "print(str)"
   ]
  },
  {
   "cell_type": "code",
   "execution_count": null,
   "metadata": {},
   "outputs": [],
   "source": [
    "#Pyhton -String\n",
    "#escape seq/character\n",
    "#starts (\\ - backslash)\n",
    "\n",
    "s1=\"Hello\"\n",
    "s2=\"Welcome\"\n",
    "#print(s1+\"\\t\"+s2)\n",
    "#print(s1+\"\\n\"+s2)\n",
    "#print(s1+\"\\b\")\n",
    "print('\\102')\n",
    "print('\\x43')"
   ]
  },
  {
   "cell_type": "code",
   "execution_count": null,
   "metadata": {},
   "outputs": [],
   "source": [
    "#String o.p\n",
    "#+ - concatenation\n",
    "s1=\"Hello\"\n",
    "s2=\"Python\"\n",
    "print(s1+s2)\n",
    "print(s1)\n",
    "print(s2)\n"
   ]
  },
  {
   "cell_type": "code",
   "execution_count": null,
   "metadata": {},
   "outputs": [],
   "source": [
    "#String o.p\n",
    "# * - repeater\n",
    "s1=\"Hello\"\n",
    "s2='12'\n",
    "s3=[1,'2']\n",
    "print(type(s2))\n",
    "print(s1*3)\n",
    "print(s2*2)\n",
    "print(s3*4)\n",
    "print(s3[1]*4)"
   ]
  },
  {
   "cell_type": "code",
   "execution_count": 3,
   "metadata": {},
   "outputs": [
    {
     "name": "stdout",
     "output_type": "stream",
     "text": [
      "Programm\n"
     ]
    }
   ],
   "source": [
    "#String o.p\n",
    "# [:]\n",
    "s5=\"Python Programming\"\n",
    "print(s5[7:15])\n"
   ]
  },
  {
   "cell_type": "code",
   "execution_count": 5,
   "metadata": {},
   "outputs": [
    {
     "name": "stdout",
     "output_type": "stream",
     "text": [
      "False\n"
     ]
    }
   ],
   "source": [
    "s6=\"Welcome to Python\"\n",
    "print('Python' not in s6)"
   ]
  },
  {
   "cell_type": "code",
   "execution_count": 10,
   "metadata": {},
   "outputs": [
    {
     "name": "stdout",
     "output_type": "stream",
     "text": [
      "type of s9 :  <class 'str'>\n",
      "<class 'int'>\n",
      "22\n"
     ]
    }
   ],
   "source": [
    "#String conversions- type casting str(),int(),float(),complex()\n",
    "s9='12'\n",
    "print(\"type of s9 : \",type(s9))\n",
    "s9=int(s9)\n",
    "print(type(s9))\n",
    "print(s9+10)"
   ]
  },
  {
   "cell_type": "code",
   "execution_count": 13,
   "metadata": {},
   "outputs": [
    {
     "name": "stdout",
     "output_type": "stream",
     "text": [
      "Hello python\n"
     ]
    }
   ],
   "source": [
    "#String built in functions:-\n",
    "#capitalize()\n",
    "str1=\"hello python\"\n",
    "print(str1.capitalize())"
   ]
  },
  {
   "cell_type": "code",
   "execution_count": 15,
   "metadata": {},
   "outputs": [
    {
     "name": "stdout",
     "output_type": "stream",
     "text": [
      "HELLO PYTHON\n"
     ]
    }
   ],
   "source": [
    "#String built in functions:-\n",
    "#upper()\n",
    "str1=\"hello Python\"\n",
    "print(str1.upper())"
   ]
  },
  {
   "cell_type": "code",
   "execution_count": 16,
   "metadata": {},
   "outputs": [
    {
     "name": "stdout",
     "output_type": "stream",
     "text": [
      "hello python\n"
     ]
    }
   ],
   "source": [
    "#String built in functions:-\n",
    "#lower()\n",
    "str1=\"Hello PYTHON\"\n",
    "print(str1.lower())"
   ]
  },
  {
   "cell_type": "code",
   "execution_count": 21,
   "metadata": {},
   "outputs": [
    {
     "name": "stdout",
     "output_type": "stream",
     "text": [
      "Hello Python\n"
     ]
    }
   ],
   "source": [
    "#String built in functions:-\n",
    "#title()\n",
    "str1=\"hello Python\"\n",
    "print(str1.title())"
   ]
  },
  {
   "cell_type": "code",
   "execution_count": 22,
   "metadata": {},
   "outputs": [
    {
     "name": "stdout",
     "output_type": "stream",
     "text": [
      "13\n"
     ]
    }
   ],
   "source": [
    "#String built in functions:-\n",
    "#find()\n",
    "str1=\"hello we are learning Python\"\n",
    "print(str1.find('learning'))"
   ]
  },
  {
   "cell_type": "code",
   "execution_count": 24,
   "metadata": {},
   "outputs": [
    {
     "name": "stdout",
     "output_type": "stream",
     "text": [
      "5\n"
     ]
    }
   ],
   "source": [
    "#String built in functions:-\n",
    "#count()\n",
    "str1=\"hello we are learning Python hello how r u\"\n",
    "print(str1.count('e'))"
   ]
  },
  {
   "cell_type": "code",
   "execution_count": 25,
   "metadata": {},
   "outputs": [
    {
     "name": "stdout",
     "output_type": "stream",
     "text": [
      "True\n"
     ]
    }
   ],
   "source": [
    "#String built in functions:-\n",
    "#isdigit()\n",
    "str='11'\n",
    "print(str.isdigit())"
   ]
  },
  {
   "cell_type": "code",
   "execution_count": null,
   "metadata": {},
   "outputs": [],
   "source": []
  }
 ],
 "metadata": {
  "kernelspec": {
   "display_name": "Python 3",
   "language": "python",
   "name": "python3"
  },
  "language_info": {
   "codemirror_mode": {
    "name": "ipython",
    "version": 3
   },
   "file_extension": ".py",
   "mimetype": "text/x-python",
   "name": "python",
   "nbconvert_exporter": "python",
   "pygments_lexer": "ipython3",
   "version": "3.7.4"
  }
 },
 "nbformat": 4,
 "nbformat_minor": 2
}
