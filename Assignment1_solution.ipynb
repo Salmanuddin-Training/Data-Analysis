{
 "cells": [
  {
   "cell_type": "code",
   "execution_count": 2,
   "metadata": {},
   "outputs": [
    {
     "name": "stdout",
     "output_type": "stream",
     "text": [
      "Enter employee type(P-Permanent, T-Temporary)P\n",
      "Enter no. of pkg delivered:200\n",
      "Enter travel distance(no. of days):20\n",
      "Have you attended night shift(Y/N):N\n",
      "enter employee grade (A1/A2/A3):A2\n",
      "********************************************\n",
      "\n",
      "Net Salary :  17000.0\n",
      "********************************************\n",
      "\n"
     ]
    }
   ],
   "source": [
    "#Assignment1_Case Study(Tron Express) solution\n",
    "\n",
    "#Variable Declaration:\n",
    "empType=grade=None\n",
    "nPkgDel=distTravel=basicSalary=netSalary=bonus=shiftAmt=0\n",
    "\n",
    "#Accepting valid input from user (validation)\n",
    "while(True):\n",
    "    empType = input('Enter employee type(P-Permanent, T-Temporary)')\n",
    "    if(empType=='P' or empType=='T'):\n",
    "        nPkgDel = int(input('Enter no. of pkg delivered:'))\n",
    "        distTravel = int(input('Enter travel distance(no. of days):'))\n",
    "        shift = input('Have you attended night shift(Y/N):')\n",
    "        grade = input('enter employee grade (A1/A2/A3):')\n",
    "        break\n",
    "    else:\n",
    "        print(\"Invalid employee type: enter valid employee type(P/T):\")\n",
    "if empType=='P':\n",
    "    basicSalary = 5000\n",
    "    nPkgDel = nPkgDel*50\n",
    "    distTravel = distTravel*75\n",
    "    if shift=='Y':\n",
    "        shiftAmt = basicSalary*0.1\n",
    "    if grade=='A1':\n",
    "        bonus = basicSalary*0.15\n",
    "    elif grade=='A2':\n",
    "        bonus = basicSalary*0.10\n",
    "    else:\n",
    "        bonus = basicSalary*0.05\n",
    "    netSalary = basicSalary+nPkgDel+distTravel+shiftAmt+bonus\n",
    "elif empType=='T':\n",
    "    basicSalary = 3000\n",
    "    nPkgDel = nPkgDel*30\n",
    "    distTravel = distTravel*65\n",
    "    if shift=='Y':\n",
    "        shiftAmt = basicSalary*0.1\n",
    "    if grade=='A1':\n",
    "        bonus = basicSalary*0.15\n",
    "    elif grade=='A2':\n",
    "        bonus = basicSalary*0.10\n",
    "    else:\n",
    "        bonus = basicSalary*0.05\n",
    "    netSalary = basicSalary+nPkgDel+distTravel+shiftAmt+bonus\n",
    "print(\"********************************************\\n\")\n",
    "print(\"Net Salary : \",netSalary)\n",
    "print(\"********************************************\\n\")\n",
    "    "
   ]
  },
  {
   "cell_type": "code",
   "execution_count": null,
   "metadata": {},
   "outputs": [],
   "source": [
    "#Type Casting- (conversion of one data type into another)\n",
    "'''x='10'\n",
    "print(type(x))\n",
    "\n",
    "x = int(x)\n",
    "print(type(x))\n",
    "\n",
    "x = float(x)\n",
    "print(type(x))'''\n",
    "\n",
    "num = int(input('enter any number')) #function nesting- \n",
    "type(num)"
   ]
  },
  {
   "cell_type": "code",
   "execution_count": null,
   "metadata": {},
   "outputs": [],
   "source": []
  }
 ],
 "metadata": {
  "kernelspec": {
   "display_name": "Python 3",
   "language": "python",
   "name": "python3"
  },
  "language_info": {
   "codemirror_mode": {
    "name": "ipython",
    "version": 3
   },
   "file_extension": ".py",
   "mimetype": "text/x-python",
   "name": "python",
   "nbconvert_exporter": "python",
   "pygments_lexer": "ipython3",
   "version": "3.7.4"
  }
 },
 "nbformat": 4,
 "nbformat_minor": 2
}
